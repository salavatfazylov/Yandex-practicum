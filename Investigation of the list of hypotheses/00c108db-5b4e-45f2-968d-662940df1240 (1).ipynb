{
 "cells": [
  {
   "cell_type": "markdown",
   "metadata": {},
   "source": [
    "# Сравнение изменений в приоритизации гипотез при применении RICE вместо ICE"
   ]
  },
  {
   "cell_type": "markdown",
   "metadata": {},
   "source": [
    "**Описание проекта**  У нас есть список гипотез для увеличения выручки. Нам нужно приоритизировать гипотезы, запустить A/B-тест и проанализировать результаты. "
   ]
  },
  {
   "cell_type": "markdown",
   "metadata": {},
   "source": [
    "**Цель проекта:** Приоритизировать гипотезы по ICE и RICE"
   ]
  },
  {
   "cell_type": "markdown",
   "metadata": {},
   "source": [
    "**План работы:** Открыть и изучить данные, применить фреймворки ICE и RICE, выделить самую рабочую гипотезу"
   ]
  },
  {
   "cell_type": "code",
   "execution_count": 1,
   "metadata": {},
   "outputs": [],
   "source": [
    "import pandas as pd"
   ]
  },
  {
   "cell_type": "code",
   "execution_count": 2,
   "metadata": {},
   "outputs": [],
   "source": [
    "data = pd.read_csv('/datasets/hypothesis.csv')"
   ]
  },
  {
   "cell_type": "code",
   "execution_count": 3,
   "metadata": {},
   "outputs": [
    {
     "data": {
      "text/html": [
       "<div>\n",
       "<style scoped>\n",
       "    .dataframe tbody tr th:only-of-type {\n",
       "        vertical-align: middle;\n",
       "    }\n",
       "\n",
       "    .dataframe tbody tr th {\n",
       "        vertical-align: top;\n",
       "    }\n",
       "\n",
       "    .dataframe thead th {\n",
       "        text-align: right;\n",
       "    }\n",
       "</style>\n",
       "<table border=\"1\" class=\"dataframe\">\n",
       "  <thead>\n",
       "    <tr style=\"text-align: right;\">\n",
       "      <th></th>\n",
       "      <th>Hypothesis</th>\n",
       "      <th>Reach</th>\n",
       "      <th>Impact</th>\n",
       "      <th>Confidence</th>\n",
       "      <th>Efforts</th>\n",
       "    </tr>\n",
       "  </thead>\n",
       "  <tbody>\n",
       "    <tr>\n",
       "      <th>0</th>\n",
       "      <td>Добавить два новых канала привлечения трафика, что позволит привлекать на 30% больше пользователей</td>\n",
       "      <td>3</td>\n",
       "      <td>10</td>\n",
       "      <td>8</td>\n",
       "      <td>6</td>\n",
       "    </tr>\n",
       "    <tr>\n",
       "      <th>1</th>\n",
       "      <td>Запустить собственную службу доставки, что сократит срок доставки заказов</td>\n",
       "      <td>2</td>\n",
       "      <td>5</td>\n",
       "      <td>4</td>\n",
       "      <td>10</td>\n",
       "    </tr>\n",
       "    <tr>\n",
       "      <th>2</th>\n",
       "      <td>Добавить блоки рекомендаций товаров на сайт интернет магазина, чтобы повысить конверсию и средний чек заказа</td>\n",
       "      <td>8</td>\n",
       "      <td>3</td>\n",
       "      <td>7</td>\n",
       "      <td>3</td>\n",
       "    </tr>\n",
       "    <tr>\n",
       "      <th>3</th>\n",
       "      <td>Изменить структура категорий, что увеличит конверсию, т.к. пользователи быстрее найдут нужный товар</td>\n",
       "      <td>8</td>\n",
       "      <td>3</td>\n",
       "      <td>3</td>\n",
       "      <td>8</td>\n",
       "    </tr>\n",
       "    <tr>\n",
       "      <th>4</th>\n",
       "      <td>Изменить цвет фона главной страницы, чтобы увеличить вовлеченность пользователей</td>\n",
       "      <td>3</td>\n",
       "      <td>1</td>\n",
       "      <td>1</td>\n",
       "      <td>1</td>\n",
       "    </tr>\n",
       "    <tr>\n",
       "      <th>5</th>\n",
       "      <td>Добавить страницу отзывов клиентов о магазине, что позволит увеличить количество заказов</td>\n",
       "      <td>3</td>\n",
       "      <td>2</td>\n",
       "      <td>2</td>\n",
       "      <td>3</td>\n",
       "    </tr>\n",
       "    <tr>\n",
       "      <th>6</th>\n",
       "      <td>Показать на главной странице баннеры с актуальными акциями и распродажами, чтобы увеличить конверсию</td>\n",
       "      <td>5</td>\n",
       "      <td>3</td>\n",
       "      <td>8</td>\n",
       "      <td>3</td>\n",
       "    </tr>\n",
       "    <tr>\n",
       "      <th>7</th>\n",
       "      <td>Добавить форму подписки на все основные страницы, чтобы собрать базу клиентов для email-рассылок</td>\n",
       "      <td>10</td>\n",
       "      <td>7</td>\n",
       "      <td>8</td>\n",
       "      <td>5</td>\n",
       "    </tr>\n",
       "    <tr>\n",
       "      <th>8</th>\n",
       "      <td>Запустить акцию, дающую скидку на товар в день рождения</td>\n",
       "      <td>1</td>\n",
       "      <td>9</td>\n",
       "      <td>9</td>\n",
       "      <td>5</td>\n",
       "    </tr>\n",
       "  </tbody>\n",
       "</table>\n",
       "</div>"
      ],
      "text/plain": [
       "                                                                                                     Hypothesis  \\\n",
       "0            Добавить два новых канала привлечения трафика, что позволит привлекать на 30% больше пользователей   \n",
       "1                                     Запустить собственную службу доставки, что сократит срок доставки заказов   \n",
       "2  Добавить блоки рекомендаций товаров на сайт интернет магазина, чтобы повысить конверсию и средний чек заказа   \n",
       "3           Изменить структура категорий, что увеличит конверсию, т.к. пользователи быстрее найдут нужный товар   \n",
       "4                              Изменить цвет фона главной страницы, чтобы увеличить вовлеченность пользователей   \n",
       "5                      Добавить страницу отзывов клиентов о магазине, что позволит увеличить количество заказов   \n",
       "6          Показать на главной странице баннеры с актуальными акциями и распродажами, чтобы увеличить конверсию   \n",
       "7              Добавить форму подписки на все основные страницы, чтобы собрать базу клиентов для email-рассылок   \n",
       "8                                                       Запустить акцию, дающую скидку на товар в день рождения   \n",
       "\n",
       "   Reach  Impact  Confidence  Efforts  \n",
       "0      3      10           8        6  \n",
       "1      2       5           4       10  \n",
       "2      8       3           7        3  \n",
       "3      8       3           3        8  \n",
       "4      3       1           1        1  \n",
       "5      3       2           2        3  \n",
       "6      5       3           8        3  \n",
       "7     10       7           8        5  \n",
       "8      1       9           9        5  "
      ]
     },
     "execution_count": 3,
     "metadata": {},
     "output_type": "execute_result"
    }
   ],
   "source": [
    "pd.options.display.max_colwidth = 130 \n",
    "data"
   ]
  },
  {
   "cell_type": "code",
   "execution_count": 4,
   "metadata": {},
   "outputs": [],
   "source": [
    "# переведем названия столбцов к нижнему регистру \n",
    "data.columns = data.columns.str.lower() "
   ]
  },
  {
   "cell_type": "markdown",
   "metadata": {},
   "source": [
    "**Применим фреймворк ICE для приоритизации гипотез**"
   ]
  },
  {
   "cell_type": "code",
   "execution_count": 5,
   "metadata": {},
   "outputs": [],
   "source": [
    "data['ice'] = data['impact'] * data['confidence'] / data['efforts']"
   ]
  },
  {
   "cell_type": "code",
   "execution_count": 6,
   "metadata": {},
   "outputs": [
    {
     "data": {
      "text/html": [
       "<div>\n",
       "<style scoped>\n",
       "    .dataframe tbody tr th:only-of-type {\n",
       "        vertical-align: middle;\n",
       "    }\n",
       "\n",
       "    .dataframe tbody tr th {\n",
       "        vertical-align: top;\n",
       "    }\n",
       "\n",
       "    .dataframe thead th {\n",
       "        text-align: right;\n",
       "    }\n",
       "</style>\n",
       "<table border=\"1\" class=\"dataframe\">\n",
       "  <thead>\n",
       "    <tr style=\"text-align: right;\">\n",
       "      <th></th>\n",
       "      <th>hypothesis</th>\n",
       "      <th>reach</th>\n",
       "      <th>impact</th>\n",
       "      <th>confidence</th>\n",
       "      <th>efforts</th>\n",
       "      <th>ice</th>\n",
       "    </tr>\n",
       "  </thead>\n",
       "  <tbody>\n",
       "    <tr>\n",
       "      <th>8</th>\n",
       "      <td>Запустить акцию, дающую скидку на товар в день рождения</td>\n",
       "      <td>1</td>\n",
       "      <td>9</td>\n",
       "      <td>9</td>\n",
       "      <td>5</td>\n",
       "      <td>16.20</td>\n",
       "    </tr>\n",
       "    <tr>\n",
       "      <th>0</th>\n",
       "      <td>Добавить два новых канала привлечения трафика, что позволит привлекать на 30% больше пользователей</td>\n",
       "      <td>3</td>\n",
       "      <td>10</td>\n",
       "      <td>8</td>\n",
       "      <td>6</td>\n",
       "      <td>13.33</td>\n",
       "    </tr>\n",
       "    <tr>\n",
       "      <th>7</th>\n",
       "      <td>Добавить форму подписки на все основные страницы, чтобы собрать базу клиентов для email-рассылок</td>\n",
       "      <td>10</td>\n",
       "      <td>7</td>\n",
       "      <td>8</td>\n",
       "      <td>5</td>\n",
       "      <td>11.20</td>\n",
       "    </tr>\n",
       "    <tr>\n",
       "      <th>6</th>\n",
       "      <td>Показать на главной странице баннеры с актуальными акциями и распродажами, чтобы увеличить конверсию</td>\n",
       "      <td>5</td>\n",
       "      <td>3</td>\n",
       "      <td>8</td>\n",
       "      <td>3</td>\n",
       "      <td>8.00</td>\n",
       "    </tr>\n",
       "    <tr>\n",
       "      <th>2</th>\n",
       "      <td>Добавить блоки рекомендаций товаров на сайт интернет магазина, чтобы повысить конверсию и средний чек заказа</td>\n",
       "      <td>8</td>\n",
       "      <td>3</td>\n",
       "      <td>7</td>\n",
       "      <td>3</td>\n",
       "      <td>7.00</td>\n",
       "    </tr>\n",
       "    <tr>\n",
       "      <th>1</th>\n",
       "      <td>Запустить собственную службу доставки, что сократит срок доставки заказов</td>\n",
       "      <td>2</td>\n",
       "      <td>5</td>\n",
       "      <td>4</td>\n",
       "      <td>10</td>\n",
       "      <td>2.00</td>\n",
       "    </tr>\n",
       "    <tr>\n",
       "      <th>5</th>\n",
       "      <td>Добавить страницу отзывов клиентов о магазине, что позволит увеличить количество заказов</td>\n",
       "      <td>3</td>\n",
       "      <td>2</td>\n",
       "      <td>2</td>\n",
       "      <td>3</td>\n",
       "      <td>1.33</td>\n",
       "    </tr>\n",
       "    <tr>\n",
       "      <th>3</th>\n",
       "      <td>Изменить структура категорий, что увеличит конверсию, т.к. пользователи быстрее найдут нужный товар</td>\n",
       "      <td>8</td>\n",
       "      <td>3</td>\n",
       "      <td>3</td>\n",
       "      <td>8</td>\n",
       "      <td>1.12</td>\n",
       "    </tr>\n",
       "    <tr>\n",
       "      <th>4</th>\n",
       "      <td>Изменить цвет фона главной страницы, чтобы увеличить вовлеченность пользователей</td>\n",
       "      <td>3</td>\n",
       "      <td>1</td>\n",
       "      <td>1</td>\n",
       "      <td>1</td>\n",
       "      <td>1.00</td>\n",
       "    </tr>\n",
       "  </tbody>\n",
       "</table>\n",
       "</div>"
      ],
      "text/plain": [
       "                                                                                                     hypothesis  \\\n",
       "8                                                       Запустить акцию, дающую скидку на товар в день рождения   \n",
       "0            Добавить два новых канала привлечения трафика, что позволит привлекать на 30% больше пользователей   \n",
       "7              Добавить форму подписки на все основные страницы, чтобы собрать базу клиентов для email-рассылок   \n",
       "6          Показать на главной странице баннеры с актуальными акциями и распродажами, чтобы увеличить конверсию   \n",
       "2  Добавить блоки рекомендаций товаров на сайт интернет магазина, чтобы повысить конверсию и средний чек заказа   \n",
       "1                                     Запустить собственную службу доставки, что сократит срок доставки заказов   \n",
       "5                      Добавить страницу отзывов клиентов о магазине, что позволит увеличить количество заказов   \n",
       "3           Изменить структура категорий, что увеличит конверсию, т.к. пользователи быстрее найдут нужный товар   \n",
       "4                              Изменить цвет фона главной страницы, чтобы увеличить вовлеченность пользователей   \n",
       "\n",
       "   reach  impact  confidence  efforts    ice  \n",
       "8      1       9           9        5  16.20  \n",
       "0      3      10           8        6  13.33  \n",
       "7     10       7           8        5  11.20  \n",
       "6      5       3           8        3   8.00  \n",
       "2      8       3           7        3   7.00  \n",
       "1      2       5           4       10   2.00  \n",
       "5      3       2           2        3   1.33  \n",
       "3      8       3           3        8   1.12  \n",
       "4      3       1           1        1   1.00  "
      ]
     },
     "execution_count": 6,
     "metadata": {},
     "output_type": "execute_result"
    }
   ],
   "source": [
    "data.sort_values(by='ice', ascending=False).round(2)"
   ]
  },
  {
   "cell_type": "markdown",
   "metadata": {},
   "source": [
    "**Применим фреймворк RICE для приоритизации гипотез**"
   ]
  },
  {
   "cell_type": "code",
   "execution_count": 7,
   "metadata": {},
   "outputs": [
    {
     "data": {
      "text/html": [
       "<div>\n",
       "<style scoped>\n",
       "    .dataframe tbody tr th:only-of-type {\n",
       "        vertical-align: middle;\n",
       "    }\n",
       "\n",
       "    .dataframe tbody tr th {\n",
       "        vertical-align: top;\n",
       "    }\n",
       "\n",
       "    .dataframe thead th {\n",
       "        text-align: right;\n",
       "    }\n",
       "</style>\n",
       "<table border=\"1\" class=\"dataframe\">\n",
       "  <thead>\n",
       "    <tr style=\"text-align: right;\">\n",
       "      <th></th>\n",
       "      <th>hypothesis</th>\n",
       "      <th>reach</th>\n",
       "      <th>impact</th>\n",
       "      <th>confidence</th>\n",
       "      <th>efforts</th>\n",
       "      <th>ice</th>\n",
       "      <th>rice</th>\n",
       "    </tr>\n",
       "  </thead>\n",
       "  <tbody>\n",
       "    <tr>\n",
       "      <th>7</th>\n",
       "      <td>Добавить форму подписки на все основные страницы, чтобы собрать базу клиентов для email-рассылок</td>\n",
       "      <td>10</td>\n",
       "      <td>7</td>\n",
       "      <td>8</td>\n",
       "      <td>5</td>\n",
       "      <td>11.20</td>\n",
       "      <td>112.0</td>\n",
       "    </tr>\n",
       "    <tr>\n",
       "      <th>2</th>\n",
       "      <td>Добавить блоки рекомендаций товаров на сайт интернет магазина, чтобы повысить конверсию и средний чек заказа</td>\n",
       "      <td>8</td>\n",
       "      <td>3</td>\n",
       "      <td>7</td>\n",
       "      <td>3</td>\n",
       "      <td>7.00</td>\n",
       "      <td>56.0</td>\n",
       "    </tr>\n",
       "    <tr>\n",
       "      <th>0</th>\n",
       "      <td>Добавить два новых канала привлечения трафика, что позволит привлекать на 30% больше пользователей</td>\n",
       "      <td>3</td>\n",
       "      <td>10</td>\n",
       "      <td>8</td>\n",
       "      <td>6</td>\n",
       "      <td>13.33</td>\n",
       "      <td>40.0</td>\n",
       "    </tr>\n",
       "    <tr>\n",
       "      <th>6</th>\n",
       "      <td>Показать на главной странице баннеры с актуальными акциями и распродажами, чтобы увеличить конверсию</td>\n",
       "      <td>5</td>\n",
       "      <td>3</td>\n",
       "      <td>8</td>\n",
       "      <td>3</td>\n",
       "      <td>8.00</td>\n",
       "      <td>40.0</td>\n",
       "    </tr>\n",
       "    <tr>\n",
       "      <th>8</th>\n",
       "      <td>Запустить акцию, дающую скидку на товар в день рождения</td>\n",
       "      <td>1</td>\n",
       "      <td>9</td>\n",
       "      <td>9</td>\n",
       "      <td>5</td>\n",
       "      <td>16.20</td>\n",
       "      <td>16.2</td>\n",
       "    </tr>\n",
       "    <tr>\n",
       "      <th>3</th>\n",
       "      <td>Изменить структура категорий, что увеличит конверсию, т.к. пользователи быстрее найдут нужный товар</td>\n",
       "      <td>8</td>\n",
       "      <td>3</td>\n",
       "      <td>3</td>\n",
       "      <td>8</td>\n",
       "      <td>1.12</td>\n",
       "      <td>9.0</td>\n",
       "    </tr>\n",
       "    <tr>\n",
       "      <th>1</th>\n",
       "      <td>Запустить собственную службу доставки, что сократит срок доставки заказов</td>\n",
       "      <td>2</td>\n",
       "      <td>5</td>\n",
       "      <td>4</td>\n",
       "      <td>10</td>\n",
       "      <td>2.00</td>\n",
       "      <td>4.0</td>\n",
       "    </tr>\n",
       "    <tr>\n",
       "      <th>5</th>\n",
       "      <td>Добавить страницу отзывов клиентов о магазине, что позволит увеличить количество заказов</td>\n",
       "      <td>3</td>\n",
       "      <td>2</td>\n",
       "      <td>2</td>\n",
       "      <td>3</td>\n",
       "      <td>1.33</td>\n",
       "      <td>4.0</td>\n",
       "    </tr>\n",
       "    <tr>\n",
       "      <th>4</th>\n",
       "      <td>Изменить цвет фона главной страницы, чтобы увеличить вовлеченность пользователей</td>\n",
       "      <td>3</td>\n",
       "      <td>1</td>\n",
       "      <td>1</td>\n",
       "      <td>1</td>\n",
       "      <td>1.00</td>\n",
       "      <td>3.0</td>\n",
       "    </tr>\n",
       "  </tbody>\n",
       "</table>\n",
       "</div>"
      ],
      "text/plain": [
       "                                                                                                     hypothesis  \\\n",
       "7              Добавить форму подписки на все основные страницы, чтобы собрать базу клиентов для email-рассылок   \n",
       "2  Добавить блоки рекомендаций товаров на сайт интернет магазина, чтобы повысить конверсию и средний чек заказа   \n",
       "0            Добавить два новых канала привлечения трафика, что позволит привлекать на 30% больше пользователей   \n",
       "6          Показать на главной странице баннеры с актуальными акциями и распродажами, чтобы увеличить конверсию   \n",
       "8                                                       Запустить акцию, дающую скидку на товар в день рождения   \n",
       "3           Изменить структура категорий, что увеличит конверсию, т.к. пользователи быстрее найдут нужный товар   \n",
       "1                                     Запустить собственную службу доставки, что сократит срок доставки заказов   \n",
       "5                      Добавить страницу отзывов клиентов о магазине, что позволит увеличить количество заказов   \n",
       "4                              Изменить цвет фона главной страницы, чтобы увеличить вовлеченность пользователей   \n",
       "\n",
       "   reach  impact  confidence  efforts    ice   rice  \n",
       "7     10       7           8        5  11.20  112.0  \n",
       "2      8       3           7        3   7.00   56.0  \n",
       "0      3      10           8        6  13.33   40.0  \n",
       "6      5       3           8        3   8.00   40.0  \n",
       "8      1       9           9        5  16.20   16.2  \n",
       "3      8       3           3        8   1.12    9.0  \n",
       "1      2       5           4       10   2.00    4.0  \n",
       "5      3       2           2        3   1.33    4.0  \n",
       "4      3       1           1        1   1.00    3.0  "
      ]
     },
     "execution_count": 7,
     "metadata": {},
     "output_type": "execute_result"
    }
   ],
   "source": [
    "data['rice'] = data['reach'] * data['impact'] * data['confidence']/data['efforts']\n",
    "data.sort_values(by='rice', ascending=False).round(2)"
   ]
  },
  {
   "cell_type": "markdown",
   "metadata": {},
   "source": [
    "Главное отличие фреймворка ICE от RICE, это колонка Reach (охват). Если наши изменения затрагивают большее количество людей, то показатель RICE будет выше. Те гипотезы, что имеют маленький охват, упали в приоритете. Это видно по гипотезе под индексом 8, а гипотеза под индексом 7, которая имеет охват 10 вышла на 1 место "
   ]
  },
  {
   "cell_type": "markdown",
   "metadata": {},
   "source": [
    "# А/В тест "
   ]
  },
  {
   "cell_type": "markdown",
   "metadata": {},
   "source": [
    "**Цель проекта:** изучить данные А/В-теста и дать ответ заказчику по результатам, менять рекламу или нет"
   ]
  },
  {
   "cell_type": "markdown",
   "metadata": {},
   "source": [
    "**Краткое описание проекта:** Используя данные интернет-магазина приоритезировать гипотезы, произвести оценку результатов A/B-тестирования различными методами"
   ]
  },
  {
   "cell_type": "markdown",
   "metadata": {},
   "source": [
    "**Основные этапы проекта**По результатам А/В тестирования нужно проанализировать полученные данные, а именно: построить график кумулятивной выручки по группам, построить график кумулятивного среднего чека по группам, построить график относительного изменения кумулятивного среднего чека группы B к группе A, построить график кумулятивного среднего количества заказов на посетителя по группам, построить график относительного изменения кумулятивного среднего количества заказов на посетителя группы B к группе A, построить точечный график количества заказов по пользователям, построить 95-й и 99-й перцентили количества заказов на пользователя, построить точечный график стоимостей заказов, построить 95-й и 99-й перцентили стоимости заказов, выбрать границу для определения аномальных заказов, посчитать статистическую значимость различий в среднем количестве заказов на посетителя между группами по «сырым» данным. Посчитать статистическую значимость различий в среднем чеке заказа между группами по «сырым» данным. Посчитать статистическую значимость различий в среднем количестве заказов на посетителя между группами по «очищенным» данным. Посчитайте статистическую значимость различий в среднем чеке заказа между группами по «очищенным» данным. "
   ]
  },
  {
   "cell_type": "markdown",
   "metadata": {},
   "source": [
    "## Прочтём данные из файлов с результатами A/B-тестирования"
   ]
  },
  {
   "cell_type": "code",
   "execution_count": 8,
   "metadata": {},
   "outputs": [],
   "source": [
    "import datetime as dt\n",
    "import numpy as np\n",
    "import matplotlib.pyplot as plt\n",
    "from pandas.plotting import register_matplotlib_converters\n",
    "import warnings\n",
    "register_matplotlib_converters()\n",
    "import scipy.stats as stats\n",
    "import pandas as pd"
   ]
  },
  {
   "cell_type": "code",
   "execution_count": 9,
   "metadata": {},
   "outputs": [
    {
     "data": {
      "text/html": [
       "<div>\n",
       "<style scoped>\n",
       "    .dataframe tbody tr th:only-of-type {\n",
       "        vertical-align: middle;\n",
       "    }\n",
       "\n",
       "    .dataframe tbody tr th {\n",
       "        vertical-align: top;\n",
       "    }\n",
       "\n",
       "    .dataframe thead th {\n",
       "        text-align: right;\n",
       "    }\n",
       "</style>\n",
       "<table border=\"1\" class=\"dataframe\">\n",
       "  <thead>\n",
       "    <tr style=\"text-align: right;\">\n",
       "      <th></th>\n",
       "      <th>transactionId</th>\n",
       "      <th>visitorId</th>\n",
       "      <th>date</th>\n",
       "      <th>revenue</th>\n",
       "      <th>group</th>\n",
       "    </tr>\n",
       "  </thead>\n",
       "  <tbody>\n",
       "    <tr>\n",
       "      <th>0</th>\n",
       "      <td>3667963787</td>\n",
       "      <td>3312258926</td>\n",
       "      <td>2019-08-15</td>\n",
       "      <td>1650</td>\n",
       "      <td>B</td>\n",
       "    </tr>\n",
       "    <tr>\n",
       "      <th>1</th>\n",
       "      <td>2804400009</td>\n",
       "      <td>3642806036</td>\n",
       "      <td>2019-08-15</td>\n",
       "      <td>730</td>\n",
       "      <td>B</td>\n",
       "    </tr>\n",
       "    <tr>\n",
       "      <th>2</th>\n",
       "      <td>2961555356</td>\n",
       "      <td>4069496402</td>\n",
       "      <td>2019-08-15</td>\n",
       "      <td>400</td>\n",
       "      <td>A</td>\n",
       "    </tr>\n",
       "    <tr>\n",
       "      <th>3</th>\n",
       "      <td>3797467345</td>\n",
       "      <td>1196621759</td>\n",
       "      <td>2019-08-15</td>\n",
       "      <td>9759</td>\n",
       "      <td>B</td>\n",
       "    </tr>\n",
       "    <tr>\n",
       "      <th>4</th>\n",
       "      <td>2282983706</td>\n",
       "      <td>2322279887</td>\n",
       "      <td>2019-08-15</td>\n",
       "      <td>2308</td>\n",
       "      <td>B</td>\n",
       "    </tr>\n",
       "  </tbody>\n",
       "</table>\n",
       "</div>"
      ],
      "text/plain": [
       "   transactionId   visitorId       date  revenue group\n",
       "0     3667963787  3312258926 2019-08-15     1650     B\n",
       "1     2804400009  3642806036 2019-08-15      730     B\n",
       "2     2961555356  4069496402 2019-08-15      400     A\n",
       "3     3797467345  1196621759 2019-08-15     9759     B\n",
       "4     2282983706  2322279887 2019-08-15     2308     B"
      ]
     },
     "execution_count": 9,
     "metadata": {},
     "output_type": "execute_result"
    }
   ],
   "source": [
    "orders = pd.read_csv('/datasets/orders.csv', sep=',')\n",
    "orders['date'] = orders['date'].map(lambda x: dt.datetime.strptime(x, '%Y-%m-%d'))\n",
    "orders.head()"
   ]
  },
  {
   "cell_type": "code",
   "execution_count": 10,
   "metadata": {},
   "outputs": [
    {
     "data": {
      "text/html": [
       "<div>\n",
       "<style scoped>\n",
       "    .dataframe tbody tr th:only-of-type {\n",
       "        vertical-align: middle;\n",
       "    }\n",
       "\n",
       "    .dataframe tbody tr th {\n",
       "        vertical-align: top;\n",
       "    }\n",
       "\n",
       "    .dataframe thead th {\n",
       "        text-align: right;\n",
       "    }\n",
       "</style>\n",
       "<table border=\"1\" class=\"dataframe\">\n",
       "  <thead>\n",
       "    <tr style=\"text-align: right;\">\n",
       "      <th></th>\n",
       "      <th>date</th>\n",
       "      <th>group</th>\n",
       "      <th>visitors</th>\n",
       "    </tr>\n",
       "  </thead>\n",
       "  <tbody>\n",
       "    <tr>\n",
       "      <th>0</th>\n",
       "      <td>2019-08-01</td>\n",
       "      <td>A</td>\n",
       "      <td>719</td>\n",
       "    </tr>\n",
       "    <tr>\n",
       "      <th>1</th>\n",
       "      <td>2019-08-02</td>\n",
       "      <td>A</td>\n",
       "      <td>619</td>\n",
       "    </tr>\n",
       "    <tr>\n",
       "      <th>2</th>\n",
       "      <td>2019-08-03</td>\n",
       "      <td>A</td>\n",
       "      <td>507</td>\n",
       "    </tr>\n",
       "    <tr>\n",
       "      <th>3</th>\n",
       "      <td>2019-08-04</td>\n",
       "      <td>A</td>\n",
       "      <td>717</td>\n",
       "    </tr>\n",
       "    <tr>\n",
       "      <th>4</th>\n",
       "      <td>2019-08-05</td>\n",
       "      <td>A</td>\n",
       "      <td>756</td>\n",
       "    </tr>\n",
       "  </tbody>\n",
       "</table>\n",
       "</div>"
      ],
      "text/plain": [
       "        date group  visitors\n",
       "0 2019-08-01     A       719\n",
       "1 2019-08-02     A       619\n",
       "2 2019-08-03     A       507\n",
       "3 2019-08-04     A       717\n",
       "4 2019-08-05     A       756"
      ]
     },
     "execution_count": 10,
     "metadata": {},
     "output_type": "execute_result"
    }
   ],
   "source": [
    "visitors = pd.read_csv('/datasets/visitors.csv', sep=',')\n",
    "visitors['date'] = visitors['date'].map(lambda x: dt.datetime.strptime(x, '%Y-%m-%d'))\n",
    "visitors.head()"
   ]
  },
  {
   "cell_type": "code",
   "execution_count": 11,
   "metadata": {},
   "outputs": [
    {
     "name": "stdout",
     "output_type": "stream",
     "text": [
      "<class 'pandas.core.frame.DataFrame'>\n",
      "RangeIndex: 1197 entries, 0 to 1196\n",
      "Data columns (total 5 columns):\n",
      " #   Column         Non-Null Count  Dtype         \n",
      "---  ------         --------------  -----         \n",
      " 0   transactionId  1197 non-null   int64         \n",
      " 1   visitorId      1197 non-null   int64         \n",
      " 2   date           1197 non-null   datetime64[ns]\n",
      " 3   revenue        1197 non-null   int64         \n",
      " 4   group          1197 non-null   object        \n",
      "dtypes: datetime64[ns](1), int64(3), object(1)\n",
      "memory usage: 46.9+ KB\n",
      "<class 'pandas.core.frame.DataFrame'>\n",
      "RangeIndex: 62 entries, 0 to 61\n",
      "Data columns (total 3 columns):\n",
      " #   Column    Non-Null Count  Dtype         \n",
      "---  ------    --------------  -----         \n",
      " 0   date      62 non-null     datetime64[ns]\n",
      " 1   group     62 non-null     object        \n",
      " 2   visitors  62 non-null     int64         \n",
      "dtypes: datetime64[ns](1), int64(1), object(1)\n",
      "memory usage: 1.6+ KB\n"
     ]
    }
   ],
   "source": [
    "orders.info()\n",
    "visitors.info()"
   ]
  },
  {
   "cell_type": "markdown",
   "metadata": {},
   "source": [
    "### Проверим данные на пропуски и дуликаты "
   ]
  },
  {
   "cell_type": "code",
   "execution_count": 12,
   "metadata": {
    "scrolled": true
   },
   "outputs": [
    {
     "data": {
      "text/plain": [
       "transactionId    0\n",
       "visitorId        0\n",
       "date             0\n",
       "revenue          0\n",
       "group            0\n",
       "dtype: int64"
      ]
     },
     "execution_count": 12,
     "metadata": {},
     "output_type": "execute_result"
    }
   ],
   "source": [
    "# Проверим на количество пропусков \n",
    "orders.isna().sum()"
   ]
  },
  {
   "cell_type": "code",
   "execution_count": 13,
   "metadata": {},
   "outputs": [
    {
     "data": {
      "text/plain": [
       "date        0\n",
       "group       0\n",
       "visitors    0\n",
       "dtype: int64"
      ]
     },
     "execution_count": 13,
     "metadata": {},
     "output_type": "execute_result"
    }
   ],
   "source": [
    "visitors.isna().sum()"
   ]
  },
  {
   "cell_type": "markdown",
   "metadata": {},
   "source": [
    "Пропусков в данных нет"
   ]
  },
  {
   "cell_type": "code",
   "execution_count": 14,
   "metadata": {},
   "outputs": [
    {
     "data": {
      "text/plain": [
       "0"
      ]
     },
     "execution_count": 14,
     "metadata": {},
     "output_type": "execute_result"
    }
   ],
   "source": [
    "orders.duplicated().sum()"
   ]
  },
  {
   "cell_type": "code",
   "execution_count": 15,
   "metadata": {},
   "outputs": [
    {
     "data": {
      "text/plain": [
       "0"
      ]
     },
     "execution_count": 15,
     "metadata": {},
     "output_type": "execute_result"
    }
   ],
   "source": [
    "visitors.duplicated().sum()"
   ]
  },
  {
   "cell_type": "markdown",
   "metadata": {},
   "source": [
    "В таблицах нет дубликатов "
   ]
  },
  {
   "cell_type": "markdown",
   "metadata": {},
   "source": [
    "### Изучим данные"
   ]
  },
  {
   "cell_type": "code",
   "execution_count": 16,
   "metadata": {},
   "outputs": [
    {
     "data": {
      "text/html": [
       "<div>\n",
       "<style scoped>\n",
       "    .dataframe tbody tr th:only-of-type {\n",
       "        vertical-align: middle;\n",
       "    }\n",
       "\n",
       "    .dataframe tbody tr th {\n",
       "        vertical-align: top;\n",
       "    }\n",
       "\n",
       "    .dataframe thead th {\n",
       "        text-align: right;\n",
       "    }\n",
       "</style>\n",
       "<table border=\"1\" class=\"dataframe\">\n",
       "  <thead>\n",
       "    <tr style=\"text-align: right;\">\n",
       "      <th></th>\n",
       "      <th>transactionId</th>\n",
       "      <th>visitorId</th>\n",
       "      <th>date</th>\n",
       "      <th>revenue</th>\n",
       "    </tr>\n",
       "    <tr>\n",
       "      <th>group</th>\n",
       "      <th></th>\n",
       "      <th></th>\n",
       "      <th></th>\n",
       "      <th></th>\n",
       "    </tr>\n",
       "  </thead>\n",
       "  <tbody>\n",
       "    <tr>\n",
       "      <th>A</th>\n",
       "      <td>557</td>\n",
       "      <td>557</td>\n",
       "      <td>557</td>\n",
       "      <td>557</td>\n",
       "    </tr>\n",
       "    <tr>\n",
       "      <th>B</th>\n",
       "      <td>640</td>\n",
       "      <td>640</td>\n",
       "      <td>640</td>\n",
       "      <td>640</td>\n",
       "    </tr>\n",
       "  </tbody>\n",
       "</table>\n",
       "</div>"
      ],
      "text/plain": [
       "       transactionId  visitorId  date  revenue\n",
       "group                                         \n",
       "A                557        557   557      557\n",
       "B                640        640   640      640"
      ]
     },
     "execution_count": 16,
     "metadata": {},
     "output_type": "execute_result"
    }
   ],
   "source": [
    "orders.groupby('group').count()"
   ]
  },
  {
   "cell_type": "code",
   "execution_count": 17,
   "metadata": {},
   "outputs": [
    {
     "data": {
      "text/html": [
       "<div>\n",
       "<style scoped>\n",
       "    .dataframe tbody tr th:only-of-type {\n",
       "        vertical-align: middle;\n",
       "    }\n",
       "\n",
       "    .dataframe tbody tr th {\n",
       "        vertical-align: top;\n",
       "    }\n",
       "\n",
       "    .dataframe thead th {\n",
       "        text-align: right;\n",
       "    }\n",
       "</style>\n",
       "<table border=\"1\" class=\"dataframe\">\n",
       "  <thead>\n",
       "    <tr style=\"text-align: right;\">\n",
       "      <th></th>\n",
       "      <th>transactionId</th>\n",
       "      <th>visitorId</th>\n",
       "      <th>date</th>\n",
       "      <th>revenue</th>\n",
       "      <th>group</th>\n",
       "    </tr>\n",
       "  </thead>\n",
       "  <tbody>\n",
       "    <tr>\n",
       "      <th>956</th>\n",
       "      <td>3122496224</td>\n",
       "      <td>3255082731</td>\n",
       "      <td>2019-08-31</td>\n",
       "      <td>1188</td>\n",
       "      <td>B</td>\n",
       "    </tr>\n",
       "    <tr>\n",
       "      <th>1013</th>\n",
       "      <td>83566152</td>\n",
       "      <td>232979603</td>\n",
       "      <td>2019-08-31</td>\n",
       "      <td>60</td>\n",
       "      <td>A</td>\n",
       "    </tr>\n",
       "    <tr>\n",
       "      <th>957</th>\n",
       "      <td>3759988715</td>\n",
       "      <td>1762249948</td>\n",
       "      <td>2019-08-31</td>\n",
       "      <td>5170</td>\n",
       "      <td>B</td>\n",
       "    </tr>\n",
       "    <tr>\n",
       "      <th>958</th>\n",
       "      <td>1207636128</td>\n",
       "      <td>3640080856</td>\n",
       "      <td>2019-08-31</td>\n",
       "      <td>3390</td>\n",
       "      <td>A</td>\n",
       "    </tr>\n",
       "    <tr>\n",
       "      <th>959</th>\n",
       "      <td>3027277658</td>\n",
       "      <td>2973964255</td>\n",
       "      <td>2019-08-31</td>\n",
       "      <td>1850</td>\n",
       "      <td>B</td>\n",
       "    </tr>\n",
       "    <tr>\n",
       "      <th>...</th>\n",
       "      <td>...</td>\n",
       "      <td>...</td>\n",
       "      <td>...</td>\n",
       "      <td>...</td>\n",
       "      <td>...</td>\n",
       "    </tr>\n",
       "    <tr>\n",
       "      <th>142</th>\n",
       "      <td>854120002</td>\n",
       "      <td>544963298</td>\n",
       "      <td>2019-08-01</td>\n",
       "      <td>1490</td>\n",
       "      <td>B</td>\n",
       "    </tr>\n",
       "    <tr>\n",
       "      <th>141</th>\n",
       "      <td>602399015</td>\n",
       "      <td>3967698036</td>\n",
       "      <td>2019-08-01</td>\n",
       "      <td>299</td>\n",
       "      <td>A</td>\n",
       "    </tr>\n",
       "    <tr>\n",
       "      <th>140</th>\n",
       "      <td>2774185760</td>\n",
       "      <td>975516572</td>\n",
       "      <td>2019-08-01</td>\n",
       "      <td>1190</td>\n",
       "      <td>B</td>\n",
       "    </tr>\n",
       "    <tr>\n",
       "      <th>139</th>\n",
       "      <td>4141167864</td>\n",
       "      <td>2716752286</td>\n",
       "      <td>2019-08-01</td>\n",
       "      <td>7990</td>\n",
       "      <td>B</td>\n",
       "    </tr>\n",
       "    <tr>\n",
       "      <th>55</th>\n",
       "      <td>1144701458</td>\n",
       "      <td>1143609305</td>\n",
       "      <td>2019-08-01</td>\n",
       "      <td>2750</td>\n",
       "      <td>A</td>\n",
       "    </tr>\n",
       "  </tbody>\n",
       "</table>\n",
       "<p>1197 rows × 5 columns</p>\n",
       "</div>"
      ],
      "text/plain": [
       "      transactionId   visitorId       date  revenue group\n",
       "956      3122496224  3255082731 2019-08-31     1188     B\n",
       "1013       83566152   232979603 2019-08-31       60     A\n",
       "957      3759988715  1762249948 2019-08-31     5170     B\n",
       "958      1207636128  3640080856 2019-08-31     3390     A\n",
       "959      3027277658  2973964255 2019-08-31     1850     B\n",
       "...             ...         ...        ...      ...   ...\n",
       "142       854120002   544963298 2019-08-01     1490     B\n",
       "141       602399015  3967698036 2019-08-01      299     A\n",
       "140      2774185760   975516572 2019-08-01     1190     B\n",
       "139      4141167864  2716752286 2019-08-01     7990     B\n",
       "55       1144701458  1143609305 2019-08-01     2750     A\n",
       "\n",
       "[1197 rows x 5 columns]"
      ]
     },
     "execution_count": 17,
     "metadata": {},
     "output_type": "execute_result"
    }
   ],
   "source": [
    "orders.sort_values(by='date',ascending=False)"
   ]
  },
  {
   "cell_type": "code",
   "execution_count": 18,
   "metadata": {},
   "outputs": [
    {
     "data": {
      "text/html": [
       "<div>\n",
       "<style scoped>\n",
       "    .dataframe tbody tr th:only-of-type {\n",
       "        vertical-align: middle;\n",
       "    }\n",
       "\n",
       "    .dataframe tbody tr th {\n",
       "        vertical-align: top;\n",
       "    }\n",
       "\n",
       "    .dataframe thead th {\n",
       "        text-align: right;\n",
       "    }\n",
       "</style>\n",
       "<table border=\"1\" class=\"dataframe\">\n",
       "  <thead>\n",
       "    <tr style=\"text-align: right;\">\n",
       "      <th></th>\n",
       "      <th>date</th>\n",
       "      <th>group</th>\n",
       "      <th>visitors</th>\n",
       "    </tr>\n",
       "  </thead>\n",
       "  <tbody>\n",
       "    <tr>\n",
       "      <th>61</th>\n",
       "      <td>2019-08-31</td>\n",
       "      <td>B</td>\n",
       "      <td>718</td>\n",
       "    </tr>\n",
       "    <tr>\n",
       "      <th>30</th>\n",
       "      <td>2019-08-31</td>\n",
       "      <td>A</td>\n",
       "      <td>699</td>\n",
       "    </tr>\n",
       "    <tr>\n",
       "      <th>29</th>\n",
       "      <td>2019-08-30</td>\n",
       "      <td>A</td>\n",
       "      <td>490</td>\n",
       "    </tr>\n",
       "    <tr>\n",
       "      <th>60</th>\n",
       "      <td>2019-08-30</td>\n",
       "      <td>B</td>\n",
       "      <td>490</td>\n",
       "    </tr>\n",
       "    <tr>\n",
       "      <th>28</th>\n",
       "      <td>2019-08-29</td>\n",
       "      <td>A</td>\n",
       "      <td>577</td>\n",
       "    </tr>\n",
       "    <tr>\n",
       "      <th>...</th>\n",
       "      <td>...</td>\n",
       "      <td>...</td>\n",
       "      <td>...</td>\n",
       "    </tr>\n",
       "    <tr>\n",
       "      <th>33</th>\n",
       "      <td>2019-08-03</td>\n",
       "      <td>B</td>\n",
       "      <td>509</td>\n",
       "    </tr>\n",
       "    <tr>\n",
       "      <th>32</th>\n",
       "      <td>2019-08-02</td>\n",
       "      <td>B</td>\n",
       "      <td>581</td>\n",
       "    </tr>\n",
       "    <tr>\n",
       "      <th>1</th>\n",
       "      <td>2019-08-02</td>\n",
       "      <td>A</td>\n",
       "      <td>619</td>\n",
       "    </tr>\n",
       "    <tr>\n",
       "      <th>0</th>\n",
       "      <td>2019-08-01</td>\n",
       "      <td>A</td>\n",
       "      <td>719</td>\n",
       "    </tr>\n",
       "    <tr>\n",
       "      <th>31</th>\n",
       "      <td>2019-08-01</td>\n",
       "      <td>B</td>\n",
       "      <td>713</td>\n",
       "    </tr>\n",
       "  </tbody>\n",
       "</table>\n",
       "<p>62 rows × 3 columns</p>\n",
       "</div>"
      ],
      "text/plain": [
       "         date group  visitors\n",
       "61 2019-08-31     B       718\n",
       "30 2019-08-31     A       699\n",
       "29 2019-08-30     A       490\n",
       "60 2019-08-30     B       490\n",
       "28 2019-08-29     A       577\n",
       "..        ...   ...       ...\n",
       "33 2019-08-03     B       509\n",
       "32 2019-08-02     B       581\n",
       "1  2019-08-02     A       619\n",
       "0  2019-08-01     A       719\n",
       "31 2019-08-01     B       713\n",
       "\n",
       "[62 rows x 3 columns]"
      ]
     },
     "execution_count": 18,
     "metadata": {},
     "output_type": "execute_result"
    }
   ],
   "source": [
    "visitors.sort_values(by='date',ascending=False)"
   ]
  },
  {
   "cell_type": "markdown",
   "metadata": {},
   "source": [
    "В обеих таблицах данные приведены за 1 месяц. с 01.08 по 31.08"
   ]
  },
  {
   "cell_type": "code",
   "execution_count": 19,
   "metadata": {},
   "outputs": [
    {
     "name": "stdout",
     "output_type": "stream",
     "text": [
      "group    58\n",
      "dtype: int64\n"
     ]
    }
   ],
   "source": [
    "print(orders.groupby('visitorId').agg({'group' : 'nunique'}).query('group > 1').count())"
   ]
  },
  {
   "cell_type": "code",
   "execution_count": 20,
   "metadata": {},
   "outputs": [
    {
     "data": {
      "text/html": [
       "<div>\n",
       "<style scoped>\n",
       "    .dataframe tbody tr th:only-of-type {\n",
       "        vertical-align: middle;\n",
       "    }\n",
       "\n",
       "    .dataframe tbody tr th {\n",
       "        vertical-align: top;\n",
       "    }\n",
       "\n",
       "    .dataframe thead th {\n",
       "        text-align: right;\n",
       "    }\n",
       "</style>\n",
       "<table border=\"1\" class=\"dataframe\">\n",
       "  <thead>\n",
       "    <tr style=\"text-align: right;\">\n",
       "      <th></th>\n",
       "      <th>transactionId</th>\n",
       "      <th>visitorId</th>\n",
       "      <th>date</th>\n",
       "      <th>revenue</th>\n",
       "      <th>group</th>\n",
       "    </tr>\n",
       "  </thead>\n",
       "  <tbody>\n",
       "    <tr>\n",
       "      <th>0</th>\n",
       "      <td>3667963787</td>\n",
       "      <td>3312258926</td>\n",
       "      <td>2019-08-15</td>\n",
       "      <td>1650</td>\n",
       "      <td>B</td>\n",
       "    </tr>\n",
       "    <tr>\n",
       "      <th>1</th>\n",
       "      <td>2804400009</td>\n",
       "      <td>3642806036</td>\n",
       "      <td>2019-08-15</td>\n",
       "      <td>730</td>\n",
       "      <td>B</td>\n",
       "    </tr>\n",
       "    <tr>\n",
       "      <th>2</th>\n",
       "      <td>2961555356</td>\n",
       "      <td>4069496402</td>\n",
       "      <td>2019-08-15</td>\n",
       "      <td>400</td>\n",
       "      <td>A</td>\n",
       "    </tr>\n",
       "    <tr>\n",
       "      <th>3</th>\n",
       "      <td>3797467345</td>\n",
       "      <td>1196621759</td>\n",
       "      <td>2019-08-15</td>\n",
       "      <td>9759</td>\n",
       "      <td>B</td>\n",
       "    </tr>\n",
       "    <tr>\n",
       "      <th>4</th>\n",
       "      <td>2282983706</td>\n",
       "      <td>2322279887</td>\n",
       "      <td>2019-08-15</td>\n",
       "      <td>2308</td>\n",
       "      <td>B</td>\n",
       "    </tr>\n",
       "    <tr>\n",
       "      <th>...</th>\n",
       "      <td>...</td>\n",
       "      <td>...</td>\n",
       "      <td>...</td>\n",
       "      <td>...</td>\n",
       "      <td>...</td>\n",
       "    </tr>\n",
       "    <tr>\n",
       "      <th>1192</th>\n",
       "      <td>2662137336</td>\n",
       "      <td>3733762160</td>\n",
       "      <td>2019-08-14</td>\n",
       "      <td>6490</td>\n",
       "      <td>B</td>\n",
       "    </tr>\n",
       "    <tr>\n",
       "      <th>1193</th>\n",
       "      <td>2203539145</td>\n",
       "      <td>370388673</td>\n",
       "      <td>2019-08-14</td>\n",
       "      <td>3190</td>\n",
       "      <td>A</td>\n",
       "    </tr>\n",
       "    <tr>\n",
       "      <th>1194</th>\n",
       "      <td>1807773912</td>\n",
       "      <td>573423106</td>\n",
       "      <td>2019-08-14</td>\n",
       "      <td>10550</td>\n",
       "      <td>A</td>\n",
       "    </tr>\n",
       "    <tr>\n",
       "      <th>1195</th>\n",
       "      <td>1947021204</td>\n",
       "      <td>1614305549</td>\n",
       "      <td>2019-08-14</td>\n",
       "      <td>100</td>\n",
       "      <td>A</td>\n",
       "    </tr>\n",
       "    <tr>\n",
       "      <th>1196</th>\n",
       "      <td>3936777065</td>\n",
       "      <td>2108080724</td>\n",
       "      <td>2019-08-15</td>\n",
       "      <td>202740</td>\n",
       "      <td>B</td>\n",
       "    </tr>\n",
       "  </tbody>\n",
       "</table>\n",
       "<p>1197 rows × 5 columns</p>\n",
       "</div>"
      ],
      "text/plain": [
       "      transactionId   visitorId       date  revenue group\n",
       "0        3667963787  3312258926 2019-08-15     1650     B\n",
       "1        2804400009  3642806036 2019-08-15      730     B\n",
       "2        2961555356  4069496402 2019-08-15      400     A\n",
       "3        3797467345  1196621759 2019-08-15     9759     B\n",
       "4        2282983706  2322279887 2019-08-15     2308     B\n",
       "...             ...         ...        ...      ...   ...\n",
       "1192     2662137336  3733762160 2019-08-14     6490     B\n",
       "1193     2203539145   370388673 2019-08-14     3190     A\n",
       "1194     1807773912   573423106 2019-08-14    10550     A\n",
       "1195     1947021204  1614305549 2019-08-14      100     A\n",
       "1196     3936777065  2108080724 2019-08-15   202740     B\n",
       "\n",
       "[1197 rows x 5 columns]"
      ]
     },
     "execution_count": 20,
     "metadata": {},
     "output_type": "execute_result"
    }
   ],
   "source": [
    "orders"
   ]
  },
  {
   "cell_type": "code",
   "execution_count": 21,
   "metadata": {},
   "outputs": [
    {
     "data": {
      "text/plain": [
       "group    0\n",
       "dtype: int64"
      ]
     },
     "execution_count": 21,
     "metadata": {},
     "output_type": "execute_result"
    }
   ],
   "source": [
    "dusers = orders.groupby('visitorId').agg({'group' : 'nunique'}).reset_index().query('group>1')['visitorId'].unique()\n",
    "orders = orders.query('visitorId not in @dusers')\n",
    "\n",
    "orders.groupby('visitorId').agg({'group' : 'nunique'}).query('group>1').count()"
   ]
  },
  {
   "cell_type": "code",
   "execution_count": 22,
   "metadata": {},
   "outputs": [
    {
     "data": {
      "text/plain": [
       "group    0\n",
       "dtype: int64"
      ]
     },
     "execution_count": 22,
     "metadata": {},
     "output_type": "execute_result"
    }
   ],
   "source": [
    "orders = orders.query('visitorId not in @dusers')\n",
    "\n",
    "orders.groupby('visitorId').agg({'group' : 'nunique'}).query('group>1').count()"
   ]
  },
  {
   "cell_type": "markdown",
   "metadata": {},
   "source": [
    "Не осталось юзеров которые попали в обе группы. Можно было и оставить, т.к в обе группы добавляются одинаковые суммы чисел "
   ]
  },
  {
   "cell_type": "markdown",
   "metadata": {},
   "source": [
    "## Создадим массив уникальных пар значений дат и групп теста методом drop_duplicates()"
   ]
  },
  {
   "cell_type": "code",
   "execution_count": 23,
   "metadata": {},
   "outputs": [],
   "source": [
    "datesGroups = orders[['date','group']].drop_duplicates() \n",
    "# создаем массив уникальных пар значений дат и групп теста"
   ]
  },
  {
   "cell_type": "code",
   "execution_count": 24,
   "metadata": {},
   "outputs": [],
   "source": [
    "# получаем агрегированные кумулятивные по дням данные о заказах \n",
    "ordersAggregated = datesGroups.apply(lambda x: orders[np.logical_and(orders['date'] <= x['date'], orders['group'] == x['group'])]\\\n",
    ".agg({'date' : 'max', 'group' : 'max', 'transactionId' : 'nunique', 'visitorId' : 'nunique', 'revenue' : 'sum'}), axis=1).sort_values(by=['date','group']) "
   ]
  },
  {
   "cell_type": "code",
   "execution_count": 25,
   "metadata": {},
   "outputs": [],
   "source": [
    "# получаем агрегированные кумулятивные по дням данные о посетителях \n",
    "visitorsAggregated = datesGroups.apply(lambda x: visitors[np.logical_and(visitors['date'] <= x['date'], visitors['group'] == x['group'])].agg({'date' : 'max', 'group' : 'max', 'visitors' : 'sum'}), axis=1).sort_values(by=['date','group'])"
   ]
  },
  {
   "cell_type": "code",
   "execution_count": 26,
   "metadata": {},
   "outputs": [
    {
     "data": {
      "text/html": [
       "<div>\n",
       "<style scoped>\n",
       "    .dataframe tbody tr th:only-of-type {\n",
       "        vertical-align: middle;\n",
       "    }\n",
       "\n",
       "    .dataframe tbody tr th {\n",
       "        vertical-align: top;\n",
       "    }\n",
       "\n",
       "    .dataframe thead th {\n",
       "        text-align: right;\n",
       "    }\n",
       "</style>\n",
       "<table border=\"1\" class=\"dataframe\">\n",
       "  <thead>\n",
       "    <tr style=\"text-align: right;\">\n",
       "      <th></th>\n",
       "      <th>date</th>\n",
       "      <th>group</th>\n",
       "      <th>orders</th>\n",
       "      <th>buyers</th>\n",
       "      <th>revenue</th>\n",
       "      <th>visitors</th>\n",
       "    </tr>\n",
       "  </thead>\n",
       "  <tbody>\n",
       "    <tr>\n",
       "      <th>0</th>\n",
       "      <td>2019-08-01</td>\n",
       "      <td>A</td>\n",
       "      <td>23</td>\n",
       "      <td>19</td>\n",
       "      <td>142779</td>\n",
       "      <td>719</td>\n",
       "    </tr>\n",
       "    <tr>\n",
       "      <th>1</th>\n",
       "      <td>2019-08-01</td>\n",
       "      <td>B</td>\n",
       "      <td>17</td>\n",
       "      <td>17</td>\n",
       "      <td>59758</td>\n",
       "      <td>713</td>\n",
       "    </tr>\n",
       "    <tr>\n",
       "      <th>2</th>\n",
       "      <td>2019-08-02</td>\n",
       "      <td>A</td>\n",
       "      <td>42</td>\n",
       "      <td>36</td>\n",
       "      <td>234381</td>\n",
       "      <td>1338</td>\n",
       "    </tr>\n",
       "    <tr>\n",
       "      <th>3</th>\n",
       "      <td>2019-08-02</td>\n",
       "      <td>B</td>\n",
       "      <td>40</td>\n",
       "      <td>39</td>\n",
       "      <td>221801</td>\n",
       "      <td>1294</td>\n",
       "    </tr>\n",
       "    <tr>\n",
       "      <th>4</th>\n",
       "      <td>2019-08-03</td>\n",
       "      <td>A</td>\n",
       "      <td>66</td>\n",
       "      <td>60</td>\n",
       "      <td>346854</td>\n",
       "      <td>1845</td>\n",
       "    </tr>\n",
       "  </tbody>\n",
       "</table>\n",
       "</div>"
      ],
      "text/plain": [
       "        date group  orders  buyers  revenue  visitors\n",
       "0 2019-08-01     A      23      19   142779       719\n",
       "1 2019-08-01     B      17      17    59758       713\n",
       "2 2019-08-02     A      42      36   234381      1338\n",
       "3 2019-08-02     B      40      39   221801      1294\n",
       "4 2019-08-03     A      66      60   346854      1845"
      ]
     },
     "execution_count": 26,
     "metadata": {},
     "output_type": "execute_result"
    }
   ],
   "source": [
    "# объединяем кумулятивные данные в одной таблице и присваиваем ее столбцам понятные названия\n",
    "cumulativeData = ordersAggregated.merge(visitorsAggregated, left_on=['date', 'group'], right_on=['date', 'group'])\n",
    "cumulativeData.columns = ['date', 'group', 'orders', 'buyers', 'revenue', 'visitors']\n",
    "cumulativeData.head(5)"
   ]
  },
  {
   "cell_type": "markdown",
   "metadata": {},
   "source": [
    "## Построим графики кумулятивной выручки по дням и группам A/B-тестирования:"
   ]
  },
  {
   "cell_type": "code",
   "execution_count": 27,
   "metadata": {},
   "outputs": [
    {
     "data": {
      "image/png": "[encoded data removed]",
      "text/plain": [
       "<Figure size 864x360 with 1 Axes>"
      ]
     },
     "metadata": {
      "needs_background": "light"
     },
     "output_type": "display_data"
    }
   ],
   "source": [
    "# датафрейм с кумулятивным количеством заказов и кумулятивной выручкой по дням в группе А\n",
    "cumulativeRevenueA = cumulativeData[cumulativeData['group']=='A'][['date','revenue', 'orders']]\n",
    "\n",
    "# датафрейм с кумулятивным количеством заказов и кумулятивной выручкой по дням в группе B\n",
    "cumulativeRevenueB = cumulativeData[cumulativeData['group']=='B'][['date','revenue', 'orders']]\n",
    "\n",
    "# Строим график выручки группы А\n",
    "plt.figure(figsize=(12, 5))\n",
    "plt.plot(cumulativeRevenueA['date'], cumulativeRevenueA['revenue'], label='A')\n",
    "\n",
    "# Строим график выручки группы B\n",
    "\n",
    "plt.plot(cumulativeRevenueB['date'], cumulativeRevenueB['revenue'], label='B')\n",
    "\n",
    "plt.legend();\n",
    "\n",
    "plt.title('Кумулятивная выручка по дням и группам А/В тестирования')\n",
    "plt.ylabel('выручка, млн');\n",
    "plt.xlabel('дата');"
   ]
  },
  {
   "cell_type": "markdown",
   "metadata": {},
   "source": [
    "**Вывод:** в начале тестирования выручка растет равномерно, но в середине теста происходит резкий скачок выручки в группе В, а в группе А выручка продолжает равномерно расти.  Это может сигнализировать о всплесках числа заказов, либо о появлении очень дорогих заказов в выборке."
   ]
  },
  {
   "cell_type": "markdown",
   "metadata": {},
   "source": [
    "## Построим график кумулятивного среднего чека по группам"
   ]
  },
  {
   "cell_type": "code",
   "execution_count": 28,
   "metadata": {},
   "outputs": [
    {
     "data": {
      "image/png": "[encoded data removed]",
      "text/plain": [
       "<Figure size 864x360 with 1 Axes>"
      ]
     },
     "metadata": {
      "needs_background": "light"
     },
     "output_type": "display_data"
    }
   ],
   "source": [
    "plt.figure(figsize=(12, 5))\n",
    "plt.plot(cumulativeRevenueA['date'], cumulativeRevenueA['revenue']/cumulativeRevenueA['orders'], label='A')\n",
    "plt.plot(cumulativeRevenueB['date'], cumulativeRevenueB['revenue']/cumulativeRevenueB['orders'], label='B')\n",
    "plt.legend();\n",
    "plt.title('График кумулятивного среднего чека по группам')\n",
    "plt.ylabel('ср. чек, руб.')\n",
    "plt.xlabel('дата');"
   ]
  },
  {
   "cell_type": "markdown",
   "metadata": {},
   "source": [
    "**Вывод:** Средний чек к концу исследования становится равномерным, но в начале большие скачки, особенно в группе В. Скорее всего на средний чек влияют большие заказы."
   ]
  },
  {
   "cell_type": "markdown",
   "metadata": {},
   "source": [
    "## Построим график относительного изменения кумулятивного среднего чека группы B к группе A."
   ]
  },
  {
   "cell_type": "code",
   "execution_count": 29,
   "metadata": {},
   "outputs": [
    {
     "data": {
      "image/png": "[encoded data removed]",
      "text/plain": [
       "<Figure size 864x360 with 1 Axes>"
      ]
     },
     "metadata": {
      "needs_background": "light"
     },
     "output_type": "display_data"
    }
   ],
   "source": [
    "# собираем данные в одном датафрейме\n",
    "mergedCumulativeRevenue = cumulativeRevenueA.merge(cumulativeRevenueB, left_on='date', right_on='date', how='left', suffixes=['A', 'B'])\n",
    "\n",
    "# cтроим отношение средних чеков\n",
    "plt.figure(figsize=(12, 5))\n",
    "plt.plot(mergedCumulativeRevenue['date'], (mergedCumulativeRevenue['revenueB']/mergedCumulativeRevenue['ordersB'])/(mergedCumulativeRevenue['revenueA']/mergedCumulativeRevenue['ordersA'])-1)\n",
    "\n",
    "# добавляем ось X\n",
    "plt.axhline(y=0, color='black', linestyle='--');\n",
    "\n",
    "plt.title('Относительное изменение кумулятивного среднего чека группы B к группе A')\n",
    "plt.ylabel('отношение ср.чека гр.В к гр.А')\n",
    "plt.xlabel('дата');\n"
   ]
  },
  {
   "cell_type": "markdown",
   "metadata": {},
   "source": [
    "**Вывод:** По графику видно, что что есть резки скачки. Это говорит о том, что в данныз есть крупные заказы и выбросы. В начале теста отношение среднего чека группы б проигрывало, но достаточно быстро вырвалось вперед. 7-8 сентября показатель падает. 18 сентября происходит резкий скачок."
   ]
  },
  {
   "cell_type": "markdown",
   "metadata": {},
   "source": [
    "## Построим график кумулятивного среднего количества заказов на посетителя по группам"
   ]
  },
  {
   "cell_type": "code",
   "execution_count": 30,
   "metadata": {},
   "outputs": [
    {
     "data": {
      "image/png": "[encoded data removed]",
      "text/plain": [
       "<Figure size 864x360 with 1 Axes>"
      ]
     },
     "metadata": {
      "needs_background": "light"
     },
     "output_type": "display_data"
    }
   ],
   "source": [
    "# считаем кумулятивную конверсию\n",
    "cumulativeData['conversion'] = cumulativeData['orders']/cumulativeData['visitors']\n",
    "\n",
    "# отделяем данные по группе A\n",
    "cumulativeDataA = cumulativeData[cumulativeData['group']=='A']\n",
    "\n",
    "# отделяем данные по группе B\n",
    "cumulativeDataB = cumulativeData[cumulativeData['group']=='B']\n",
    "\n",
    "# строим графики\n",
    "plt.figure(figsize=(12, 5))\n",
    "plt.plot(cumulativeDataA['date'], cumulativeDataA['conversion'], label='A')\n",
    "plt.plot(cumulativeDataB['date'], cumulativeDataB['conversion'], label='B')\n",
    "plt.legend();\n",
    "\n",
    "plt.axis([\"2019-08-01\", '2019-08-31', 0.02, 0.04]);\n",
    "plt.title('График кумулятивного среднего количества заказов на посетителя по группам')\n",
    "plt.ylabel('Cреднее количество заказов')\n",
    "plt.xlabel('дата');\n"
   ]
  },
  {
   "cell_type": "markdown",
   "metadata": {},
   "source": [
    "**Вывод:** Графики сильно отличаются друг от друга. У обоих групп в начале исследования произошел резкий скачок и затем следует сильная просадка, но график группы В заново стремится вверх, когда график группы А падает. К концу исследования начали стабилизироваться, но средний чек группы В выше "
   ]
  },
  {
   "cell_type": "markdown",
   "metadata": {},
   "source": [
    "## Построим график относительного изменения кумулятивного среднего количества заказов на посетителя группы B к группе A"
   ]
  },
  {
   "cell_type": "code",
   "execution_count": 31,
   "metadata": {},
   "outputs": [
    {
     "data": {
      "image/png": "[encoded data removed]",
      "text/plain": [
       "<Figure size 864x360 with 1 Axes>"
      ]
     },
     "metadata": {
      "needs_background": "light"
     },
     "output_type": "display_data"
    }
   ],
   "source": [
    "mergedCumulativeConversions = cumulativeDataA[['date','conversion']].merge(cumulativeDataB[['date','conversion']], left_on='date', right_on='date', how='left', suffixes=['A', 'B'])\n",
    "plt.figure(figsize=(12, 5))\n",
    "plt.plot(mergedCumulativeConversions['date'], mergedCumulativeConversions['conversionB']/mergedCumulativeConversions['conversionA']-1, label=\"Относительный прирост конверсии группы B относительно группы A\")\n",
    "plt.legend();\n",
    "\n",
    "plt.axhline(y=0, color='black', linestyle='--');\n",
    "\n",
    "plt.axis([\"2019-08-01\", '2019-08-31', -0.3, 0.25]);\n",
    "plt.title('Относительное изменение кумулятивного ср. кол-ва заказов на посетителя группы B к группе A')\n",
    "plt.xlabel('Относительное изменение группы В к группе А')\n",
    "plt.ylabel('Дата');"
   ]
  },
  {
   "cell_type": "markdown",
   "metadata": {},
   "source": [
    "**Вывод:**  В начале теста показатели группы В уступали показателям группы А, но потом случился резкий скачок и показатели группы В значительно выше чем у группы А "
   ]
  },
  {
   "cell_type": "markdown",
   "metadata": {},
   "source": [
    "## Построим точечный график количества заказов по пользователям."
   ]
  },
  {
   "cell_type": "code",
   "execution_count": 32,
   "metadata": {},
   "outputs": [
    {
     "data": {
      "text/html": [
       "<div>\n",
       "<style scoped>\n",
       "    .dataframe tbody tr th:only-of-type {\n",
       "        vertical-align: middle;\n",
       "    }\n",
       "\n",
       "    .dataframe tbody tr th {\n",
       "        vertical-align: top;\n",
       "    }\n",
       "\n",
       "    .dataframe thead th {\n",
       "        text-align: right;\n",
       "    }\n",
       "</style>\n",
       "<table border=\"1\" class=\"dataframe\">\n",
       "  <thead>\n",
       "    <tr style=\"text-align: right;\">\n",
       "      <th></th>\n",
       "      <th>visitorId</th>\n",
       "      <th>orders</th>\n",
       "    </tr>\n",
       "  </thead>\n",
       "  <tbody>\n",
       "    <tr>\n",
       "      <th>908</th>\n",
       "      <td>3967698036</td>\n",
       "      <td>3</td>\n",
       "    </tr>\n",
       "    <tr>\n",
       "      <th>55</th>\n",
       "      <td>249864742</td>\n",
       "      <td>3</td>\n",
       "    </tr>\n",
       "    <tr>\n",
       "      <th>478</th>\n",
       "      <td>2108163459</td>\n",
       "      <td>3</td>\n",
       "    </tr>\n",
       "    <tr>\n",
       "      <th>687</th>\n",
       "      <td>2988190573</td>\n",
       "      <td>3</td>\n",
       "    </tr>\n",
       "    <tr>\n",
       "      <th>890</th>\n",
       "      <td>3908431265</td>\n",
       "      <td>3</td>\n",
       "    </tr>\n",
       "    <tr>\n",
       "      <th>138</th>\n",
       "      <td>611059232</td>\n",
       "      <td>3</td>\n",
       "    </tr>\n",
       "    <tr>\n",
       "      <th>632</th>\n",
       "      <td>2742574263</td>\n",
       "      <td>3</td>\n",
       "    </tr>\n",
       "    <tr>\n",
       "      <th>157</th>\n",
       "      <td>678354126</td>\n",
       "      <td>2</td>\n",
       "    </tr>\n",
       "    <tr>\n",
       "      <th>323</th>\n",
       "      <td>1404560065</td>\n",
       "      <td>2</td>\n",
       "    </tr>\n",
       "    <tr>\n",
       "      <th>452</th>\n",
       "      <td>1985475298</td>\n",
       "      <td>2</td>\n",
       "    </tr>\n",
       "  </tbody>\n",
       "</table>\n",
       "</div>"
      ],
      "text/plain": [
       "      visitorId  orders\n",
       "908  3967698036       3\n",
       "55    249864742       3\n",
       "478  2108163459       3\n",
       "687  2988190573       3\n",
       "890  3908431265       3\n",
       "138   611059232       3\n",
       "632  2742574263       3\n",
       "157   678354126       2\n",
       "323  1404560065       2\n",
       "452  1985475298       2"
      ]
     },
     "execution_count": 32,
     "metadata": {},
     "output_type": "execute_result"
    }
   ],
   "source": [
    "ordersByUsers = (\n",
    "    orders.groupby('visitorId', as_index=False)\n",
    "    .agg({'transactionId': 'nunique'})\n",
    ")\n",
    "\n",
    "ordersByUsers.columns = ['visitorId', 'orders']\n",
    "\n",
    "ordersByUsers.sort_values(by='orders', ascending=False).head(10)"
   ]
  },
  {
   "cell_type": "code",
   "execution_count": 33,
   "metadata": {},
   "outputs": [
    {
     "data": {
      "image/png": "[encoded data removed]",
      "text/plain": [
       "<Figure size 432x288 with 1 Axes>"
      ]
     },
     "metadata": {
      "needs_background": "light"
     },
     "output_type": "display_data"
    }
   ],
   "source": [
    "plt.hist(ordersByUsers['orders']);\n",
    "plt.title('Количество заказов по пользователям')\n",
    "plt.ylabel('кол-во пользователей')\n",
    "plt.xlabel('кол-во заказов');"
   ]
  },
  {
   "cell_type": "markdown",
   "metadata": {},
   "source": [
    "По графику видно, что в основном заказывали не более 2 раз, но есть пользователи кто сделал и 3 заказа"
   ]
  },
  {
   "cell_type": "code",
   "execution_count": 34,
   "metadata": {},
   "outputs": [
    {
     "data": {
      "image/png": "[encoded data removed]",
      "text/plain": [
       "<Figure size 432x288 with 1 Axes>"
      ]
     },
     "metadata": {
      "needs_background": "light"
     },
     "output_type": "display_data"
    }
   ],
   "source": [
    "x_values = pd.Series(range(0,len(ordersByUsers)))\n",
    "\n",
    "plt.scatter(x_values, ordersByUsers['orders'])\n",
    "plt.title('Количество заказов по пользователям ')\n",
    "plt.ylabel('кол-во заказов')\n",
    "plt.xlabel('кол-во пользователей');\n"
   ]
  },
  {
   "cell_type": "markdown",
   "metadata": {},
   "source": [
    "Есть 7 пользлвателей, кто сделал 3  заказа, но в основном заказывают до 1 раз  "
   ]
  },
  {
   "cell_type": "markdown",
   "metadata": {},
   "source": [
    "## Посчитаем 95-й и 99-й перцентили количества заказов на пользователя. "
   ]
  },
  {
   "cell_type": "code",
   "execution_count": 35,
   "metadata": {},
   "outputs": [
    {
     "name": "stdout",
     "output_type": "stream",
     "text": [
      "[1. 2.]\n"
     ]
    }
   ],
   "source": [
    "print(np.percentile(ordersByUsers['orders'], [95, 99]));"
   ]
  },
  {
   "cell_type": "markdown",
   "metadata": {},
   "source": [
    "95% пользователей оформляем не больше 1 заказ, в 1% пользователей оформили больше 2 заказов"
   ]
  },
  {
   "cell_type": "markdown",
   "metadata": {},
   "source": [
    "## Построим точечный график стоимостей заказов."
   ]
  },
  {
   "cell_type": "code",
   "execution_count": 36,
   "metadata": {},
   "outputs": [
    {
     "data": {
      "image/png": "[encoded data removed]",
      "text/plain": [
       "<Figure size 432x288 with 1 Axes>"
      ]
     },
     "metadata": {
      "needs_background": "light"
     },
     "output_type": "display_data"
    }
   ],
   "source": [
    "plt.hist(orders['revenue']);\n",
    "plt.title('Стоимость заказов по пользователям')\n",
    "plt.ylabel('покупатель')\n",
    "plt.xlabel('стоимость заказов, млн');\n"
   ]
  },
  {
   "cell_type": "markdown",
   "metadata": {},
   "source": [
    "По гистограмме нет особо выделяющихся заказов, все заказы до 100к"
   ]
  },
  {
   "cell_type": "code",
   "execution_count": 37,
   "metadata": {},
   "outputs": [
    {
     "data": {
      "text/html": [
       "<div>\n",
       "<style scoped>\n",
       "    .dataframe tbody tr th:only-of-type {\n",
       "        vertical-align: middle;\n",
       "    }\n",
       "\n",
       "    .dataframe tbody tr th {\n",
       "        vertical-align: top;\n",
       "    }\n",
       "\n",
       "    .dataframe thead th {\n",
       "        text-align: right;\n",
       "    }\n",
       "</style>\n",
       "<table border=\"1\" class=\"dataframe\">\n",
       "  <thead>\n",
       "    <tr style=\"text-align: right;\">\n",
       "      <th></th>\n",
       "      <th>transactionId</th>\n",
       "      <th>visitorId</th>\n",
       "      <th>date</th>\n",
       "      <th>revenue</th>\n",
       "      <th>group</th>\n",
       "    </tr>\n",
       "  </thead>\n",
       "  <tbody>\n",
       "    <tr>\n",
       "      <th>0</th>\n",
       "      <td>3667963787</td>\n",
       "      <td>3312258926</td>\n",
       "      <td>2019-08-15</td>\n",
       "      <td>1650</td>\n",
       "      <td>B</td>\n",
       "    </tr>\n",
       "    <tr>\n",
       "      <th>1</th>\n",
       "      <td>2804400009</td>\n",
       "      <td>3642806036</td>\n",
       "      <td>2019-08-15</td>\n",
       "      <td>730</td>\n",
       "      <td>B</td>\n",
       "    </tr>\n",
       "    <tr>\n",
       "      <th>3</th>\n",
       "      <td>3797467345</td>\n",
       "      <td>1196621759</td>\n",
       "      <td>2019-08-15</td>\n",
       "      <td>9759</td>\n",
       "      <td>B</td>\n",
       "    </tr>\n",
       "    <tr>\n",
       "      <th>4</th>\n",
       "      <td>2282983706</td>\n",
       "      <td>2322279887</td>\n",
       "      <td>2019-08-15</td>\n",
       "      <td>2308</td>\n",
       "      <td>B</td>\n",
       "    </tr>\n",
       "    <tr>\n",
       "      <th>5</th>\n",
       "      <td>182168103</td>\n",
       "      <td>935554773</td>\n",
       "      <td>2019-08-15</td>\n",
       "      <td>2210</td>\n",
       "      <td>B</td>\n",
       "    </tr>\n",
       "    <tr>\n",
       "      <th>...</th>\n",
       "      <td>...</td>\n",
       "      <td>...</td>\n",
       "      <td>...</td>\n",
       "      <td>...</td>\n",
       "      <td>...</td>\n",
       "    </tr>\n",
       "    <tr>\n",
       "      <th>1191</th>\n",
       "      <td>3592955527</td>\n",
       "      <td>608641596</td>\n",
       "      <td>2019-08-14</td>\n",
       "      <td>16490</td>\n",
       "      <td>B</td>\n",
       "    </tr>\n",
       "    <tr>\n",
       "      <th>1192</th>\n",
       "      <td>2662137336</td>\n",
       "      <td>3733762160</td>\n",
       "      <td>2019-08-14</td>\n",
       "      <td>6490</td>\n",
       "      <td>B</td>\n",
       "    </tr>\n",
       "    <tr>\n",
       "      <th>1193</th>\n",
       "      <td>2203539145</td>\n",
       "      <td>370388673</td>\n",
       "      <td>2019-08-14</td>\n",
       "      <td>3190</td>\n",
       "      <td>A</td>\n",
       "    </tr>\n",
       "    <tr>\n",
       "      <th>1194</th>\n",
       "      <td>1807773912</td>\n",
       "      <td>573423106</td>\n",
       "      <td>2019-08-14</td>\n",
       "      <td>10550</td>\n",
       "      <td>A</td>\n",
       "    </tr>\n",
       "    <tr>\n",
       "      <th>1196</th>\n",
       "      <td>3936777065</td>\n",
       "      <td>2108080724</td>\n",
       "      <td>2019-08-15</td>\n",
       "      <td>202740</td>\n",
       "      <td>B</td>\n",
       "    </tr>\n",
       "  </tbody>\n",
       "</table>\n",
       "<p>1016 rows × 5 columns</p>\n",
       "</div>"
      ],
      "text/plain": [
       "      transactionId   visitorId       date  revenue group\n",
       "0        3667963787  3312258926 2019-08-15     1650     B\n",
       "1        2804400009  3642806036 2019-08-15      730     B\n",
       "3        3797467345  1196621759 2019-08-15     9759     B\n",
       "4        2282983706  2322279887 2019-08-15     2308     B\n",
       "5         182168103   935554773 2019-08-15     2210     B\n",
       "...             ...         ...        ...      ...   ...\n",
       "1191     3592955527   608641596 2019-08-14    16490     B\n",
       "1192     2662137336  3733762160 2019-08-14     6490     B\n",
       "1193     2203539145   370388673 2019-08-14     3190     A\n",
       "1194     1807773912   573423106 2019-08-14    10550     A\n",
       "1196     3936777065  2108080724 2019-08-15   202740     B\n",
       "\n",
       "[1016 rows x 5 columns]"
      ]
     },
     "execution_count": 37,
     "metadata": {},
     "output_type": "execute_result"
    }
   ],
   "source": [
    "orders"
   ]
  },
  {
   "cell_type": "code",
   "execution_count": 38,
   "metadata": {},
   "outputs": [
    {
     "data": {
      "image/png": "[encoded data removed]",
      "text/plain": [
       "<Figure size 432x288 with 1 Axes>"
      ]
     },
     "metadata": {
      "needs_background": "light"
     },
     "output_type": "display_data"
    }
   ],
   "source": [
    "x_values = pd.Series(range(0,len(orders['revenue'])))\n",
    "plt.scatter(x_values, orders['revenue']);\n",
    "plt.title('Стоимость заказов по пользователям')\n",
    "plt.ylabel('стоимость, млн')\n",
    "plt.xlabel('покупатель');\n",
    "\n"
   ]
  },
  {
   "cell_type": "markdown",
   "metadata": {},
   "source": [
    "Сразу видно 2 выброса, остальные не особо выделяются "
   ]
  },
  {
   "cell_type": "code",
   "execution_count": 39,
   "metadata": {},
   "outputs": [
    {
     "data": {
      "image/png": "[encoded data removed]",
      "text/plain": [
       "<Figure size 432x288 with 1 Axes>"
      ]
     },
     "metadata": {
      "needs_background": "light"
     },
     "output_type": "display_data"
    }
   ],
   "source": [
    "x_values = pd.Series(range(0,len(orders['revenue'])))\n",
    "plt.scatter(x_values, orders['revenue']);\n",
    "plt.ylim(0, 100000)\n",
    "plt.title('Стоимость заказов по пользователям (до 100000р.)')\n",
    "plt.ylabel('стоимость, млн')\n",
    "plt.xlabel('покупатель');\n"
   ]
  },
  {
   "cell_type": "markdown",
   "metadata": {},
   "source": [
    "Если делать срез до 120000, то видно, что больше всех заказов на сумму до 20000р."
   ]
  },
  {
   "cell_type": "markdown",
   "metadata": {},
   "source": [
    "## Посчитаем 95-й и 99-й перцентили стоимости заказов"
   ]
  },
  {
   "cell_type": "code",
   "execution_count": 40,
   "metadata": {},
   "outputs": [
    {
     "name": "stdout",
     "output_type": "stream",
     "text": [
      "[26785. 53904.]\n"
     ]
    }
   ],
   "source": [
    "print(np.percentile(orders['revenue'], [95, 99]))"
   ]
  },
  {
   "cell_type": "markdown",
   "metadata": {},
   "source": [
    "Только 1% клиентов заказали на сумму от 54к, а 5% на сумму от 26,8к. За аномалию будем считать сумму от 54к рублей"
   ]
  },
  {
   "cell_type": "markdown",
   "metadata": {},
   "source": [
    "## Посчитаем статистическую значимость различий в среднем количестве заказов на посетителя между группами по «сырым» данным."
   ]
  },
  {
   "cell_type": "markdown",
   "metadata": {},
   "source": [
    "**Н0:** различий в среднем количестве заказов между группами нет. \n",
    "\n",
    "**Н1:** различия в среднем между группами есть."
   ]
  },
  {
   "cell_type": "code",
   "execution_count": 41,
   "metadata": {},
   "outputs": [
    {
     "name": "stdout",
     "output_type": "stream",
     "text": [
      "        date  ordersPerDateA  revenuePerDateA  ordersPerDateB  \\\n",
      "0 2019-08-01              23           142779              17   \n",
      "1 2019-08-02              19            91602              23   \n",
      "2 2019-08-03              24           112473              14   \n",
      "3 2019-08-04              11            41176              14   \n",
      "4 2019-08-05              22            86383              21   \n",
      "\n",
      "   revenuePerDateB  ordersCummulativeA  revenueCummulativeA  \\\n",
      "0            59758                  23               142779   \n",
      "1           162043                  42               234381   \n",
      "2            67049                  66               346854   \n",
      "3            96890                  77               388030   \n",
      "4            89908                  99               474413   \n",
      "\n",
      "   ordersCummulativeB  revenueCummulativeB  visitorsPerDateA  \\\n",
      "0                  17                59758               719   \n",
      "1                  40               221801               619   \n",
      "2                  54               288850               507   \n",
      "3                  68               385740               717   \n",
      "4                  89               475648               756   \n",
      "\n",
      "   visitorsPerDateB  visitorsCummulativeA  visitorsCummulativeB  \n",
      "0               713                   719                   713  \n",
      "1               581                  1338                  1294  \n",
      "2               509                  1845                  1803  \n",
      "3               770                  2562                  2573  \n",
      "4               707                  3318                  3280  \n"
     ]
    }
   ],
   "source": [
    "visitorsADaily = visitors[visitors['group'] == 'A'][['date', 'visitors']]\n",
    "visitorsADaily.columns = ['date', 'visitorsPerDateA']\n",
    "\n",
    "visitorsACummulative = visitorsADaily.apply(\n",
    "    lambda x: visitorsADaily[visitorsADaily['date'] <= x['date']].agg(\n",
    "        {'date': 'max', 'visitorsPerDateA': 'sum'}\n",
    "    ),\n",
    "    axis=1,\n",
    ")\n",
    "visitorsACummulative.columns = ['date', 'visitorsCummulativeA']\n",
    "\n",
    "visitorsBDaily = visitors[visitors['group'] == 'B'][['date', 'visitors']]\n",
    "visitorsBDaily.columns = ['date', 'visitorsPerDateB']\n",
    "\n",
    "visitorsBCummulative = visitorsBDaily.apply(\n",
    "    lambda x: visitorsBDaily[visitorsBDaily['date'] <= x['date']].agg(\n",
    "        {'date': 'max', 'visitorsPerDateB': 'sum'}\n",
    "    ),\n",
    "    axis=1,\n",
    ")\n",
    "visitorsBCummulative.columns = ['date', 'visitorsCummulativeB']\n",
    "\n",
    "ordersADaily = (\n",
    "    orders[orders['group'] == 'A'][['date', 'transactionId', 'visitorId', 'revenue']]\n",
    "    .groupby('date', as_index=False)\n",
    "    .agg({'transactionId': pd.Series.nunique, 'revenue': 'sum'})\n",
    ")\n",
    "ordersADaily.columns = ['date', 'ordersPerDateA', 'revenuePerDateA']\n",
    "\n",
    "ordersACummulative = ordersADaily.apply(\n",
    "    lambda x: ordersADaily[ordersADaily['date'] <= x['date']].agg(\n",
    "        {'date': 'max', 'ordersPerDateA': 'sum', 'revenuePerDateA': 'sum'}\n",
    "    ),\n",
    "    axis=1,\n",
    ").sort_values(by=['date'])\n",
    "ordersACummulative.columns = [\n",
    "    'date',\n",
    "    'ordersCummulativeA',\n",
    "    'revenueCummulativeA',\n",
    "]\n",
    "\n",
    "ordersBDaily = (\n",
    "    orders[orders['group'] == 'B'][['date', 'transactionId', 'visitorId', 'revenue']]\n",
    "    .groupby('date', as_index=False)\n",
    "    .agg({'transactionId': pd.Series.nunique, 'revenue': 'sum'})\n",
    ")\n",
    "ordersBDaily.columns = ['date', 'ordersPerDateB', 'revenuePerDateB']\n",
    "\n",
    "ordersBCummulative = ordersBDaily.apply(\n",
    "    lambda x: ordersBDaily[ordersBDaily['date'] <= x['date']].agg(\n",
    "        {'date': 'max', 'ordersPerDateB': 'sum', 'revenuePerDateB': 'sum'}\n",
    "    ),\n",
    "    axis=1,\n",
    ").sort_values(by=['date'])\n",
    "ordersBCummulative.columns = [\n",
    "    'date',\n",
    "    'ordersCummulativeB',\n",
    "    'revenueCummulativeB',\n",
    "]\n",
    "\n",
    "data = (\n",
    "    ordersADaily.merge(\n",
    "        ordersBDaily, left_on='date', right_on='date', how='left'\n",
    "    )\n",
    "    .merge(ordersACummulative, left_on='date', right_on='date', how='left')\n",
    "    .merge(ordersBCummulative, left_on='date', right_on='date', how='left')\n",
    "    .merge(visitorsADaily, left_on='date', right_on='date', how='left')\n",
    "    .merge(visitorsBDaily, left_on='date', right_on='date', how='left')\n",
    "    .merge(visitorsACummulative, left_on='date', right_on='date', how='left')\n",
    "    .merge(visitorsBCummulative, left_on='date', right_on='date', how='left')\n",
    ")\n",
    "\n",
    "print(data.head(5)) "
   ]
  },
  {
   "cell_type": "code",
   "execution_count": 42,
   "metadata": {},
   "outputs": [
    {
     "name": "stdout",
     "output_type": "stream",
     "text": [
      "0.011\n",
      "0.160\n"
     ]
    }
   ],
   "source": [
    "ordersByUsersA = (\n",
    "    orders[orders['group'] == 'A']\n",
    "    .groupby('visitorId', as_index=False)\n",
    "    .agg({'transactionId': pd.Series.nunique})\n",
    ")\n",
    "ordersByUsersA.columns = ['visitorId', 'orders']\n",
    "\n",
    "ordersByUsersB = (\n",
    "    orders[orders['group'] == 'B']\n",
    "    .groupby('visitorId', as_index=False)\n",
    "    .agg({'transactionId': pd.Series.nunique})\n",
    ")\n",
    "ordersByUsersB.columns = ['visitorId', 'orders']\n",
    "\n",
    "sampleA = pd.concat(\n",
    "    [\n",
    "        ordersByUsersA['orders'],\n",
    "        pd.Series(\n",
    "            0,\n",
    "            index=np.arange(\n",
    "                data['visitorsPerDateA'].sum() - len(ordersByUsersA['orders'])\n",
    "            ),\n",
    "            name='orders',\n",
    "        ),\n",
    "    ],\n",
    "    axis=0,\n",
    ")\n",
    "\n",
    "sampleB = pd.concat(\n",
    "    [\n",
    "        ordersByUsersB['orders'],\n",
    "        pd.Series(\n",
    "            0,\n",
    "            index=np.arange(\n",
    "                data['visitorsPerDateB'].sum() - len(ordersByUsersB['orders'])\n",
    "            ),\n",
    "            name='orders',\n",
    "        ),\n",
    "    ],\n",
    "    axis=0,\n",
    ")\n",
    "\n",
    "print(\"{0:.3f}\".format(stats.mannwhitneyu(sampleA, sampleB)[1]))\n",
    "\n",
    "print(\"{0:.3f}\".format(sampleB.mean() / sampleA.mean() - 1))\n",
    " "
   ]
  },
  {
   "cell_type": "markdown",
   "metadata": {},
   "source": [
    "## Посчитаем статистическую значимость различий в среднем чеке заказа между группами по «сырым» данным."
   ]
  },
  {
   "cell_type": "markdown",
   "metadata": {},
   "source": [
    "**H0**: различий в среднем чеке между группами нет. \n",
    "\n",
    "**H1**: различия в среднем чеке между группами есть. "
   ]
  },
  {
   "cell_type": "code",
   "execution_count": 43,
   "metadata": {},
   "outputs": [
    {
     "name": "stdout",
     "output_type": "stream",
     "text": [
      "0.829\n",
      "0.287\n"
     ]
    }
   ],
   "source": [
    "print('{0:.3f}'.format(stats.mannwhitneyu(orders[orders['group']=='A']['revenue'], orders[orders['group']=='B']['revenue'])[1]))\n",
    "print('{0:.3f}'.format(orders[orders['group']=='B']['revenue'].mean()/orders[orders['group']=='A']['revenue'].mean()-1)) "
   ]
  },
  {
   "cell_type": "markdown",
   "metadata": {},
   "source": [
    "Различие в средних значительно выше p-value 0.05 и нет основания отвергать нулевую гипотезу. Средний чек группы В на 29 больше чем у группы А"
   ]
  },
  {
   "cell_type": "markdown",
   "metadata": {},
   "source": [
    "## Посчитаем статистическую значимость различий в среднем количестве заказов на посетителя между группами по «очищенным» данным."
   ]
  },
  {
   "cell_type": "markdown",
   "metadata": {},
   "source": [
    "**Примем за аномальных пользователей тех, кто заказал дороже чем на 30000 и сделал больше 3 заказов**"
   ]
  },
  {
   "cell_type": "code",
   "execution_count": 44,
   "metadata": {},
   "outputs": [
    {
     "data": {
      "text/plain": [
       "array([1.])"
      ]
     },
     "execution_count": 44,
     "metadata": {},
     "output_type": "execute_result"
    }
   ],
   "source": [
    "abs = np.percentile(ordersByUsers['orders'], [95])\n",
    "abs"
   ]
  },
  {
   "cell_type": "code",
   "execution_count": 45,
   "metadata": {},
   "outputs": [
    {
     "name": "stdout",
     "output_type": "stream",
     "text": [
      "1099    148427295\n",
      "928     204675465\n",
      "684     358944393\n",
      "648     382846391\n",
      "751     689129267\n",
      "Name: visitorId, dtype: int64\n",
      "42\n"
     ]
    }
   ],
   "source": [
    "usersWithManyOrders = pd.concat(\n",
    "    [\n",
    "        ordersByUsersA[ordersByUsersA['orders'] > 3]['visitorId'],\n",
    "        ordersByUsersB[ordersByUsersB['orders'] > 3]['visitorId'],\n",
    "    ],\n",
    "    axis=0,\n",
    ")\n",
    "usersWithExpensiveOrders = orders[orders['revenue'] > 30000]['visitorId']\n",
    "abnormalUsers = (\n",
    "    pd.concat([usersWithManyOrders, usersWithExpensiveOrders], axis=0)\n",
    "    .drop_duplicates()\n",
    "    .sort_values()\n",
    ")\n",
    "print(abnormalUsers.head(5))\n",
    "print(abnormalUsers.shape[0]) "
   ]
  },
  {
   "cell_type": "markdown",
   "metadata": {},
   "source": [
    "У нас в сумме 57 таких клиентов "
   ]
  },
  {
   "cell_type": "code",
   "execution_count": 46,
   "metadata": {},
   "outputs": [],
   "source": [
    "sampleAFiltered = pd.concat(\n",
    "    [\n",
    "        ordersByUsersA[\n",
    "            np.logical_not(ordersByUsersA['visitorId'].isin(abnormalUsers))\n",
    "        ]['orders'],\n",
    "        pd.Series(\n",
    "            0,\n",
    "            index=np.arange(\n",
    "                data['visitorsPerDateA'].sum() - len(ordersByUsersA['orders'])\n",
    "            ),\n",
    "            name='orders',\n",
    "        ),\n",
    "    ],\n",
    "    axis=0,\n",
    ")\n",
    "\n",
    "sampleBFiltered = pd.concat(\n",
    "    [\n",
    "        ordersByUsersB[\n",
    "            np.logical_not(ordersByUsersB['visitorId'].isin(abnormalUsers))\n",
    "        ]['orders'],\n",
    "        pd.Series(\n",
    "            0,\n",
    "            index=np.arange(\n",
    "                data['visitorsPerDateB'].sum() - len(ordersByUsersB['orders'])\n",
    "            ),\n",
    "            name='orders',\n",
    "        ),\n",
    "    ],\n",
    "    axis=0,\n",
    ") "
   ]
  },
  {
   "cell_type": "code",
   "execution_count": 47,
   "metadata": {},
   "outputs": [
    {
     "name": "stdout",
     "output_type": "stream",
     "text": [
      "0.013\n",
      "0.161\n"
     ]
    }
   ],
   "source": [
    "print('{0:.3f}'.format(stats.mannwhitneyu(sampleAFiltered, sampleBFiltered)[1]))\n",
    "print('{0:.3f}'.format(sampleBFiltered.mean()/sampleAFiltered.mean()-1)) "
   ]
  },
  {
   "cell_type": "markdown",
   "metadata": {},
   "source": [
    "относительное различие  в с реднем заказе все еще ниже, чем p-value=0.05, а в группе В на 15% больше заказов и без выбросов, отвергаем гипотезу "
   ]
  },
  {
   "cell_type": "markdown",
   "metadata": {},
   "source": [
    "## Посчитаем статистическую значимость различий в среднем чеке заказа между группами по «очищенным» данным."
   ]
  },
  {
   "cell_type": "code",
   "execution_count": 48,
   "metadata": {},
   "outputs": [
    {
     "name": "stdout",
     "output_type": "stream",
     "text": [
      "0.842\n",
      "-0.031\n"
     ]
    }
   ],
   "source": [
    "print(\n",
    "    '{0:.3f}'.format(\n",
    "        stats.mannwhitneyu(\n",
    "            orders[\n",
    "                np.logical_and(\n",
    "                    orders['group'] == 'A',\n",
    "                    np.logical_not(orders['visitorId'].isin(abnormalUsers)),\n",
    "                )\n",
    "            ]['revenue'],\n",
    "            orders[\n",
    "                np.logical_and(\n",
    "                    orders['group'] == 'B',\n",
    "                    np.logical_not(orders['visitorId'].isin(abnormalUsers)),\n",
    "                )\n",
    "            ]['revenue'],\n",
    "        )[1]\n",
    "    )\n",
    ")\n",
    "\n",
    "print(\n",
    "    \"{0:.3f}\".format(\n",
    "        orders[\n",
    "            np.logical_and(\n",
    "                orders['group'] == 'B',\n",
    "                np.logical_not(orders['visitorId'].isin(abnormalUsers)),\n",
    "            )\n",
    "        ]['revenue'].mean()\n",
    "        / orders[\n",
    "            np.logical_and(\n",
    "                orders['group'] == 'A',\n",
    "                np.logical_not(orders['visitorId'].isin(abnormalUsers)),\n",
    "            )\n",
    "        ]['revenue'].mean()\n",
    "        - 1\n",
    "    )\n",
    ") "
   ]
  },
  {
   "cell_type": "markdown",
   "metadata": {},
   "source": [
    "Нет основания отвергать гипотезу Но, а средний чек в группе В на 2% ниже"
   ]
  },
  {
   "cell_type": "markdown",
   "metadata": {},
   "source": [
    "## Вывод "
   ]
  },
  {
   "cell_type": "markdown",
   "metadata": {},
   "source": [
    "Есть статистически значимое различие по среднему количеству заказов между группами  по «сырым» и по данным после фильтрации аномалий; \n",
    "Нет статистически значимого различия по среднему чеку между группами ни по «сырым», ни по данным после фильтрации аномалий, но в группе В средний чек на 2% ниже; \n",
    "График различия среднего количества заказов между группами сообщает, что результаты группы В лучше чем у группы А;\n",
    "График различия среднего чека говорит о том, что результаты группы B лучше чем у группы А, но где-то в середине теста была просадка, а в последей 1/3 график идет в сторону 0;\n",
    "\n",
    "Исходя из обнаруженных данных, тест стоит остановить и признать, что реклама группы В выигрышна. Группа В показывает куда лучше показатели по количеству заказов (на 15%) по сравнению с группой А, хоть и немного проигрывает по чеку (на 2%)"
   ]
  }
 ],
 "metadata": {
  "ExecuteTimeLog": [
   {
    "duration": 57,
    "start_time": "2023-01-19T10:56:42.386Z"
   },
   {
    "duration": 441,
    "start_time": "2023-01-19T10:56:47.440Z"
   },
   {
    "duration": 83,
    "start_time": "2023-01-19T10:56:47.909Z"
   },
   {
    "duration": 18,
    "start_time": "2023-01-19T10:56:55.084Z"
   },
   {
    "duration": 4,
    "start_time": "2023-01-19T10:57:19.393Z"
   },
   {
    "duration": 7,
    "start_time": "2023-01-19T10:57:27.051Z"
   },
   {
    "duration": 5,
    "start_time": "2023-01-19T10:57:33.702Z"
   },
   {
    "duration": 9,
    "start_time": "2023-01-19T11:01:15.006Z"
   },
   {
    "duration": 33,
    "start_time": "2023-01-19T11:06:17.687Z"
   },
   {
    "duration": 9,
    "start_time": "2023-01-19T11:08:15.553Z"
   },
   {
    "duration": 8,
    "start_time": "2023-01-19T11:08:24.251Z"
   },
   {
    "duration": 7,
    "start_time": "2023-01-19T11:08:45.983Z"
   },
   {
    "duration": 2,
    "start_time": "2023-01-19T11:09:26.586Z"
   },
   {
    "duration": 25,
    "start_time": "2023-01-19T11:09:27.036Z"
   },
   {
    "duration": 7,
    "start_time": "2023-01-19T11:09:27.653Z"
   },
   {
    "duration": 8,
    "start_time": "2023-01-19T11:09:38.841Z"
   },
   {
    "duration": 6,
    "start_time": "2023-01-19T11:10:04.111Z"
   },
   {
    "duration": 11,
    "start_time": "2023-01-19T11:10:07.616Z"
   },
   {
    "duration": 12,
    "start_time": "2023-01-19T11:11:34.680Z"
   },
   {
    "duration": 14,
    "start_time": "2023-01-19T11:12:48.597Z"
   },
   {
    "duration": 46,
    "start_time": "2023-01-19T11:25:58.088Z"
   },
   {
    "duration": 363,
    "start_time": "2023-01-19T13:09:14.067Z"
   },
   {
    "duration": 55,
    "start_time": "2023-01-19T13:09:15.098Z"
   },
   {
    "duration": 13,
    "start_time": "2023-01-19T13:09:16.061Z"
   },
   {
    "duration": 12,
    "start_time": "2023-01-19T13:09:19.418Z"
   },
   {
    "duration": 11,
    "start_time": "2023-01-19T13:09:20.861Z"
   },
   {
    "duration": 471,
    "start_time": "2023-01-19T13:14:43.367Z"
   },
   {
    "duration": 53,
    "start_time": "2023-01-19T13:15:25.460Z"
   },
   {
    "duration": 51,
    "start_time": "2023-01-19T13:18:41.757Z"
   },
   {
    "duration": 408,
    "start_time": "2023-01-19T13:19:00.913Z"
   },
   {
    "duration": 50,
    "start_time": "2023-01-19T13:20:35.576Z"
   },
   {
    "duration": 51,
    "start_time": "2023-01-19T13:20:43.467Z"
   },
   {
    "duration": 324,
    "start_time": "2023-01-19T13:20:54.399Z"
   },
   {
    "duration": 51,
    "start_time": "2023-01-19T13:21:07.822Z"
   },
   {
    "duration": 52,
    "start_time": "2023-01-19T13:21:16.860Z"
   },
   {
    "duration": 59,
    "start_time": "2023-01-19T13:21:30.153Z"
   },
   {
    "duration": 59,
    "start_time": "2023-01-19T13:21:42.816Z"
   },
   {
    "duration": 5,
    "start_time": "2023-01-19T13:26:44.963Z"
   },
   {
    "duration": 23,
    "start_time": "2023-01-19T13:27:39.767Z"
   },
   {
    "duration": 147,
    "start_time": "2023-01-19T13:29:31.378Z"
   },
   {
    "duration": 304,
    "start_time": "2023-01-19T13:30:22.439Z"
   },
   {
    "duration": 108,
    "start_time": "2023-01-19T13:31:52.163Z"
   },
   {
    "duration": 5,
    "start_time": "2023-01-19T13:32:04.163Z"
   },
   {
    "duration": 19,
    "start_time": "2023-01-19T13:32:04.963Z"
   },
   {
    "duration": 84,
    "start_time": "2023-01-19T13:32:06.745Z"
   },
   {
    "duration": 346,
    "start_time": "2023-01-19T13:33:20.046Z"
   },
   {
    "duration": 63,
    "start_time": "2023-01-19T13:33:46.909Z"
   },
   {
    "duration": 5,
    "start_time": "2023-01-19T13:33:51.200Z"
   },
   {
    "duration": 168,
    "start_time": "2023-01-19T13:33:52.214Z"
   },
   {
    "duration": 103,
    "start_time": "2023-01-19T13:33:54.063Z"
   },
   {
    "duration": 9,
    "start_time": "2023-01-19T13:34:49.199Z"
   },
   {
    "duration": 12,
    "start_time": "2023-01-19T13:36:31.197Z"
   },
   {
    "duration": 9,
    "start_time": "2023-01-19T13:37:24.843Z"
   },
   {
    "duration": 389,
    "start_time": "2023-01-19T13:38:02.233Z"
   },
   {
    "duration": 62,
    "start_time": "2023-01-19T13:38:03.767Z"
   },
   {
    "duration": 6,
    "start_time": "2023-01-19T13:38:05.812Z"
   },
   {
    "duration": 139,
    "start_time": "2023-01-19T13:38:06.547Z"
   },
   {
    "duration": 99,
    "start_time": "2023-01-19T13:38:07.372Z"
   },
   {
    "duration": 11,
    "start_time": "2023-01-19T13:38:08.196Z"
   },
   {
    "duration": 228,
    "start_time": "2023-01-19T13:38:11.948Z"
   },
   {
    "duration": 157,
    "start_time": "2023-01-19T13:38:18.775Z"
   },
   {
    "duration": 200,
    "start_time": "2023-01-19T13:40:10.249Z"
   },
   {
    "duration": 153,
    "start_time": "2023-01-19T13:40:14.677Z"
   },
   {
    "duration": 150,
    "start_time": "2023-01-19T13:42:59.252Z"
   },
   {
    "duration": 148,
    "start_time": "2023-01-19T13:43:07.640Z"
   },
   {
    "duration": 289,
    "start_time": "2023-01-19T13:47:48.252Z"
   },
   {
    "duration": 267,
    "start_time": "2023-01-19T13:49:21.400Z"
   },
   {
    "duration": 12,
    "start_time": "2023-01-19T13:53:15.504Z"
   },
   {
    "duration": 7,
    "start_time": "2023-01-19T13:53:43.913Z"
   },
   {
    "duration": 10,
    "start_time": "2023-01-19T13:54:08.855Z"
   },
   {
    "duration": 188,
    "start_time": "2023-01-19T13:55:44.214Z"
   },
   {
    "duration": 169,
    "start_time": "2023-01-19T13:56:08.649Z"
   },
   {
    "duration": 184,
    "start_time": "2023-01-19T13:56:16.202Z"
   },
   {
    "duration": 170,
    "start_time": "2023-01-19T13:56:53.503Z"
   },
   {
    "duration": 192,
    "start_time": "2023-01-19T13:57:11.539Z"
   },
   {
    "duration": 229,
    "start_time": "2023-01-19T13:57:47.549Z"
   },
   {
    "duration": 191,
    "start_time": "2023-01-19T13:58:11.139Z"
   },
   {
    "duration": 180,
    "start_time": "2023-01-19T13:59:10.961Z"
   },
   {
    "duration": 179,
    "start_time": "2023-01-19T13:59:29.006Z"
   },
   {
    "duration": 176,
    "start_time": "2023-01-19T13:59:50.330Z"
   },
   {
    "duration": 185,
    "start_time": "2023-01-19T14:00:34.862Z"
   },
   {
    "duration": 178,
    "start_time": "2023-01-19T14:01:36.176Z"
   },
   {
    "duration": 176,
    "start_time": "2023-01-19T14:02:07.846Z"
   },
   {
    "duration": 179,
    "start_time": "2023-01-19T14:02:18.213Z"
   },
   {
    "duration": 176,
    "start_time": "2023-01-19T14:02:39.706Z"
   },
   {
    "duration": 261,
    "start_time": "2023-01-19T14:07:35.487Z"
   },
   {
    "duration": 367,
    "start_time": "2023-01-19T14:08:35.270Z"
   },
   {
    "duration": 426,
    "start_time": "2023-01-20T08:14:03.191Z"
   },
   {
    "duration": 100,
    "start_time": "2023-01-20T08:14:04.762Z"
   },
   {
    "duration": 15,
    "start_time": "2023-01-20T08:14:05.637Z"
   },
   {
    "duration": 22,
    "start_time": "2023-01-20T08:14:08.786Z"
   },
   {
    "duration": 17,
    "start_time": "2023-01-20T08:14:11.344Z"
   },
   {
    "duration": 497,
    "start_time": "2023-01-20T08:14:22.527Z"
   },
   {
    "duration": 196,
    "start_time": "2023-01-20T08:14:42.687Z"
   },
   {
    "duration": 94,
    "start_time": "2023-01-20T08:15:47.720Z"
   },
   {
    "duration": 85,
    "start_time": "2023-01-20T08:15:53.959Z"
   },
   {
    "duration": 12,
    "start_time": "2023-01-20T08:16:10.118Z"
   },
   {
    "duration": 8,
    "start_time": "2023-01-20T08:19:15.509Z"
   },
   {
    "duration": 7,
    "start_time": "2023-01-20T08:19:22.268Z"
   },
   {
    "duration": 16,
    "start_time": "2023-01-20T08:20:51.867Z"
   },
   {
    "duration": 11,
    "start_time": "2023-01-20T08:21:13.464Z"
   },
   {
    "duration": 15,
    "start_time": "2023-01-20T08:22:16.124Z"
   },
   {
    "duration": 12,
    "start_time": "2023-01-20T08:22:39.334Z"
   },
   {
    "duration": 3,
    "start_time": "2023-01-20T08:22:57.069Z"
   },
   {
    "duration": 66,
    "start_time": "2023-01-20T08:22:59.317Z"
   },
   {
    "duration": 15,
    "start_time": "2023-01-20T08:23:02.136Z"
   },
   {
    "duration": 5,
    "start_time": "2023-01-20T08:24:01.164Z"
   },
   {
    "duration": 3,
    "start_time": "2023-01-20T08:24:07.263Z"
   },
   {
    "duration": 69,
    "start_time": "2023-01-20T08:24:12.642Z"
   },
   {
    "duration": 12,
    "start_time": "2023-01-20T08:24:16.028Z"
   },
   {
    "duration": 19,
    "start_time": "2023-01-20T08:24:24.801Z"
   },
   {
    "duration": 12,
    "start_time": "2023-01-20T08:24:58.168Z"
   },
   {
    "duration": 10,
    "start_time": "2023-01-20T08:25:53.436Z"
   },
   {
    "duration": 8,
    "start_time": "2023-01-20T08:26:05.653Z"
   },
   {
    "duration": 6,
    "start_time": "2023-01-20T08:26:09.319Z"
   },
   {
    "duration": 7,
    "start_time": "2023-01-20T08:26:10.742Z"
   },
   {
    "duration": 7,
    "start_time": "2023-01-20T08:31:35.018Z"
   },
   {
    "duration": 7,
    "start_time": "2023-01-20T08:31:59.815Z"
   },
   {
    "duration": 4,
    "start_time": "2023-01-20T08:33:41.165Z"
   },
   {
    "duration": 9,
    "start_time": "2023-01-20T08:33:47.734Z"
   },
   {
    "duration": 9,
    "start_time": "2023-01-20T08:41:23.125Z"
   },
   {
    "duration": 7,
    "start_time": "2023-01-20T08:41:35.948Z"
   },
   {
    "duration": 18,
    "start_time": "2023-01-20T08:41:43.289Z"
   },
   {
    "duration": 9,
    "start_time": "2023-01-20T08:42:35.318Z"
   },
   {
    "duration": 8,
    "start_time": "2023-01-20T08:43:11.233Z"
   },
   {
    "duration": 11,
    "start_time": "2023-01-20T08:43:26.672Z"
   },
   {
    "duration": 7,
    "start_time": "2023-01-20T08:47:13.081Z"
   },
   {
    "duration": 5,
    "start_time": "2023-01-20T08:47:19.769Z"
   },
   {
    "duration": 8,
    "start_time": "2023-01-20T08:53:18.208Z"
   },
   {
    "duration": 12,
    "start_time": "2023-01-20T08:54:10.570Z"
   },
   {
    "duration": 12,
    "start_time": "2023-01-20T08:54:42.226Z"
   },
   {
    "duration": 3,
    "start_time": "2023-01-20T09:01:06.918Z"
   },
   {
    "duration": 31,
    "start_time": "2023-01-20T09:01:07.568Z"
   },
   {
    "duration": 8,
    "start_time": "2023-01-20T09:01:08.736Z"
   },
   {
    "duration": 10,
    "start_time": "2023-01-20T09:01:10.172Z"
   },
   {
    "duration": 3,
    "start_time": "2023-01-20T09:01:22.464Z"
   },
   {
    "duration": 13,
    "start_time": "2023-01-20T09:01:26.062Z"
   },
   {
    "duration": 14,
    "start_time": "2023-01-20T09:01:33.064Z"
   },
   {
    "duration": 3,
    "start_time": "2023-01-20T09:01:43.727Z"
   },
   {
    "duration": 67,
    "start_time": "2023-01-20T09:01:44.926Z"
   },
   {
    "duration": 15,
    "start_time": "2023-01-20T09:01:49.612Z"
   },
   {
    "duration": 12,
    "start_time": "2023-01-20T09:02:52.070Z"
   },
   {
    "duration": 7,
    "start_time": "2023-01-20T09:02:55.059Z"
   },
   {
    "duration": 6,
    "start_time": "2023-01-20T09:02:57.934Z"
   },
   {
    "duration": 6,
    "start_time": "2023-01-20T09:03:04.576Z"
   },
   {
    "duration": 11,
    "start_time": "2023-01-20T09:03:05.650Z"
   },
   {
    "duration": 8,
    "start_time": "2023-01-20T09:03:07.859Z"
   },
   {
    "duration": 6,
    "start_time": "2023-01-20T09:03:08.284Z"
   },
   {
    "duration": 6,
    "start_time": "2023-01-20T09:03:10.124Z"
   },
   {
    "duration": 13,
    "start_time": "2023-01-20T09:03:12.089Z"
   },
   {
    "duration": 16,
    "start_time": "2023-01-20T09:03:15.304Z"
   },
   {
    "duration": 8,
    "start_time": "2023-01-20T09:03:19.264Z"
   },
   {
    "duration": 5,
    "start_time": "2023-01-20T09:03:22.365Z"
   },
   {
    "duration": 159,
    "start_time": "2023-01-20T09:03:23.701Z"
   },
   {
    "duration": 127,
    "start_time": "2023-01-20T09:03:24.708Z"
   },
   {
    "duration": 17,
    "start_time": "2023-01-20T09:03:26.126Z"
   },
   {
    "duration": 275,
    "start_time": "2023-01-20T09:03:37.631Z"
   },
   {
    "duration": 184,
    "start_time": "2023-01-20T09:03:59.489Z"
   },
   {
    "duration": 410,
    "start_time": "2023-01-20T09:04:04.020Z"
   },
   {
    "duration": 208,
    "start_time": "2023-01-20T09:04:07.186Z"
   },
   {
    "duration": 287,
    "start_time": "2023-01-20T09:04:12.330Z"
   },
   {
    "duration": 376,
    "start_time": "2023-01-20T09:04:19.673Z"
   },
   {
    "duration": 276,
    "start_time": "2023-01-20T09:05:07.818Z"
   },
   {
    "duration": 324,
    "start_time": "2023-01-20T09:05:16.172Z"
   },
   {
    "duration": 283,
    "start_time": "2023-01-20T09:05:25.320Z"
   },
   {
    "duration": 296,
    "start_time": "2023-01-20T09:06:08.214Z"
   },
   {
    "duration": 310,
    "start_time": "2023-01-20T09:06:12.596Z"
   },
   {
    "duration": 178,
    "start_time": "2023-01-20T09:09:36.342Z"
   },
   {
    "duration": 279,
    "start_time": "2023-01-20T09:09:48.122Z"
   },
   {
    "duration": 8,
    "start_time": "2023-01-20T09:12:15.959Z"
   },
   {
    "duration": 2,
    "start_time": "2023-01-20T09:12:22.659Z"
   },
   {
    "duration": 64,
    "start_time": "2023-01-20T09:12:23.854Z"
   },
   {
    "duration": 22,
    "start_time": "2023-01-20T09:12:26.184Z"
   },
   {
    "duration": 3,
    "start_time": "2023-01-20T09:13:21.186Z"
   },
   {
    "duration": 7,
    "start_time": "2023-01-20T09:13:40.402Z"
   },
   {
    "duration": 7,
    "start_time": "2023-01-20T09:13:44.137Z"
   },
   {
    "duration": 6,
    "start_time": "2023-01-20T09:13:44.774Z"
   },
   {
    "duration": 7,
    "start_time": "2023-01-20T09:13:45.426Z"
   },
   {
    "duration": 9,
    "start_time": "2023-01-20T09:13:46.024Z"
   },
   {
    "duration": 6,
    "start_time": "2023-01-20T09:13:46.709Z"
   },
   {
    "duration": 5,
    "start_time": "2023-01-20T09:13:47.806Z"
   },
   {
    "duration": 7,
    "start_time": "2023-01-20T09:13:48.458Z"
   },
   {
    "duration": 13,
    "start_time": "2023-01-20T09:13:49.360Z"
   },
   {
    "duration": 12,
    "start_time": "2023-01-20T09:13:50.495Z"
   },
   {
    "duration": 10,
    "start_time": "2023-01-20T09:13:51.819Z"
   },
   {
    "duration": 6,
    "start_time": "2023-01-20T09:13:54.163Z"
   },
   {
    "duration": 292,
    "start_time": "2023-01-20T09:13:56.175Z"
   },
   {
    "duration": 132,
    "start_time": "2023-01-20T09:13:57.490Z"
   },
   {
    "duration": 14,
    "start_time": "2023-01-20T09:13:58.602Z"
   },
   {
    "duration": 184,
    "start_time": "2023-01-20T09:14:01.887Z"
   },
   {
    "duration": 166,
    "start_time": "2023-01-20T09:14:05.558Z"
   },
   {
    "duration": 268,
    "start_time": "2023-01-20T09:14:09.161Z"
   },
   {
    "duration": 204,
    "start_time": "2023-01-20T09:14:16.230Z"
   },
   {
    "duration": 330,
    "start_time": "2023-01-20T09:15:15.927Z"
   },
   {
    "duration": 320,
    "start_time": "2023-01-20T09:15:29.264Z"
   },
   {
    "duration": 283,
    "start_time": "2023-01-20T09:15:37.533Z"
   },
   {
    "duration": 329,
    "start_time": "2023-01-20T09:15:40.074Z"
   },
   {
    "duration": 306,
    "start_time": "2023-01-20T09:15:43.400Z"
   },
   {
    "duration": 11,
    "start_time": "2023-01-20T09:17:53.196Z"
   },
   {
    "duration": 64,
    "start_time": "2023-01-20T09:17:55.532Z"
   },
   {
    "duration": 18,
    "start_time": "2023-01-20T09:17:59.153Z"
   },
   {
    "duration": 5,
    "start_time": "2023-01-20T09:18:13.372Z"
   },
   {
    "duration": 159,
    "start_time": "2023-01-20T09:18:14.942Z"
   },
   {
    "duration": 139,
    "start_time": "2023-01-20T09:18:16.020Z"
   },
   {
    "duration": 13,
    "start_time": "2023-01-20T09:18:17.105Z"
   },
   {
    "duration": 243,
    "start_time": "2023-01-20T09:18:18.836Z"
   },
   {
    "duration": 315,
    "start_time": "2023-01-20T09:18:24.606Z"
   },
   {
    "duration": 334,
    "start_time": "2023-01-20T09:19:21.319Z"
   },
   {
    "duration": 245,
    "start_time": "2023-01-20T09:19:34.358Z"
   },
   {
    "duration": 284,
    "start_time": "2023-01-20T09:19:40.526Z"
   },
   {
    "duration": 6,
    "start_time": "2023-01-20T09:20:06.074Z"
   },
   {
    "duration": 280,
    "start_time": "2023-01-20T09:20:09.104Z"
   },
   {
    "duration": 225,
    "start_time": "2023-01-20T09:20:53.338Z"
   },
   {
    "duration": 49,
    "start_time": "2023-01-20T09:23:37.749Z"
   },
   {
    "duration": 56,
    "start_time": "2023-01-20T09:23:48.327Z"
   },
   {
    "duration": 67,
    "start_time": "2023-01-20T09:24:00.168Z"
   },
   {
    "duration": 69,
    "start_time": "2023-01-20T09:24:09.110Z"
   },
   {
    "duration": 6,
    "start_time": "2023-01-20T09:24:40.051Z"
   },
   {
    "duration": 10,
    "start_time": "2023-01-20T09:25:03.368Z"
   },
   {
    "duration": 9,
    "start_time": "2023-01-20T09:25:07.513Z"
   },
   {
    "duration": 9,
    "start_time": "2023-01-20T09:25:22.717Z"
   },
   {
    "duration": 12,
    "start_time": "2023-01-20T09:25:34.273Z"
   },
   {
    "duration": 4,
    "start_time": "2023-01-20T09:25:51.033Z"
   },
   {
    "duration": 66,
    "start_time": "2023-01-20T09:25:52.499Z"
   },
   {
    "duration": 24,
    "start_time": "2023-01-20T09:25:55.598Z"
   },
   {
    "duration": 125,
    "start_time": "2023-01-20T09:25:59.997Z"
   },
   {
    "duration": 50,
    "start_time": "2023-01-20T09:28:15.367Z"
   },
   {
    "duration": 70,
    "start_time": "2023-01-20T09:28:32.386Z"
   },
   {
    "duration": 49,
    "start_time": "2023-01-20T09:29:02.048Z"
   },
   {
    "duration": 106,
    "start_time": "2023-01-20T09:29:14.274Z"
   },
   {
    "duration": 77,
    "start_time": "2023-01-20T09:29:20.999Z"
   },
   {
    "duration": 58,
    "start_time": "2023-01-20T09:29:36.330Z"
   },
   {
    "duration": 71,
    "start_time": "2023-01-20T09:29:40.473Z"
   },
   {
    "duration": 19,
    "start_time": "2023-01-20T09:30:01.015Z"
   },
   {
    "duration": 15,
    "start_time": "2023-01-20T09:30:09.064Z"
   },
   {
    "duration": 44,
    "start_time": "2023-01-20T09:30:25.069Z"
   },
   {
    "duration": 51,
    "start_time": "2023-01-20T09:30:34.337Z"
   },
   {
    "duration": 34,
    "start_time": "2023-01-20T09:30:49.329Z"
   },
   {
    "duration": 31,
    "start_time": "2023-01-20T09:30:59.569Z"
   },
   {
    "duration": 5,
    "start_time": "2023-01-20T09:31:32.251Z"
   },
   {
    "duration": 29,
    "start_time": "2023-01-20T09:31:56.964Z"
   },
   {
    "duration": 11,
    "start_time": "2023-01-20T09:32:15.084Z"
   },
   {
    "duration": 62,
    "start_time": "2023-01-20T09:32:44.580Z"
   },
   {
    "duration": 35,
    "start_time": "2023-01-20T09:32:58.081Z"
   },
   {
    "duration": 19,
    "start_time": "2023-01-20T09:34:25.386Z"
   },
   {
    "duration": 9,
    "start_time": "2023-01-20T09:34:56.131Z"
   },
   {
    "duration": 7,
    "start_time": "2023-01-20T09:34:57.153Z"
   },
   {
    "duration": 10,
    "start_time": "2023-01-20T09:35:10.848Z"
   },
   {
    "duration": 8,
    "start_time": "2023-01-20T09:35:17.010Z"
   },
   {
    "duration": 5,
    "start_time": "2023-01-20T09:35:17.957Z"
   },
   {
    "duration": 7,
    "start_time": "2023-01-20T09:35:20.019Z"
   },
   {
    "duration": 6,
    "start_time": "2023-01-20T09:35:46.659Z"
   },
   {
    "duration": 171,
    "start_time": "2023-01-20T09:35:47.453Z"
   },
   {
    "duration": 125,
    "start_time": "2023-01-20T09:35:48.302Z"
   },
   {
    "duration": 15,
    "start_time": "2023-01-20T09:35:49.052Z"
   },
   {
    "duration": 195,
    "start_time": "2023-01-20T09:35:50.577Z"
   },
   {
    "duration": 187,
    "start_time": "2023-01-20T09:35:55.290Z"
   },
   {
    "duration": 192,
    "start_time": "2023-01-20T09:39:47.170Z"
   },
   {
    "duration": 168,
    "start_time": "2023-01-20T09:39:55.710Z"
   },
   {
    "duration": 318,
    "start_time": "2023-01-20T09:40:31.555Z"
   },
   {
    "duration": 302,
    "start_time": "2023-01-20T09:40:45.553Z"
   },
   {
    "duration": 13,
    "start_time": "2023-01-20T09:46:43.270Z"
   },
   {
    "duration": 11,
    "start_time": "2023-01-20T09:47:07.828Z"
   },
   {
    "duration": 10,
    "start_time": "2023-01-20T09:47:28.140Z"
   },
   {
    "duration": 13,
    "start_time": "2023-01-20T09:47:54.568Z"
   },
   {
    "duration": 109,
    "start_time": "2023-01-20T09:48:29.541Z"
   },
   {
    "duration": 108,
    "start_time": "2023-01-20T09:48:34.129Z"
   },
   {
    "duration": 116,
    "start_time": "2023-01-20T09:48:47.919Z"
   },
   {
    "duration": 198,
    "start_time": "2023-01-20T09:48:51.550Z"
   },
   {
    "duration": 144,
    "start_time": "2023-01-20T09:50:28.416Z"
   },
   {
    "duration": 57,
    "start_time": "2023-01-20T09:51:17.803Z"
   },
   {
    "duration": 5,
    "start_time": "2023-01-20T09:53:13.882Z"
   },
   {
    "duration": 3,
    "start_time": "2023-01-20T09:53:20.068Z"
   },
   {
    "duration": 3,
    "start_time": "2023-01-20T09:53:36.454Z"
   },
   {
    "duration": 5,
    "start_time": "2023-01-20T09:54:35.615Z"
   },
   {
    "duration": 4,
    "start_time": "2023-01-20T09:54:42.694Z"
   },
   {
    "duration": 5,
    "start_time": "2023-01-20T09:54:55.481Z"
   },
   {
    "duration": 5,
    "start_time": "2023-01-20T09:54:59.685Z"
   },
   {
    "duration": 4,
    "start_time": "2023-01-20T09:55:09.435Z"
   },
   {
    "duration": 131,
    "start_time": "2023-01-20T09:57:24.196Z"
   },
   {
    "duration": 123,
    "start_time": "2023-01-20T09:57:28.706Z"
   },
   {
    "duration": 48,
    "start_time": "2023-01-20T09:58:32.782Z"
   },
   {
    "duration": 130,
    "start_time": "2023-01-20T09:59:05.069Z"
   },
   {
    "duration": 120,
    "start_time": "2023-01-20T09:59:14.249Z"
   },
   {
    "duration": 51,
    "start_time": "2023-01-20T09:59:43.595Z"
   },
   {
    "duration": 130,
    "start_time": "2023-01-20T10:04:17.949Z"
   },
   {
    "duration": 174,
    "start_time": "2023-01-20T10:04:26.133Z"
   },
   {
    "duration": 137,
    "start_time": "2023-01-20T10:04:31.948Z"
   },
   {
    "duration": 135,
    "start_time": "2023-01-20T10:04:38.044Z"
   },
   {
    "duration": 130,
    "start_time": "2023-01-20T10:05:05.428Z"
   },
   {
    "duration": 5,
    "start_time": "2023-01-20T10:08:06.698Z"
   },
   {
    "duration": 3,
    "start_time": "2023-01-20T10:10:40.005Z"
   },
   {
    "duration": 115,
    "start_time": "2023-01-20T10:20:42.997Z"
   },
   {
    "duration": 108,
    "start_time": "2023-01-20T10:21:10.824Z"
   },
   {
    "duration": 234,
    "start_time": "2023-01-20T10:21:31.415Z"
   },
   {
    "duration": 15,
    "start_time": "2023-01-20T10:23:37.884Z"
   },
   {
    "duration": 158,
    "start_time": "2023-01-20T10:24:37.989Z"
   },
   {
    "duration": 495,
    "start_time": "2023-01-20T10:25:47.845Z"
   },
   {
    "duration": 219,
    "start_time": "2023-01-20T10:25:54.411Z"
   },
   {
    "duration": 13,
    "start_time": "2023-01-20T10:36:27.245Z"
   },
   {
    "duration": 10,
    "start_time": "2023-01-20T10:41:04.400Z"
   },
   {
    "duration": 9,
    "start_time": "2023-01-20T10:41:27.412Z"
   },
   {
    "duration": 9,
    "start_time": "2023-01-20T10:41:36.665Z"
   },
   {
    "duration": 9,
    "start_time": "2023-01-20T10:44:11.831Z"
   },
   {
    "duration": 22,
    "start_time": "2023-01-20T10:44:24.830Z"
   },
   {
    "duration": 8,
    "start_time": "2023-01-20T10:44:35.175Z"
   },
   {
    "duration": 21,
    "start_time": "2023-01-20T10:44:36.930Z"
   },
   {
    "duration": 778,
    "start_time": "2023-01-20T10:46:50.387Z"
   },
   {
    "duration": 815,
    "start_time": "2023-01-20T10:47:13.276Z"
   },
   {
    "duration": 15,
    "start_time": "2023-01-20T10:47:22.906Z"
   },
   {
    "duration": 2,
    "start_time": "2023-01-20T10:49:01.253Z"
   },
   {
    "duration": 64,
    "start_time": "2023-01-20T13:38:58.355Z"
   },
   {
    "duration": 1392,
    "start_time": "2023-01-20T13:39:07.490Z"
   },
   {
    "duration": 4,
    "start_time": "2023-01-20T13:39:20.419Z"
   },
   {
    "duration": 66,
    "start_time": "2023-01-20T13:39:22.200Z"
   },
   {
    "duration": 4,
    "start_time": "2023-01-20T13:39:33.572Z"
   },
   {
    "duration": 104,
    "start_time": "2023-01-20T13:39:37.029Z"
   },
   {
    "duration": 60,
    "start_time": "2023-01-20T13:39:46.969Z"
   },
   {
    "duration": 75,
    "start_time": "2023-01-20T13:39:49.806Z"
   },
   {
    "duration": 22,
    "start_time": "2023-01-20T13:39:56.621Z"
   },
   {
    "duration": 6,
    "start_time": "2023-01-20T13:39:59.322Z"
   },
   {
    "duration": 8,
    "start_time": "2023-01-20T13:40:00.021Z"
   },
   {
    "duration": 14,
    "start_time": "2023-01-20T13:40:29.857Z"
   },
   {
    "duration": 11,
    "start_time": "2023-01-20T13:40:41.727Z"
   },
   {
    "duration": 9,
    "start_time": "2023-01-20T13:40:44.018Z"
   },
   {
    "duration": 70,
    "start_time": "2023-01-20T13:42:03.637Z"
   },
   {
    "duration": 8,
    "start_time": "2023-01-20T13:42:13.856Z"
   },
   {
    "duration": 6,
    "start_time": "2023-01-20T13:42:14.796Z"
   },
   {
    "duration": 20,
    "start_time": "2023-01-20T13:42:42.748Z"
   },
   {
    "duration": 13,
    "start_time": "2023-01-20T13:42:44.096Z"
   },
   {
    "duration": 87,
    "start_time": "2023-01-20T13:43:26.967Z"
   },
   {
    "duration": 23,
    "start_time": "2023-01-20T13:43:57.540Z"
   },
   {
    "duration": 13,
    "start_time": "2023-01-20T13:44:07.437Z"
   },
   {
    "duration": 12,
    "start_time": "2023-01-20T13:45:22.518Z"
   },
   {
    "duration": 11,
    "start_time": "2023-01-20T13:45:26.747Z"
   },
   {
    "duration": 11,
    "start_time": "2023-01-20T13:45:34.468Z"
   },
   {
    "duration": 11,
    "start_time": "2023-01-20T13:45:39.437Z"
   },
   {
    "duration": 11,
    "start_time": "2023-01-20T13:49:44.178Z"
   },
   {
    "duration": 10,
    "start_time": "2023-01-20T13:49:59.962Z"
   },
   {
    "duration": 11,
    "start_time": "2023-01-20T13:50:06.568Z"
   },
   {
    "duration": 12,
    "start_time": "2023-01-20T13:50:13.735Z"
   },
   {
    "duration": 13,
    "start_time": "2023-01-20T13:51:43.724Z"
   },
   {
    "duration": 6,
    "start_time": "2023-01-20T13:51:57.588Z"
   },
   {
    "duration": 183,
    "start_time": "2023-01-20T13:51:58.143Z"
   },
   {
    "duration": 134,
    "start_time": "2023-01-20T13:51:58.929Z"
   },
   {
    "duration": 20,
    "start_time": "2023-01-20T13:51:59.622Z"
   },
   {
    "duration": 301,
    "start_time": "2023-01-20T13:52:03.237Z"
   },
   {
    "duration": 225,
    "start_time": "2023-01-20T13:52:40.514Z"
   },
   {
    "duration": 227,
    "start_time": "2023-01-20T13:52:47.954Z"
   },
   {
    "duration": 207,
    "start_time": "2023-01-20T13:53:09.554Z"
   },
   {
    "duration": 213,
    "start_time": "2023-01-20T13:54:00.894Z"
   },
   {
    "duration": 261,
    "start_time": "2023-01-20T13:54:08.265Z"
   },
   {
    "duration": 392,
    "start_time": "2023-01-20T13:54:17.806Z"
   },
   {
    "duration": 355,
    "start_time": "2023-01-20T13:58:22.141Z"
   },
   {
    "duration": 396,
    "start_time": "2023-01-20T13:58:27.450Z"
   },
   {
    "duration": 200,
    "start_time": "2023-01-20T13:59:53.119Z"
   },
   {
    "duration": 199,
    "start_time": "2023-01-20T13:59:57.923Z"
   },
   {
    "duration": 210,
    "start_time": "2023-01-20T14:00:24.647Z"
   },
   {
    "duration": 14,
    "start_time": "2023-01-20T14:02:30.705Z"
   },
   {
    "duration": 411,
    "start_time": "2023-01-20T14:02:40.892Z"
   },
   {
    "duration": 17,
    "start_time": "2023-01-20T14:02:43.812Z"
   },
   {
    "duration": 200,
    "start_time": "2023-01-20T14:02:44.855Z"
   },
   {
    "duration": 140,
    "start_time": "2023-01-20T14:03:26.119Z"
   },
   {
    "duration": 5,
    "start_time": "2023-01-20T14:04:24.277Z"
   },
   {
    "duration": 148,
    "start_time": "2023-01-20T14:04:38.283Z"
   },
   {
    "duration": 145,
    "start_time": "2023-01-20T14:05:23.641Z"
   },
   {
    "duration": 159,
    "start_time": "2023-01-20T14:05:59.289Z"
   },
   {
    "duration": 151,
    "start_time": "2023-01-20T14:06:47.060Z"
   },
   {
    "duration": 181,
    "start_time": "2023-01-20T14:06:56.941Z"
   },
   {
    "duration": 264,
    "start_time": "2023-01-20T14:07:09.172Z"
   },
   {
    "duration": 5,
    "start_time": "2023-01-20T14:07:12.505Z"
   },
   {
    "duration": 261,
    "start_time": "2023-01-20T14:07:25.325Z"
   },
   {
    "duration": 194,
    "start_time": "2023-01-20T14:07:26.220Z"
   },
   {
    "duration": 12,
    "start_time": "2023-01-20T14:08:50.667Z"
   },
   {
    "duration": 11,
    "start_time": "2023-01-20T14:08:56.910Z"
   },
   {
    "duration": 11,
    "start_time": "2023-01-20T14:09:03.612Z"
   },
   {
    "duration": 27,
    "start_time": "2023-01-20T14:09:09.395Z"
   },
   {
    "duration": 16,
    "start_time": "2023-01-20T14:09:15.740Z"
   },
   {
    "duration": 389,
    "start_time": "2023-01-20T15:02:29.464Z"
   },
   {
    "duration": 66,
    "start_time": "2023-01-20T15:02:29.855Z"
   },
   {
    "duration": 17,
    "start_time": "2023-01-20T15:02:29.923Z"
   },
   {
    "duration": 3,
    "start_time": "2023-01-20T15:02:29.942Z"
   },
   {
    "duration": 18,
    "start_time": "2023-01-20T15:02:29.947Z"
   },
   {
    "duration": 15,
    "start_time": "2023-01-20T15:02:29.966Z"
   },
   {
    "duration": 816,
    "start_time": "2023-01-20T15:02:29.982Z"
   },
   {
    "duration": 94,
    "start_time": "2023-01-20T15:02:30.799Z"
   },
   {
    "duration": 76,
    "start_time": "2023-01-20T15:02:30.895Z"
   },
   {
    "duration": 21,
    "start_time": "2023-01-20T15:02:30.973Z"
   },
   {
    "duration": 36,
    "start_time": "2023-01-20T15:02:30.995Z"
   },
   {
    "duration": 28,
    "start_time": "2023-01-20T15:02:31.032Z"
   },
   {
    "duration": 36,
    "start_time": "2023-01-20T15:02:31.062Z"
   },
   {
    "duration": 79,
    "start_time": "2023-01-20T15:02:31.099Z"
   },
   {
    "duration": 21,
    "start_time": "2023-01-20T15:02:31.181Z"
   },
   {
    "duration": 45,
    "start_time": "2023-01-20T15:02:31.204Z"
   },
   {
    "duration": 32,
    "start_time": "2023-01-20T15:02:31.252Z"
   },
   {
    "duration": 29,
    "start_time": "2023-01-20T15:02:31.285Z"
   },
   {
    "duration": 21,
    "start_time": "2023-01-20T15:02:31.317Z"
   },
   {
    "duration": 269,
    "start_time": "2023-01-20T15:02:31.340Z"
   },
   {
    "duration": 120,
    "start_time": "2023-01-20T15:02:31.615Z"
   },
   {
    "duration": 13,
    "start_time": "2023-01-20T15:02:31.737Z"
   },
   {
    "duration": 306,
    "start_time": "2023-01-20T15:02:31.752Z"
   },
   {
    "duration": 212,
    "start_time": "2023-01-20T15:02:32.061Z"
   },
   {
    "duration": 327,
    "start_time": "2023-01-20T15:02:32.275Z"
   },
   {
    "duration": 204,
    "start_time": "2023-01-20T15:02:32.605Z"
   },
   {
    "duration": 322,
    "start_time": "2023-01-20T15:02:32.811Z"
   },
   {
    "duration": 14,
    "start_time": "2023-01-20T15:02:33.136Z"
   },
   {
    "duration": 171,
    "start_time": "2023-01-20T15:02:33.151Z"
   },
   {
    "duration": 143,
    "start_time": "2023-01-20T15:02:33.329Z"
   },
   {
    "duration": 4,
    "start_time": "2023-01-20T15:02:33.474Z"
   },
   {
    "duration": 160,
    "start_time": "2023-01-20T15:02:33.480Z"
   },
   {
    "duration": 220,
    "start_time": "2023-01-20T15:02:33.642Z"
   },
   {
    "duration": 4,
    "start_time": "2023-01-20T15:02:33.864Z"
   },
   {
    "duration": 283,
    "start_time": "2023-01-20T15:02:33.869Z"
   },
   {
    "duration": 215,
    "start_time": "2023-01-20T15:02:34.154Z"
   },
   {
    "duration": 18,
    "start_time": "2023-01-20T15:02:34.371Z"
   },
   {
    "duration": 14,
    "start_time": "2023-01-20T15:02:34.405Z"
   },
   {
    "duration": 33,
    "start_time": "2023-01-20T15:02:34.423Z"
   },
   {
    "duration": 34,
    "start_time": "2023-01-20T15:02:34.458Z"
   },
   {
    "duration": 21,
    "start_time": "2023-01-20T15:02:34.494Z"
   },
   {
    "duration": 45,
    "start_time": "2023-01-25T09:46:43.460Z"
   },
   {
    "duration": 372,
    "start_time": "2023-01-25T09:46:50.490Z"
   },
   {
    "duration": 62,
    "start_time": "2023-01-25T09:46:50.864Z"
   },
   {
    "duration": 14,
    "start_time": "2023-01-25T09:46:51.729Z"
   },
   {
    "duration": 3,
    "start_time": "2023-01-25T09:46:53.032Z"
   },
   {
    "duration": 8,
    "start_time": "2023-01-25T09:47:11.473Z"
   },
   {
    "duration": 8,
    "start_time": "2023-01-25T09:47:36.337Z"
   },
   {
    "duration": 63,
    "start_time": "2023-01-25T09:48:17.281Z"
   },
   {
    "duration": 47,
    "start_time": "2023-01-25T09:48:36.380Z"
   },
   {
    "duration": 50,
    "start_time": "2023-01-25T09:49:05.683Z"
   },
   {
    "duration": 50,
    "start_time": "2023-01-25T09:49:21.705Z"
   },
   {
    "duration": 52,
    "start_time": "2023-01-25T09:50:58.434Z"
   },
   {
    "duration": 4,
    "start_time": "2023-01-25T09:51:07.126Z"
   },
   {
    "duration": 52,
    "start_time": "2023-01-25T09:52:01.154Z"
   },
   {
    "duration": 4,
    "start_time": "2023-01-25T09:52:37.849Z"
   },
   {
    "duration": 13,
    "start_time": "2023-01-25T09:52:39.937Z"
   },
   {
    "duration": 13,
    "start_time": "2023-01-25T09:53:19.673Z"
   },
   {
    "duration": 12,
    "start_time": "2023-01-25T09:53:27.411Z"
   },
   {
    "duration": 14,
    "start_time": "2023-01-25T09:55:37.383Z"
   },
   {
    "duration": 7,
    "start_time": "2023-01-25T09:57:53.426Z"
   },
   {
    "duration": 13,
    "start_time": "2023-01-25T09:57:59.110Z"
   },
   {
    "duration": 5,
    "start_time": "2023-01-25T09:58:11.648Z"
   },
   {
    "duration": 10,
    "start_time": "2023-01-25T09:58:18.334Z"
   },
   {
    "duration": 7,
    "start_time": "2023-01-25T09:58:30.229Z"
   },
   {
    "duration": 10,
    "start_time": "2023-01-25T09:58:36.134Z"
   },
   {
    "duration": 6,
    "start_time": "2023-01-25T09:58:51.762Z"
   },
   {
    "duration": 11,
    "start_time": "2023-01-25T09:58:53.971Z"
   },
   {
    "duration": 49,
    "start_time": "2023-01-25T09:59:10.437Z"
   },
   {
    "duration": 4,
    "start_time": "2023-01-25T10:04:38.108Z"
   },
   {
    "duration": 12,
    "start_time": "2023-01-25T10:04:59.387Z"
   },
   {
    "duration": 10,
    "start_time": "2023-01-25T10:05:03.000Z"
   },
   {
    "duration": 15,
    "start_time": "2023-01-25T10:05:14.253Z"
   },
   {
    "duration": 48,
    "start_time": "2023-01-25T10:05:39.806Z"
   },
   {
    "duration": 21,
    "start_time": "2023-01-25T10:06:08.882Z"
   },
   {
    "duration": 50,
    "start_time": "2023-01-25T10:11:19.053Z"
   },
   {
    "duration": 55,
    "start_time": "2023-01-25T10:11:41.976Z"
   },
   {
    "duration": 2,
    "start_time": "2023-01-25T10:31:20.576Z"
   },
   {
    "duration": 892,
    "start_time": "2023-01-25T10:31:30.644Z"
   },
   {
    "duration": 103,
    "start_time": "2023-01-25T10:32:01.906Z"
   },
   {
    "duration": 76,
    "start_time": "2023-01-25T10:32:03.321Z"
   },
   {
    "duration": 17,
    "start_time": "2023-01-25T10:32:04.659Z"
   },
   {
    "duration": 8,
    "start_time": "2023-01-25T10:32:07.439Z"
   },
   {
    "duration": 9,
    "start_time": "2023-01-25T10:32:09.550Z"
   },
   {
    "duration": 10,
    "start_time": "2023-01-25T10:32:15.244Z"
   },
   {
    "duration": 6,
    "start_time": "2023-01-25T10:32:22.553Z"
   },
   {
    "duration": 6,
    "start_time": "2023-01-25T10:32:23.239Z"
   },
   {
    "duration": 15,
    "start_time": "2023-01-25T10:32:25.583Z"
   },
   {
    "duration": 13,
    "start_time": "2023-01-25T10:32:30.019Z"
   },
   {
    "duration": 10,
    "start_time": "2023-01-25T10:32:37.886Z"
   },
   {
    "duration": 74,
    "start_time": "2023-01-25T10:33:12.384Z"
   },
   {
    "duration": 10,
    "start_time": "2023-01-25T10:35:28.205Z"
   },
   {
    "duration": 9,
    "start_time": "2023-01-25T10:52:31.520Z"
   },
   {
    "duration": 8,
    "start_time": "2023-01-25T10:53:01.054Z"
   },
   {
    "duration": 14,
    "start_time": "2023-01-25T10:53:10.186Z"
   },
   {
    "duration": 11,
    "start_time": "2023-01-25T10:53:23.469Z"
   },
   {
    "duration": 12,
    "start_time": "2023-01-25T10:53:36.483Z"
   },
   {
    "duration": 707,
    "start_time": "2023-01-25T10:57:04.155Z"
   },
   {
    "duration": 16,
    "start_time": "2023-01-25T10:57:18.952Z"
   },
   {
    "duration": 17,
    "start_time": "2023-01-25T10:57:29.060Z"
   },
   {
    "duration": 13,
    "start_time": "2023-01-25T10:57:40.315Z"
   },
   {
    "duration": 14,
    "start_time": "2023-01-25T10:57:45.234Z"
   },
   {
    "duration": 14,
    "start_time": "2023-01-25T10:59:47.055Z"
   },
   {
    "duration": 15,
    "start_time": "2023-01-25T11:00:08.389Z"
   },
   {
    "duration": 11,
    "start_time": "2023-01-25T11:02:16.061Z"
   },
   {
    "duration": 46,
    "start_time": "2023-01-25T11:02:31.053Z"
   },
   {
    "duration": 9,
    "start_time": "2023-01-25T11:05:38.550Z"
   },
   {
    "duration": 9,
    "start_time": "2023-01-25T11:05:42.218Z"
   },
   {
    "duration": 69,
    "start_time": "2023-01-25T11:13:32.320Z"
   },
   {
    "duration": 7,
    "start_time": "2023-01-25T11:13:41.706Z"
   },
   {
    "duration": 174,
    "start_time": "2023-01-25T11:13:42.494Z"
   },
   {
    "duration": 148,
    "start_time": "2023-01-25T11:13:43.724Z"
   },
   {
    "duration": 17,
    "start_time": "2023-01-25T11:13:45.160Z"
   },
   {
    "duration": 270,
    "start_time": "2023-01-25T11:13:49.856Z"
   },
   {
    "duration": 204,
    "start_time": "2023-01-25T11:14:41.510Z"
   },
   {
    "duration": 203,
    "start_time": "2023-01-25T11:14:53.620Z"
   },
   {
    "duration": 8,
    "start_time": "2023-01-25T11:15:12.052Z"
   },
   {
    "duration": 13,
    "start_time": "2023-01-25T11:15:17.541Z"
   },
   {
    "duration": 17,
    "start_time": "2023-01-25T11:15:42.367Z"
   },
   {
    "duration": 5,
    "start_time": "2023-01-25T11:15:56.852Z"
   },
   {
    "duration": 167,
    "start_time": "2023-01-25T11:15:57.283Z"
   },
   {
    "duration": 124,
    "start_time": "2023-01-25T11:15:57.940Z"
   },
   {
    "duration": 15,
    "start_time": "2023-01-25T11:15:58.607Z"
   },
   {
    "duration": 184,
    "start_time": "2023-01-25T11:16:01.794Z"
   },
   {
    "duration": 200,
    "start_time": "2023-01-25T11:16:53.642Z"
   },
   {
    "duration": 410,
    "start_time": "2023-01-25T11:30:45.958Z"
   },
   {
    "duration": 975,
    "start_time": "2023-01-25T11:30:53.483Z"
   },
   {
    "duration": 148,
    "start_time": "2023-01-25T11:30:55.741Z"
   },
   {
    "duration": 93,
    "start_time": "2023-01-25T11:30:57.169Z"
   },
   {
    "duration": 20,
    "start_time": "2023-01-25T11:30:58.772Z"
   },
   {
    "duration": 6,
    "start_time": "2023-01-25T11:30:59.815Z"
   },
   {
    "duration": 6,
    "start_time": "2023-01-25T11:31:00.699Z"
   },
   {
    "duration": 8,
    "start_time": "2023-01-25T11:31:01.708Z"
   },
   {
    "duration": 8,
    "start_time": "2023-01-25T11:31:03.320Z"
   },
   {
    "duration": 5,
    "start_time": "2023-01-25T11:31:04.151Z"
   },
   {
    "duration": 14,
    "start_time": "2023-01-25T11:31:05.867Z"
   },
   {
    "duration": 11,
    "start_time": "2023-01-25T11:31:07.050Z"
   },
   {
    "duration": 10,
    "start_time": "2023-01-25T11:31:08.885Z"
   },
   {
    "duration": 20,
    "start_time": "2023-01-25T11:31:10.731Z"
   },
   {
    "duration": 6,
    "start_time": "2023-01-25T11:31:14.943Z"
   },
   {
    "duration": 190,
    "start_time": "2023-01-25T11:31:15.618Z"
   },
   {
    "duration": 138,
    "start_time": "2023-01-25T11:31:16.599Z"
   },
   {
    "duration": 17,
    "start_time": "2023-01-25T11:31:17.534Z"
   },
   {
    "duration": 281,
    "start_time": "2023-01-25T11:31:19.438Z"
   },
   {
    "duration": 437,
    "start_time": "2023-01-25T11:31:39.845Z"
   },
   {
    "duration": 180,
    "start_time": "2023-01-25T11:32:56.475Z"
   },
   {
    "duration": 186,
    "start_time": "2023-01-25T11:33:38.599Z"
   },
   {
    "duration": 193,
    "start_time": "2023-01-25T11:39:01.885Z"
   },
   {
    "duration": 270,
    "start_time": "2023-01-25T11:39:13.508Z"
   },
   {
    "duration": 341,
    "start_time": "2023-01-25T11:39:39.917Z"
   },
   {
    "duration": 207,
    "start_time": "2023-01-25T11:39:52.455Z"
   },
   {
    "duration": 297,
    "start_time": "2023-01-25T11:42:21.803Z"
   },
   {
    "duration": 362,
    "start_time": "2023-01-25T11:43:27.508Z"
   },
   {
    "duration": 314,
    "start_time": "2023-01-25T11:43:53.136Z"
   },
   {
    "duration": 292,
    "start_time": "2023-01-25T11:47:13.915Z"
   },
   {
    "duration": 232,
    "start_time": "2023-01-25T11:47:18.738Z"
   },
   {
    "duration": 237,
    "start_time": "2023-01-25T11:47:36.903Z"
   },
   {
    "duration": 240,
    "start_time": "2023-01-25T11:47:42.977Z"
   },
   {
    "duration": 394,
    "start_time": "2023-01-25T11:50:41.300Z"
   },
   {
    "duration": 328,
    "start_time": "2023-01-25T11:50:46.961Z"
   },
   {
    "duration": 336,
    "start_time": "2023-01-25T11:50:54.074Z"
   },
   {
    "duration": 304,
    "start_time": "2023-01-25T11:51:01.460Z"
   },
   {
    "duration": 12,
    "start_time": "2023-01-25T11:51:31.635Z"
   },
   {
    "duration": 239,
    "start_time": "2023-01-25T11:51:38.536Z"
   },
   {
    "duration": 158,
    "start_time": "2023-01-25T11:52:47.804Z"
   },
   {
    "duration": 148,
    "start_time": "2023-01-25T11:53:01.442Z"
   },
   {
    "duration": 4,
    "start_time": "2023-01-25T11:53:39.049Z"
   },
   {
    "duration": 135,
    "start_time": "2023-01-25T11:54:05.875Z"
   },
   {
    "duration": 12,
    "start_time": "2023-01-25T12:51:07.288Z"
   },
   {
    "duration": 144,
    "start_time": "2023-01-25T12:53:18.646Z"
   },
   {
    "duration": 153,
    "start_time": "2023-01-25T12:53:57.587Z"
   },
   {
    "duration": 164,
    "start_time": "2023-01-25T12:54:58.979Z"
   },
   {
    "duration": 152,
    "start_time": "2023-01-25T12:56:15.519Z"
   },
   {
    "duration": 187,
    "start_time": "2023-01-25T12:57:20.529Z"
   },
   {
    "duration": 129,
    "start_time": "2023-01-25T12:58:05.584Z"
   },
   {
    "duration": 152,
    "start_time": "2023-01-25T12:58:16.171Z"
   },
   {
    "duration": 69,
    "start_time": "2023-01-25T12:58:39.361Z"
   },
   {
    "duration": 144,
    "start_time": "2023-01-25T12:58:43.382Z"
   },
   {
    "duration": 246,
    "start_time": "2023-01-25T12:58:57.365Z"
   },
   {
    "duration": 156,
    "start_time": "2023-01-25T12:59:16.342Z"
   },
   {
    "duration": 152,
    "start_time": "2023-01-25T12:59:41.969Z"
   },
   {
    "duration": 166,
    "start_time": "2023-01-25T13:00:03.301Z"
   },
   {
    "duration": 91,
    "start_time": "2023-01-25T13:00:30.649Z"
   },
   {
    "duration": 146,
    "start_time": "2023-01-25T13:01:00.348Z"
   },
   {
    "duration": 4,
    "start_time": "2023-01-25T13:01:27.143Z"
   },
   {
    "duration": 284,
    "start_time": "2023-01-25T13:02:31.601Z"
   },
   {
    "duration": 162,
    "start_time": "2023-01-25T13:02:33.223Z"
   },
   {
    "duration": 12,
    "start_time": "2023-01-25T13:04:28.081Z"
   },
   {
    "duration": 4,
    "start_time": "2023-01-25T13:43:14.485Z"
   },
   {
    "duration": 67,
    "start_time": "2023-01-25T13:43:15.622Z"
   },
   {
    "duration": 25,
    "start_time": "2023-01-25T13:43:16.241Z"
   },
   {
    "duration": 22,
    "start_time": "2023-01-25T13:43:16.919Z"
   },
   {
    "duration": 6,
    "start_time": "2023-01-25T13:43:17.762Z"
   },
   {
    "duration": 8,
    "start_time": "2023-01-25T13:43:19.314Z"
   },
   {
    "duration": 13,
    "start_time": "2023-01-25T13:43:25.263Z"
   },
   {
    "duration": 6,
    "start_time": "2023-01-25T13:43:29.401Z"
   },
   {
    "duration": 5,
    "start_time": "2023-01-25T13:43:31.470Z"
   },
   {
    "duration": 17,
    "start_time": "2023-01-25T13:43:32.615Z"
   },
   {
    "duration": 13,
    "start_time": "2023-01-25T13:43:33.336Z"
   },
   {
    "duration": 11,
    "start_time": "2023-01-25T13:43:36.559Z"
   },
   {
    "duration": 17,
    "start_time": "2023-01-25T13:43:38.666Z"
   },
   {
    "duration": 6,
    "start_time": "2023-01-25T13:43:44.201Z"
   },
   {
    "duration": 185,
    "start_time": "2023-01-25T13:43:46.222Z"
   },
   {
    "duration": 127,
    "start_time": "2023-01-25T13:43:47.838Z"
   },
   {
    "duration": 19,
    "start_time": "2023-01-25T13:43:48.920Z"
   },
   {
    "duration": 282,
    "start_time": "2023-01-25T13:43:55.013Z"
   },
   {
    "duration": 232,
    "start_time": "2023-01-25T13:44:18.491Z"
   },
   {
    "duration": 310,
    "start_time": "2023-01-25T13:44:21.052Z"
   },
   {
    "duration": 304,
    "start_time": "2023-01-25T13:44:24.970Z"
   },
   {
    "duration": 394,
    "start_time": "2023-01-25T13:44:27.395Z"
   },
   {
    "duration": 23,
    "start_time": "2023-01-25T13:44:30.116Z"
   },
   {
    "duration": 153,
    "start_time": "2023-01-25T13:44:30.661Z"
   },
   {
    "duration": 170,
    "start_time": "2023-01-25T13:44:32.329Z"
   },
   {
    "duration": 4,
    "start_time": "2023-01-25T13:44:35.974Z"
   },
   {
    "duration": 280,
    "start_time": "2023-01-25T13:44:40.717Z"
   },
   {
    "duration": 155,
    "start_time": "2023-01-25T13:44:42.196Z"
   },
   {
    "duration": 169,
    "start_time": "2023-01-25T13:44:44.776Z"
   },
   {
    "duration": 6,
    "start_time": "2023-01-25T13:44:58.298Z"
   },
   {
    "duration": 265,
    "start_time": "2023-01-25T13:45:16.789Z"
   },
   {
    "duration": 182,
    "start_time": "2023-01-25T13:45:17.292Z"
   },
   {
    "duration": 13,
    "start_time": "2023-01-25T13:45:25.826Z"
   },
   {
    "duration": 11,
    "start_time": "2023-01-25T13:45:32.115Z"
   },
   {
    "duration": 3,
    "start_time": "2023-01-25T13:46:37.584Z"
   },
   {
    "duration": 448,
    "start_time": "2023-03-27T09:49:57.643Z"
   },
   {
    "duration": 99,
    "start_time": "2023-03-27T09:49:58.094Z"
   },
   {
    "duration": 17,
    "start_time": "2023-03-27T09:49:58.196Z"
   },
   {
    "duration": 4,
    "start_time": "2023-03-27T09:49:58.216Z"
   },
   {
    "duration": 19,
    "start_time": "2023-03-27T09:49:58.223Z"
   },
   {
    "duration": 27,
    "start_time": "2023-03-27T09:49:58.244Z"
   },
   {
    "duration": 16,
    "start_time": "2023-03-27T09:49:58.273Z"
   },
   {
    "duration": 1061,
    "start_time": "2023-03-27T09:49:58.291Z"
   },
   {
    "duration": 115,
    "start_time": "2023-03-27T09:49:59.355Z"
   },
   {
    "duration": 86,
    "start_time": "2023-03-27T09:49:59.473Z"
   },
   {
    "duration": 28,
    "start_time": "2023-03-27T09:49:59.561Z"
   },
   {
    "duration": 50,
    "start_time": "2023-03-27T09:49:59.592Z"
   },
   {
    "duration": 23,
    "start_time": "2023-03-27T09:49:59.644Z"
   },
   {
    "duration": 32,
    "start_time": "2023-03-27T09:49:59.670Z"
   },
   {
    "duration": 27,
    "start_time": "2023-03-27T09:49:59.704Z"
   },
   {
    "duration": 18,
    "start_time": "2023-03-27T09:49:59.733Z"
   },
   {
    "duration": 16,
    "start_time": "2023-03-27T09:49:59.753Z"
   },
   {
    "duration": 24,
    "start_time": "2023-03-27T09:49:59.771Z"
   },
   {
    "duration": 16,
    "start_time": "2023-03-27T09:49:59.797Z"
   },
   {
    "duration": 1176,
    "start_time": "2023-03-27T09:49:59.815Z"
   },
   {
    "duration": 0,
    "start_time": "2023-03-27T09:50:00.994Z"
   },
   {
    "duration": 0,
    "start_time": "2023-03-27T09:50:00.995Z"
   },
   {
    "duration": 0,
    "start_time": "2023-03-27T09:50:00.997Z"
   },
   {
    "duration": 0,
    "start_time": "2023-03-27T09:50:00.998Z"
   },
   {
    "duration": 0,
    "start_time": "2023-03-27T09:50:00.999Z"
   },
   {
    "duration": 0,
    "start_time": "2023-03-27T09:50:01.000Z"
   },
   {
    "duration": 0,
    "start_time": "2023-03-27T09:50:01.001Z"
   },
   {
    "duration": 0,
    "start_time": "2023-03-27T09:50:01.002Z"
   },
   {
    "duration": 0,
    "start_time": "2023-03-27T09:50:01.004Z"
   },
   {
    "duration": 0,
    "start_time": "2023-03-27T09:50:01.005Z"
   },
   {
    "duration": 0,
    "start_time": "2023-03-27T09:50:01.007Z"
   },
   {
    "duration": 0,
    "start_time": "2023-03-27T09:50:01.008Z"
   },
   {
    "duration": 0,
    "start_time": "2023-03-27T09:50:01.009Z"
   },
   {
    "duration": 0,
    "start_time": "2023-03-27T09:50:01.010Z"
   },
   {
    "duration": 0,
    "start_time": "2023-03-27T09:50:01.011Z"
   },
   {
    "duration": 0,
    "start_time": "2023-03-27T09:50:01.012Z"
   },
   {
    "duration": 0,
    "start_time": "2023-03-27T09:50:01.013Z"
   },
   {
    "duration": 0,
    "start_time": "2023-03-27T09:50:01.015Z"
   },
   {
    "duration": 0,
    "start_time": "2023-03-27T09:50:01.016Z"
   },
   {
    "duration": 0,
    "start_time": "2023-03-27T09:50:01.017Z"
   },
   {
    "duration": 0,
    "start_time": "2023-03-27T09:50:01.019Z"
   },
   {
    "duration": 0,
    "start_time": "2023-03-27T09:50:01.020Z"
   },
   {
    "duration": 0,
    "start_time": "2023-03-27T09:50:01.021Z"
   },
   {
    "duration": 0,
    "start_time": "2023-03-27T09:50:01.022Z"
   },
   {
    "duration": 0,
    "start_time": "2023-03-27T09:50:01.028Z"
   },
   {
    "duration": 16,
    "start_time": "2023-03-27T09:51:17.859Z"
   },
   {
    "duration": 16,
    "start_time": "2023-03-27T09:51:22.530Z"
   },
   {
    "duration": 16,
    "start_time": "2023-03-27T09:51:38.424Z"
   },
   {
    "duration": 927,
    "start_time": "2023-03-27T09:51:52.318Z"
   },
   {
    "duration": 31,
    "start_time": "2023-03-27T09:52:15.866Z"
   },
   {
    "duration": 889,
    "start_time": "2023-03-27T09:52:26.616Z"
   },
   {
    "duration": 837,
    "start_time": "2023-03-27T09:52:46.048Z"
   },
   {
    "duration": 1367,
    "start_time": "2023-03-28T12:52:50.654Z"
   },
   {
    "duration": 100,
    "start_time": "2023-03-28T12:52:52.024Z"
   },
   {
    "duration": 3,
    "start_time": "2023-03-28T12:53:13.868Z"
   },
   {
    "duration": 110,
    "start_time": "2023-03-28T12:53:14.957Z"
   },
   {
    "duration": 69,
    "start_time": "2023-03-28T12:53:16.834Z"
   },
   {
    "duration": 19,
    "start_time": "2023-03-28T12:53:17.834Z"
   },
   {
    "duration": 6,
    "start_time": "2023-03-28T12:53:18.610Z"
   },
   {
    "duration": 9,
    "start_time": "2023-03-28T12:53:19.036Z"
   },
   {
    "duration": 10,
    "start_time": "2023-03-28T12:53:19.832Z"
   },
   {
    "duration": 6,
    "start_time": "2023-03-28T12:53:20.654Z"
   },
   {
    "duration": 7,
    "start_time": "2023-03-28T12:53:21.020Z"
   },
   {
    "duration": 16,
    "start_time": "2023-03-28T12:53:21.693Z"
   },
   {
    "duration": 14,
    "start_time": "2023-03-28T12:53:22.042Z"
   },
   {
    "duration": 13,
    "start_time": "2023-03-28T12:53:23.053Z"
   },
   {
    "duration": 16,
    "start_time": "2023-03-28T12:53:23.857Z"
   },
   {
    "duration": 20,
    "start_time": "2023-03-28T12:53:24.248Z"
   },
   {
    "duration": 13,
    "start_time": "2023-03-28T12:53:26.042Z"
   },
   {
    "duration": 6,
    "start_time": "2023-03-28T12:53:29.512Z"
   },
   {
    "duration": 172,
    "start_time": "2023-03-28T12:53:29.952Z"
   },
   {
    "duration": 149,
    "start_time": "2023-03-28T12:53:30.434Z"
   },
   {
    "duration": 14,
    "start_time": "2023-03-28T12:53:30.971Z"
   },
   {
    "duration": 316,
    "start_time": "2023-03-28T12:53:32.585Z"
   },
   {
    "duration": 240,
    "start_time": "2023-03-28T12:53:40.135Z"
   },
   {
    "duration": 366,
    "start_time": "2023-03-28T12:53:43.143Z"
   },
   {
    "duration": 238,
    "start_time": "2023-03-28T12:53:47.394Z"
   },
   {
    "duration": 310,
    "start_time": "2023-03-28T12:53:49.590Z"
   },
   {
    "duration": 13,
    "start_time": "2023-03-28T12:53:51.557Z"
   },
   {
    "duration": 160,
    "start_time": "2023-03-28T12:53:52.077Z"
   },
   {
    "duration": 148,
    "start_time": "2023-03-28T12:53:53.629Z"
   },
   {
    "duration": 5,
    "start_time": "2023-03-28T12:54:13.034Z"
   },
   {
    "duration": 141,
    "start_time": "2023-03-28T12:54:14.309Z"
   },
   {
    "duration": 206,
    "start_time": "2023-03-28T12:54:19.086Z"
   },
   {
    "duration": 139,
    "start_time": "2023-03-28T12:54:47.278Z"
   },
   {
    "duration": 127,
    "start_time": "2023-03-28T12:54:48.680Z"
   },
   {
    "duration": 13,
    "start_time": "2023-03-28T14:19:36.710Z"
   },
   {
    "duration": 425,
    "start_time": "2023-04-04T09:41:15.550Z"
   },
   {
    "duration": 65,
    "start_time": "2023-04-04T09:41:15.977Z"
   },
   {
    "duration": 16,
    "start_time": "2023-04-04T09:41:16.044Z"
   },
   {
    "duration": 3,
    "start_time": "2023-04-04T09:41:16.063Z"
   },
   {
    "duration": 10,
    "start_time": "2023-04-04T09:41:16.068Z"
   },
   {
    "duration": 19,
    "start_time": "2023-04-04T09:41:16.079Z"
   },
   {
    "duration": 26,
    "start_time": "2023-04-04T09:41:16.099Z"
   },
   {
    "duration": 760,
    "start_time": "2023-04-04T09:41:16.140Z"
   },
   {
    "duration": 87,
    "start_time": "2023-04-04T09:41:16.902Z"
   },
   {
    "duration": 74,
    "start_time": "2023-04-04T09:41:16.993Z"
   },
   {
    "duration": 18,
    "start_time": "2023-04-04T09:41:17.068Z"
   },
   {
    "duration": 15,
    "start_time": "2023-04-04T09:41:17.088Z"
   },
   {
    "duration": 18,
    "start_time": "2023-04-04T09:41:17.105Z"
   },
   {
    "duration": 12,
    "start_time": "2023-04-04T09:41:17.125Z"
   },
   {
    "duration": 6,
    "start_time": "2023-04-04T09:41:17.138Z"
   },
   {
    "duration": 10,
    "start_time": "2023-04-04T09:41:17.146Z"
   },
   {
    "duration": 16,
    "start_time": "2023-04-04T09:41:17.157Z"
   },
   {
    "duration": 19,
    "start_time": "2023-04-04T09:41:17.175Z"
   },
   {
    "duration": 14,
    "start_time": "2023-04-04T09:41:17.195Z"
   },
   {
    "duration": 23,
    "start_time": "2023-04-04T09:41:17.211Z"
   },
   {
    "duration": 21,
    "start_time": "2023-04-04T09:41:17.236Z"
   },
   {
    "duration": 12,
    "start_time": "2023-04-04T09:41:17.259Z"
   },
   {
    "duration": 6,
    "start_time": "2023-04-04T09:41:17.272Z"
   },
   {
    "duration": 210,
    "start_time": "2023-04-04T09:41:17.280Z"
   },
   {
    "duration": 138,
    "start_time": "2023-04-04T09:41:17.492Z"
   },
   {
    "duration": 21,
    "start_time": "2023-04-04T09:41:17.631Z"
   },
   {
    "duration": 299,
    "start_time": "2023-04-04T09:41:17.653Z"
   },
   {
    "duration": 227,
    "start_time": "2023-04-04T09:41:17.955Z"
   },
   {
    "duration": 295,
    "start_time": "2023-04-04T09:41:18.184Z"
   },
   {
    "duration": 248,
    "start_time": "2023-04-04T09:41:18.481Z"
   },
   {
    "duration": 394,
    "start_time": "2023-04-04T09:41:18.732Z"
   },
   {
    "duration": 20,
    "start_time": "2023-04-04T09:41:19.128Z"
   },
   {
    "duration": 159,
    "start_time": "2023-04-04T09:41:19.151Z"
   },
   {
    "duration": 156,
    "start_time": "2023-04-04T09:41:19.312Z"
   },
   {
    "duration": 4,
    "start_time": "2023-04-04T09:41:19.470Z"
   },
   {
    "duration": 155,
    "start_time": "2023-04-04T09:41:19.476Z"
   },
   {
    "duration": 17,
    "start_time": "2023-04-04T09:41:19.633Z"
   },
   {
    "duration": 230,
    "start_time": "2023-04-04T09:41:19.651Z"
   },
   {
    "duration": 136,
    "start_time": "2023-04-04T09:41:19.882Z"
   },
   {
    "duration": 4,
    "start_time": "2023-04-04T09:41:20.020Z"
   },
   {
    "duration": 231,
    "start_time": "2023-04-04T09:41:20.026Z"
   },
   {
    "duration": 161,
    "start_time": "2023-04-04T09:41:20.259Z"
   },
   {
    "duration": 24,
    "start_time": "2023-04-04T09:41:20.422Z"
   },
   {
    "duration": 5,
    "start_time": "2023-04-04T09:41:20.448Z"
   },
   {
    "duration": 16,
    "start_time": "2023-04-04T09:41:20.455Z"
   },
   {
    "duration": 11,
    "start_time": "2023-04-04T09:41:20.473Z"
   },
   {
    "duration": 69,
    "start_time": "2023-04-04T09:41:20.485Z"
   },
   {
    "duration": 15,
    "start_time": "2023-04-04T09:41:20.556Z"
   }
  ],
  "kernelspec": {
   "display_name": "Python 3 (ipykernel)",
   "language": "python",
   "name": "python3"
  },
  "language_info": {
   "codemirror_mode": {
    "name": "ipython",
    "version": 3
   },
   "file_extension": ".py",
   "mimetype": "text/x-python",
   "name": "python",
   "nbconvert_exporter": "python",
   "pygments_lexer": "ipython3",
   "version": "3.9.5"
  },
  "toc": {
   "base_numbering": 1,
   "nav_menu": {},
   "number_sections": true,
   "sideBar": true,
   "skip_h1_title": true,
   "title_cell": "Table of Contents",
   "title_sidebar": "Contents",
   "toc_cell": false,
   "toc_position": {},
   "toc_section_display": true,
   "toc_window_display": true
  }
 },
 "nbformat": 4,
 "nbformat_minor": 2
}
