{
 "cells": [
  {
   "cell_type": "markdown",
   "metadata": {},
   "source": [
    "# ***Исследование продаж игр за 2016 год***"
   ]
  },
  {
   "cell_type": "markdown",
   "metadata": {},
   "source": [
    "**Описание проекта:** По данным интернет-магазина, который продаёт по всему миру компьютерные игры, провести анализ данных. Из открытых источников доступны исторические данные о продажах игр, оценки пользователей и экспертов, жанры и платформы (например, Xbox или PlayStation)."
   ]
  },
  {
   "cell_type": "markdown",
   "metadata": {},
   "source": [
    "**Цель проекта:** Выявить определяющие успешность игры закономерности. "
   ]
  },
  {
   "cell_type": "markdown",
   "metadata": {},
   "source": [
    "**Описание данных:**\n",
    "- Name — название игры\n",
    "- Platform — платформа\n",
    "- Year_of_Release — год выпуска\n",
    "- Genre — жанр игры\n",
    "- NA_sales — продажи в Северной Америке (миллионы проданных копий)\n",
    "- EU_sales — продажи в Европе (миллионы проданных копий)\n",
    "- JP_sales — продажи в Японии (миллионы проданных копий)\n",
    "- Other_sales — продажи в других странах (миллионы проданных копий)\n",
    "- Critic_Score — оценка критиков (максимум 100)\n",
    "- User_Score — оценка пользователей (максимум 10)\n",
    "- Rating — рейтинг от организации ESRB (англ. Entertainment Software Rating Board). Эта ассоциация определяет рейтинг компьютерных игр и присваивает им подходящую возрастную категорию."
   ]
  },
  {
   "cell_type": "markdown",
   "metadata": {},
   "source": [
    "**Ход проекта**  \n",
    "1. Нам нужно: подготовить данные (замените названия столбцов, преобразать данные в нужные типы, обработать пропуски при необходимости, посчитать суммарные продажи во всех регионах и записать их в отдельный столбец);\n",
    "2. Провести исследовательский анализ данных;\n",
    "3. Составить портрет пользователя каждого региона;\n",
    "4. Проверить гипотезы и пояснить: как мы сформулировали нулевую и альтернативную гипотезы, какой критерий применили для проверки гипотез;\n",
    "5. Написать общий вывод;"
   ]
  },
  {
   "cell_type": "markdown",
   "metadata": {},
   "source": [
    "## Импорт библиотеки и знакомство с данными"
   ]
  },
  {
   "cell_type": "code",
   "execution_count": 1,
   "metadata": {},
   "outputs": [],
   "source": [
    "import pandas as pd\n",
    "import matplotlib.pyplot as plt\n",
    "import numpy as np\n",
    "from scipy import stats as st"
   ]
  },
  {
   "cell_type": "code",
   "execution_count": 2,
   "metadata": {},
   "outputs": [],
   "source": [
    "df = pd.read_csv('/datasets/games.csv')"
   ]
  },
  {
   "cell_type": "code",
   "execution_count": 3,
   "metadata": {},
   "outputs": [
    {
     "name": "stdout",
     "output_type": "stream",
     "text": [
      "<class 'pandas.core.frame.DataFrame'>\n",
      "RangeIndex: 16715 entries, 0 to 16714\n",
      "Data columns (total 11 columns):\n",
      " #   Column           Non-Null Count  Dtype  \n",
      "---  ------           --------------  -----  \n",
      " 0   Name             16713 non-null  object \n",
      " 1   Platform         16715 non-null  object \n",
      " 2   Year_of_Release  16446 non-null  float64\n",
      " 3   Genre            16713 non-null  object \n",
      " 4   NA_sales         16715 non-null  float64\n",
      " 5   EU_sales         16715 non-null  float64\n",
      " 6   JP_sales         16715 non-null  float64\n",
      " 7   Other_sales      16715 non-null  float64\n",
      " 8   Critic_Score     8137 non-null   float64\n",
      " 9   User_Score       10014 non-null  object \n",
      " 10  Rating           9949 non-null   object \n",
      "dtypes: float64(6), object(5)\n",
      "memory usage: 1.4+ MB\n"
     ]
    }
   ],
   "source": [
    "df.info() #изучим данные и посмотрим сколько строк имеют пропуск"
   ]
  },
  {
   "cell_type": "markdown",
   "metadata": {},
   "source": [
    "## Подготовка данных"
   ]
  },
  {
   "cell_type": "markdown",
   "metadata": {},
   "source": [
    "### Приведем названия столбцов к нижнему регистру"
   ]
  },
  {
   "cell_type": "code",
   "execution_count": 4,
   "metadata": {},
   "outputs": [],
   "source": [
    "df.columns = df.columns.str.lower() "
   ]
  },
  {
   "cell_type": "code",
   "execution_count": 5,
   "metadata": {},
   "outputs": [
    {
     "data": {
      "text/html": [
       "<div>\n",
       "<style scoped>\n",
       "    .dataframe tbody tr th:only-of-type {\n",
       "        vertical-align: middle;\n",
       "    }\n",
       "\n",
       "    .dataframe tbody tr th {\n",
       "        vertical-align: top;\n",
       "    }\n",
       "\n",
       "    .dataframe thead th {\n",
       "        text-align: right;\n",
       "    }\n",
       "</style>\n",
       "<table border=\"1\" class=\"dataframe\">\n",
       "  <thead>\n",
       "    <tr style=\"text-align: right;\">\n",
       "      <th></th>\n",
       "      <th>name</th>\n",
       "      <th>platform</th>\n",
       "      <th>year_of_release</th>\n",
       "      <th>genre</th>\n",
       "      <th>na_sales</th>\n",
       "      <th>eu_sales</th>\n",
       "      <th>jp_sales</th>\n",
       "      <th>other_sales</th>\n",
       "      <th>critic_score</th>\n",
       "      <th>user_score</th>\n",
       "      <th>rating</th>\n",
       "    </tr>\n",
       "  </thead>\n",
       "  <tbody>\n",
       "    <tr>\n",
       "      <th>0</th>\n",
       "      <td>Wii Sports</td>\n",
       "      <td>Wii</td>\n",
       "      <td>2006.0</td>\n",
       "      <td>Sports</td>\n",
       "      <td>41.36</td>\n",
       "      <td>28.96</td>\n",
       "      <td>3.77</td>\n",
       "      <td>8.45</td>\n",
       "      <td>76.0</td>\n",
       "      <td>8</td>\n",
       "      <td>E</td>\n",
       "    </tr>\n",
       "    <tr>\n",
       "      <th>1</th>\n",
       "      <td>Super Mario Bros.</td>\n",
       "      <td>NES</td>\n",
       "      <td>1985.0</td>\n",
       "      <td>Platform</td>\n",
       "      <td>29.08</td>\n",
       "      <td>3.58</td>\n",
       "      <td>6.81</td>\n",
       "      <td>0.77</td>\n",
       "      <td>NaN</td>\n",
       "      <td>NaN</td>\n",
       "      <td>NaN</td>\n",
       "    </tr>\n",
       "    <tr>\n",
       "      <th>2</th>\n",
       "      <td>Mario Kart Wii</td>\n",
       "      <td>Wii</td>\n",
       "      <td>2008.0</td>\n",
       "      <td>Racing</td>\n",
       "      <td>15.68</td>\n",
       "      <td>12.76</td>\n",
       "      <td>3.79</td>\n",
       "      <td>3.29</td>\n",
       "      <td>82.0</td>\n",
       "      <td>8.3</td>\n",
       "      <td>E</td>\n",
       "    </tr>\n",
       "    <tr>\n",
       "      <th>3</th>\n",
       "      <td>Wii Sports Resort</td>\n",
       "      <td>Wii</td>\n",
       "      <td>2009.0</td>\n",
       "      <td>Sports</td>\n",
       "      <td>15.61</td>\n",
       "      <td>10.93</td>\n",
       "      <td>3.28</td>\n",
       "      <td>2.95</td>\n",
       "      <td>80.0</td>\n",
       "      <td>8</td>\n",
       "      <td>E</td>\n",
       "    </tr>\n",
       "    <tr>\n",
       "      <th>4</th>\n",
       "      <td>Pokemon Red/Pokemon Blue</td>\n",
       "      <td>GB</td>\n",
       "      <td>1996.0</td>\n",
       "      <td>Role-Playing</td>\n",
       "      <td>11.27</td>\n",
       "      <td>8.89</td>\n",
       "      <td>10.22</td>\n",
       "      <td>1.00</td>\n",
       "      <td>NaN</td>\n",
       "      <td>NaN</td>\n",
       "      <td>NaN</td>\n",
       "    </tr>\n",
       "  </tbody>\n",
       "</table>\n",
       "</div>"
      ],
      "text/plain": [
       "                       name platform  year_of_release         genre  na_sales  \\\n",
       "0                Wii Sports      Wii           2006.0        Sports     41.36   \n",
       "1         Super Mario Bros.      NES           1985.0      Platform     29.08   \n",
       "2            Mario Kart Wii      Wii           2008.0        Racing     15.68   \n",
       "3         Wii Sports Resort      Wii           2009.0        Sports     15.61   \n",
       "4  Pokemon Red/Pokemon Blue       GB           1996.0  Role-Playing     11.27   \n",
       "\n",
       "   eu_sales  jp_sales  other_sales  critic_score user_score rating  \n",
       "0     28.96      3.77         8.45          76.0          8      E  \n",
       "1      3.58      6.81         0.77           NaN        NaN    NaN  \n",
       "2     12.76      3.79         3.29          82.0        8.3      E  \n",
       "3     10.93      3.28         2.95          80.0          8      E  \n",
       "4      8.89     10.22         1.00           NaN        NaN    NaN  "
      ]
     },
     "execution_count": 5,
     "metadata": {},
     "output_type": "execute_result"
    }
   ],
   "source": [
    "df.head() #названия строк приведены к нижнему регистру"
   ]
  },
  {
   "cell_type": "markdown",
   "metadata": {},
   "source": [
    "### Перобразование типов данных"
   ]
  },
  {
   "cell_type": "markdown",
   "metadata": {},
   "source": [
    "#### Начнем с года выпуска игр"
   ]
  },
  {
   "cell_type": "code",
   "execution_count": 6,
   "metadata": {},
   "outputs": [
    {
     "data": {
      "text/plain": [
       "name                  2\n",
       "platform              0\n",
       "year_of_release     269\n",
       "genre                 2\n",
       "na_sales              0\n",
       "eu_sales              0\n",
       "jp_sales              0\n",
       "other_sales           0\n",
       "critic_score       8578\n",
       "user_score         6701\n",
       "rating             6766\n",
       "dtype: int64"
      ]
     },
     "execution_count": 6,
     "metadata": {},
     "output_type": "execute_result"
    }
   ],
   "source": [
    "df.isna().sum()"
   ]
  },
  {
   "cell_type": "code",
   "execution_count": 7,
   "metadata": {},
   "outputs": [
    {
     "data": {
      "text/html": [
       "<style  type=\"text/css\" >\n",
       "#T_be7bf_row0_col0,#T_be7bf_row1_col0,#T_be7bf_row3_col0,#T_be7bf_row4_col0,#T_be7bf_row5_col0,#T_be7bf_row6_col0,#T_be7bf_row7_col0{\n",
       "            background-color:  #3b4cc0;\n",
       "            color:  #f1f1f1;\n",
       "        }#T_be7bf_row2_col0{\n",
       "            background-color:  #4358cb;\n",
       "            color:  #f1f1f1;\n",
       "        }#T_be7bf_row8_col0{\n",
       "            background-color:  #b40426;\n",
       "            color:  #f1f1f1;\n",
       "        }#T_be7bf_row9_col0{\n",
       "            background-color:  #f08b6e;\n",
       "            color:  #000000;\n",
       "        }#T_be7bf_row10_col0{\n",
       "            background-color:  #ef886b;\n",
       "            color:  #000000;\n",
       "        }</style><table id=\"T_be7bf_\" ><thead>    <tr>        <th class=\"blank level0\" ></th>        <th class=\"col_heading level0 col0\" >0</th>    </tr></thead><tbody>\n",
       "                <tr>\n",
       "                        <th id=\"T_be7bf_level0_row0\" class=\"row_heading level0 row0\" >name</th>\n",
       "                        <td id=\"T_be7bf_row0_col0\" class=\"data row0 col0\" >0.000000</td>\n",
       "            </tr>\n",
       "            <tr>\n",
       "                        <th id=\"T_be7bf_level0_row1\" class=\"row_heading level0 row1\" >platform</th>\n",
       "                        <td id=\"T_be7bf_row1_col0\" class=\"data row1 col0\" >0.000000</td>\n",
       "            </tr>\n",
       "            <tr>\n",
       "                        <th id=\"T_be7bf_level0_row2\" class=\"row_heading level0 row2\" >year_of_release</th>\n",
       "                        <td id=\"T_be7bf_row2_col0\" class=\"data row2 col0\" >1.600000</td>\n",
       "            </tr>\n",
       "            <tr>\n",
       "                        <th id=\"T_be7bf_level0_row3\" class=\"row_heading level0 row3\" >genre</th>\n",
       "                        <td id=\"T_be7bf_row3_col0\" class=\"data row3 col0\" >0.000000</td>\n",
       "            </tr>\n",
       "            <tr>\n",
       "                        <th id=\"T_be7bf_level0_row4\" class=\"row_heading level0 row4\" >na_sales</th>\n",
       "                        <td id=\"T_be7bf_row4_col0\" class=\"data row4 col0\" >0.000000</td>\n",
       "            </tr>\n",
       "            <tr>\n",
       "                        <th id=\"T_be7bf_level0_row5\" class=\"row_heading level0 row5\" >eu_sales</th>\n",
       "                        <td id=\"T_be7bf_row5_col0\" class=\"data row5 col0\" >0.000000</td>\n",
       "            </tr>\n",
       "            <tr>\n",
       "                        <th id=\"T_be7bf_level0_row6\" class=\"row_heading level0 row6\" >jp_sales</th>\n",
       "                        <td id=\"T_be7bf_row6_col0\" class=\"data row6 col0\" >0.000000</td>\n",
       "            </tr>\n",
       "            <tr>\n",
       "                        <th id=\"T_be7bf_level0_row7\" class=\"row_heading level0 row7\" >other_sales</th>\n",
       "                        <td id=\"T_be7bf_row7_col0\" class=\"data row7 col0\" >0.000000</td>\n",
       "            </tr>\n",
       "            <tr>\n",
       "                        <th id=\"T_be7bf_level0_row8\" class=\"row_heading level0 row8\" >critic_score</th>\n",
       "                        <td id=\"T_be7bf_row8_col0\" class=\"data row8 col0\" >51.300000</td>\n",
       "            </tr>\n",
       "            <tr>\n",
       "                        <th id=\"T_be7bf_level0_row9\" class=\"row_heading level0 row9\" >user_score</th>\n",
       "                        <td id=\"T_be7bf_row9_col0\" class=\"data row9 col0\" >40.100000</td>\n",
       "            </tr>\n",
       "            <tr>\n",
       "                        <th id=\"T_be7bf_level0_row10\" class=\"row_heading level0 row10\" >rating</th>\n",
       "                        <td id=\"T_be7bf_row10_col0\" class=\"data row10 col0\" >40.500000</td>\n",
       "            </tr>\n",
       "    </tbody></table>"
      ],
      "text/plain": [
       "<pandas.io.formats.style.Styler at 0x7f75211ae310>"
      ]
     },
     "execution_count": 7,
     "metadata": {},
     "output_type": "execute_result"
    }
   ],
   "source": [
    "pd.DataFrame(round(df.isna().mean()*100,1)).style.background_gradient('coolwarm')"
   ]
  },
  {
   "cell_type": "code",
   "execution_count": 8,
   "metadata": {},
   "outputs": [
    {
     "data": {
      "text/plain": [
       "array([2006., 1985., 2008., 2009., 1996., 1989., 1984., 2005., 1999.,\n",
       "       2007., 2010., 2013., 2004., 1990., 1988., 2002., 2001., 2011.,\n",
       "       1998., 2015., 2012., 2014., 1992., 1997., 1993., 1994., 1982.,\n",
       "       2016., 2003., 1986., 2000.,   nan, 1995., 1991., 1981., 1987.,\n",
       "       1980., 1983.])"
      ]
     },
     "execution_count": 8,
     "metadata": {},
     "output_type": "execute_result"
    }
   ],
   "source": [
    "df['year_of_release'].unique() #на этом столбце годы выпуска игр, меняем на int"
   ]
  },
  {
   "cell_type": "code",
   "execution_count": 9,
   "metadata": {},
   "outputs": [],
   "source": [
    "df = df.dropna(subset = ['year_of_release'])"
   ]
  },
  {
   "cell_type": "code",
   "execution_count": 10,
   "metadata": {},
   "outputs": [],
   "source": [
    "df['year_of_release'] = df['year_of_release'].astype(int)"
   ]
  },
  {
   "cell_type": "code",
   "execution_count": 11,
   "metadata": {},
   "outputs": [
    {
     "data": {
      "text/plain": [
       "array([2006, 1985, 2008, 2009, 1996, 1989, 1984, 2005, 1999, 2007, 2010,\n",
       "       2013, 2004, 1990, 1988, 2002, 2001, 2011, 1998, 2015, 2012, 2014,\n",
       "       1992, 1997, 1993, 1994, 1982, 2016, 2003, 1986, 2000, 1995, 1991,\n",
       "       1981, 1987, 1980, 1983])"
      ]
     },
     "execution_count": 11,
     "metadata": {},
     "output_type": "execute_result"
    }
   ],
   "source": [
    "df['year_of_release'].unique()"
   ]
  },
  {
   "cell_type": "markdown",
   "metadata": {},
   "source": [
    "#### Оценка критиков"
   ]
  },
  {
   "cell_type": "code",
   "execution_count": 12,
   "metadata": {},
   "outputs": [
    {
     "data": {
      "text/plain": [
       "array([76., nan, 82., 80., 89., 58., 87., 91., 61., 97., 95., 77., 88.,\n",
       "       83., 94., 93., 85., 86., 98., 96., 90., 84., 73., 74., 78., 92.,\n",
       "       71., 72., 68., 62., 49., 67., 81., 66., 56., 79., 70., 59., 64.,\n",
       "       75., 60., 63., 69., 50., 25., 42., 44., 55., 48., 57., 29., 47.,\n",
       "       65., 54., 20., 53., 37., 38., 33., 52., 30., 32., 43., 45., 51.,\n",
       "       40., 46., 39., 34., 41., 36., 31., 27., 35., 26., 19., 28., 23.,\n",
       "       24., 21., 17., 13.])"
      ]
     },
     "execution_count": 12,
     "metadata": {},
     "output_type": "execute_result"
    }
   ],
   "source": [
    "df['critic_score'].unique() #оценки критиков целые, поэтому меняем на тип int"
   ]
  },
  {
   "cell_type": "code",
   "execution_count": 13,
   "metadata": {},
   "outputs": [],
   "source": [
    "df['critic_score'] = df['critic_score'].astype('float')"
   ]
  },
  {
   "cell_type": "code",
   "execution_count": 14,
   "metadata": {},
   "outputs": [
    {
     "data": {
      "text/plain": [
       "array([76., nan, 82., 80., 89., 58., 87., 91., 61., 97., 95., 77., 88.,\n",
       "       83., 94., 93., 85., 86., 98., 96., 90., 84., 73., 74., 78., 92.,\n",
       "       71., 72., 68., 62., 49., 67., 81., 66., 56., 79., 70., 59., 64.,\n",
       "       75., 60., 63., 69., 50., 25., 42., 44., 55., 48., 57., 29., 47.,\n",
       "       65., 54., 20., 53., 37., 38., 33., 52., 30., 32., 43., 45., 51.,\n",
       "       40., 46., 39., 34., 41., 36., 31., 27., 35., 26., 19., 28., 23.,\n",
       "       24., 21., 17., 13.])"
      ]
     },
     "execution_count": 14,
     "metadata": {},
     "output_type": "execute_result"
    }
   ],
   "source": [
    "df['critic_score'].unique()"
   ]
  },
  {
   "cell_type": "markdown",
   "metadata": {},
   "source": [
    "#### Оценка игроков "
   ]
  },
  {
   "cell_type": "markdown",
   "metadata": {},
   "source": [
    "Оценка игроков записан как тип данных object и нужно поменять на float"
   ]
  },
  {
   "cell_type": "code",
   "execution_count": 15,
   "metadata": {},
   "outputs": [
    {
     "data": {
      "text/plain": [
       "array(['8', nan, '8.3', '8.5', '6.6', '8.4', '8.6', '7.7', '6.3', '7.4',\n",
       "       '8.2', '9', '7.9', '8.1', '8.7', '7.1', '3.4', '5.3', '4.8', '3.2',\n",
       "       '8.9', '6.4', '7.8', '7.5', '2.6', '7.2', '9.2', '7', '7.3', '4.3',\n",
       "       '7.6', '5.7', '5', '9.1', '6.5', 'tbd', '8.8', '6.9', '9.4', '6.8',\n",
       "       '6.1', '6.7', '5.4', '4', '4.9', '4.5', '9.3', '6.2', '4.2', '6',\n",
       "       '3.7', '4.1', '5.8', '5.6', '5.5', '4.4', '4.6', '5.9', '3.9',\n",
       "       '3.1', '2.9', '5.2', '3.3', '4.7', '5.1', '3.5', '2.5', '1.9', '3',\n",
       "       '2.7', '2.2', '2', '9.5', '2.1', '3.6', '2.8', '1.8', '3.8', '0',\n",
       "       '1.6', '9.6', '2.4', '1.7', '1.1', '0.3', '1.5', '0.7', '1.2',\n",
       "       '2.3', '0.5', '1.3', '0.2', '0.6', '1.4', '0.9', '1', '9.7'],\n",
       "      dtype=object)"
      ]
     },
     "execution_count": 15,
     "metadata": {},
     "output_type": "execute_result"
    }
   ],
   "source": [
    "df['user_score'].unique() "
   ]
  },
  {
   "cell_type": "markdown",
   "metadata": {},
   "source": [
    "В данных так же присутсивует значение tbd и если судить по источникам, так обозначаются игры, что должны выйти в ближайшее время "
   ]
  },
  {
   "cell_type": "code",
   "execution_count": 16,
   "metadata": {},
   "outputs": [
    {
     "data": {
      "text/plain": [
       "19"
      ]
     },
     "execution_count": 16,
     "metadata": {},
     "output_type": "execute_result"
    }
   ],
   "source": [
    "len(df[df['user_score'] == 'tbd']['year_of_release'].unique())\n",
    "     "
   ]
  },
  {
   "cell_type": "code",
   "execution_count": 17,
   "metadata": {},
   "outputs": [
    {
     "data": {
      "image/png": "[encoded data removed]",
      "text/plain": [
       "<Figure size 432x288 with 1 Axes>"
      ]
     },
     "metadata": {
      "needs_background": "light"
     },
     "output_type": "display_data"
    }
   ],
   "source": [
    "df[df['user_score'] == 'tbd']['year_of_release'].value_counts().sort_index().plot(kind='bar');\n",
    "plt.title('Количество игр по годам')\n",
    "plt.xlabel('Год')\n",
    "plt.ylabel('Количество игр');"
   ]
  },
  {
   "cell_type": "markdown",
   "metadata": {},
   "source": [
    "По графику видно, что значение tbd присутствует с 1997 года. Можно сделать вывод что игра так и не вышла. "
   ]
  },
  {
   "cell_type": "code",
   "execution_count": 18,
   "metadata": {},
   "outputs": [],
   "source": [
    "def user_score_tbd(user):\n",
    "    if user == 'tbd':\n",
    "        return np.nan\n",
    "    return user"
   ]
  },
  {
   "cell_type": "code",
   "execution_count": 19,
   "metadata": {
    "scrolled": true
   },
   "outputs": [],
   "source": [
    "df['user_score'] = df['user_score'].apply(user_score_tbd)"
   ]
  },
  {
   "cell_type": "code",
   "execution_count": 20,
   "metadata": {},
   "outputs": [
    {
     "data": {
      "text/plain": [
       "array(['8', nan, '8.3', '8.5', '6.6', '8.4', '8.6', '7.7', '6.3', '7.4',\n",
       "       '8.2', '9', '7.9', '8.1', '8.7', '7.1', '3.4', '5.3', '4.8', '3.2',\n",
       "       '8.9', '6.4', '7.8', '7.5', '2.6', '7.2', '9.2', '7', '7.3', '4.3',\n",
       "       '7.6', '5.7', '5', '9.1', '6.5', '8.8', '6.9', '9.4', '6.8', '6.1',\n",
       "       '6.7', '5.4', '4', '4.9', '4.5', '9.3', '6.2', '4.2', '6', '3.7',\n",
       "       '4.1', '5.8', '5.6', '5.5', '4.4', '4.6', '5.9', '3.9', '3.1',\n",
       "       '2.9', '5.2', '3.3', '4.7', '5.1', '3.5', '2.5', '1.9', '3', '2.7',\n",
       "       '2.2', '2', '9.5', '2.1', '3.6', '2.8', '1.8', '3.8', '0', '1.6',\n",
       "       '9.6', '2.4', '1.7', '1.1', '0.3', '1.5', '0.7', '1.2', '2.3',\n",
       "       '0.5', '1.3', '0.2', '0.6', '1.4', '0.9', '1', '9.7'], dtype=object)"
      ]
     },
     "execution_count": 20,
     "metadata": {},
     "output_type": "execute_result"
    }
   ],
   "source": [
    "df['user_score'].unique()"
   ]
  },
  {
   "cell_type": "code",
   "execution_count": 21,
   "metadata": {},
   "outputs": [],
   "source": [
    "df['user_score'] = df['user_score'].astype('float')\n"
   ]
  },
  {
   "cell_type": "markdown",
   "metadata": {},
   "source": [
    "Заменили значения tdb на значение nan"
   ]
  },
  {
   "cell_type": "code",
   "execution_count": 22,
   "metadata": {
    "scrolled": true
   },
   "outputs": [
    {
     "name": "stdout",
     "output_type": "stream",
     "text": [
      "<class 'pandas.core.frame.DataFrame'>\n",
      "Int64Index: 16446 entries, 0 to 16714\n",
      "Data columns (total 11 columns):\n",
      " #   Column           Non-Null Count  Dtype  \n",
      "---  ------           --------------  -----  \n",
      " 0   name             16444 non-null  object \n",
      " 1   platform         16446 non-null  object \n",
      " 2   year_of_release  16446 non-null  int64  \n",
      " 3   genre            16444 non-null  object \n",
      " 4   na_sales         16446 non-null  float64\n",
      " 5   eu_sales         16446 non-null  float64\n",
      " 6   jp_sales         16446 non-null  float64\n",
      " 7   other_sales      16446 non-null  float64\n",
      " 8   critic_score     7983 non-null   float64\n",
      " 9   user_score       7463 non-null   float64\n",
      " 10  rating           9768 non-null   object \n",
      "dtypes: float64(6), int64(1), object(4)\n",
      "memory usage: 1.5+ MB\n"
     ]
    }
   ],
   "source": [
    "df.info()"
   ]
  },
  {
   "cell_type": "markdown",
   "metadata": {},
   "source": [
    "**Вывод:** в столбцах year_of_release  поменяли типа данных на int, user_score поменяли тип данных на float, а значения fbd yf nan. В столбце critic_score тип на int"
   ]
  },
  {
   "cell_type": "markdown",
   "metadata": {},
   "source": [
    "### Работа с пропусками "
   ]
  },
  {
   "cell_type": "code",
   "execution_count": 23,
   "metadata": {},
   "outputs": [
    {
     "data": {
      "text/plain": [
       "name                  2\n",
       "platform              0\n",
       "year_of_release       0\n",
       "genre                 2\n",
       "na_sales              0\n",
       "eu_sales              0\n",
       "jp_sales              0\n",
       "other_sales           0\n",
       "critic_score       8463\n",
       "user_score         8983\n",
       "rating             6678\n",
       "dtype: int64"
      ]
     },
     "execution_count": 23,
     "metadata": {},
     "output_type": "execute_result"
    }
   ],
   "source": [
    "df.isna().sum()"
   ]
  },
  {
   "cell_type": "markdown",
   "metadata": {},
   "source": [
    "#### Пропуск в столбце name"
   ]
  },
  {
   "cell_type": "markdown",
   "metadata": {},
   "source": [
    "В столбце 2 пропуска. Удаляем эти строки"
   ]
  },
  {
   "cell_type": "code",
   "execution_count": 24,
   "metadata": {},
   "outputs": [],
   "source": [
    "df = df.dropna(subset = ['name'])"
   ]
  },
  {
   "cell_type": "code",
   "execution_count": 25,
   "metadata": {},
   "outputs": [
    {
     "data": {
      "text/plain": [
       "name                  0\n",
       "platform              0\n",
       "year_of_release       0\n",
       "genre                 0\n",
       "na_sales              0\n",
       "eu_sales              0\n",
       "jp_sales              0\n",
       "other_sales           0\n",
       "critic_score       8461\n",
       "user_score         8981\n",
       "rating             6676\n",
       "dtype: int64"
      ]
     },
     "execution_count": 25,
     "metadata": {},
     "output_type": "execute_result"
    }
   ],
   "source": [
    "df.isna().sum()"
   ]
  },
  {
   "cell_type": "markdown",
   "metadata": {},
   "source": [
    "**Вывод:** удалили 2 строки с пропусками в столце name, сразу же удалились пропуски в ganre, а пропуски в столбце year_of_release\n",
    "    мы удалили, когда меняли тип данных. В столбце пропуски решил оставить все как есть, т.к не понятна причина возникновения пропуска"
   ]
  },
  {
   "cell_type": "markdown",
   "metadata": {},
   "source": [
    "### Cуммарные продажи во всех регионах"
   ]
  },
  {
   "cell_type": "code",
   "execution_count": 26,
   "metadata": {},
   "outputs": [],
   "source": [
    "df['world_sales'] = df[['na_sales','eu_sales', 'jp_sales', 'other_sales']].sum(axis=1)"
   ]
  },
  {
   "cell_type": "code",
   "execution_count": 27,
   "metadata": {},
   "outputs": [
    {
     "data": {
      "text/html": [
       "<div>\n",
       "<style scoped>\n",
       "    .dataframe tbody tr th:only-of-type {\n",
       "        vertical-align: middle;\n",
       "    }\n",
       "\n",
       "    .dataframe tbody tr th {\n",
       "        vertical-align: top;\n",
       "    }\n",
       "\n",
       "    .dataframe thead th {\n",
       "        text-align: right;\n",
       "    }\n",
       "</style>\n",
       "<table border=\"1\" class=\"dataframe\">\n",
       "  <thead>\n",
       "    <tr style=\"text-align: right;\">\n",
       "      <th></th>\n",
       "      <th>name</th>\n",
       "      <th>platform</th>\n",
       "      <th>year_of_release</th>\n",
       "      <th>genre</th>\n",
       "      <th>na_sales</th>\n",
       "      <th>eu_sales</th>\n",
       "      <th>jp_sales</th>\n",
       "      <th>other_sales</th>\n",
       "      <th>critic_score</th>\n",
       "      <th>user_score</th>\n",
       "      <th>rating</th>\n",
       "      <th>world_sales</th>\n",
       "    </tr>\n",
       "  </thead>\n",
       "  <tbody>\n",
       "    <tr>\n",
       "      <th>0</th>\n",
       "      <td>Wii Sports</td>\n",
       "      <td>Wii</td>\n",
       "      <td>2006</td>\n",
       "      <td>Sports</td>\n",
       "      <td>41.36</td>\n",
       "      <td>28.96</td>\n",
       "      <td>3.77</td>\n",
       "      <td>8.45</td>\n",
       "      <td>76.0</td>\n",
       "      <td>8.0</td>\n",
       "      <td>E</td>\n",
       "      <td>82.54</td>\n",
       "    </tr>\n",
       "    <tr>\n",
       "      <th>1</th>\n",
       "      <td>Super Mario Bros.</td>\n",
       "      <td>NES</td>\n",
       "      <td>1985</td>\n",
       "      <td>Platform</td>\n",
       "      <td>29.08</td>\n",
       "      <td>3.58</td>\n",
       "      <td>6.81</td>\n",
       "      <td>0.77</td>\n",
       "      <td>NaN</td>\n",
       "      <td>NaN</td>\n",
       "      <td>NaN</td>\n",
       "      <td>40.24</td>\n",
       "    </tr>\n",
       "    <tr>\n",
       "      <th>2</th>\n",
       "      <td>Mario Kart Wii</td>\n",
       "      <td>Wii</td>\n",
       "      <td>2008</td>\n",
       "      <td>Racing</td>\n",
       "      <td>15.68</td>\n",
       "      <td>12.76</td>\n",
       "      <td>3.79</td>\n",
       "      <td>3.29</td>\n",
       "      <td>82.0</td>\n",
       "      <td>8.3</td>\n",
       "      <td>E</td>\n",
       "      <td>35.52</td>\n",
       "    </tr>\n",
       "  </tbody>\n",
       "</table>\n",
       "</div>"
      ],
      "text/plain": [
       "                name platform  year_of_release     genre  na_sales  eu_sales  \\\n",
       "0         Wii Sports      Wii             2006    Sports     41.36     28.96   \n",
       "1  Super Mario Bros.      NES             1985  Platform     29.08      3.58   \n",
       "2     Mario Kart Wii      Wii             2008    Racing     15.68     12.76   \n",
       "\n",
       "   jp_sales  other_sales  critic_score  user_score rating  world_sales  \n",
       "0      3.77         8.45          76.0         8.0      E        82.54  \n",
       "1      6.81         0.77           NaN         NaN    NaN        40.24  \n",
       "2      3.79         3.29          82.0         8.3      E        35.52  "
      ]
     },
     "execution_count": 27,
     "metadata": {},
     "output_type": "execute_result"
    }
   ],
   "source": [
    "df.head(3)"
   ]
  },
  {
   "cell_type": "markdown",
   "metadata": {},
   "source": [
    "Посчитали суммарные продажи во всех регионах и записали их в отдельный столбец."
   ]
  },
  {
   "cell_type": "markdown",
   "metadata": {},
   "source": [
    "## Исследовательский анализ данных"
   ]
  },
  {
   "cell_type": "markdown",
   "metadata": {},
   "source": [
    "### Сколько игр выпускалось в разные годы"
   ]
  },
  {
   "cell_type": "code",
   "execution_count": 28,
   "metadata": {},
   "outputs": [
    {
     "data": {
      "text/plain": [
       "year_of_release\n",
       "1980     9\n",
       "1981    46\n",
       "1982    36\n",
       "1983    17\n",
       "1984    14\n",
       "Name: name, dtype: int64"
      ]
     },
     "execution_count": 28,
     "metadata": {},
     "output_type": "execute_result"
    }
   ],
   "source": [
    "df_year = df.groupby('year_of_release')['name'].count()\n",
    "df_year.head()"
   ]
  },
  {
   "cell_type": "code",
   "execution_count": 29,
   "metadata": {},
   "outputs": [
    {
     "data": {
      "text/plain": [
       "Text(0, 0.5, 'Количество игр')"
      ]
     },
     "execution_count": 29,
     "metadata": {},
     "output_type": "execute_result"
    },
    {
     "data": {
      "image/png": "[encoded data removed]",
      "text/plain": [
       "<Figure size 432x288 with 1 Axes>"
      ]
     },
     "metadata": {
      "needs_background": "light"
     },
     "output_type": "display_data"
    }
   ],
   "source": [
    "df_year.plot();\n",
    "plt.title('Количество игр в год');\n",
    "plt.xlabel('Год')\n",
    "plt.ylabel('Количество игр')"
   ]
  },
  {
   "cell_type": "markdown",
   "metadata": {},
   "source": [
    "**Вывод:** Как видим по таблице, количество выпускаемых игр начиная с 1990 года вплоть до 2008-2009г. росла, в 2011 году произошел резкий спад. Для анализа лучше пользоваться интервалом 2014-2016г. "
   ]
  },
  {
   "cell_type": "markdown",
   "metadata": {},
   "source": [
    "### Продажи по платформам"
   ]
  },
  {
   "cell_type": "code",
   "execution_count": 30,
   "metadata": {},
   "outputs": [
    {
     "data": {
      "image/png": "[encoded data removed]",
      "text/plain": [
       "<Figure size 1440x720 with 1 Axes>"
      ]
     },
     "metadata": {
      "needs_background": "light"
     },
     "output_type": "display_data"
    }
   ],
   "source": [
    "df.pivot_table(index = 'year_of_release', columns = 'platform', values = 'world_sales', aggfunc = 'sum')\\\n",
    "    .plot(figsize=(20,10), grid=True);\n",
    "plt.title('Общие продажи в год')\n",
    "plt.ylabel('Общие продажи, млн')\n",
    "plt.xlabel('Год');"
   ]
  },
  {
   "cell_type": "markdown",
   "metadata": {},
   "source": [
    "Каждая плотформа набирает свою аудиторию после выхода и за 5-10 лет уходит с рынка "
   ]
  },
  {
   "cell_type": "code",
   "execution_count": 31,
   "metadata": {},
   "outputs": [
    {
     "data": {
      "image/png": "[encoded data removed]",
      "text/plain": [
       "<Figure size 432x288 with 1 Axes>"
      ]
     },
     "metadata": {
      "needs_background": "light"
     },
     "output_type": "display_data"
    }
   ],
   "source": [
    "df_top = df.groupby('platform')['world_sales'].sum().sort_values(ascending = False).head(5)\n",
    "df_top.plot();\n",
    "plt.title('Общие продажи по платформам')\n",
    "plt.xlabel('Платформа')\n",
    "plt.ylabel('Общие продажи, млн');"
   ]
  },
  {
   "cell_type": "markdown",
   "metadata": {},
   "source": [
    "Создадим переменную с актуальными датами"
   ]
  },
  {
   "cell_type": "code",
   "execution_count": 32,
   "metadata": {
    "scrolled": true
   },
   "outputs": [
    {
     "data": {
      "text/html": [
       "<div>\n",
       "<style scoped>\n",
       "    .dataframe tbody tr th:only-of-type {\n",
       "        vertical-align: middle;\n",
       "    }\n",
       "\n",
       "    .dataframe tbody tr th {\n",
       "        vertical-align: top;\n",
       "    }\n",
       "\n",
       "    .dataframe thead th {\n",
       "        text-align: right;\n",
       "    }\n",
       "</style>\n",
       "<table border=\"1\" class=\"dataframe\">\n",
       "  <thead>\n",
       "    <tr style=\"text-align: right;\">\n",
       "      <th>platform</th>\n",
       "      <th>3DS</th>\n",
       "      <th>PC</th>\n",
       "      <th>PS3</th>\n",
       "      <th>PS4</th>\n",
       "      <th>PSP</th>\n",
       "      <th>PSV</th>\n",
       "      <th>Wii</th>\n",
       "      <th>WiiU</th>\n",
       "      <th>X360</th>\n",
       "      <th>XOne</th>\n",
       "    </tr>\n",
       "    <tr>\n",
       "      <th>year_of_release</th>\n",
       "      <th></th>\n",
       "      <th></th>\n",
       "      <th></th>\n",
       "      <th></th>\n",
       "      <th></th>\n",
       "      <th></th>\n",
       "      <th></th>\n",
       "      <th></th>\n",
       "      <th></th>\n",
       "      <th></th>\n",
       "    </tr>\n",
       "  </thead>\n",
       "  <tbody>\n",
       "    <tr>\n",
       "      <th>2014</th>\n",
       "      <td>43.76</td>\n",
       "      <td>13.28</td>\n",
       "      <td>47.76</td>\n",
       "      <td>100.00</td>\n",
       "      <td>0.24</td>\n",
       "      <td>11.90</td>\n",
       "      <td>3.75</td>\n",
       "      <td>22.03</td>\n",
       "      <td>34.74</td>\n",
       "      <td>54.07</td>\n",
       "    </tr>\n",
       "    <tr>\n",
       "      <th>2015</th>\n",
       "      <td>27.78</td>\n",
       "      <td>8.52</td>\n",
       "      <td>16.82</td>\n",
       "      <td>118.90</td>\n",
       "      <td>0.12</td>\n",
       "      <td>6.25</td>\n",
       "      <td>1.14</td>\n",
       "      <td>16.35</td>\n",
       "      <td>11.96</td>\n",
       "      <td>60.14</td>\n",
       "    </tr>\n",
       "    <tr>\n",
       "      <th>2016</th>\n",
       "      <td>15.14</td>\n",
       "      <td>5.25</td>\n",
       "      <td>3.60</td>\n",
       "      <td>69.25</td>\n",
       "      <td>NaN</td>\n",
       "      <td>4.25</td>\n",
       "      <td>0.18</td>\n",
       "      <td>4.60</td>\n",
       "      <td>1.52</td>\n",
       "      <td>26.15</td>\n",
       "    </tr>\n",
       "  </tbody>\n",
       "</table>\n",
       "</div>"
      ],
      "text/plain": [
       "platform           3DS     PC    PS3     PS4   PSP    PSV   Wii   WiiU   X360  \\\n",
       "year_of_release                                                                 \n",
       "2014             43.76  13.28  47.76  100.00  0.24  11.90  3.75  22.03  34.74   \n",
       "2015             27.78   8.52  16.82  118.90  0.12   6.25  1.14  16.35  11.96   \n",
       "2016             15.14   5.25   3.60   69.25   NaN   4.25  0.18   4.60   1.52   \n",
       "\n",
       "platform          XOne  \n",
       "year_of_release         \n",
       "2014             54.07  \n",
       "2015             60.14  \n",
       "2016             26.15  "
      ]
     },
     "execution_count": 32,
     "metadata": {},
     "output_type": "execute_result"
    }
   ],
   "source": [
    "df_aktual = df[(df['year_of_release']>= 2014) & (df['year_of_release']<= 2016) ] # отобрали актуальные годы для анализа\n",
    "df_platform = df_aktual.pivot_table(index = 'year_of_release', columns = 'platform', values = 'world_sales', aggfunc = 'sum')\n",
    "df_platform \n"
   ]
  },
  {
   "cell_type": "code",
   "execution_count": 33,
   "metadata": {},
   "outputs": [
    {
     "data": {
      "image/png": "[encoded data removed]",
      "text/plain": [
       "<Figure size 720x360 with 1 Axes>"
      ]
     },
     "metadata": {
      "needs_background": "light"
     },
     "output_type": "display_data"
    }
   ],
   "source": [
    "df_platform.plot(figsize=(10,5), grid=True);\n",
    "plt.title('Общие продажи в год')\n",
    "plt.ylabel('Общие продажи, млн')\n",
    "plt.xlabel('Год');"
   ]
  },
  {
   "cell_type": "markdown",
   "metadata": {},
   "source": [
    "По графику видно что с отрывом лидируют XOne и PS4, а 3DS продали меньше 20млн. Дале будем рассматривать эти 3 платформы  "
   ]
  },
  {
   "cell_type": "markdown",
   "metadata": {},
   "source": [
    "Расcмотрим отдельно последний год продаж"
   ]
  },
  {
   "cell_type": "code",
   "execution_count": 34,
   "metadata": {},
   "outputs": [
    {
     "data": {
      "text/html": [
       "<div>\n",
       "<style scoped>\n",
       "    .dataframe tbody tr th:only-of-type {\n",
       "        vertical-align: middle;\n",
       "    }\n",
       "\n",
       "    .dataframe tbody tr th {\n",
       "        vertical-align: top;\n",
       "    }\n",
       "\n",
       "    .dataframe thead th {\n",
       "        text-align: right;\n",
       "    }\n",
       "</style>\n",
       "<table border=\"1\" class=\"dataframe\">\n",
       "  <thead>\n",
       "    <tr style=\"text-align: right;\">\n",
       "      <th>platform</th>\n",
       "      <th>3DS</th>\n",
       "      <th>PC</th>\n",
       "      <th>PS3</th>\n",
       "      <th>PS4</th>\n",
       "      <th>PSP</th>\n",
       "      <th>PSV</th>\n",
       "      <th>Wii</th>\n",
       "      <th>WiiU</th>\n",
       "      <th>X360</th>\n",
       "      <th>XOne</th>\n",
       "    </tr>\n",
       "    <tr>\n",
       "      <th>year_of_release</th>\n",
       "      <th></th>\n",
       "      <th></th>\n",
       "      <th></th>\n",
       "      <th></th>\n",
       "      <th></th>\n",
       "      <th></th>\n",
       "      <th></th>\n",
       "      <th></th>\n",
       "      <th></th>\n",
       "      <th></th>\n",
       "    </tr>\n",
       "  </thead>\n",
       "  <tbody>\n",
       "    <tr>\n",
       "      <th>2015</th>\n",
       "      <td>27.78</td>\n",
       "      <td>8.52</td>\n",
       "      <td>16.82</td>\n",
       "      <td>118.90</td>\n",
       "      <td>0.12</td>\n",
       "      <td>6.25</td>\n",
       "      <td>1.14</td>\n",
       "      <td>16.35</td>\n",
       "      <td>11.96</td>\n",
       "      <td>60.14</td>\n",
       "    </tr>\n",
       "    <tr>\n",
       "      <th>2016</th>\n",
       "      <td>15.14</td>\n",
       "      <td>5.25</td>\n",
       "      <td>3.60</td>\n",
       "      <td>69.25</td>\n",
       "      <td>NaN</td>\n",
       "      <td>4.25</td>\n",
       "      <td>0.18</td>\n",
       "      <td>4.60</td>\n",
       "      <td>1.52</td>\n",
       "      <td>26.15</td>\n",
       "    </tr>\n",
       "  </tbody>\n",
       "</table>\n",
       "</div>"
      ],
      "text/plain": [
       "platform           3DS    PC    PS3     PS4   PSP   PSV   Wii   WiiU   X360  \\\n",
       "year_of_release                                                               \n",
       "2015             27.78  8.52  16.82  118.90  0.12  6.25  1.14  16.35  11.96   \n",
       "2016             15.14  5.25   3.60   69.25   NaN  4.25  0.18   4.60   1.52   \n",
       "\n",
       "platform          XOne  \n",
       "year_of_release         \n",
       "2015             60.14  \n",
       "2016             26.15  "
      ]
     },
     "execution_count": 34,
     "metadata": {},
     "output_type": "execute_result"
    }
   ],
   "source": [
    "df_2015 = df_aktual[(df_aktual['year_of_release']>=2015)]\n",
    "df_plat = df_2015.pivot_table(index = 'year_of_release', columns = 'platform', values = 'world_sales', aggfunc = 'sum')\n",
    "df_plat"
   ]
  },
  {
   "cell_type": "code",
   "execution_count": 35,
   "metadata": {},
   "outputs": [
    {
     "data": {
      "image/png": "[encoded data removed]",
      "text/plain": [
       "<Figure size 720x360 with 1 Axes>"
      ]
     },
     "metadata": {
      "needs_background": "light"
     },
     "output_type": "display_data"
    }
   ],
   "source": [
    "df_plat.plot(figsize=(10,5), grid=True);\n",
    "plt.title('Общие продажи за последний год')\n",
    "plt.xlabel('Общие продажи, млн')\n",
    "plt.ylabel('Год');"
   ]
  },
  {
   "cell_type": "markdown",
   "metadata": {},
   "source": [
    "Все платформы за последний год потеряли в продажах, больше всего зарабатывают те же 3 платформы "
   ]
  },
  {
   "cell_type": "markdown",
   "metadata": {},
   "source": [
    "### Boxplot"
   ]
  },
  {
   "cell_type": "markdown",
   "metadata": {},
   "source": [
    "Выберем прибыльные платформы "
   ]
  },
  {
   "cell_type": "code",
   "execution_count": 36,
   "metadata": {},
   "outputs": [
    {
     "data": {
      "text/plain": [
       "platform\n",
       "PS4     188.15\n",
       "XOne     86.29\n",
       "3DS      42.92\n",
       "WiiU     20.95\n",
       "PS3      20.42\n",
       "PC       13.77\n",
       "X360     13.48\n",
       "PSV      10.50\n",
       "Wii       1.32\n",
       "PSP       0.12\n",
       "Name: world_sales, dtype: float64"
      ]
     },
     "execution_count": 36,
     "metadata": {},
     "output_type": "execute_result"
    }
   ],
   "source": [
    "df_2015.groupby('platform')['world_sales'].sum().sort_values(ascending = False)"
   ]
  },
  {
   "cell_type": "code",
   "execution_count": 37,
   "metadata": {},
   "outputs": [
    {
     "data": {
      "text/plain": [
       "platform\n",
       "PS4     288.15\n",
       "XOne    140.36\n",
       "3DS      86.68\n",
       "PS3      68.18\n",
       "X360     48.22\n",
       "WiiU     42.98\n",
       "PC       27.05\n",
       "PSV      22.40\n",
       "Wii       5.07\n",
       "PSP       0.36\n",
       "Name: world_sales, dtype: float64"
      ]
     },
     "execution_count": 37,
     "metadata": {},
     "output_type": "execute_result"
    }
   ],
   "source": [
    "df_aktual.groupby('platform')['world_sales'].sum().sort_values(ascending = False)"
   ]
  },
  {
   "cell_type": "code",
   "execution_count": 38,
   "metadata": {},
   "outputs": [],
   "source": [
    "data = df[ \n",
    "       df['platform'].isin(['3DS', 'PS4', 'XOne']) & \n",
    "       df['year_of_release'].isin([2014, 2015, 2016])\n",
    "]"
   ]
  },
  {
   "cell_type": "code",
   "execution_count": 39,
   "metadata": {},
   "outputs": [
    {
     "data": {
      "image/png": "[encoded data removed]",
      "text/plain": [
       "<Figure size 432x288 with 1 Axes>"
      ]
     },
     "metadata": {
      "needs_background": "light"
     },
     "output_type": "display_data"
    }
   ],
   "source": [
    "data.boxplot(column='world_sales', by='platform')\n",
    "plt.title('Выбросы по платформам');"
   ]
  },
  {
   "cell_type": "markdown",
   "metadata": {},
   "source": [
    "**Вывод:** У платформ 3DS и PS4, есть несколько выбросов, а у XOne выбросы незначительны, это может быть связано с выходом новых игр, поэтому не будем удалять эти данные "
   ]
  },
  {
   "cell_type": "code",
   "execution_count": 40,
   "metadata": {},
   "outputs": [
    {
     "data": {
      "image/png": "[encoded data removed]",
      "text/plain": [
       "<Figure size 432x288 with 1 Axes>"
      ]
     },
     "metadata": {
      "needs_background": "light"
     },
     "output_type": "display_data"
    }
   ],
   "source": [
    "data.boxplot(column='world_sales', by='platform');\n",
    "plt.ylim(0, 4)\n",
    "plt.title('Выбросы по платформам');"
   ]
  },
  {
   "cell_type": "code",
   "execution_count": 41,
   "metadata": {},
   "outputs": [
    {
     "data": {
      "text/html": [
       "<div>\n",
       "<style scoped>\n",
       "    .dataframe tbody tr th:only-of-type {\n",
       "        vertical-align: middle;\n",
       "    }\n",
       "\n",
       "    .dataframe tbody tr th {\n",
       "        vertical-align: top;\n",
       "    }\n",
       "\n",
       "    .dataframe thead th {\n",
       "        text-align: right;\n",
       "    }\n",
       "</style>\n",
       "<table border=\"1\" class=\"dataframe\">\n",
       "  <thead>\n",
       "    <tr style=\"text-align: right;\">\n",
       "      <th></th>\n",
       "      <th>year_of_release</th>\n",
       "      <th>na_sales</th>\n",
       "      <th>eu_sales</th>\n",
       "      <th>jp_sales</th>\n",
       "      <th>other_sales</th>\n",
       "      <th>critic_score</th>\n",
       "      <th>user_score</th>\n",
       "      <th>world_sales</th>\n",
       "    </tr>\n",
       "  </thead>\n",
       "  <tbody>\n",
       "    <tr>\n",
       "      <th>count</th>\n",
       "      <td>816.000000</td>\n",
       "      <td>816.000000</td>\n",
       "      <td>816.000000</td>\n",
       "      <td>816.000000</td>\n",
       "      <td>816.000000</td>\n",
       "      <td>443.000000</td>\n",
       "      <td>462.000000</td>\n",
       "      <td>816.000000</td>\n",
       "    </tr>\n",
       "    <tr>\n",
       "      <th>mean</th>\n",
       "      <td>2015.099265</td>\n",
       "      <td>0.248186</td>\n",
       "      <td>0.235797</td>\n",
       "      <td>0.073015</td>\n",
       "      <td>0.074363</td>\n",
       "      <td>72.367946</td>\n",
       "      <td>6.781602</td>\n",
       "      <td>0.631360</td>\n",
       "    </tr>\n",
       "    <tr>\n",
       "      <th>std</th>\n",
       "      <td>0.787135</td>\n",
       "      <td>0.572456</td>\n",
       "      <td>0.616164</td>\n",
       "      <td>0.285267</td>\n",
       "      <td>0.189512</td>\n",
       "      <td>12.358614</td>\n",
       "      <td>1.410523</td>\n",
       "      <td>1.375525</td>\n",
       "    </tr>\n",
       "    <tr>\n",
       "      <th>min</th>\n",
       "      <td>2014.000000</td>\n",
       "      <td>0.000000</td>\n",
       "      <td>0.000000</td>\n",
       "      <td>0.000000</td>\n",
       "      <td>0.000000</td>\n",
       "      <td>19.000000</td>\n",
       "      <td>1.500000</td>\n",
       "      <td>0.010000</td>\n",
       "    </tr>\n",
       "    <tr>\n",
       "      <th>25%</th>\n",
       "      <td>2014.000000</td>\n",
       "      <td>0.000000</td>\n",
       "      <td>0.000000</td>\n",
       "      <td>0.000000</td>\n",
       "      <td>0.000000</td>\n",
       "      <td>66.000000</td>\n",
       "      <td>6.100000</td>\n",
       "      <td>0.050000</td>\n",
       "    </tr>\n",
       "    <tr>\n",
       "      <th>50%</th>\n",
       "      <td>2015.000000</td>\n",
       "      <td>0.040000</td>\n",
       "      <td>0.040000</td>\n",
       "      <td>0.000000</td>\n",
       "      <td>0.010000</td>\n",
       "      <td>74.000000</td>\n",
       "      <td>7.000000</td>\n",
       "      <td>0.150000</td>\n",
       "    </tr>\n",
       "    <tr>\n",
       "      <th>75%</th>\n",
       "      <td>2016.000000</td>\n",
       "      <td>0.210000</td>\n",
       "      <td>0.182500</td>\n",
       "      <td>0.050000</td>\n",
       "      <td>0.050000</td>\n",
       "      <td>81.000000</td>\n",
       "      <td>7.800000</td>\n",
       "      <td>0.552500</td>\n",
       "    </tr>\n",
       "    <tr>\n",
       "      <th>max</th>\n",
       "      <td>2016.000000</td>\n",
       "      <td>6.030000</td>\n",
       "      <td>6.310000</td>\n",
       "      <td>3.180000</td>\n",
       "      <td>2.380000</td>\n",
       "      <td>97.000000</td>\n",
       "      <td>9.200000</td>\n",
       "      <td>14.630000</td>\n",
       "    </tr>\n",
       "  </tbody>\n",
       "</table>\n",
       "</div>"
      ],
      "text/plain": [
       "       year_of_release    na_sales    eu_sales    jp_sales  other_sales  \\\n",
       "count       816.000000  816.000000  816.000000  816.000000   816.000000   \n",
       "mean       2015.099265    0.248186    0.235797    0.073015     0.074363   \n",
       "std           0.787135    0.572456    0.616164    0.285267     0.189512   \n",
       "min        2014.000000    0.000000    0.000000    0.000000     0.000000   \n",
       "25%        2014.000000    0.000000    0.000000    0.000000     0.000000   \n",
       "50%        2015.000000    0.040000    0.040000    0.000000     0.010000   \n",
       "75%        2016.000000    0.210000    0.182500    0.050000     0.050000   \n",
       "max        2016.000000    6.030000    6.310000    3.180000     2.380000   \n",
       "\n",
       "       critic_score  user_score  world_sales  \n",
       "count    443.000000  462.000000   816.000000  \n",
       "mean      72.367946    6.781602     0.631360  \n",
       "std       12.358614    1.410523     1.375525  \n",
       "min       19.000000    1.500000     0.010000  \n",
       "25%       66.000000    6.100000     0.050000  \n",
       "50%       74.000000    7.000000     0.150000  \n",
       "75%       81.000000    7.800000     0.552500  \n",
       "max       97.000000    9.200000    14.630000  "
      ]
     },
     "execution_count": 41,
     "metadata": {},
     "output_type": "execute_result"
    }
   ],
   "source": [
    "data.describe()"
   ]
  },
  {
   "cell_type": "markdown",
   "metadata": {},
   "source": [
    "### Влияние отзывов на продажи "
   ]
  },
  {
   "cell_type": "code",
   "execution_count": 42,
   "metadata": {},
   "outputs": [
    {
     "data": {
      "text/plain": [
       "-0.030764547505905765"
      ]
     },
     "execution_count": 42,
     "metadata": {},
     "output_type": "execute_result"
    }
   ],
   "source": [
    "data['world_sales'].corr(data['user_score'])"
   ]
  },
  {
   "cell_type": "code",
   "execution_count": 43,
   "metadata": {},
   "outputs": [
    {
     "data": {
      "text/plain": [
       "0.390003379401458"
      ]
     },
     "execution_count": 43,
     "metadata": {},
     "output_type": "execute_result"
    }
   ],
   "source": [
    "data['world_sales'].corr(data['critic_score'])"
   ]
  },
  {
   "cell_type": "markdown",
   "metadata": {},
   "source": [
    "Если смотреть на общую корреляцию, то оценка игроков и оценка критиков не сильно влияют. Зависимость отзывов от игроков в отрицательную сторону, но незначительно. На мнение критиков игроки больше прислушиваются"
   ]
  },
  {
   "cell_type": "markdown",
   "metadata": {},
   "source": [
    "#### Корреляция для PS4"
   ]
  },
  {
   "cell_type": "code",
   "execution_count": 44,
   "metadata": {},
   "outputs": [
    {
     "data": {
      "text/html": [
       "<div>\n",
       "<style scoped>\n",
       "    .dataframe tbody tr th:only-of-type {\n",
       "        vertical-align: middle;\n",
       "    }\n",
       "\n",
       "    .dataframe tbody tr th {\n",
       "        vertical-align: top;\n",
       "    }\n",
       "\n",
       "    .dataframe thead th {\n",
       "        text-align: right;\n",
       "    }\n",
       "</style>\n",
       "<table border=\"1\" class=\"dataframe\">\n",
       "  <thead>\n",
       "    <tr style=\"text-align: right;\">\n",
       "      <th></th>\n",
       "      <th>name</th>\n",
       "      <th>platform</th>\n",
       "      <th>year_of_release</th>\n",
       "      <th>genre</th>\n",
       "      <th>na_sales</th>\n",
       "      <th>eu_sales</th>\n",
       "      <th>jp_sales</th>\n",
       "      <th>other_sales</th>\n",
       "      <th>critic_score</th>\n",
       "      <th>user_score</th>\n",
       "      <th>rating</th>\n",
       "      <th>world_sales</th>\n",
       "    </tr>\n",
       "  </thead>\n",
       "  <tbody>\n",
       "    <tr>\n",
       "      <th>31</th>\n",
       "      <td>Call of Duty: Black Ops 3</td>\n",
       "      <td>PS4</td>\n",
       "      <td>2015</td>\n",
       "      <td>Shooter</td>\n",
       "      <td>6.03</td>\n",
       "      <td>5.86</td>\n",
       "      <td>0.36</td>\n",
       "      <td>2.38</td>\n",
       "      <td>NaN</td>\n",
       "      <td>NaN</td>\n",
       "      <td>NaN</td>\n",
       "      <td>14.63</td>\n",
       "    </tr>\n",
       "    <tr>\n",
       "      <th>42</th>\n",
       "      <td>Grand Theft Auto V</td>\n",
       "      <td>PS4</td>\n",
       "      <td>2014</td>\n",
       "      <td>Action</td>\n",
       "      <td>3.96</td>\n",
       "      <td>6.31</td>\n",
       "      <td>0.38</td>\n",
       "      <td>1.97</td>\n",
       "      <td>97.0</td>\n",
       "      <td>8.3</td>\n",
       "      <td>M</td>\n",
       "      <td>12.62</td>\n",
       "    </tr>\n",
       "  </tbody>\n",
       "</table>\n",
       "</div>"
      ],
      "text/plain": [
       "                         name platform  year_of_release    genre  na_sales  \\\n",
       "31  Call of Duty: Black Ops 3      PS4             2015  Shooter      6.03   \n",
       "42         Grand Theft Auto V      PS4             2014   Action      3.96   \n",
       "\n",
       "    eu_sales  jp_sales  other_sales  critic_score  user_score rating  \\\n",
       "31      5.86      0.36         2.38           NaN         NaN    NaN   \n",
       "42      6.31      0.38         1.97          97.0         8.3      M   \n",
       "\n",
       "    world_sales  \n",
       "31        14.63  \n",
       "42        12.62  "
      ]
     },
     "execution_count": 44,
     "metadata": {},
     "output_type": "execute_result"
    }
   ],
   "source": [
    "data_ps4 = data[data['platform']=='PS4']\n",
    "data_ps4.head(2)"
   ]
  },
  {
   "cell_type": "code",
   "execution_count": 45,
   "metadata": {},
   "outputs": [
    {
     "data": {
      "text/plain": [
       "0.40266141068104083"
      ]
     },
     "execution_count": 45,
     "metadata": {},
     "output_type": "execute_result"
    }
   ],
   "source": [
    "data_ps4['world_sales'].corr(data_ps4['critic_score'])"
   ]
  },
  {
   "cell_type": "code",
   "execution_count": 46,
   "metadata": {},
   "outputs": [
    {
     "data": {
      "text/plain": [
       "-0.040131589472697356"
      ]
     },
     "execution_count": 46,
     "metadata": {},
     "output_type": "execute_result"
    }
   ],
   "source": [
    "data_ps4['world_sales'].corr(data_ps4['user_score'])"
   ]
  },
  {
   "cell_type": "code",
   "execution_count": 47,
   "metadata": {},
   "outputs": [
    {
     "data": {
      "image/png": "[encoded data removed]",
      "text/plain": [
       "<Figure size 432x288 with 1 Axes>"
      ]
     },
     "metadata": {
      "needs_background": "light"
     },
     "output_type": "display_data"
    }
   ],
   "source": [
    "data_ps4.plot(x='world_sales', y='user_score', kind='scatter', alpha=0.3)\n",
    "plt.title('Зависимость общих продах от отзывов игроков для PS4')\n",
    "plt.xlabel('Общие продажи, млн')\n",
    "plt.ylabel('Оценка игроков');"
   ]
  },
  {
   "cell_type": "code",
   "execution_count": 48,
   "metadata": {},
   "outputs": [
    {
     "data": {
      "image/png": "[encoded data removed]",
      "text/plain": [
       "<Figure size 432x288 with 1 Axes>"
      ]
     },
     "metadata": {
      "needs_background": "light"
     },
     "output_type": "display_data"
    }
   ],
   "source": [
    "data_ps4.plot(x='world_sales', y='critic_score', kind='scatter', alpha=0.3)\n",
    "plt.title('Зависимость общих продах от отзывов критиков для PS4')\n",
    "plt.xlabel('Общие продажи, млн')\n",
    "plt.ylabel('Оценка критиков');"
   ]
  },
  {
   "cell_type": "markdown",
   "metadata": {},
   "source": [
    "На отзывы критиков доверяют, но корреляция не такая большая, всего 0.4 и -0.04 соответсвенно."
   ]
  },
  {
   "cell_type": "markdown",
   "metadata": {},
   "source": [
    "#### Корреляция XOne"
   ]
  },
  {
   "cell_type": "code",
   "execution_count": 49,
   "metadata": {},
   "outputs": [
    {
     "data": {
      "text/html": [
       "<div>\n",
       "<style scoped>\n",
       "    .dataframe tbody tr th:only-of-type {\n",
       "        vertical-align: middle;\n",
       "    }\n",
       "\n",
       "    .dataframe tbody tr th {\n",
       "        vertical-align: top;\n",
       "    }\n",
       "\n",
       "    .dataframe thead th {\n",
       "        text-align: right;\n",
       "    }\n",
       "</style>\n",
       "<table border=\"1\" class=\"dataframe\">\n",
       "  <thead>\n",
       "    <tr style=\"text-align: right;\">\n",
       "      <th></th>\n",
       "      <th>name</th>\n",
       "      <th>platform</th>\n",
       "      <th>year_of_release</th>\n",
       "      <th>genre</th>\n",
       "      <th>na_sales</th>\n",
       "      <th>eu_sales</th>\n",
       "      <th>jp_sales</th>\n",
       "      <th>other_sales</th>\n",
       "      <th>critic_score</th>\n",
       "      <th>user_score</th>\n",
       "      <th>rating</th>\n",
       "      <th>world_sales</th>\n",
       "    </tr>\n",
       "  </thead>\n",
       "  <tbody>\n",
       "    <tr>\n",
       "      <th>99</th>\n",
       "      <td>Call of Duty: Black Ops 3</td>\n",
       "      <td>XOne</td>\n",
       "      <td>2015</td>\n",
       "      <td>Shooter</td>\n",
       "      <td>4.59</td>\n",
       "      <td>2.11</td>\n",
       "      <td>0.01</td>\n",
       "      <td>0.68</td>\n",
       "      <td>NaN</td>\n",
       "      <td>NaN</td>\n",
       "      <td>NaN</td>\n",
       "      <td>7.39</td>\n",
       "    </tr>\n",
       "    <tr>\n",
       "      <th>165</th>\n",
       "      <td>Grand Theft Auto V</td>\n",
       "      <td>XOne</td>\n",
       "      <td>2014</td>\n",
       "      <td>Action</td>\n",
       "      <td>2.81</td>\n",
       "      <td>2.19</td>\n",
       "      <td>0.00</td>\n",
       "      <td>0.47</td>\n",
       "      <td>97.0</td>\n",
       "      <td>7.9</td>\n",
       "      <td>M</td>\n",
       "      <td>5.47</td>\n",
       "    </tr>\n",
       "  </tbody>\n",
       "</table>\n",
       "</div>"
      ],
      "text/plain": [
       "                          name platform  year_of_release    genre  na_sales  \\\n",
       "99   Call of Duty: Black Ops 3     XOne             2015  Shooter      4.59   \n",
       "165         Grand Theft Auto V     XOne             2014   Action      2.81   \n",
       "\n",
       "     eu_sales  jp_sales  other_sales  critic_score  user_score rating  \\\n",
       "99       2.11      0.01         0.68           NaN         NaN    NaN   \n",
       "165      2.19      0.00         0.47          97.0         7.9      M   \n",
       "\n",
       "     world_sales  \n",
       "99          7.39  \n",
       "165         5.47  "
      ]
     },
     "execution_count": 49,
     "metadata": {},
     "output_type": "execute_result"
    }
   ],
   "source": [
    "data_xone = data[data['platform']=='XOne']\n",
    "data_xone.head(2)"
   ]
  },
  {
   "cell_type": "code",
   "execution_count": 50,
   "metadata": {},
   "outputs": [
    {
     "data": {
      "text/plain": [
       "-0.0703839280647581"
      ]
     },
     "execution_count": 50,
     "metadata": {},
     "output_type": "execute_result"
    }
   ],
   "source": [
    "data_xone['world_sales'].corr(data_xone['user_score'])"
   ]
  },
  {
   "cell_type": "code",
   "execution_count": 51,
   "metadata": {},
   "outputs": [
    {
     "data": {
      "text/plain": [
       "0.42867694370333226"
      ]
     },
     "execution_count": 51,
     "metadata": {},
     "output_type": "execute_result"
    }
   ],
   "source": [
    "data_xone['world_sales'].corr(data_xone['critic_score'])"
   ]
  },
  {
   "cell_type": "code",
   "execution_count": 52,
   "metadata": {},
   "outputs": [
    {
     "data": {
      "image/png": "[encoded data removed]",
      "text/plain": [
       "<Figure size 432x288 with 1 Axes>"
      ]
     },
     "metadata": {
      "needs_background": "light"
     },
     "output_type": "display_data"
    }
   ],
   "source": [
    "data_xone.plot(x='world_sales', y='user_score', kind='scatter', alpha=0.3)\n",
    "plt.title('Зависимость общих продах от отзывов игроков для XOne')\n",
    "plt.xlabel('Общие продажи, млн')\n",
    "plt.ylabel('Оценка игроков');"
   ]
  },
  {
   "cell_type": "code",
   "execution_count": 53,
   "metadata": {
    "scrolled": true
   },
   "outputs": [
    {
     "data": {
      "image/png": "[encoded data removed]",
      "text/plain": [
       "<Figure size 432x288 with 1 Axes>"
      ]
     },
     "metadata": {
      "needs_background": "light"
     },
     "output_type": "display_data"
    }
   ],
   "source": [
    "data_xone.plot(x='world_sales', y='critic_score', kind='scatter', alpha=0.3)\n",
    "plt.title('Зависимость общих продах от отзывов игроков для XOne')\n",
    "plt.xlabel('Общие продажи, млн')\n",
    "plt.ylabel('Оценка критиков');"
   ]
  },
  {
   "cell_type": "markdown",
   "metadata": {},
   "source": [
    "В платформе XOne зависимость оценки критиков на продажи 0.43, можно сделать вывод что зависимость имеется, хоть и незначительная. Зависимость между оценками игроков и продажами отрицательная, но чуть меньше 0"
   ]
  },
  {
   "cell_type": "markdown",
   "metadata": {},
   "source": [
    "#### Корреляция 3DS"
   ]
  },
  {
   "cell_type": "code",
   "execution_count": 54,
   "metadata": {},
   "outputs": [
    {
     "data": {
      "text/html": [
       "<div>\n",
       "<style scoped>\n",
       "    .dataframe tbody tr th:only-of-type {\n",
       "        vertical-align: middle;\n",
       "    }\n",
       "\n",
       "    .dataframe tbody tr th {\n",
       "        vertical-align: top;\n",
       "    }\n",
       "\n",
       "    .dataframe thead th {\n",
       "        text-align: right;\n",
       "    }\n",
       "</style>\n",
       "<table border=\"1\" class=\"dataframe\">\n",
       "  <thead>\n",
       "    <tr style=\"text-align: right;\">\n",
       "      <th></th>\n",
       "      <th>name</th>\n",
       "      <th>platform</th>\n",
       "      <th>year_of_release</th>\n",
       "      <th>genre</th>\n",
       "      <th>na_sales</th>\n",
       "      <th>eu_sales</th>\n",
       "      <th>jp_sales</th>\n",
       "      <th>other_sales</th>\n",
       "      <th>critic_score</th>\n",
       "      <th>user_score</th>\n",
       "      <th>rating</th>\n",
       "      <th>world_sales</th>\n",
       "    </tr>\n",
       "  </thead>\n",
       "  <tbody>\n",
       "    <tr>\n",
       "      <th>47</th>\n",
       "      <td>Pokemon Omega Ruby/Pokemon Alpha Sapphire</td>\n",
       "      <td>3DS</td>\n",
       "      <td>2014</td>\n",
       "      <td>Role-Playing</td>\n",
       "      <td>4.35</td>\n",
       "      <td>3.49</td>\n",
       "      <td>3.10</td>\n",
       "      <td>0.74</td>\n",
       "      <td>NaN</td>\n",
       "      <td>NaN</td>\n",
       "      <td>NaN</td>\n",
       "      <td>11.68</td>\n",
       "    </tr>\n",
       "    <tr>\n",
       "      <th>96</th>\n",
       "      <td>Super Smash Bros. for Wii U and 3DS</td>\n",
       "      <td>3DS</td>\n",
       "      <td>2014</td>\n",
       "      <td>Fighting</td>\n",
       "      <td>3.27</td>\n",
       "      <td>1.37</td>\n",
       "      <td>2.43</td>\n",
       "      <td>0.48</td>\n",
       "      <td>NaN</td>\n",
       "      <td>NaN</td>\n",
       "      <td>NaN</td>\n",
       "      <td>7.55</td>\n",
       "    </tr>\n",
       "  </tbody>\n",
       "</table>\n",
       "</div>"
      ],
      "text/plain": [
       "                                         name platform  year_of_release  \\\n",
       "47  Pokemon Omega Ruby/Pokemon Alpha Sapphire      3DS             2014   \n",
       "96        Super Smash Bros. for Wii U and 3DS      3DS             2014   \n",
       "\n",
       "           genre  na_sales  eu_sales  jp_sales  other_sales  critic_score  \\\n",
       "47  Role-Playing      4.35      3.49      3.10         0.74           NaN   \n",
       "96      Fighting      3.27      1.37      2.43         0.48           NaN   \n",
       "\n",
       "    user_score rating  world_sales  \n",
       "47         NaN    NaN        11.68  \n",
       "96         NaN    NaN         7.55  "
      ]
     },
     "execution_count": 54,
     "metadata": {},
     "output_type": "execute_result"
    }
   ],
   "source": [
    "data_3ds = data[data['platform']=='3DS']\n",
    "data_3ds.head(2)"
   ]
  },
  {
   "cell_type": "code",
   "execution_count": 55,
   "metadata": {},
   "outputs": [
    {
     "data": {
      "text/plain": [
       "0.2151932718527028"
      ]
     },
     "execution_count": 55,
     "metadata": {},
     "output_type": "execute_result"
    }
   ],
   "source": [
    "data_3ds['world_sales'].corr(data['user_score'])"
   ]
  },
  {
   "cell_type": "code",
   "execution_count": 56,
   "metadata": {},
   "outputs": [
    {
     "data": {
      "text/plain": [
       "0.31411749286905105"
      ]
     },
     "execution_count": 56,
     "metadata": {},
     "output_type": "execute_result"
    }
   ],
   "source": [
    "data_3ds['world_sales'].corr(data['critic_score'])"
   ]
  },
  {
   "cell_type": "code",
   "execution_count": 57,
   "metadata": {},
   "outputs": [
    {
     "data": {
      "image/png": "[encoded data removed]",
      "text/plain": [
       "<Figure size 432x288 with 1 Axes>"
      ]
     },
     "metadata": {
      "needs_background": "light"
     },
     "output_type": "display_data"
    }
   ],
   "source": [
    "data_3ds.plot(x='world_sales', y='critic_score', kind='scatter', alpha=0.3)\n",
    "plt.title('Зависимость общих продах от отзывов игроков для 3DS')\n",
    "plt.xlabel('Общие продажи, млн')\n",
    "plt.ylabel('Оценка игроков');"
   ]
  },
  {
   "cell_type": "code",
   "execution_count": 58,
   "metadata": {},
   "outputs": [
    {
     "data": {
      "image/png": "[encoded data removed]",
      "text/plain": [
       "<Figure size 432x288 with 1 Axes>"
      ]
     },
     "metadata": {
      "needs_background": "light"
     },
     "output_type": "display_data"
    }
   ],
   "source": [
    "data_3ds.plot(x='world_sales', y='user_score', kind='scatter', alpha=0.3)\n",
    "plt.title('Зависимость общих продах от отзывов игроков для 3DS')\n",
    "plt.xlabel('Общие продажи, млн')\n",
    "plt.ylabel('Оценка критиков');"
   ]
  },
  {
   "cell_type": "markdown",
   "metadata": {},
   "source": [
    "В платформе 3DS зависимость между отзывами и продажами уже больше. К мнемению критиков так же больше прислушиваются, но и на мнение игроков юбращают внимание "
   ]
  },
  {
   "cell_type": "markdown",
   "metadata": {},
   "source": [
    "**Вывод:** В платформах PS4 и XOne есть  зависимость между отзывами критиков и продажами, а корреляция доходит до 0.4. В платформе 3DS зависимость положительная и прислушиваются на мнение игроков"
   ]
  },
  {
   "cell_type": "markdown",
   "metadata": {},
   "source": [
    "#### Общее распределение игр по жанрам"
   ]
  },
  {
   "cell_type": "markdown",
   "metadata": {},
   "source": [
    "Посмотрите на общее распределение игр по жанрам. Что можно сказать о самых прибыльных жанрах? Выделяются ли жанры с высокими и низкими продажами?"
   ]
  },
  {
   "cell_type": "code",
   "execution_count": 59,
   "metadata": {},
   "outputs": [
    {
     "data": {
      "text/plain": [
       "genre\n",
       "Shooter         0.820\n",
       "Sports          0.330\n",
       "Role-Playing    0.200\n",
       "Racing          0.175\n",
       "Fighting        0.160\n",
       "Platform        0.160\n",
       "Simulation      0.120\n",
       "Action          0.115\n",
       "Misc            0.115\n",
       "Adventure       0.070\n",
       "Puzzle          0.065\n",
       "Strategy        0.060\n",
       "Name: world_sales, dtype: float64"
      ]
     },
     "execution_count": 59,
     "metadata": {},
     "output_type": "execute_result"
    }
   ],
   "source": [
    "data.groupby('genre')['world_sales'].median().sort_values(ascending = False) #сгруппируем данные по жанрам "
   ]
  },
  {
   "cell_type": "code",
   "execution_count": 60,
   "metadata": {},
   "outputs": [
    {
     "data": {
      "text/plain": [
       "genre\n",
       "Action          144.74\n",
       "Shooter         133.85\n",
       "Role-Playing     79.56\n",
       "Sports           75.01\n",
       "Misc             18.36\n",
       "Fighting         18.00\n",
       "Racing           17.05\n",
       "Adventure        10.59\n",
       "Platform         10.02\n",
       "Simulation        5.69\n",
       "Strategy          1.43\n",
       "Puzzle            0.89\n",
       "Name: world_sales, dtype: float64"
      ]
     },
     "execution_count": 60,
     "metadata": {},
     "output_type": "execute_result"
    }
   ],
   "source": [
    "data.groupby('genre')['world_sales'].sum().sort_values(ascending = False)"
   ]
  },
  {
   "cell_type": "markdown",
   "metadata": {},
   "source": [
    " "
   ]
  },
  {
   "cell_type": "markdown",
   "metadata": {},
   "source": [
    "**Вывод:** Самая прибыльные жанры Shooter. В сумме они продаются на 280млн и это больше половины общей суммы. Самые непопулярные жанры Strategy и Puzzle (у них продаж всего на 2млн в сумме)                   "
   ]
  },
  {
   "cell_type": "markdown",
   "metadata": {},
   "source": [
    "## Портрет пользователя каждого региона"
   ]
  },
  {
   "cell_type": "markdown",
   "metadata": {},
   "source": [
    "Определите для пользователя каждого региона (NA, EU, JP):\n",
    "    Самые популярные платформы (топ-5). Опишите различия в долях продаж.\n",
    "    Самые популярные жанры (топ-5). Поясните разницу.\n",
    "    Влияет ли рейтинг ESRB на продажи в отдельном регионе?"
   ]
  },
  {
   "cell_type": "markdown",
   "metadata": {},
   "source": [
    "### NA"
   ]
  },
  {
   "cell_type": "code",
   "execution_count": 61,
   "metadata": {},
   "outputs": [
    {
     "data": {
      "text/plain": [
       "platform\n",
       "PS4     98.61\n",
       "XOne    81.27\n",
       "3DS     22.64\n",
       "Name: na_sales, dtype: float64"
      ]
     },
     "execution_count": 61,
     "metadata": {},
     "output_type": "execute_result"
    }
   ],
   "source": [
    "data.groupby('platform')['na_sales'].sum().sort_values(ascending = False).head(5) #группируем данные по региону NA в общей таблице "
   ]
  },
  {
   "cell_type": "code",
   "execution_count": 62,
   "metadata": {},
   "outputs": [
    {
     "data": {
      "image/png": "[encoded data removed]",
      "text/plain": [
       "<Figure size 432x288 with 1 Axes>"
      ]
     },
     "metadata": {
      "needs_background": "light"
     },
     "output_type": "display_data"
    }
   ],
   "source": [
    "data_na = data.groupby('platform')['na_sales'].sum().sort_values(ascending = False).head(5)\n",
    "data_na.plot(x='platform', y='na_sales', kind='bar')\n",
    "plt.title('Продажи по платформам для региона NA')\n",
    "plt.ylabel('Общие продажи, млн')\n",
    "plt.xlabel('Платформа');"
   ]
  },
  {
   "cell_type": "markdown",
   "metadata": {},
   "source": [
    "Для региона NA самая популярная платформа PS4, далее идет XOne"
   ]
  },
  {
   "cell_type": "code",
   "execution_count": 63,
   "metadata": {},
   "outputs": [
    {
     "data": {
      "text/plain": [
       "0.3930976921135891"
      ]
     },
     "execution_count": 63,
     "metadata": {},
     "output_type": "execute_result"
    }
   ],
   "source": [
    "(data['na_sales'].sum())/(data['world_sales'].sum()) #доля продаж региона NA во всем мире"
   ]
  },
  {
   "cell_type": "markdown",
   "metadata": {},
   "source": [
    "Продажа в регионе NA забирает, почти 40% от всех продаж "
   ]
  },
  {
   "cell_type": "code",
   "execution_count": 64,
   "metadata": {},
   "outputs": [
    {
     "data": {
      "text/plain": [
       "0.19140511267687646"
      ]
     },
     "execution_count": 64,
     "metadata": {},
     "output_type": "execute_result"
    }
   ],
   "source": [
    "(data_ps4['na_sales'].sum())/(data['world_sales'].sum()) #доля продаж платформы PS4 во всем мире "
   ]
  },
  {
   "cell_type": "code",
   "execution_count": 65,
   "metadata": {},
   "outputs": [
    {
     "data": {
      "text/plain": [
       "0.15774762708903511"
      ]
     },
     "execution_count": 65,
     "metadata": {},
     "output_type": "execute_result"
    }
   ],
   "source": [
    "(data_xone['na_sales'].sum())/(data['world_sales'].sum()) #доля продаж платформы XOne во всем мире"
   ]
  },
  {
   "cell_type": "code",
   "execution_count": 66,
   "metadata": {},
   "outputs": [
    {
     "data": {
      "text/plain": [
       "0.04394495234767755"
      ]
     },
     "execution_count": 66,
     "metadata": {},
     "output_type": "execute_result"
    }
   ],
   "source": [
    "(data_3ds['na_sales'].sum())/(data['world_sales'].sum()) #доля продаж платформы 3DS во всем мире"
   ]
  },
  {
   "cell_type": "markdown",
   "metadata": {},
   "source": [
    "**Вывод:** Самые популярные платформы XOne и PS4 забирают 40% прибыли с общий продаж"
   ]
  },
  {
   "cell_type": "markdown",
   "metadata": {},
   "source": [
    "#### Популярные жанры для NA"
   ]
  },
  {
   "cell_type": "code",
   "execution_count": 67,
   "metadata": {},
   "outputs": [
    {
     "data": {
      "text/plain": [
       "genre\n",
       "Shooter         0.375\n",
       "Sports          0.120\n",
       "Platform        0.090\n",
       "Fighting        0.070\n",
       "Role-Playing    0.050\n",
       "Name: na_sales, dtype: float64"
      ]
     },
     "execution_count": 67,
     "metadata": {},
     "output_type": "execute_result"
    }
   ],
   "source": [
    "data.groupby('genre')['na_sales'].median().sort_values(ascending=False).head(5)"
   ]
  },
  {
   "cell_type": "markdown",
   "metadata": {},
   "source": [
    "Для региона самый популярный жанр Shooter и Sports "
   ]
  },
  {
   "cell_type": "markdown",
   "metadata": {},
   "source": [
    "#### Влияние рейтинга"
   ]
  },
  {
   "cell_type": "code",
   "execution_count": 68,
   "metadata": {},
   "outputs": [
    {
     "data": {
      "image/png": "[encoded data removed]",
      "text/plain": [
       "<Figure size 432x288 with 1 Axes>"
      ]
     },
     "metadata": {
      "needs_background": "light"
     },
     "output_type": "display_data"
    }
   ],
   "source": [
    "data.groupby('rating')['na_sales'].sum().sort_values(ascending=False).plot(kind='bar');\n",
    "plt.title('Продажи для региона NA от рейтинга')\n",
    "plt.ylabel('Общие продажи, млн')\n",
    "plt.xlabel('Рейтинг');"
   ]
  },
  {
   "cell_type": "markdown",
   "metadata": {},
   "source": [
    "В регионе северная америка больше всего игр продается категории \"М\""
   ]
  },
  {
   "cell_type": "markdown",
   "metadata": {},
   "source": [
    "### EU"
   ]
  },
  {
   "cell_type": "code",
   "execution_count": 69,
   "metadata": {},
   "outputs": [
    {
     "data": {
      "text/plain": [
       "platform\n",
       "PS4     130.04\n",
       "XOne     46.25\n",
       "3DS      16.12\n",
       "Name: eu_sales, dtype: float64"
      ]
     },
     "execution_count": 69,
     "metadata": {},
     "output_type": "execute_result"
    }
   ],
   "source": [
    "data.groupby('platform')['eu_sales'].sum().sort_values(ascending = False).head(5) #группируем данные по региону EU"
   ]
  },
  {
   "cell_type": "code",
   "execution_count": 70,
   "metadata": {},
   "outputs": [
    {
     "data": {
      "image/png": "[encoded data removed]",
      "text/plain": [
       "<Figure size 432x288 with 1 Axes>"
      ]
     },
     "metadata": {
      "needs_background": "light"
     },
     "output_type": "display_data"
    }
   ],
   "source": [
    "data_eu = data.groupby('platform')['eu_sales'].sum().sort_values(ascending = False).head(5)\n",
    "data_eu.plot(x='platform', y='eu_sales', kind='bar')\n",
    "plt.title('Продажи по платформам для региона EU')\n",
    "plt.ylabel('Общие продажи, млн')\n",
    "plt.xlabel('Платформа');"
   ]
  },
  {
   "cell_type": "markdown",
   "metadata": {},
   "source": [
    "Для региона EU самая популярная платформа PS4 и зарабатывают они 130млн"
   ]
  },
  {
   "cell_type": "code",
   "execution_count": 71,
   "metadata": {},
   "outputs": [
    {
     "data": {
      "text/plain": [
       "0.3734738640113356"
      ]
     },
     "execution_count": 71,
     "metadata": {},
     "output_type": "execute_result"
    }
   ],
   "source": [
    "(data['eu_sales'].sum())/(data['world_sales'].sum()) #доля продаж региона EU во всем мире"
   ]
  },
  {
   "cell_type": "markdown",
   "metadata": {},
   "source": [
    "В регионе EU крутится 37,4% всех денег, что на 2% ниже чем в NA"
   ]
  },
  {
   "cell_type": "code",
   "execution_count": 72,
   "metadata": {},
   "outputs": [
    {
     "data": {
      "text/plain": [
       "0.2524117315941691"
      ]
     },
     "execution_count": 72,
     "metadata": {},
     "output_type": "execute_result"
    }
   ],
   "source": [
    "(data_ps4['eu_sales'].sum())/(data['world_sales'].sum()) #доля продаж платформы PS4 во всем мире "
   ]
  },
  {
   "cell_type": "code",
   "execution_count": 73,
   "metadata": {},
   "outputs": [
    {
     "data": {
      "text/plain": [
       "0.08977270521555153"
      ]
     },
     "execution_count": 73,
     "metadata": {},
     "output_type": "execute_result"
    }
   ],
   "source": [
    "(data_xone['eu_sales'].sum())/(data['world_sales'].sum()) #доля продаж платформы XOne во всем мире"
   ]
  },
  {
   "cell_type": "code",
   "execution_count": 74,
   "metadata": {},
   "outputs": [
    {
     "data": {
      "text/plain": [
       "0.03128942720161493"
      ]
     },
     "execution_count": 74,
     "metadata": {},
     "output_type": "execute_result"
    }
   ],
   "source": [
    "(data_3ds['eu_sales'].sum())/(data['world_sales'].sum()) #доля продаж платформы 3DS во всем мире"
   ]
  },
  {
   "cell_type": "markdown",
   "metadata": {},
   "source": [
    "В Европе не очень популярны 2 платформы, это XOne и 3DS, у них в сумме чуть больше 1%. PS4 забирает 1/4 всех денег себе"
   ]
  },
  {
   "cell_type": "markdown",
   "metadata": {},
   "source": [
    "####  Популярные жанры для EU"
   ]
  },
  {
   "cell_type": "code",
   "execution_count": 75,
   "metadata": {},
   "outputs": [
    {
     "data": {
      "text/plain": [
       "genre\n",
       "Shooter     0.310\n",
       "Racing      0.105\n",
       "Sports      0.080\n",
       "Platform    0.060\n",
       "Action      0.030\n",
       "Name: eu_sales, dtype: float64"
      ]
     },
     "execution_count": 75,
     "metadata": {},
     "output_type": "execute_result"
    }
   ],
   "source": [
    "data.groupby('genre')['eu_sales'].median().sort_values(ascending=False).head(5)"
   ]
  },
  {
   "cell_type": "markdown",
   "metadata": {},
   "source": [
    "В Европе популярный жанр: Shooter, ситуация примерно такая же как и в NA"
   ]
  },
  {
   "cell_type": "markdown",
   "metadata": {},
   "source": [
    "#### Влияние рейтинга"
   ]
  },
  {
   "cell_type": "code",
   "execution_count": 76,
   "metadata": {},
   "outputs": [
    {
     "data": {
      "image/png": "[encoded data removed]",
      "text/plain": [
       "<Figure size 432x288 with 1 Axes>"
      ]
     },
     "metadata": {
      "needs_background": "light"
     },
     "output_type": "display_data"
    }
   ],
   "source": [
    "data.groupby('rating')['eu_sales'].sum().sort_values(ascending=False).plot(kind='bar')\n",
    "plt.title('Продажи для региона NA от рейтинга')\n",
    "plt.ylabel('Общие продажи, млн')\n",
    "plt.xlabel('Рейтинг');"
   ]
  },
  {
   "cell_type": "markdown",
   "metadata": {},
   "source": [
    "Так же как и в NA, популярна категория М"
   ]
  },
  {
   "cell_type": "markdown",
   "metadata": {},
   "source": [
    "### JP"
   ]
  },
  {
   "cell_type": "code",
   "execution_count": 77,
   "metadata": {},
   "outputs": [
    {
     "data": {
      "text/plain": [
       "platform\n",
       "3DS     44.24\n",
       "PS4     15.02\n",
       "XOne     0.32\n",
       "Name: jp_sales, dtype: float64"
      ]
     },
     "execution_count": 77,
     "metadata": {},
     "output_type": "execute_result"
    }
   ],
   "source": [
    "data.groupby('platform')['jp_sales'].sum().sort_values(ascending = False).head(5) #группируем данные по региону JP"
   ]
  },
  {
   "cell_type": "code",
   "execution_count": 78,
   "metadata": {},
   "outputs": [
    {
     "data": {
      "image/png": "[encoded data removed]",
      "text/plain": [
       "<Figure size 432x288 with 1 Axes>"
      ]
     },
     "metadata": {
      "needs_background": "light"
     },
     "output_type": "display_data"
    }
   ],
   "source": [
    "data_jp = data.groupby('platform')['jp_sales'].sum().sort_values(ascending = False).head(5)\n",
    "data_jp.plot(x='platform', y='jp_sales', kind='bar')\n",
    "plt.title('Продажи по платформам для региона JP')\n",
    "plt.ylabel('Общие продажи, млн')\n",
    "plt.xlabel('Платформа');"
   ]
  },
  {
   "cell_type": "markdown",
   "metadata": {},
   "source": [
    "В Японии преобладает платформа 3DS, а у XOne практически нет продаж"
   ]
  },
  {
   "cell_type": "code",
   "execution_count": 79,
   "metadata": {},
   "outputs": [
    {
     "data": {
      "text/plain": [
       "0.11564665463227157"
      ]
     },
     "execution_count": 79,
     "metadata": {},
     "output_type": "execute_result"
    }
   ],
   "source": [
    "(data['jp_sales'].sum())/(data['world_sales'].sum()) #доля продаж региона JP во всем мире"
   ]
  },
  {
   "cell_type": "markdown",
   "metadata": {},
   "source": [
    "Регион JP, продает игры всего на 11,5% от всего оборота в мире "
   ]
  },
  {
   "cell_type": "code",
   "execution_count": 80,
   "metadata": {},
   "outputs": [
    {
     "data": {
      "text/plain": [
       "0.0291542925910829"
      ]
     },
     "execution_count": 80,
     "metadata": {},
     "output_type": "execute_result"
    }
   ],
   "source": [
    "(data_ps4['jp_sales'].sum())/(data['world_sales'].sum()) #доля продаж платформы PS4 во всем мире "
   ]
  },
  {
   "cell_type": "code",
   "execution_count": 81,
   "metadata": {},
   "outputs": [
    {
     "data": {
      "text/plain": [
       "0.0006211300685184107"
      ]
     },
     "execution_count": 81,
     "metadata": {},
     "output_type": "execute_result"
    }
   ],
   "source": [
    "(data_xone['jp_sales'].sum())/(data['world_sales'].sum()) #доля продаж платформы XOne во всем мире"
   ]
  },
  {
   "cell_type": "code",
   "execution_count": 82,
   "metadata": {},
   "outputs": [
    {
     "data": {
      "text/plain": [
       "0.08587123197267026"
      ]
     },
     "execution_count": 82,
     "metadata": {},
     "output_type": "execute_result"
    }
   ],
   "source": [
    "(data_3ds['jp_sales'].sum())/(data['world_sales'].sum()) #доля продаж платформы 3DS во всем мире"
   ]
  },
  {
   "cell_type": "markdown",
   "metadata": {},
   "source": [
    "Больше всего доли продажи у 3DS, а у PS4 продаж в 3 раза меньше. На долю XOne в региона JP  приходится всего 0,06% "
   ]
  },
  {
   "cell_type": "markdown",
   "metadata": {},
   "source": [
    "####  Популярные жанры для JP"
   ]
  },
  {
   "cell_type": "code",
   "execution_count": 83,
   "metadata": {},
   "outputs": [
    {
     "data": {
      "text/plain": [
       "genre\n",
       "Role-Playing    0.055\n",
       "Fighting        0.030\n",
       "Puzzle          0.030\n",
       "Strategy        0.020\n",
       "Simulation      0.010\n",
       "Name: jp_sales, dtype: float64"
      ]
     },
     "execution_count": 83,
     "metadata": {},
     "output_type": "execute_result"
    }
   ],
   "source": [
    "data.groupby('genre')['jp_sales'].median().sort_values(ascending=False).head(5)"
   ]
  },
  {
   "cell_type": "markdown",
   "metadata": {},
   "source": [
    "Самые популярный жанр: Role-Playing "
   ]
  },
  {
   "cell_type": "markdown",
   "metadata": {},
   "source": [
    "#### Влияние рейтинга"
   ]
  },
  {
   "cell_type": "code",
   "execution_count": 84,
   "metadata": {},
   "outputs": [
    {
     "data": {
      "image/png": "[encoded data removed]",
      "text/plain": [
       "<Figure size 432x288 with 1 Axes>"
      ]
     },
     "metadata": {
      "needs_background": "light"
     },
     "output_type": "display_data"
    }
   ],
   "source": [
    "data.groupby('rating')['jp_sales'].sum().sort_values(ascending=False).plot(kind='bar')\n",
    "plt.title('Продажи для региона NA от рейтинга')\n",
    "plt.ylabel('Общие продажи, млн')\n",
    "plt.xlabel('Рейтинг');"
   ]
  },
  {
   "cell_type": "markdown",
   "metadata": {},
   "source": [
    "В Японии популярен рейтинг Т (от 13 лет), остальное как и во всем мире"
   ]
  },
  {
   "cell_type": "markdown",
   "metadata": {},
   "source": [
    "**Вывод:** Больше всего продаж в 2 регионах: NA и EU (суммарно 88%). в этих регионах самые популярный жанр Shooter, а категория М (от 16 лет). Этот жанр как раз подходят под эту категорию. В Японии ситуация иная: особой популярностью пользуется платформа 3DS, жанр Role-Playing, категория Т(от 13 лет), что можно связать другой культурой страны "
   ]
  },
  {
   "cell_type": "markdown",
   "metadata": {},
   "source": [
    "## Проверка гипотез"
   ]
  },
  {
   "cell_type": "markdown",
   "metadata": {},
   "source": [
    "### Гипотеза 1"
   ]
  },
  {
   "cell_type": "markdown",
   "metadata": {},
   "source": [
    "Средние пользовательские рейтинги платформ Xbox One и PC одинаковые;"
   ]
  },
  {
   "cell_type": "markdown",
   "metadata": {},
   "source": [
    "H0: средние пользовательские рейтинги равны;\n",
    "Н1: средние пользовательские рейтинги разные."
   ]
  },
  {
   "cell_type": "markdown",
   "metadata": {},
   "source": [
    "В связи с тем, что платформа PC не попала в нашу выборку, будем работать с первичным датафреймом, но с актуальными датами. Ранее уже сохраняли датафрейм df_aktual"
   ]
  },
  {
   "cell_type": "code",
   "execution_count": 85,
   "metadata": {},
   "outputs": [],
   "source": [
    "df_aktual = df_aktual[df_aktual['user_score']>=0.001]"
   ]
  },
  {
   "cell_type": "code",
   "execution_count": 86,
   "metadata": {},
   "outputs": [],
   "source": [
    "df_one = df_aktual[df_aktual['platform']=='XOne'] #получаем новый датафрейм по XOne\n",
    "one = df_one['user_score'] #получаем рейтинги игроков"
   ]
  },
  {
   "cell_type": "code",
   "execution_count": 87,
   "metadata": {},
   "outputs": [],
   "source": [
    "df_pc = df_aktual[df_aktual['platform']=='PC'] #получаем новый датафрейм по PC\n",
    "pc = df_pc['user_score']#получаем рейтинги игроков по платформе pc"
   ]
  },
  {
   "cell_type": "code",
   "execution_count": 88,
   "metadata": {},
   "outputs": [
    {
     "name": "stdout",
     "output_type": "stream",
     "text": [
      "p-значение: 0.10450507919348415\n",
      "Не получилось отвергнуть нулевую гипотезу\n"
     ]
    }
   ],
   "source": [
    "alpha = .05 # задаем значение alpha, если pvalue окажется меньше, то отвергнем гипотезу\n",
    "res = st.ttest_ind(one,pc)\n",
    "print('p-значение:', res.pvalue)\n",
    "if (res.pvalue < alpha):\n",
    "    print(\"Отвергаем нулевую гипотезу\")\n",
    "else:\n",
    "    print(\"Не получилось отвергнуть нулевую гипотезу\")"
   ]
  },
  {
   "cell_type": "markdown",
   "metadata": {},
   "source": [
    "**Вывод:** Средние пользовательские рейтинги платформ Xbox One и PC равны"
   ]
  },
  {
   "cell_type": "markdown",
   "metadata": {},
   "source": [
    "### Гипотеза 2"
   ]
  },
  {
   "cell_type": "markdown",
   "metadata": {},
   "source": [
    "Средние пользовательские рейтинги жанров Action (англ. «действие», экшен-игры) и Sports (англ. «спортивные соревнования») разные."
   ]
  },
  {
   "cell_type": "markdown",
   "metadata": {},
   "source": [
    "Н0: средние пользовательсике рейтинги жанров Action и Sports разные; \n",
    "Н1: средние пользовательсике рейтинги жанров равные."
   ]
  },
  {
   "cell_type": "markdown",
   "metadata": {},
   "source": [
    "Работаем с датафреймом data"
   ]
  },
  {
   "cell_type": "code",
   "execution_count": 89,
   "metadata": {},
   "outputs": [],
   "source": [
    "data = data[data['user_score']>=0.001]"
   ]
  },
  {
   "cell_type": "code",
   "execution_count": 90,
   "metadata": {},
   "outputs": [],
   "source": [
    "action = data[data['genre']=='Action']\n",
    "action_user = action['user_score']"
   ]
  },
  {
   "cell_type": "code",
   "execution_count": 91,
   "metadata": {},
   "outputs": [],
   "source": [
    "sports = data[data['genre']=='Sports']\n",
    "sports_user = sports['user_score']"
   ]
  },
  {
   "cell_type": "code",
   "execution_count": 92,
   "metadata": {},
   "outputs": [
    {
     "name": "stdout",
     "output_type": "stream",
     "text": [
      "p-значение:  1.0424295659220704e-07\n",
      "Отвергаем нулевую гипотезу\n"
     ]
    }
   ],
   "source": [
    "alpha = .05\n",
    "results = st.ttest_ind(action_user, sports_user)\n",
    "print('p-значение: ', results.pvalue)\n",
    "if results.pvalue < alpha:\n",
    "    print(\"Отвергаем нулевую гипотезу\")\n",
    "else:\n",
    "    print(\"Не получилось отвергнуть нулевую гипотезу\") "
   ]
  },
  {
   "cell_type": "markdown",
   "metadata": {},
   "source": [
    "**Вывод:** Средние пользовательские рейтинги жанров Action и Sports разные, гипотеза верная "
   ]
  },
  {
   "cell_type": "markdown",
   "metadata": {},
   "source": [
    "## Вывод"
   ]
  },
  {
   "cell_type": "markdown",
   "metadata": {},
   "source": [
    "Нам в этом проекте нужно было: подготовить данные, провести исследовательский анализ данных, составить портрет пользователя каждого региона, проверить гипотезы.\n",
    "По ходу проекта, мы в столбцах year_of_release  поменяли типа данных на int, user_score поменяли тип данных на float, а значения fbd на nan . \n",
    "Увидели, что количество выпускаемых игр начиная с 1990 года вплоть до 2008-2009г. росла, в 2011 году произошел резкий спад. В платформах PS4 и XOne есть небольшая зависимость между отзывами и продажами, в XOne и PS4 корреляция доходит до 0.4. В платформе 3DS зависимость есть от user_score и от critik_score. Решили что, для анализа лучше пользоваться интервалом 2014-2016г.\n",
    "\n",
    "Выяснили, что зависимость м/у отзывами игроков и продажами -0.030764547505905765, а м/у отзывами критиков и продажами 0.390003379401458. Если смотреть на общую корреляцию, то оценка игроков и оценка критиков не сильно влияют. Зависимость отзывов от игроков в отрицательную сторону, но незначительно. На мнение критиков игроки больше прислушиваются\n",
    "\n",
    "Самая прибыльная жанр Shooter. Самые непопулярные жанры Strategy и Puzzle (у них продаж всего на 2млн в сумме)\n",
    "\n",
    "Больше всего продаж в 2 регионах: NA и EU (суммарно 88%). В этих регионах самые популярный жанр Shooter, а категория М (от 16 лет). Эти жанр как раз подходит под эту категорию. В Японии ситуация иная: особой популярностью пользуется платформа 3DS, жанр Role-Playing, категория Т(от 13 лет), что можно связать другой культурой страны"
   ]
  }
 ],
 "metadata": {
  "ExecuteTimeLog": [
   {
    "duration": 56,
    "start_time": "2022-11-14T08:15:32.765Z"
   },
   {
    "duration": 435,
    "start_time": "2022-11-14T08:23:33.118Z"
   },
   {
    "duration": 89,
    "start_time": "2022-11-14T08:23:33.693Z"
   },
   {
    "duration": 33,
    "start_time": "2022-11-14T08:23:50.013Z"
   },
   {
    "duration": 38,
    "start_time": "2022-11-14T08:24:30.623Z"
   },
   {
    "duration": 45,
    "start_time": "2022-11-14T08:24:36.810Z"
   },
   {
    "duration": 71,
    "start_time": "2022-11-14T08:25:07.356Z"
   },
   {
    "duration": 182,
    "start_time": "2022-11-14T08:25:10.820Z"
   },
   {
    "duration": 15,
    "start_time": "2022-11-14T08:25:16.512Z"
   },
   {
    "duration": 52,
    "start_time": "2022-11-14T08:25:27.459Z"
   },
   {
    "duration": 14,
    "start_time": "2022-11-14T08:25:28.150Z"
   },
   {
    "duration": 21,
    "start_time": "2022-11-14T08:25:49.315Z"
   },
   {
    "duration": 11,
    "start_time": "2022-11-14T08:27:40.198Z"
   },
   {
    "duration": 8,
    "start_time": "2022-11-14T08:27:47.687Z"
   },
   {
    "duration": 9,
    "start_time": "2022-11-14T08:29:37.371Z"
   },
   {
    "duration": 9,
    "start_time": "2022-11-14T08:30:18.689Z"
   },
   {
    "duration": 11,
    "start_time": "2022-11-14T08:35:04.545Z"
   },
   {
    "duration": 15,
    "start_time": "2022-11-14T08:35:22.150Z"
   },
   {
    "duration": 11,
    "start_time": "2022-11-14T08:41:29.336Z"
   },
   {
    "duration": 4,
    "start_time": "2022-11-14T08:42:00.904Z"
   },
   {
    "duration": 8,
    "start_time": "2022-11-14T08:42:13.630Z"
   },
   {
    "duration": 7,
    "start_time": "2022-11-14T08:42:20.474Z"
   },
   {
    "duration": 7,
    "start_time": "2022-11-14T08:42:26.032Z"
   },
   {
    "duration": 4,
    "start_time": "2022-11-14T08:42:57.568Z"
   },
   {
    "duration": 7,
    "start_time": "2022-11-14T08:44:53.719Z"
   },
   {
    "duration": 3,
    "start_time": "2022-11-14T08:46:13.960Z"
   },
   {
    "duration": 48,
    "start_time": "2022-11-14T08:46:14.621Z"
   },
   {
    "duration": 12,
    "start_time": "2022-11-14T08:46:16.384Z"
   },
   {
    "duration": 7,
    "start_time": "2022-11-14T08:46:23.699Z"
   },
   {
    "duration": 3,
    "start_time": "2022-11-14T08:46:37.009Z"
   },
   {
    "duration": 49,
    "start_time": "2022-11-14T08:46:37.705Z"
   },
   {
    "duration": 16,
    "start_time": "2022-11-14T08:46:38.402Z"
   },
   {
    "duration": 14,
    "start_time": "2022-11-14T08:46:43.066Z"
   },
   {
    "duration": 7,
    "start_time": "2022-11-14T08:46:51.590Z"
   },
   {
    "duration": 6,
    "start_time": "2022-11-14T08:47:03.273Z"
   },
   {
    "duration": 5,
    "start_time": "2022-11-14T08:47:11.975Z"
   },
   {
    "duration": 3,
    "start_time": "2022-11-14T08:48:57.443Z"
   },
   {
    "duration": 14,
    "start_time": "2022-11-14T08:49:05.643Z"
   },
   {
    "duration": 16,
    "start_time": "2022-11-14T08:51:06.964Z"
   },
   {
    "duration": 4,
    "start_time": "2022-11-14T08:51:10.247Z"
   },
   {
    "duration": 15,
    "start_time": "2022-11-14T08:51:11.211Z"
   },
   {
    "duration": 15,
    "start_time": "2022-11-14T08:53:51.601Z"
   },
   {
    "duration": 15,
    "start_time": "2022-11-14T08:54:05.761Z"
   },
   {
    "duration": 5,
    "start_time": "2022-11-14T08:56:01.844Z"
   },
   {
    "duration": 9,
    "start_time": "2022-11-14T08:56:45.422Z"
   },
   {
    "duration": 13,
    "start_time": "2022-11-14T08:56:51.442Z"
   },
   {
    "duration": 7,
    "start_time": "2022-11-14T08:57:50.815Z"
   },
   {
    "duration": 12,
    "start_time": "2022-11-14T08:58:42.403Z"
   },
   {
    "duration": 4,
    "start_time": "2022-11-14T08:58:57.908Z"
   },
   {
    "duration": 7,
    "start_time": "2022-11-14T08:59:01.602Z"
   },
   {
    "duration": 3,
    "start_time": "2022-11-14T08:59:13.791Z"
   },
   {
    "duration": 62,
    "start_time": "2022-11-14T08:59:14.260Z"
   },
   {
    "duration": 14,
    "start_time": "2022-11-14T08:59:14.871Z"
   },
   {
    "duration": 3,
    "start_time": "2022-11-14T08:59:17.241Z"
   },
   {
    "duration": 14,
    "start_time": "2022-11-14T08:59:17.836Z"
   },
   {
    "duration": 5,
    "start_time": "2022-11-14T08:59:21.099Z"
   },
   {
    "duration": 10,
    "start_time": "2022-11-14T09:00:06.241Z"
   },
   {
    "duration": 4,
    "start_time": "2022-11-14T09:01:11.284Z"
   },
   {
    "duration": 3,
    "start_time": "2022-11-14T09:01:34.816Z"
   },
   {
    "duration": 110,
    "start_time": "2022-11-14T09:01:35.161Z"
   },
   {
    "duration": 15,
    "start_time": "2022-11-14T09:01:35.570Z"
   },
   {
    "duration": 4,
    "start_time": "2022-11-14T09:01:36.557Z"
   },
   {
    "duration": 15,
    "start_time": "2022-11-14T09:01:37.200Z"
   },
   {
    "duration": 5,
    "start_time": "2022-11-14T09:01:40.135Z"
   },
   {
    "duration": 8,
    "start_time": "2022-11-14T09:02:39.212Z"
   },
   {
    "duration": 9,
    "start_time": "2022-11-14T09:02:50.331Z"
   },
   {
    "duration": 9,
    "start_time": "2022-11-14T09:04:09.695Z"
   },
   {
    "duration": 6,
    "start_time": "2022-11-14T09:04:53.759Z"
   },
   {
    "duration": 5,
    "start_time": "2022-11-14T09:05:41.233Z"
   },
   {
    "duration": 4,
    "start_time": "2022-11-14T09:05:53.186Z"
   },
   {
    "duration": 10,
    "start_time": "2022-11-14T09:06:27.914Z"
   },
   {
    "duration": 5,
    "start_time": "2022-11-14T09:07:04.441Z"
   },
   {
    "duration": 25,
    "start_time": "2022-11-14T09:09:05.296Z"
   },
   {
    "duration": 6,
    "start_time": "2022-11-14T09:09:16.912Z"
   },
   {
    "duration": 5,
    "start_time": "2022-11-14T09:09:23.273Z"
   },
   {
    "duration": 3,
    "start_time": "2022-11-14T09:09:41.730Z"
   },
   {
    "duration": 51,
    "start_time": "2022-11-14T09:09:42.184Z"
   },
   {
    "duration": 14,
    "start_time": "2022-11-14T09:09:43.511Z"
   },
   {
    "duration": 3,
    "start_time": "2022-11-14T09:09:45.242Z"
   },
   {
    "duration": 14,
    "start_time": "2022-11-14T09:09:45.957Z"
   },
   {
    "duration": 5,
    "start_time": "2022-11-14T09:10:26.333Z"
   },
   {
    "duration": 4,
    "start_time": "2022-11-14T09:10:29.097Z"
   },
   {
    "duration": 4,
    "start_time": "2022-11-14T09:10:34.177Z"
   },
   {
    "duration": 6,
    "start_time": "2022-11-14T09:10:37.039Z"
   },
   {
    "duration": 5,
    "start_time": "2022-11-14T09:10:51.272Z"
   },
   {
    "duration": 5,
    "start_time": "2022-11-14T09:11:07.536Z"
   },
   {
    "duration": 73,
    "start_time": "2022-11-14T09:11:50.268Z"
   },
   {
    "duration": 10,
    "start_time": "2022-11-14T09:11:54.360Z"
   },
   {
    "duration": 4,
    "start_time": "2022-11-14T09:11:59.803Z"
   },
   {
    "duration": 8,
    "start_time": "2022-11-14T09:12:14.861Z"
   },
   {
    "duration": 6,
    "start_time": "2022-11-14T09:15:38.557Z"
   },
   {
    "duration": 6,
    "start_time": "2022-11-14T09:16:24.821Z"
   },
   {
    "duration": 12,
    "start_time": "2022-11-14T09:16:59.862Z"
   },
   {
    "duration": 23,
    "start_time": "2022-11-14T09:27:19.246Z"
   },
   {
    "duration": 7,
    "start_time": "2022-11-14T09:28:27.373Z"
   },
   {
    "duration": 12,
    "start_time": "2022-11-14T09:28:38.458Z"
   },
   {
    "duration": 12,
    "start_time": "2022-11-14T09:28:47.064Z"
   },
   {
    "duration": 6,
    "start_time": "2022-11-14T09:28:55.987Z"
   },
   {
    "duration": 7,
    "start_time": "2022-11-14T09:29:11.114Z"
   },
   {
    "duration": 15,
    "start_time": "2022-11-14T09:29:58.414Z"
   },
   {
    "duration": 5,
    "start_time": "2022-11-14T09:30:41.524Z"
   },
   {
    "duration": 64,
    "start_time": "2022-11-14T09:50:22.879Z"
   },
   {
    "duration": 46,
    "start_time": "2022-11-14T09:50:52.362Z"
   },
   {
    "duration": 67,
    "start_time": "2022-11-14T09:52:43.380Z"
   },
   {
    "duration": 9,
    "start_time": "2022-11-14T09:52:44.844Z"
   },
   {
    "duration": 50,
    "start_time": "2022-11-14T09:52:55.827Z"
   },
   {
    "duration": 52,
    "start_time": "2022-11-14T09:53:48.203Z"
   },
   {
    "duration": 7,
    "start_time": "2022-11-14T09:53:49.816Z"
   },
   {
    "duration": 64,
    "start_time": "2022-11-14T09:54:05.900Z"
   },
   {
    "duration": 64,
    "start_time": "2022-11-14T10:00:20.007Z"
   },
   {
    "duration": 74,
    "start_time": "2022-11-14T10:11:18.959Z"
   },
   {
    "duration": 8,
    "start_time": "2022-11-14T10:13:00.167Z"
   },
   {
    "duration": 15,
    "start_time": "2022-11-14T10:13:07.863Z"
   },
   {
    "duration": 9,
    "start_time": "2022-11-14T10:37:15.000Z"
   },
   {
    "duration": 7,
    "start_time": "2022-11-14T10:37:46.499Z"
   },
   {
    "duration": 62,
    "start_time": "2022-11-14T10:38:08.821Z"
   },
   {
    "duration": 56,
    "start_time": "2022-11-14T10:38:19.801Z"
   },
   {
    "duration": 51,
    "start_time": "2022-11-14T10:38:26.772Z"
   },
   {
    "duration": 643,
    "start_time": "2022-11-14T10:38:41.807Z"
   },
   {
    "duration": 208,
    "start_time": "2022-11-14T10:38:50.341Z"
   },
   {
    "duration": 198,
    "start_time": "2022-11-14T10:41:11.732Z"
   },
   {
    "duration": 20,
    "start_time": "2022-11-14T10:45:26.991Z"
   },
   {
    "duration": 20,
    "start_time": "2022-11-14T10:45:34.528Z"
   },
   {
    "duration": 6,
    "start_time": "2022-11-14T10:47:11.480Z"
   },
   {
    "duration": 11,
    "start_time": "2022-11-14T10:48:17.551Z"
   },
   {
    "duration": 10,
    "start_time": "2022-11-14T10:48:24.521Z"
   },
   {
    "duration": 6,
    "start_time": "2022-11-14T10:49:50.603Z"
   },
   {
    "duration": 8,
    "start_time": "2022-11-14T10:49:54.365Z"
   },
   {
    "duration": 3,
    "start_time": "2022-11-14T10:52:54.225Z"
   },
   {
    "duration": 229,
    "start_time": "2022-11-14T10:53:26.388Z"
   },
   {
    "duration": 3,
    "start_time": "2022-11-14T10:53:41.531Z"
   },
   {
    "duration": 219,
    "start_time": "2022-11-14T10:53:42.195Z"
   },
   {
    "duration": 3,
    "start_time": "2022-11-14T10:59:09.746Z"
   },
   {
    "duration": 287,
    "start_time": "2022-11-14T10:59:12.078Z"
   },
   {
    "duration": 20,
    "start_time": "2022-11-14T11:05:03.200Z"
   },
   {
    "duration": 20,
    "start_time": "2022-11-14T11:05:18.194Z"
   },
   {
    "duration": 4,
    "start_time": "2022-11-14T11:05:45.024Z"
   },
   {
    "duration": 203,
    "start_time": "2022-11-14T11:05:55.630Z"
   },
   {
    "duration": 4,
    "start_time": "2022-11-14T11:15:03.642Z"
   },
   {
    "duration": 6,
    "start_time": "2022-11-14T11:15:04.665Z"
   },
   {
    "duration": 6,
    "start_time": "2022-11-14T11:15:24.842Z"
   },
   {
    "duration": 3,
    "start_time": "2022-11-14T11:15:35.038Z"
   },
   {
    "duration": 3,
    "start_time": "2022-11-14T11:15:37.018Z"
   },
   {
    "duration": 6,
    "start_time": "2022-11-14T11:15:39.883Z"
   },
   {
    "duration": 5,
    "start_time": "2022-11-14T11:15:40.363Z"
   },
   {
    "duration": 4,
    "start_time": "2022-11-14T11:15:46.761Z"
   },
   {
    "duration": 6,
    "start_time": "2022-11-14T11:15:48.039Z"
   },
   {
    "duration": 5,
    "start_time": "2022-11-14T11:15:48.663Z"
   },
   {
    "duration": 3,
    "start_time": "2022-11-14T11:16:36.287Z"
   },
   {
    "duration": 6,
    "start_time": "2022-11-14T11:16:37.527Z"
   },
   {
    "duration": 5,
    "start_time": "2022-11-14T11:16:38.258Z"
   },
   {
    "duration": 3,
    "start_time": "2022-11-14T11:16:50.397Z"
   },
   {
    "duration": 54,
    "start_time": "2022-11-14T11:16:51.078Z"
   },
   {
    "duration": 78,
    "start_time": "2022-11-14T11:16:51.688Z"
   },
   {
    "duration": 3,
    "start_time": "2022-11-14T11:16:53.311Z"
   },
   {
    "duration": 15,
    "start_time": "2022-11-14T11:16:53.846Z"
   },
   {
    "duration": 9,
    "start_time": "2022-11-14T11:16:55.562Z"
   },
   {
    "duration": 6,
    "start_time": "2022-11-14T11:16:56.160Z"
   },
   {
    "duration": 11,
    "start_time": "2022-11-14T11:17:25.399Z"
   },
   {
    "duration": 10,
    "start_time": "2022-11-14T11:17:49.210Z"
   },
   {
    "duration": 5,
    "start_time": "2022-11-14T11:18:31.087Z"
   },
   {
    "duration": 6,
    "start_time": "2022-11-14T11:18:33.403Z"
   },
   {
    "duration": 2,
    "start_time": "2022-11-14T11:19:11.601Z"
   },
   {
    "duration": 7,
    "start_time": "2022-11-14T11:19:13.548Z"
   },
   {
    "duration": 6,
    "start_time": "2022-11-14T11:19:17.039Z"
   },
   {
    "duration": 204,
    "start_time": "2022-11-14T11:19:17.731Z"
   },
   {
    "duration": 3,
    "start_time": "2022-11-14T11:19:20.489Z"
   },
   {
    "duration": 6,
    "start_time": "2022-11-14T11:19:22.843Z"
   },
   {
    "duration": 5,
    "start_time": "2022-11-14T11:19:32.528Z"
   },
   {
    "duration": 7,
    "start_time": "2022-11-14T11:21:10.365Z"
   },
   {
    "duration": 5,
    "start_time": "2022-11-14T11:21:12.145Z"
   },
   {
    "duration": 14,
    "start_time": "2022-11-14T11:22:48.666Z"
   },
   {
    "duration": 10,
    "start_time": "2022-11-14T11:23:36.487Z"
   },
   {
    "duration": 6,
    "start_time": "2022-11-14T11:26:40.816Z"
   },
   {
    "duration": 5,
    "start_time": "2022-11-14T11:28:03.107Z"
   },
   {
    "duration": 5,
    "start_time": "2022-11-14T11:28:32.261Z"
   },
   {
    "duration": 13,
    "start_time": "2022-11-14T11:33:34.362Z"
   },
   {
    "duration": 19,
    "start_time": "2022-11-14T11:33:42.638Z"
   },
   {
    "duration": 3,
    "start_time": "2022-11-14T11:39:56.464Z"
   },
   {
    "duration": 10,
    "start_time": "2022-11-14T11:40:25.510Z"
   },
   {
    "duration": 7,
    "start_time": "2022-11-14T11:44:25.000Z"
   },
   {
    "duration": 11,
    "start_time": "2022-11-14T11:44:44.593Z"
   },
   {
    "duration": 26,
    "start_time": "2022-11-14T11:48:06.960Z"
   },
   {
    "duration": 9,
    "start_time": "2022-11-14T11:48:10.654Z"
   },
   {
    "duration": 7,
    "start_time": "2022-11-14T11:48:22.503Z"
   },
   {
    "duration": 9,
    "start_time": "2022-11-14T11:48:23.994Z"
   },
   {
    "duration": 3,
    "start_time": "2022-11-14T11:49:02.407Z"
   },
   {
    "duration": 52,
    "start_time": "2022-11-14T11:49:03.024Z"
   },
   {
    "duration": 14,
    "start_time": "2022-11-14T11:49:03.763Z"
   },
   {
    "duration": 3,
    "start_time": "2022-11-14T11:49:05.440Z"
   },
   {
    "duration": 14,
    "start_time": "2022-11-14T11:49:05.926Z"
   },
   {
    "duration": 12,
    "start_time": "2022-11-14T11:49:29.918Z"
   },
   {
    "duration": 4,
    "start_time": "2022-11-14T11:52:39.524Z"
   },
   {
    "duration": 51,
    "start_time": "2022-11-14T11:52:39.997Z"
   },
   {
    "duration": 14,
    "start_time": "2022-11-14T11:52:40.671Z"
   },
   {
    "duration": 4,
    "start_time": "2022-11-14T11:52:43.290Z"
   },
   {
    "duration": 14,
    "start_time": "2022-11-14T11:52:43.890Z"
   },
   {
    "duration": 15,
    "start_time": "2022-11-14T11:52:46.662Z"
   },
   {
    "duration": 5,
    "start_time": "2022-11-14T11:52:57.258Z"
   },
   {
    "duration": 5,
    "start_time": "2022-11-14T11:52:58.164Z"
   },
   {
    "duration": 6,
    "start_time": "2022-11-14T11:52:59.824Z"
   },
   {
    "duration": 6,
    "start_time": "2022-11-14T11:53:00.944Z"
   },
   {
    "duration": 6,
    "start_time": "2022-11-14T11:53:01.978Z"
   },
   {
    "duration": 6,
    "start_time": "2022-11-14T11:53:03.580Z"
   },
   {
    "duration": 7,
    "start_time": "2022-11-14T11:53:04.617Z"
   },
   {
    "duration": 227,
    "start_time": "2022-11-14T11:53:05.183Z"
   },
   {
    "duration": 4,
    "start_time": "2022-11-14T11:53:06.068Z"
   },
   {
    "duration": 8,
    "start_time": "2022-11-14T11:53:06.471Z"
   },
   {
    "duration": 7,
    "start_time": "2022-11-14T11:53:06.845Z"
   },
   {
    "duration": 15,
    "start_time": "2022-11-14T11:53:07.789Z"
   },
   {
    "duration": 9,
    "start_time": "2022-11-14T11:53:09.391Z"
   },
   {
    "duration": 8,
    "start_time": "2022-11-14T11:53:11.531Z"
   },
   {
    "duration": 9,
    "start_time": "2022-11-14T11:53:13.559Z"
   },
   {
    "duration": 2,
    "start_time": "2022-11-14T11:53:55.963Z"
   },
   {
    "duration": 57,
    "start_time": "2022-11-14T11:53:56.390Z"
   },
   {
    "duration": 24,
    "start_time": "2022-11-14T11:53:56.684Z"
   },
   {
    "duration": 3,
    "start_time": "2022-11-14T11:53:57.737Z"
   },
   {
    "duration": 16,
    "start_time": "2022-11-14T11:53:58.012Z"
   },
   {
    "duration": 17,
    "start_time": "2022-11-14T11:53:58.787Z"
   },
   {
    "duration": 7,
    "start_time": "2022-11-14T11:53:59.087Z"
   },
   {
    "duration": 5,
    "start_time": "2022-11-14T11:53:59.480Z"
   },
   {
    "duration": 7,
    "start_time": "2022-11-14T11:53:59.824Z"
   },
   {
    "duration": 7,
    "start_time": "2022-11-14T11:54:03.083Z"
   },
   {
    "duration": 6,
    "start_time": "2022-11-14T11:54:04.049Z"
   },
   {
    "duration": 8,
    "start_time": "2022-11-14T11:54:05.506Z"
   },
   {
    "duration": 11,
    "start_time": "2022-11-14T11:54:06.362Z"
   },
   {
    "duration": 218,
    "start_time": "2022-11-14T11:54:07.089Z"
   },
   {
    "duration": 3,
    "start_time": "2022-11-14T11:54:08.043Z"
   },
   {
    "duration": 6,
    "start_time": "2022-11-14T11:54:08.653Z"
   },
   {
    "duration": 6,
    "start_time": "2022-11-14T11:54:09.114Z"
   },
   {
    "duration": 14,
    "start_time": "2022-11-14T11:54:10.590Z"
   },
   {
    "duration": 9,
    "start_time": "2022-11-14T11:54:20.952Z"
   },
   {
    "duration": 3,
    "start_time": "2022-11-14T11:57:13.421Z"
   },
   {
    "duration": 53,
    "start_time": "2022-11-14T11:57:14.339Z"
   },
   {
    "duration": 15,
    "start_time": "2022-11-14T11:57:15.025Z"
   },
   {
    "duration": 3,
    "start_time": "2022-11-14T11:57:17.642Z"
   },
   {
    "duration": 15,
    "start_time": "2022-11-14T11:57:18.188Z"
   },
   {
    "duration": 10,
    "start_time": "2022-11-14T11:57:20.395Z"
   },
   {
    "duration": 6,
    "start_time": "2022-11-14T11:57:21.018Z"
   },
   {
    "duration": 12,
    "start_time": "2022-11-14T11:57:25.771Z"
   },
   {
    "duration": 7,
    "start_time": "2022-11-14T11:57:56.965Z"
   },
   {
    "duration": 5,
    "start_time": "2022-11-14T11:57:58.246Z"
   },
   {
    "duration": 18,
    "start_time": "2022-11-14T11:58:17.077Z"
   },
   {
    "duration": 8,
    "start_time": "2022-11-14T11:58:26.391Z"
   },
   {
    "duration": 5,
    "start_time": "2022-11-14T11:58:40.774Z"
   },
   {
    "duration": 5,
    "start_time": "2022-11-14T11:58:44.820Z"
   },
   {
    "duration": 6,
    "start_time": "2022-11-14T11:58:49.855Z"
   },
   {
    "duration": 4,
    "start_time": "2022-11-14T11:58:51.178Z"
   },
   {
    "duration": 6,
    "start_time": "2022-11-14T11:58:53.217Z"
   },
   {
    "duration": 9,
    "start_time": "2022-11-14T11:58:54.555Z"
   },
   {
    "duration": 198,
    "start_time": "2022-11-14T11:58:54.867Z"
   },
   {
    "duration": 2,
    "start_time": "2022-11-14T11:58:55.552Z"
   },
   {
    "duration": 6,
    "start_time": "2022-11-14T11:58:55.949Z"
   },
   {
    "duration": 6,
    "start_time": "2022-11-14T11:58:56.306Z"
   },
   {
    "duration": 15,
    "start_time": "2022-11-14T11:58:57.756Z"
   },
   {
    "duration": 11,
    "start_time": "2022-11-14T11:59:08.185Z"
   },
   {
    "duration": 10,
    "start_time": "2022-11-14T11:59:13.600Z"
   },
   {
    "duration": 10,
    "start_time": "2022-11-14T11:59:14.137Z"
   },
   {
    "duration": 10,
    "start_time": "2022-11-14T12:07:17.952Z"
   },
   {
    "duration": 6,
    "start_time": "2022-11-14T12:07:25.015Z"
   },
   {
    "duration": 20,
    "start_time": "2022-11-14T12:07:35.722Z"
   },
   {
    "duration": 29,
    "start_time": "2022-11-14T12:13:42.027Z"
   },
   {
    "duration": 9,
    "start_time": "2022-11-14T12:15:35.487Z"
   },
   {
    "duration": 152,
    "start_time": "2022-11-14T12:16:05.410Z"
   },
   {
    "duration": 27,
    "start_time": "2022-11-14T12:17:03.709Z"
   },
   {
    "duration": 34,
    "start_time": "2022-11-14T12:17:09.932Z"
   },
   {
    "duration": 25,
    "start_time": "2022-11-14T12:17:17.269Z"
   },
   {
    "duration": 24,
    "start_time": "2022-11-14T12:22:47.092Z"
   },
   {
    "duration": 6,
    "start_time": "2022-11-14T12:22:55.386Z"
   },
   {
    "duration": 9,
    "start_time": "2022-11-14T12:23:25.690Z"
   },
   {
    "duration": 7,
    "start_time": "2022-11-14T12:23:33.465Z"
   },
   {
    "duration": 8,
    "start_time": "2022-11-14T12:23:35.432Z"
   },
   {
    "duration": 14,
    "start_time": "2022-11-14T12:24:28.358Z"
   },
   {
    "duration": 10,
    "start_time": "2022-11-14T12:26:17.319Z"
   },
   {
    "duration": 7,
    "start_time": "2022-11-14T12:26:26.642Z"
   },
   {
    "duration": 5,
    "start_time": "2022-11-14T12:26:53.431Z"
   },
   {
    "duration": 9,
    "start_time": "2022-11-14T12:27:03.658Z"
   },
   {
    "duration": 151,
    "start_time": "2022-11-14T12:28:02.791Z"
   },
   {
    "duration": 8,
    "start_time": "2022-11-14T12:28:17.027Z"
   },
   {
    "duration": 140,
    "start_time": "2022-11-14T12:28:35.866Z"
   },
   {
    "duration": 2,
    "start_time": "2022-11-14T12:30:32.794Z"
   },
   {
    "duration": 150,
    "start_time": "2022-11-14T12:31:18.005Z"
   },
   {
    "duration": 3,
    "start_time": "2022-11-14T12:31:56.659Z"
   },
   {
    "duration": 148,
    "start_time": "2022-11-14T12:31:57.525Z"
   },
   {
    "duration": 177,
    "start_time": "2022-11-14T12:32:21.151Z"
   },
   {
    "duration": 149,
    "start_time": "2022-11-14T12:32:56.315Z"
   },
   {
    "duration": 219,
    "start_time": "2022-11-14T12:33:14.205Z"
   },
   {
    "duration": 143,
    "start_time": "2022-11-14T12:34:17.152Z"
   },
   {
    "duration": 198,
    "start_time": "2022-11-14T12:34:51.846Z"
   },
   {
    "duration": 129,
    "start_time": "2022-11-14T12:35:50.395Z"
   },
   {
    "duration": 148,
    "start_time": "2022-11-14T12:36:01.335Z"
   },
   {
    "duration": 156,
    "start_time": "2022-11-14T12:37:24.664Z"
   },
   {
    "duration": 200,
    "start_time": "2022-11-14T12:37:53.431Z"
   },
   {
    "duration": 44,
    "start_time": "2022-11-14T12:38:05.780Z"
   },
   {
    "duration": 174,
    "start_time": "2022-11-14T12:38:12.401Z"
   },
   {
    "duration": 147,
    "start_time": "2022-11-14T12:39:51.344Z"
   },
   {
    "duration": 150,
    "start_time": "2022-11-14T12:40:14.711Z"
   },
   {
    "duration": 183,
    "start_time": "2022-11-14T12:40:24.812Z"
   },
   {
    "duration": 220,
    "start_time": "2022-11-14T12:40:39.596Z"
   },
   {
    "duration": 6,
    "start_time": "2022-11-14T12:41:10.715Z"
   },
   {
    "duration": 137,
    "start_time": "2022-11-14T12:41:11.303Z"
   },
   {
    "duration": 6,
    "start_time": "2022-11-14T12:41:16.566Z"
   },
   {
    "duration": 7,
    "start_time": "2022-11-14T12:41:31.243Z"
   },
   {
    "duration": 6,
    "start_time": "2022-11-14T12:44:17.679Z"
   },
   {
    "duration": 10,
    "start_time": "2022-11-14T12:44:40.115Z"
   },
   {
    "duration": 126,
    "start_time": "2022-11-14T12:45:01.227Z"
   },
   {
    "duration": 138,
    "start_time": "2022-11-14T12:46:21.054Z"
   },
   {
    "duration": 132,
    "start_time": "2022-11-14T12:47:10.307Z"
   },
   {
    "duration": 127,
    "start_time": "2022-11-14T12:48:55.659Z"
   },
   {
    "duration": 8,
    "start_time": "2022-11-14T13:05:47.366Z"
   },
   {
    "duration": 8,
    "start_time": "2022-11-14T13:05:56.915Z"
   },
   {
    "duration": 175,
    "start_time": "2022-11-14T13:06:07.667Z"
   },
   {
    "duration": 222,
    "start_time": "2022-11-14T13:06:13.235Z"
   },
   {
    "duration": 71,
    "start_time": "2022-11-14T13:07:05.449Z"
   },
   {
    "duration": 69,
    "start_time": "2022-11-14T13:07:35.345Z"
   },
   {
    "duration": 15,
    "start_time": "2022-11-14T13:08:12.300Z"
   },
   {
    "duration": 107,
    "start_time": "2022-11-14T13:09:48.301Z"
   },
   {
    "duration": 13,
    "start_time": "2022-11-14T13:12:03.228Z"
   },
   {
    "duration": 25,
    "start_time": "2022-11-14T13:12:18.899Z"
   },
   {
    "duration": 136,
    "start_time": "2022-11-14T13:12:45.687Z"
   },
   {
    "duration": 171,
    "start_time": "2022-11-14T13:13:07.984Z"
   },
   {
    "duration": 216,
    "start_time": "2022-11-14T13:13:20.685Z"
   },
   {
    "duration": 173,
    "start_time": "2022-11-14T13:14:42.702Z"
   },
   {
    "duration": 11,
    "start_time": "2022-11-14T13:16:37.124Z"
   },
   {
    "duration": 11,
    "start_time": "2022-11-14T13:16:45.914Z"
   },
   {
    "duration": 11,
    "start_time": "2022-11-14T13:16:56.451Z"
   },
   {
    "duration": 14,
    "start_time": "2022-11-14T13:17:02.718Z"
   },
   {
    "duration": 43,
    "start_time": "2022-11-14T13:17:08.646Z"
   },
   {
    "duration": 7267,
    "start_time": "2022-11-14T13:17:22.025Z"
   },
   {
    "duration": 6779,
    "start_time": "2022-11-14T13:17:48.900Z"
   },
   {
    "duration": 166,
    "start_time": "2022-11-14T13:18:29.503Z"
   },
   {
    "duration": 456,
    "start_time": "2022-11-14T13:18:58.336Z"
   },
   {
    "duration": 295,
    "start_time": "2022-11-14T13:21:06.671Z"
   },
   {
    "duration": 629,
    "start_time": "2022-11-14T13:21:16.506Z"
   },
   {
    "duration": 299,
    "start_time": "2022-11-14T13:21:24.906Z"
   },
   {
    "duration": 555,
    "start_time": "2022-11-14T13:22:59.746Z"
   },
   {
    "duration": 545,
    "start_time": "2022-11-14T13:23:12.790Z"
   },
   {
    "duration": 501,
    "start_time": "2022-11-14T13:23:20.529Z"
   },
   {
    "duration": 580,
    "start_time": "2022-11-14T13:23:36.807Z"
   },
   {
    "duration": 13,
    "start_time": "2022-11-14T13:31:14.514Z"
   },
   {
    "duration": 140,
    "start_time": "2022-11-14T13:31:27.344Z"
   },
   {
    "duration": 123,
    "start_time": "2022-11-14T13:31:43.489Z"
   },
   {
    "duration": 9,
    "start_time": "2022-11-14T13:32:20.050Z"
   },
   {
    "duration": 110,
    "start_time": "2022-11-14T13:32:59.876Z"
   },
   {
    "duration": 79,
    "start_time": "2022-11-14T13:36:31.741Z"
   },
   {
    "duration": 19,
    "start_time": "2022-11-14T13:36:53.167Z"
   },
   {
    "duration": 30,
    "start_time": "2022-11-14T13:37:22.964Z"
   },
   {
    "duration": 71,
    "start_time": "2022-11-14T13:37:42.091Z"
   },
   {
    "duration": 51,
    "start_time": "2022-11-14T13:38:03.575Z"
   },
   {
    "duration": 94,
    "start_time": "2022-11-14T13:38:14.993Z"
   },
   {
    "duration": 22,
    "start_time": "2022-11-14T13:38:23.847Z"
   },
   {
    "duration": 22,
    "start_time": "2022-11-14T13:38:32.924Z"
   },
   {
    "duration": 102,
    "start_time": "2022-11-14T13:38:49.319Z"
   },
   {
    "duration": 143,
    "start_time": "2022-11-14T13:40:03.397Z"
   },
   {
    "duration": 15,
    "start_time": "2022-11-14T13:40:24.575Z"
   },
   {
    "duration": 138,
    "start_time": "2022-11-14T13:40:48.808Z"
   },
   {
    "duration": 13,
    "start_time": "2022-11-14T13:41:19.087Z"
   },
   {
    "duration": 144,
    "start_time": "2022-11-14T13:41:50.847Z"
   },
   {
    "duration": 141,
    "start_time": "2022-11-14T13:41:59.403Z"
   },
   {
    "duration": 11,
    "start_time": "2022-11-14T13:42:35.749Z"
   },
   {
    "duration": 104,
    "start_time": "2022-11-14T13:42:41.417Z"
   },
   {
    "duration": 12,
    "start_time": "2022-11-14T13:44:42.678Z"
   },
   {
    "duration": 8,
    "start_time": "2022-11-14T13:44:48.606Z"
   },
   {
    "duration": 11,
    "start_time": "2022-11-14T13:44:55.363Z"
   },
   {
    "duration": 130,
    "start_time": "2022-11-14T13:45:09.061Z"
   },
   {
    "duration": 153,
    "start_time": "2022-11-14T13:45:31.217Z"
   },
   {
    "duration": 43,
    "start_time": "2022-11-14T13:45:55.767Z"
   },
   {
    "duration": 11,
    "start_time": "2022-11-14T13:46:09.589Z"
   },
   {
    "duration": 119,
    "start_time": "2022-11-14T13:46:25.942Z"
   },
   {
    "duration": 13,
    "start_time": "2022-11-14T13:47:15.152Z"
   },
   {
    "duration": 12,
    "start_time": "2022-11-14T13:47:23.742Z"
   },
   {
    "duration": 13,
    "start_time": "2022-11-14T13:47:27.943Z"
   },
   {
    "duration": 68,
    "start_time": "2022-11-14T13:47:49.495Z"
   },
   {
    "duration": 3,
    "start_time": "2022-11-14T13:53:12.151Z"
   },
   {
    "duration": 396,
    "start_time": "2022-11-14T13:56:54.910Z"
   },
   {
    "duration": 4,
    "start_time": "2022-11-14T13:57:26.180Z"
   },
   {
    "duration": 60,
    "start_time": "2022-11-14T13:57:26.569Z"
   },
   {
    "duration": 14,
    "start_time": "2022-11-14T13:57:27.025Z"
   },
   {
    "duration": 3,
    "start_time": "2022-11-14T13:57:28.271Z"
   },
   {
    "duration": 15,
    "start_time": "2022-11-14T13:57:28.660Z"
   },
   {
    "duration": 11,
    "start_time": "2022-11-14T13:57:30.205Z"
   },
   {
    "duration": 5,
    "start_time": "2022-11-14T13:57:30.660Z"
   },
   {
    "duration": 7,
    "start_time": "2022-11-14T13:57:31.178Z"
   },
   {
    "duration": 5,
    "start_time": "2022-11-14T13:57:31.628Z"
   },
   {
    "duration": 5,
    "start_time": "2022-11-14T13:57:32.056Z"
   },
   {
    "duration": 6,
    "start_time": "2022-11-14T13:57:33.323Z"
   },
   {
    "duration": 5,
    "start_time": "2022-11-14T13:57:34.317Z"
   },
   {
    "duration": 6,
    "start_time": "2022-11-14T13:57:36.898Z"
   },
   {
    "duration": 10,
    "start_time": "2022-11-14T13:57:37.869Z"
   },
   {
    "duration": 214,
    "start_time": "2022-11-14T13:57:38.372Z"
   },
   {
    "duration": 3,
    "start_time": "2022-11-14T13:57:48.949Z"
   },
   {
    "duration": 6,
    "start_time": "2022-11-14T13:57:49.572Z"
   },
   {
    "duration": 7,
    "start_time": "2022-11-14T13:58:01.247Z"
   },
   {
    "duration": 15,
    "start_time": "2022-11-14T13:58:03.153Z"
   },
   {
    "duration": 11,
    "start_time": "2022-11-14T13:58:04.896Z"
   },
   {
    "duration": 9,
    "start_time": "2022-11-14T13:58:06.505Z"
   },
   {
    "duration": 10,
    "start_time": "2022-11-14T13:58:07.094Z"
   },
   {
    "duration": 6,
    "start_time": "2022-11-14T13:58:11.033Z"
   },
   {
    "duration": 14,
    "start_time": "2022-11-14T13:58:11.561Z"
   },
   {
    "duration": 3,
    "start_time": "2022-11-14T13:58:17.254Z"
   },
   {
    "duration": 7,
    "start_time": "2022-11-14T13:58:21.199Z"
   },
   {
    "duration": 144,
    "start_time": "2022-11-14T13:58:25.148Z"
   },
   {
    "duration": 635,
    "start_time": "2022-11-14T13:58:31.691Z"
   },
   {
    "duration": 3,
    "start_time": "2022-11-14T13:58:37.630Z"
   },
   {
    "duration": 363,
    "start_time": "2022-11-14T13:58:38.346Z"
   },
   {
    "duration": 11,
    "start_time": "2022-11-14T14:01:12.902Z"
   },
   {
    "duration": 14,
    "start_time": "2022-11-14T14:01:52.863Z"
   },
   {
    "duration": 6,
    "start_time": "2022-11-14T14:02:26.650Z"
   },
   {
    "duration": 9,
    "start_time": "2022-11-14T14:02:38.074Z"
   },
   {
    "duration": 150,
    "start_time": "2022-11-14T14:02:57.508Z"
   },
   {
    "duration": 128,
    "start_time": "2022-11-14T14:09:39.727Z"
   },
   {
    "duration": 355,
    "start_time": "2022-11-14T14:10:06.527Z"
   },
   {
    "duration": 11,
    "start_time": "2022-11-14T14:12:19.269Z"
   },
   {
    "duration": 3,
    "start_time": "2022-11-14T14:13:54.221Z"
   },
   {
    "duration": 48,
    "start_time": "2022-11-14T14:13:54.628Z"
   },
   {
    "duration": 16,
    "start_time": "2022-11-14T14:13:54.910Z"
   },
   {
    "duration": 3,
    "start_time": "2022-11-14T14:13:56.439Z"
   },
   {
    "duration": 15,
    "start_time": "2022-11-14T14:13:56.791Z"
   },
   {
    "duration": 11,
    "start_time": "2022-11-14T14:13:57.868Z"
   },
   {
    "duration": 5,
    "start_time": "2022-11-14T14:13:58.226Z"
   },
   {
    "duration": 7,
    "start_time": "2022-11-14T14:13:58.594Z"
   },
   {
    "duration": 5,
    "start_time": "2022-11-14T14:13:58.972Z"
   },
   {
    "duration": 5,
    "start_time": "2022-11-14T14:13:59.357Z"
   },
   {
    "duration": 6,
    "start_time": "2022-11-14T14:14:01.368Z"
   },
   {
    "duration": 4,
    "start_time": "2022-11-14T14:14:02.371Z"
   },
   {
    "duration": 6,
    "start_time": "2022-11-14T14:14:03.616Z"
   },
   {
    "duration": 9,
    "start_time": "2022-11-14T14:14:04.485Z"
   },
   {
    "duration": 198,
    "start_time": "2022-11-14T14:14:06.175Z"
   },
   {
    "duration": 200,
    "start_time": "2022-11-14T14:14:39.649Z"
   },
   {
    "duration": 3,
    "start_time": "2022-11-14T14:14:53.990Z"
   },
   {
    "duration": 6,
    "start_time": "2022-11-14T14:14:54.964Z"
   },
   {
    "duration": 6,
    "start_time": "2022-11-14T14:15:00.276Z"
   },
   {
    "duration": 16,
    "start_time": "2022-11-14T14:15:03.332Z"
   },
   {
    "duration": 10,
    "start_time": "2022-11-14T14:15:07.133Z"
   },
   {
    "duration": 9,
    "start_time": "2022-11-14T14:15:09.259Z"
   },
   {
    "duration": 9,
    "start_time": "2022-11-14T14:15:09.572Z"
   },
   {
    "duration": 6,
    "start_time": "2022-11-14T14:15:10.590Z"
   },
   {
    "duration": 15,
    "start_time": "2022-11-14T14:15:10.949Z"
   },
   {
    "duration": 3,
    "start_time": "2022-11-14T14:15:12.743Z"
   },
   {
    "duration": 9,
    "start_time": "2022-11-14T14:15:13.503Z"
   },
   {
    "duration": 143,
    "start_time": "2022-11-14T14:15:14.178Z"
   },
   {
    "duration": 509,
    "start_time": "2022-11-14T14:15:18.246Z"
   },
   {
    "duration": 118,
    "start_time": "2022-11-14T14:15:19.362Z"
   },
   {
    "duration": 397,
    "start_time": "2022-11-14T14:15:20.247Z"
   },
   {
    "duration": 10,
    "start_time": "2022-11-14T14:19:08.723Z"
   },
   {
    "duration": 13,
    "start_time": "2022-11-14T14:19:12.866Z"
   },
   {
    "duration": 119,
    "start_time": "2022-11-14T14:20:37.273Z"
   },
   {
    "duration": 127,
    "start_time": "2022-11-14T14:20:43.067Z"
   },
   {
    "duration": 293,
    "start_time": "2022-11-14T14:22:57.774Z"
   },
   {
    "duration": 288,
    "start_time": "2022-11-14T14:23:05.479Z"
   },
   {
    "duration": 146,
    "start_time": "2022-11-14T14:23:34.676Z"
   },
   {
    "duration": 5,
    "start_time": "2022-11-14T14:23:42.868Z"
   },
   {
    "duration": 3,
    "start_time": "2022-11-14T14:23:53.800Z"
   },
   {
    "duration": 15,
    "start_time": "2022-11-14T14:24:30.442Z"
   },
   {
    "duration": 304,
    "start_time": "2022-11-14T14:24:31.839Z"
   },
   {
    "duration": 127,
    "start_time": "2022-11-14T14:24:38.395Z"
   },
   {
    "duration": 10,
    "start_time": "2022-11-14T14:24:51.763Z"
   },
   {
    "duration": 10,
    "start_time": "2022-11-14T14:26:43.301Z"
   },
   {
    "duration": 10,
    "start_time": "2022-11-14T14:26:52.595Z"
   },
   {
    "duration": 127,
    "start_time": "2022-11-14T14:27:32.656Z"
   },
   {
    "duration": 8,
    "start_time": "2022-11-14T14:28:15.373Z"
   },
   {
    "duration": 305,
    "start_time": "2022-11-14T14:28:39.504Z"
   },
   {
    "duration": 5,
    "start_time": "2022-11-14T14:29:23.955Z"
   },
   {
    "duration": 17,
    "start_time": "2022-11-14T14:29:41.843Z"
   },
   {
    "duration": 36,
    "start_time": "2022-11-14T14:29:48.244Z"
   },
   {
    "duration": 310,
    "start_time": "2022-11-14T14:29:57.500Z"
   },
   {
    "duration": 419,
    "start_time": "2022-11-14T14:30:04.360Z"
   },
   {
    "duration": 21,
    "start_time": "2022-11-14T14:34:59.662Z"
   },
   {
    "duration": 19,
    "start_time": "2022-11-14T14:35:11.414Z"
   },
   {
    "duration": 110,
    "start_time": "2022-11-14T14:36:02.159Z"
   },
   {
    "duration": 9,
    "start_time": "2022-11-14T14:36:34.776Z"
   },
   {
    "duration": 15,
    "start_time": "2022-11-14T14:36:45.549Z"
   },
   {
    "duration": 28,
    "start_time": "2022-11-14T14:37:49.941Z"
   },
   {
    "duration": 16,
    "start_time": "2022-11-14T14:39:10.566Z"
   },
   {
    "duration": 32,
    "start_time": "2022-11-14T14:39:36.518Z"
   },
   {
    "duration": 3,
    "start_time": "2022-11-14T14:40:01.436Z"
   },
   {
    "duration": 46,
    "start_time": "2022-11-14T14:40:01.905Z"
   },
   {
    "duration": 16,
    "start_time": "2022-11-14T14:40:02.486Z"
   },
   {
    "duration": 4,
    "start_time": "2022-11-14T14:40:04.026Z"
   },
   {
    "duration": 15,
    "start_time": "2022-11-14T14:40:04.499Z"
   },
   {
    "duration": 10,
    "start_time": "2022-11-14T14:40:06.064Z"
   },
   {
    "duration": 8,
    "start_time": "2022-11-14T14:40:06.646Z"
   },
   {
    "duration": 8,
    "start_time": "2022-11-14T14:40:07.298Z"
   },
   {
    "duration": 5,
    "start_time": "2022-11-14T14:40:07.733Z"
   },
   {
    "duration": 5,
    "start_time": "2022-11-14T14:40:08.388Z"
   },
   {
    "duration": 5,
    "start_time": "2022-11-14T14:40:09.490Z"
   },
   {
    "duration": 5,
    "start_time": "2022-11-14T14:40:10.725Z"
   },
   {
    "duration": 6,
    "start_time": "2022-11-14T14:40:12.740Z"
   },
   {
    "duration": 7,
    "start_time": "2022-11-14T14:40:13.978Z"
   },
   {
    "duration": 203,
    "start_time": "2022-11-14T14:40:14.346Z"
   },
   {
    "duration": 3,
    "start_time": "2022-11-14T14:40:15.520Z"
   },
   {
    "duration": 5,
    "start_time": "2022-11-14T14:40:16.100Z"
   },
   {
    "duration": 6,
    "start_time": "2022-11-14T14:40:16.660Z"
   },
   {
    "duration": 15,
    "start_time": "2022-11-14T14:40:18.955Z"
   },
   {
    "duration": 9,
    "start_time": "2022-11-14T14:40:20.297Z"
   },
   {
    "duration": 9,
    "start_time": "2022-11-14T14:40:21.512Z"
   },
   {
    "duration": 9,
    "start_time": "2022-11-14T14:40:21.890Z"
   },
   {
    "duration": 9,
    "start_time": "2022-11-14T14:40:23.540Z"
   },
   {
    "duration": 15,
    "start_time": "2022-11-14T14:40:24.176Z"
   },
   {
    "duration": 2,
    "start_time": "2022-11-14T14:40:26.674Z"
   },
   {
    "duration": 8,
    "start_time": "2022-11-14T14:40:27.222Z"
   },
   {
    "duration": 151,
    "start_time": "2022-11-14T14:40:27.982Z"
   },
   {
    "duration": 513,
    "start_time": "2022-11-14T14:40:30.077Z"
   },
   {
    "duration": 141,
    "start_time": "2022-11-14T14:40:33.714Z"
   },
   {
    "duration": 27,
    "start_time": "2022-11-14T14:40:34.810Z"
   },
   {
    "duration": 298,
    "start_time": "2022-11-14T14:40:38.184Z"
   },
   {
    "duration": 28,
    "start_time": "2022-11-14T14:40:54.733Z"
   },
   {
    "duration": 47,
    "start_time": "2022-11-14T14:46:23.325Z"
   },
   {
    "duration": 8,
    "start_time": "2022-11-14T14:47:09.050Z"
   },
   {
    "duration": 9,
    "start_time": "2022-11-14T14:47:20.241Z"
   },
   {
    "duration": 11,
    "start_time": "2022-11-14T14:47:36.541Z"
   },
   {
    "duration": 36,
    "start_time": "2022-11-14T14:48:36.700Z"
   },
   {
    "duration": 8,
    "start_time": "2022-11-14T14:55:33.023Z"
   },
   {
    "duration": 147,
    "start_time": "2022-11-14T14:55:56.535Z"
   },
   {
    "duration": 8,
    "start_time": "2022-11-14T15:00:21.630Z"
   },
   {
    "duration": 119,
    "start_time": "2022-11-14T15:00:24.439Z"
   },
   {
    "duration": 8,
    "start_time": "2022-11-14T15:01:52.671Z"
   },
   {
    "duration": 14,
    "start_time": "2022-11-14T15:02:00.226Z"
   },
   {
    "duration": 16,
    "start_time": "2022-11-14T15:04:07.783Z"
   },
   {
    "duration": 13,
    "start_time": "2022-11-14T15:04:35.170Z"
   },
   {
    "duration": 13,
    "start_time": "2022-11-14T15:04:38.313Z"
   },
   {
    "duration": 8,
    "start_time": "2022-11-14T15:04:51.096Z"
   },
   {
    "duration": 784,
    "start_time": "2022-11-14T15:15:50.908Z"
   },
   {
    "duration": 7,
    "start_time": "2022-11-14T15:16:25.159Z"
   },
   {
    "duration": 8,
    "start_time": "2022-11-14T15:16:29.822Z"
   },
   {
    "duration": 116,
    "start_time": "2022-11-14T15:16:34.968Z"
   },
   {
    "duration": 3,
    "start_time": "2022-11-14T15:17:21.006Z"
   },
   {
    "duration": 49,
    "start_time": "2022-11-14T15:17:21.639Z"
   },
   {
    "duration": 14,
    "start_time": "2022-11-14T15:17:22.597Z"
   },
   {
    "duration": 4,
    "start_time": "2022-11-14T15:17:24.676Z"
   },
   {
    "duration": 15,
    "start_time": "2022-11-14T15:17:25.197Z"
   },
   {
    "duration": 10,
    "start_time": "2022-11-14T15:17:26.986Z"
   },
   {
    "duration": 5,
    "start_time": "2022-11-14T15:17:27.807Z"
   },
   {
    "duration": 6,
    "start_time": "2022-11-14T15:17:28.573Z"
   },
   {
    "duration": 5,
    "start_time": "2022-11-14T15:17:29.077Z"
   },
   {
    "duration": 6,
    "start_time": "2022-11-14T15:17:29.673Z"
   },
   {
    "duration": 7,
    "start_time": "2022-11-14T15:17:30.763Z"
   },
   {
    "duration": 5,
    "start_time": "2022-11-14T15:17:31.816Z"
   },
   {
    "duration": 6,
    "start_time": "2022-11-14T15:17:33.515Z"
   },
   {
    "duration": 9,
    "start_time": "2022-11-14T15:17:34.606Z"
   },
   {
    "duration": 230,
    "start_time": "2022-11-14T15:17:35.708Z"
   },
   {
    "duration": 4,
    "start_time": "2022-11-14T15:17:36.816Z"
   },
   {
    "duration": 8,
    "start_time": "2022-11-14T15:17:37.360Z"
   },
   {
    "duration": 8,
    "start_time": "2022-11-14T15:17:37.753Z"
   },
   {
    "duration": 14,
    "start_time": "2022-11-14T15:17:38.739Z"
   },
   {
    "duration": 10,
    "start_time": "2022-11-14T15:17:40.846Z"
   },
   {
    "duration": 9,
    "start_time": "2022-11-14T15:17:42.323Z"
   },
   {
    "duration": 11,
    "start_time": "2022-11-14T15:17:42.798Z"
   },
   {
    "duration": 6,
    "start_time": "2022-11-14T15:17:44.358Z"
   },
   {
    "duration": 15,
    "start_time": "2022-11-14T15:17:44.897Z"
   },
   {
    "duration": 3,
    "start_time": "2022-11-14T15:17:47.067Z"
   },
   {
    "duration": 8,
    "start_time": "2022-11-14T15:17:47.719Z"
   },
   {
    "duration": 154,
    "start_time": "2022-11-14T15:17:48.370Z"
   },
   {
    "duration": 643,
    "start_time": "2022-11-14T15:17:51.207Z"
   },
   {
    "duration": 121,
    "start_time": "2022-11-14T15:18:06.091Z"
   },
   {
    "duration": 29,
    "start_time": "2022-11-14T15:18:08.404Z"
   },
   {
    "duration": 296,
    "start_time": "2022-11-14T15:18:10.154Z"
   },
   {
    "duration": 7,
    "start_time": "2022-11-14T15:18:15.616Z"
   },
   {
    "duration": 9,
    "start_time": "2022-11-14T15:18:17.961Z"
   },
   {
    "duration": 8,
    "start_time": "2022-11-14T15:21:15.269Z"
   },
   {
    "duration": 8,
    "start_time": "2022-11-14T15:21:19.633Z"
   },
   {
    "duration": 6,
    "start_time": "2022-11-14T15:22:43.612Z"
   },
   {
    "duration": 8,
    "start_time": "2022-11-14T15:22:46.543Z"
   },
   {
    "duration": 11,
    "start_time": "2022-11-14T15:23:46.363Z"
   },
   {
    "duration": 6,
    "start_time": "2022-11-14T15:24:00.360Z"
   },
   {
    "duration": 23,
    "start_time": "2022-11-14T15:24:02.094Z"
   },
   {
    "duration": 5,
    "start_time": "2022-11-14T15:24:23.278Z"
   },
   {
    "duration": 22,
    "start_time": "2022-11-14T15:24:24.007Z"
   },
   {
    "duration": 56,
    "start_time": "2022-11-14T15:30:54.018Z"
   },
   {
    "duration": 47,
    "start_time": "2022-11-14T15:32:03.561Z"
   },
   {
    "duration": 5,
    "start_time": "2022-11-14T15:32:14.932Z"
   },
   {
    "duration": 23,
    "start_time": "2022-11-14T15:32:32.684Z"
   },
   {
    "duration": 354,
    "start_time": "2022-11-15T07:26:17.173Z"
   },
   {
    "duration": 90,
    "start_time": "2022-11-15T07:26:17.641Z"
   },
   {
    "duration": 14,
    "start_time": "2022-11-15T07:26:18.289Z"
   },
   {
    "duration": 5,
    "start_time": "2022-11-15T07:26:19.763Z"
   },
   {
    "duration": 23,
    "start_time": "2022-11-15T07:26:20.025Z"
   },
   {
    "duration": 10,
    "start_time": "2022-11-15T07:26:20.974Z"
   },
   {
    "duration": 5,
    "start_time": "2022-11-15T07:26:21.237Z"
   },
   {
    "duration": 8,
    "start_time": "2022-11-15T07:26:21.570Z"
   },
   {
    "duration": 5,
    "start_time": "2022-11-15T07:26:21.890Z"
   },
   {
    "duration": 4,
    "start_time": "2022-11-15T07:26:22.175Z"
   },
   {
    "duration": 5,
    "start_time": "2022-11-15T07:26:22.973Z"
   },
   {
    "duration": 5,
    "start_time": "2022-11-15T07:26:23.724Z"
   },
   {
    "duration": 5,
    "start_time": "2022-11-15T07:26:24.840Z"
   },
   {
    "duration": 8,
    "start_time": "2022-11-15T07:26:25.657Z"
   },
   {
    "duration": 632,
    "start_time": "2022-11-15T07:26:26.838Z"
   },
   {
    "duration": 3,
    "start_time": "2022-11-15T07:26:29.991Z"
   },
   {
    "duration": 6,
    "start_time": "2022-11-15T07:26:30.542Z"
   },
   {
    "duration": 7,
    "start_time": "2022-11-15T07:26:30.989Z"
   },
   {
    "duration": 15,
    "start_time": "2022-11-15T07:26:31.841Z"
   },
   {
    "duration": 9,
    "start_time": "2022-11-15T07:26:33.117Z"
   },
   {
    "duration": 9,
    "start_time": "2022-11-15T07:26:34.142Z"
   },
   {
    "duration": 290,
    "start_time": "2022-11-15T07:26:34.468Z"
   },
   {
    "duration": 6,
    "start_time": "2022-11-15T07:26:35.476Z"
   },
   {
    "duration": 18,
    "start_time": "2022-11-15T07:26:35.833Z"
   },
   {
    "duration": 3,
    "start_time": "2022-11-15T07:26:37.127Z"
   },
   {
    "duration": 8,
    "start_time": "2022-11-15T07:26:38.220Z"
   },
   {
    "duration": 141,
    "start_time": "2022-11-15T07:26:38.840Z"
   },
   {
    "duration": 613,
    "start_time": "2022-11-15T07:26:40.575Z"
   },
   {
    "duration": 111,
    "start_time": "2022-11-15T07:26:41.770Z"
   },
   {
    "duration": 23,
    "start_time": "2022-11-15T07:26:43.716Z"
   },
   {
    "duration": 274,
    "start_time": "2022-11-15T07:26:45.475Z"
   },
   {
    "duration": 6,
    "start_time": "2022-11-15T07:26:47.952Z"
   },
   {
    "duration": 22,
    "start_time": "2022-11-15T07:26:53.117Z"
   },
   {
    "duration": 5,
    "start_time": "2022-11-15T07:27:47.528Z"
   },
   {
    "duration": 22,
    "start_time": "2022-11-15T07:27:50.900Z"
   },
   {
    "duration": 6,
    "start_time": "2022-11-15T07:33:33.135Z"
   },
   {
    "duration": 71,
    "start_time": "2022-11-15T07:34:13.424Z"
   },
   {
    "duration": 115,
    "start_time": "2022-11-15T07:34:18.462Z"
   },
   {
    "duration": 8,
    "start_time": "2022-11-15T07:34:30.244Z"
   },
   {
    "duration": 8,
    "start_time": "2022-11-15T07:37:37.399Z"
   },
   {
    "duration": 1214,
    "start_time": "2022-11-15T07:37:46.198Z"
   },
   {
    "duration": 250,
    "start_time": "2022-11-15T07:37:58.283Z"
   },
   {
    "duration": 24,
    "start_time": "2022-11-15T07:38:44.367Z"
   },
   {
    "duration": 276,
    "start_time": "2022-11-15T07:39:02.796Z"
   },
   {
    "duration": 7,
    "start_time": "2022-11-15T07:40:37.903Z"
   },
   {
    "duration": 7,
    "start_time": "2022-11-15T07:41:36.029Z"
   },
   {
    "duration": 7,
    "start_time": "2022-11-15T07:41:41.884Z"
   },
   {
    "duration": 168,
    "start_time": "2022-11-15T07:42:39.675Z"
   },
   {
    "duration": 264,
    "start_time": "2022-11-15T07:43:48.337Z"
   },
   {
    "duration": 157,
    "start_time": "2022-11-15T07:44:04.591Z"
   },
   {
    "duration": 151,
    "start_time": "2022-11-15T07:44:15.368Z"
   },
   {
    "duration": 638,
    "start_time": "2022-11-15T07:44:59.344Z"
   },
   {
    "duration": 9,
    "start_time": "2022-11-15T07:46:27.663Z"
   },
   {
    "duration": 6,
    "start_time": "2022-11-15T07:46:43.579Z"
   },
   {
    "duration": 143,
    "start_time": "2022-11-15T07:47:04.218Z"
   },
   {
    "duration": 29,
    "start_time": "2022-11-15T07:53:11.201Z"
   },
   {
    "duration": 9,
    "start_time": "2022-11-15T07:53:24.146Z"
   },
   {
    "duration": 27,
    "start_time": "2022-11-15T07:55:10.342Z"
   },
   {
    "duration": 255,
    "start_time": "2022-11-15T07:55:30.959Z"
   },
   {
    "duration": 25,
    "start_time": "2022-11-15T07:55:44.645Z"
   },
   {
    "duration": 301,
    "start_time": "2022-11-15T07:55:48.756Z"
   },
   {
    "duration": 8,
    "start_time": "2022-11-15T07:59:55.743Z"
   },
   {
    "duration": 8,
    "start_time": "2022-11-15T07:59:57.717Z"
   },
   {
    "duration": 6,
    "start_time": "2022-11-15T08:00:25.325Z"
   },
   {
    "duration": 23,
    "start_time": "2022-11-15T08:00:26.795Z"
   },
   {
    "duration": 132,
    "start_time": "2022-11-15T08:00:30.180Z"
   },
   {
    "duration": 8,
    "start_time": "2022-11-15T08:03:07.190Z"
   },
   {
    "duration": 7,
    "start_time": "2022-11-15T08:03:08.233Z"
   },
   {
    "duration": 7,
    "start_time": "2022-11-15T08:03:09.297Z"
   },
   {
    "duration": 24,
    "start_time": "2022-11-15T08:03:10.830Z"
   },
   {
    "duration": 131,
    "start_time": "2022-11-15T08:03:16.714Z"
   },
   {
    "duration": 10,
    "start_time": "2022-11-15T08:04:01.851Z"
   },
   {
    "duration": 8,
    "start_time": "2022-11-15T08:04:17.028Z"
   },
   {
    "duration": 7,
    "start_time": "2022-11-15T08:04:19.532Z"
   },
   {
    "duration": 24,
    "start_time": "2022-11-15T08:04:19.990Z"
   },
   {
    "duration": 142,
    "start_time": "2022-11-15T08:04:23.027Z"
   },
   {
    "duration": 8,
    "start_time": "2022-11-15T08:20:46.615Z"
   },
   {
    "duration": 211,
    "start_time": "2022-11-15T08:20:53.155Z"
   },
   {
    "duration": 15,
    "start_time": "2022-11-15T08:21:12.860Z"
   },
   {
    "duration": 24,
    "start_time": "2022-11-15T08:24:24.656Z"
   },
   {
    "duration": 14,
    "start_time": "2022-11-15T08:24:37.798Z"
   },
   {
    "duration": 4,
    "start_time": "2022-11-15T08:25:07.889Z"
   },
   {
    "duration": 5,
    "start_time": "2022-11-15T08:25:59.019Z"
   },
   {
    "duration": 243,
    "start_time": "2022-11-15T08:26:02.214Z"
   },
   {
    "duration": 5,
    "start_time": "2022-11-15T08:26:38.208Z"
   },
   {
    "duration": 5,
    "start_time": "2022-11-15T08:27:06.996Z"
   },
   {
    "duration": 5,
    "start_time": "2022-11-15T08:28:33.523Z"
   },
   {
    "duration": 5,
    "start_time": "2022-11-15T08:28:35.755Z"
   },
   {
    "duration": 7,
    "start_time": "2022-11-15T08:29:58.631Z"
   },
   {
    "duration": 5,
    "start_time": "2022-11-15T08:30:10.655Z"
   },
   {
    "duration": 7,
    "start_time": "2022-11-15T08:30:12.671Z"
   },
   {
    "duration": 215,
    "start_time": "2022-11-15T08:31:13.147Z"
   },
   {
    "duration": 164,
    "start_time": "2022-11-15T08:31:39.826Z"
   },
   {
    "duration": 231,
    "start_time": "2022-11-15T08:32:19.324Z"
   },
   {
    "duration": 155,
    "start_time": "2022-11-15T08:32:28.811Z"
   },
   {
    "duration": 137,
    "start_time": "2022-11-15T08:33:29.799Z"
   },
   {
    "duration": 184,
    "start_time": "2022-11-15T08:33:44.023Z"
   },
   {
    "duration": 15,
    "start_time": "2022-11-15T08:37:39.944Z"
   },
   {
    "duration": 6,
    "start_time": "2022-11-15T08:38:26.210Z"
   },
   {
    "duration": 6,
    "start_time": "2022-11-15T08:38:36.589Z"
   },
   {
    "duration": 142,
    "start_time": "2022-11-15T08:41:08.407Z"
   },
   {
    "duration": 135,
    "start_time": "2022-11-15T08:41:11.226Z"
   },
   {
    "duration": 134,
    "start_time": "2022-11-15T08:41:29.227Z"
   },
   {
    "duration": 137,
    "start_time": "2022-11-15T08:41:32.275Z"
   },
   {
    "duration": 70,
    "start_time": "2022-11-15T08:43:57.376Z"
   },
   {
    "duration": 15,
    "start_time": "2022-11-15T08:44:03.233Z"
   },
   {
    "duration": 5,
    "start_time": "2022-11-15T08:44:40.367Z"
   },
   {
    "duration": 5,
    "start_time": "2022-11-15T08:44:49.473Z"
   },
   {
    "duration": 130,
    "start_time": "2022-11-15T08:45:16.798Z"
   },
   {
    "duration": 130,
    "start_time": "2022-11-15T08:45:17.557Z"
   },
   {
    "duration": 7,
    "start_time": "2022-11-15T08:53:18.956Z"
   },
   {
    "duration": 7,
    "start_time": "2022-11-15T08:53:52.339Z"
   },
   {
    "duration": 9,
    "start_time": "2022-11-15T08:54:04.651Z"
   },
   {
    "duration": 31,
    "start_time": "2022-11-15T09:12:14.217Z"
   },
   {
    "duration": 12,
    "start_time": "2022-11-15T09:12:38.784Z"
   },
   {
    "duration": 47,
    "start_time": "2022-11-15T09:13:34.754Z"
   },
   {
    "duration": 8,
    "start_time": "2022-11-15T09:13:53.023Z"
   },
   {
    "duration": 7,
    "start_time": "2022-11-15T09:15:24.381Z"
   },
   {
    "duration": 8,
    "start_time": "2022-11-15T09:15:30.501Z"
   },
   {
    "duration": 121,
    "start_time": "2022-11-15T09:16:17.500Z"
   },
   {
    "duration": 8,
    "start_time": "2022-11-15T09:16:21.124Z"
   },
   {
    "duration": 76,
    "start_time": "2022-11-15T09:16:28.374Z"
   },
   {
    "duration": 13,
    "start_time": "2022-11-15T09:16:35.117Z"
   },
   {
    "duration": 24,
    "start_time": "2022-11-15T09:17:04.919Z"
   },
   {
    "duration": 14,
    "start_time": "2022-11-15T09:17:55.907Z"
   },
   {
    "duration": 15,
    "start_time": "2022-11-15T09:18:07.888Z"
   },
   {
    "duration": 20,
    "start_time": "2022-11-15T09:18:16.060Z"
   },
   {
    "duration": 9,
    "start_time": "2022-11-15T09:19:09.824Z"
   },
   {
    "duration": 9,
    "start_time": "2022-11-15T09:19:49.145Z"
   },
   {
    "duration": 123,
    "start_time": "2022-11-15T09:27:53.556Z"
   },
   {
    "duration": 143,
    "start_time": "2022-11-15T09:28:15.082Z"
   },
   {
    "duration": 7,
    "start_time": "2022-11-15T09:28:42.595Z"
   },
   {
    "duration": 9,
    "start_time": "2022-11-15T09:28:50.620Z"
   },
   {
    "duration": 215,
    "start_time": "2022-11-15T09:30:02.907Z"
   },
   {
    "duration": 239,
    "start_time": "2022-11-15T09:30:10.988Z"
   },
   {
    "duration": 11,
    "start_time": "2022-11-15T09:30:52.453Z"
   },
   {
    "duration": 7,
    "start_time": "2022-11-15T09:30:58.833Z"
   },
   {
    "duration": 11,
    "start_time": "2022-11-15T09:31:09.176Z"
   },
   {
    "duration": 154,
    "start_time": "2022-11-15T09:31:14.204Z"
   },
   {
    "duration": 131,
    "start_time": "2022-11-15T09:31:54.299Z"
   },
   {
    "duration": 104,
    "start_time": "2022-11-15T09:32:13.146Z"
   },
   {
    "duration": 104,
    "start_time": "2022-11-15T09:32:18.749Z"
   },
   {
    "duration": 6,
    "start_time": "2022-11-15T09:34:21.844Z"
   },
   {
    "duration": 4,
    "start_time": "2022-11-15T09:35:20.282Z"
   },
   {
    "duration": 5,
    "start_time": "2022-11-15T09:35:24.526Z"
   },
   {
    "duration": 4,
    "start_time": "2022-11-15T09:44:08.781Z"
   },
   {
    "duration": 5,
    "start_time": "2022-11-15T09:46:06.178Z"
   },
   {
    "duration": 6,
    "start_time": "2022-11-15T09:46:31.870Z"
   },
   {
    "duration": 5,
    "start_time": "2022-11-15T09:47:02.410Z"
   },
   {
    "duration": 5,
    "start_time": "2022-11-15T09:48:52.195Z"
   },
   {
    "duration": 5,
    "start_time": "2022-11-15T09:49:00.639Z"
   },
   {
    "duration": 8,
    "start_time": "2022-11-15T09:49:42.769Z"
   },
   {
    "duration": 7,
    "start_time": "2022-11-15T09:55:39.104Z"
   },
   {
    "duration": 7,
    "start_time": "2022-11-15T09:56:11.880Z"
   },
   {
    "duration": 8,
    "start_time": "2022-11-15T09:57:15.288Z"
   },
   {
    "duration": 92,
    "start_time": "2022-11-15T09:57:31.533Z"
   },
   {
    "duration": 15,
    "start_time": "2022-11-15T09:58:38.164Z"
   },
   {
    "duration": 403,
    "start_time": "2022-11-15T11:07:15.959Z"
   },
   {
    "duration": 185,
    "start_time": "2022-11-15T11:07:16.363Z"
   },
   {
    "duration": 15,
    "start_time": "2022-11-15T11:07:16.899Z"
   },
   {
    "duration": 3,
    "start_time": "2022-11-15T11:07:18.183Z"
   },
   {
    "duration": 19,
    "start_time": "2022-11-15T11:07:18.551Z"
   },
   {
    "duration": 9,
    "start_time": "2022-11-15T11:07:20.039Z"
   },
   {
    "duration": 5,
    "start_time": "2022-11-15T11:07:20.497Z"
   },
   {
    "duration": 6,
    "start_time": "2022-11-15T11:07:20.953Z"
   },
   {
    "duration": 5,
    "start_time": "2022-11-15T11:07:21.425Z"
   },
   {
    "duration": 5,
    "start_time": "2022-11-15T11:07:21.823Z"
   },
   {
    "duration": 5,
    "start_time": "2022-11-15T11:07:22.884Z"
   },
   {
    "duration": 4,
    "start_time": "2022-11-15T11:07:24.290Z"
   },
   {
    "duration": 5,
    "start_time": "2022-11-15T11:07:25.513Z"
   },
   {
    "duration": 6,
    "start_time": "2022-11-15T11:07:26.340Z"
   },
   {
    "duration": 540,
    "start_time": "2022-11-15T11:07:26.748Z"
   },
   {
    "duration": 3,
    "start_time": "2022-11-15T11:07:31.629Z"
   },
   {
    "duration": 5,
    "start_time": "2022-11-15T11:07:32.205Z"
   },
   {
    "duration": 7,
    "start_time": "2022-11-15T11:07:32.677Z"
   },
   {
    "duration": 15,
    "start_time": "2022-11-15T11:07:33.749Z"
   },
   {
    "duration": 12,
    "start_time": "2022-11-15T11:07:35.409Z"
   },
   {
    "duration": 11,
    "start_time": "2022-11-15T11:07:36.825Z"
   },
   {
    "duration": 13,
    "start_time": "2022-11-15T11:07:37.296Z"
   },
   {
    "duration": 7,
    "start_time": "2022-11-15T11:07:39.636Z"
   },
   {
    "duration": 12,
    "start_time": "2022-11-15T11:07:40.143Z"
   },
   {
    "duration": 2,
    "start_time": "2022-11-15T11:07:42.099Z"
   },
   {
    "duration": 7,
    "start_time": "2022-11-15T11:07:42.611Z"
   },
   {
    "duration": 143,
    "start_time": "2022-11-15T11:07:43.225Z"
   },
   {
    "duration": 700,
    "start_time": "2022-11-15T11:07:44.757Z"
   },
   {
    "duration": 108,
    "start_time": "2022-11-15T11:07:45.682Z"
   },
   {
    "duration": 23,
    "start_time": "2022-11-15T11:07:46.936Z"
   },
   {
    "duration": 304,
    "start_time": "2022-11-15T11:07:47.720Z"
   },
   {
    "duration": 27,
    "start_time": "2022-11-15T11:07:49.812Z"
   },
   {
    "duration": 265,
    "start_time": "2022-11-15T11:07:50.593Z"
   },
   {
    "duration": 8,
    "start_time": "2022-11-15T11:07:53.423Z"
   },
   {
    "duration": 7,
    "start_time": "2022-11-15T11:07:54.324Z"
   },
   {
    "duration": 8,
    "start_time": "2022-11-15T11:07:55.085Z"
   },
   {
    "duration": 126,
    "start_time": "2022-11-15T11:07:55.689Z"
   },
   {
    "duration": 7,
    "start_time": "2022-11-15T11:07:57.542Z"
   },
   {
    "duration": 6,
    "start_time": "2022-11-15T11:07:58.013Z"
   },
   {
    "duration": 15,
    "start_time": "2022-11-15T11:07:59.395Z"
   },
   {
    "duration": 5,
    "start_time": "2022-11-15T11:08:00.006Z"
   },
   {
    "duration": 6,
    "start_time": "2022-11-15T11:08:00.471Z"
   },
   {
    "duration": 122,
    "start_time": "2022-11-15T11:08:00.959Z"
   },
   {
    "duration": 130,
    "start_time": "2022-11-15T11:08:01.466Z"
   },
   {
    "duration": 13,
    "start_time": "2022-11-15T11:08:03.097Z"
   },
   {
    "duration": 5,
    "start_time": "2022-11-15T11:08:03.671Z"
   },
   {
    "duration": 5,
    "start_time": "2022-11-15T11:08:04.162Z"
   },
   {
    "duration": 116,
    "start_time": "2022-11-15T11:08:04.662Z"
   },
   {
    "duration": 145,
    "start_time": "2022-11-15T11:08:05.163Z"
   },
   {
    "duration": 13,
    "start_time": "2022-11-15T11:08:06.581Z"
   },
   {
    "duration": 6,
    "start_time": "2022-11-15T11:08:07.126Z"
   },
   {
    "duration": 7,
    "start_time": "2022-11-15T11:08:07.589Z"
   },
   {
    "duration": 115,
    "start_time": "2022-11-15T11:08:08.264Z"
   },
   {
    "duration": 117,
    "start_time": "2022-11-15T11:08:08.957Z"
   },
   {
    "duration": 7,
    "start_time": "2022-11-15T11:08:12.147Z"
   },
   {
    "duration": 18,
    "start_time": "2022-11-15T11:08:14.880Z"
   },
   {
    "duration": 8,
    "start_time": "2022-11-15T11:08:16.392Z"
   },
   {
    "duration": 160,
    "start_time": "2022-11-15T11:08:17.019Z"
   },
   {
    "duration": 5,
    "start_time": "2022-11-15T11:08:18.555Z"
   },
   {
    "duration": 5,
    "start_time": "2022-11-15T11:08:20.166Z"
   },
   {
    "duration": 5,
    "start_time": "2022-11-15T11:08:20.625Z"
   },
   {
    "duration": 5,
    "start_time": "2022-11-15T11:08:21.116Z"
   },
   {
    "duration": 7,
    "start_time": "2022-11-15T11:08:25.360Z"
   },
   {
    "duration": 89,
    "start_time": "2022-11-15T11:10:17.095Z"
   },
   {
    "duration": 7,
    "start_time": "2022-11-15T11:10:28.042Z"
   },
   {
    "duration": 10,
    "start_time": "2022-11-15T11:11:03.605Z"
   },
   {
    "duration": 134,
    "start_time": "2022-11-15T11:11:08.424Z"
   },
   {
    "duration": 125,
    "start_time": "2022-11-15T11:11:30.925Z"
   },
   {
    "duration": 111,
    "start_time": "2022-11-15T11:11:39.735Z"
   },
   {
    "duration": 7,
    "start_time": "2022-11-15T11:13:10.508Z"
   },
   {
    "duration": 100,
    "start_time": "2022-11-15T11:16:26.290Z"
   },
   {
    "duration": 100,
    "start_time": "2022-11-15T11:16:48.314Z"
   },
   {
    "duration": 116,
    "start_time": "2022-11-15T11:16:56.748Z"
   },
   {
    "duration": 4,
    "start_time": "2022-11-15T11:18:59.775Z"
   },
   {
    "duration": 5,
    "start_time": "2022-11-15T11:19:12.973Z"
   },
   {
    "duration": 4,
    "start_time": "2022-11-15T11:19:13.854Z"
   },
   {
    "duration": 4,
    "start_time": "2022-11-15T11:19:14.701Z"
   },
   {
    "duration": 8,
    "start_time": "2022-11-15T11:22:30.111Z"
   },
   {
    "duration": 116,
    "start_time": "2022-11-15T11:24:05.405Z"
   },
   {
    "duration": 10,
    "start_time": "2022-11-15T11:26:51.189Z"
   },
   {
    "duration": 10,
    "start_time": "2022-11-15T11:26:58.801Z"
   },
   {
    "duration": 104,
    "start_time": "2022-11-15T11:27:45.147Z"
   },
   {
    "duration": 5,
    "start_time": "2022-11-15T11:28:57.525Z"
   },
   {
    "duration": 6,
    "start_time": "2022-11-15T11:28:58.792Z"
   },
   {
    "duration": 6,
    "start_time": "2022-11-15T11:28:59.434Z"
   },
   {
    "duration": 6,
    "start_time": "2022-11-15T11:29:00.097Z"
   },
   {
    "duration": 10,
    "start_time": "2022-11-15T11:32:14.202Z"
   },
   {
    "duration": 118,
    "start_time": "2022-11-15T11:32:50.992Z"
   },
   {
    "duration": 6,
    "start_time": "2022-11-15T11:45:39.766Z"
   },
   {
    "duration": 6,
    "start_time": "2022-11-15T11:47:33.660Z"
   },
   {
    "duration": 6,
    "start_time": "2022-11-15T11:48:34.494Z"
   },
   {
    "duration": 6,
    "start_time": "2022-11-15T11:49:38.541Z"
   },
   {
    "duration": 5,
    "start_time": "2022-11-15T11:49:39.235Z"
   },
   {
    "duration": 2,
    "start_time": "2022-11-15T11:51:33.114Z"
   },
   {
    "duration": 9,
    "start_time": "2022-11-15T11:54:32.960Z"
   },
   {
    "duration": 517,
    "start_time": "2022-11-15T11:55:57.181Z"
   },
   {
    "duration": 5,
    "start_time": "2022-11-15T11:55:58.005Z"
   },
   {
    "duration": 126,
    "start_time": "2022-11-15T11:58:02.227Z"
   },
   {
    "duration": 2,
    "start_time": "2022-11-15T11:58:18.618Z"
   },
   {
    "duration": 111,
    "start_time": "2022-11-15T12:03:28.343Z"
   },
   {
    "duration": 21,
    "start_time": "2022-11-15T12:03:33.066Z"
   },
   {
    "duration": 31,
    "start_time": "2022-11-15T12:04:10.303Z"
   },
   {
    "duration": 9,
    "start_time": "2022-11-15T12:05:18.079Z"
   },
   {
    "duration": 3,
    "start_time": "2022-11-15T12:05:24.208Z"
   },
   {
    "duration": 4,
    "start_time": "2022-11-15T12:05:50.563Z"
   },
   {
    "duration": 7,
    "start_time": "2022-11-15T12:05:56.744Z"
   },
   {
    "duration": 3,
    "start_time": "2022-11-15T12:06:03.077Z"
   },
   {
    "duration": 5,
    "start_time": "2022-11-15T12:07:08.629Z"
   },
   {
    "duration": 5,
    "start_time": "2022-11-15T12:09:08.391Z"
   },
   {
    "duration": 122,
    "start_time": "2022-11-15T12:09:32.155Z"
   },
   {
    "duration": 424,
    "start_time": "2022-11-15T13:24:55.033Z"
   },
   {
    "duration": 202,
    "start_time": "2022-11-15T13:24:55.460Z"
   },
   {
    "duration": 20,
    "start_time": "2022-11-15T13:24:55.664Z"
   },
   {
    "duration": 17,
    "start_time": "2022-11-15T13:24:55.686Z"
   },
   {
    "duration": 35,
    "start_time": "2022-11-15T13:24:55.705Z"
   },
   {
    "duration": 24,
    "start_time": "2022-11-15T13:24:55.742Z"
   },
   {
    "duration": 16,
    "start_time": "2022-11-15T13:24:55.768Z"
   },
   {
    "duration": 27,
    "start_time": "2022-11-15T13:24:55.785Z"
   },
   {
    "duration": 18,
    "start_time": "2022-11-15T13:24:55.814Z"
   },
   {
    "duration": 26,
    "start_time": "2022-11-15T13:24:55.835Z"
   },
   {
    "duration": 18,
    "start_time": "2022-11-15T13:24:55.862Z"
   },
   {
    "duration": 611,
    "start_time": "2022-11-15T13:24:55.957Z"
   },
   {
    "duration": 3,
    "start_time": "2022-11-15T13:24:56.570Z"
   },
   {
    "duration": 21,
    "start_time": "2022-11-15T13:24:56.575Z"
   },
   {
    "duration": 31,
    "start_time": "2022-11-15T13:24:56.598Z"
   },
   {
    "duration": 34,
    "start_time": "2022-11-15T13:24:56.631Z"
   },
   {
    "duration": 33,
    "start_time": "2022-11-15T13:24:56.667Z"
   },
   {
    "duration": 23,
    "start_time": "2022-11-15T13:24:56.702Z"
   },
   {
    "duration": 27,
    "start_time": "2022-11-15T13:24:56.726Z"
   },
   {
    "duration": 32,
    "start_time": "2022-11-15T13:24:56.755Z"
   },
   {
    "duration": 36,
    "start_time": "2022-11-15T13:24:56.789Z"
   },
   {
    "duration": 22,
    "start_time": "2022-11-15T13:24:56.829Z"
   },
   {
    "duration": 25,
    "start_time": "2022-11-15T13:24:56.853Z"
   },
   {
    "duration": 163,
    "start_time": "2022-11-15T13:24:56.881Z"
   },
   {
    "duration": 578,
    "start_time": "2022-11-15T13:24:57.048Z"
   },
   {
    "duration": 103,
    "start_time": "2022-11-15T13:24:57.628Z"
   },
   {
    "duration": 31,
    "start_time": "2022-11-15T13:24:57.733Z"
   },
   {
    "duration": 255,
    "start_time": "2022-11-15T13:24:57.766Z"
   },
   {
    "duration": 33,
    "start_time": "2022-11-15T13:24:58.023Z"
   },
   {
    "duration": 243,
    "start_time": "2022-11-15T13:24:58.057Z"
   },
   {
    "duration": 7,
    "start_time": "2022-11-15T13:24:58.302Z"
   },
   {
    "duration": 45,
    "start_time": "2022-11-15T13:24:58.310Z"
   },
   {
    "duration": 36,
    "start_time": "2022-11-15T13:24:58.356Z"
   },
   {
    "duration": 150,
    "start_time": "2022-11-15T13:24:58.393Z"
   },
   {
    "duration": 11,
    "start_time": "2022-11-15T13:24:58.544Z"
   },
   {
    "duration": 8,
    "start_time": "2022-11-15T13:24:58.557Z"
   },
   {
    "duration": 30,
    "start_time": "2022-11-15T13:24:58.566Z"
   },
   {
    "duration": 19,
    "start_time": "2022-11-15T13:24:58.598Z"
   },
   {
    "duration": 29,
    "start_time": "2022-11-15T13:24:58.619Z"
   },
   {
    "duration": 171,
    "start_time": "2022-11-15T13:24:58.649Z"
   },
   {
    "duration": 150,
    "start_time": "2022-11-15T13:24:58.822Z"
   },
   {
    "duration": 18,
    "start_time": "2022-11-15T13:24:58.974Z"
   },
   {
    "duration": 26,
    "start_time": "2022-11-15T13:24:58.994Z"
   },
   {
    "duration": 15,
    "start_time": "2022-11-15T13:24:59.022Z"
   },
   {
    "duration": 168,
    "start_time": "2022-11-15T13:24:59.039Z"
   },
   {
    "duration": 135,
    "start_time": "2022-11-15T13:24:59.208Z"
   },
   {
    "duration": 19,
    "start_time": "2022-11-15T13:24:59.344Z"
   },
   {
    "duration": 20,
    "start_time": "2022-11-15T13:24:59.365Z"
   },
   {
    "duration": 18,
    "start_time": "2022-11-15T13:24:59.386Z"
   },
   {
    "duration": 132,
    "start_time": "2022-11-15T13:24:59.405Z"
   },
   {
    "duration": 125,
    "start_time": "2022-11-15T13:24:59.538Z"
   },
   {
    "duration": 9,
    "start_time": "2022-11-15T13:24:59.665Z"
   },
   {
    "duration": 30,
    "start_time": "2022-11-15T13:24:59.676Z"
   },
   {
    "duration": 193,
    "start_time": "2022-11-15T13:24:59.708Z"
   },
   {
    "duration": 4,
    "start_time": "2022-11-15T13:24:59.903Z"
   },
   {
    "duration": 12,
    "start_time": "2022-11-15T13:24:59.909Z"
   },
   {
    "duration": 26,
    "start_time": "2022-11-15T13:24:59.922Z"
   },
   {
    "duration": 9,
    "start_time": "2022-11-15T13:24:59.949Z"
   },
   {
    "duration": 19,
    "start_time": "2022-11-15T13:24:59.959Z"
   },
   {
    "duration": 113,
    "start_time": "2022-11-15T13:24:59.979Z"
   },
   {
    "duration": 6,
    "start_time": "2022-11-15T13:25:00.094Z"
   },
   {
    "duration": 121,
    "start_time": "2022-11-15T13:25:00.102Z"
   },
   {
    "duration": 5,
    "start_time": "2022-11-15T13:25:00.225Z"
   },
   {
    "duration": 43,
    "start_time": "2022-11-15T13:25:00.232Z"
   },
   {
    "duration": 40,
    "start_time": "2022-11-15T13:25:00.277Z"
   },
   {
    "duration": 26,
    "start_time": "2022-11-15T13:25:00.318Z"
   },
   {
    "duration": 53,
    "start_time": "2022-11-15T13:25:00.346Z"
   },
   {
    "duration": 128,
    "start_time": "2022-11-15T13:25:00.401Z"
   },
   {
    "duration": 9,
    "start_time": "2022-11-15T13:25:00.531Z"
   },
   {
    "duration": 136,
    "start_time": "2022-11-15T13:25:00.542Z"
   },
   {
    "duration": 4,
    "start_time": "2022-11-15T13:25:00.680Z"
   },
   {
    "duration": 24,
    "start_time": "2022-11-15T13:25:00.686Z"
   },
   {
    "duration": 42,
    "start_time": "2022-11-15T13:25:00.712Z"
   },
   {
    "duration": 80,
    "start_time": "2022-11-15T13:25:00.756Z"
   },
   {
    "duration": 37,
    "start_time": "2022-11-15T13:25:00.838Z"
   },
   {
    "duration": 165,
    "start_time": "2022-11-15T13:25:00.876Z"
   },
   {
    "duration": 12,
    "start_time": "2022-11-15T13:25:01.043Z"
   },
   {
    "duration": 25,
    "start_time": "2022-11-15T13:25:01.056Z"
   },
   {
    "duration": 537,
    "start_time": "2022-11-15T13:25:01.086Z"
   },
   {
    "duration": 5,
    "start_time": "2022-11-15T13:25:01.625Z"
   },
   {
    "duration": 45,
    "start_time": "2022-11-15T13:25:01.631Z"
   },
   {
    "duration": 23,
    "start_time": "2022-11-15T13:25:01.677Z"
   },
   {
    "duration": 26,
    "start_time": "2022-11-15T13:25:01.701Z"
   },
   {
    "duration": 467,
    "start_time": "2022-11-15T13:27:59.736Z"
   },
   {
    "duration": 56,
    "start_time": "2022-11-15T13:28:00.205Z"
   },
   {
    "duration": 17,
    "start_time": "2022-11-15T13:28:00.263Z"
   },
   {
    "duration": 25,
    "start_time": "2022-11-15T13:28:00.283Z"
   },
   {
    "duration": 79,
    "start_time": "2022-11-15T13:28:00.311Z"
   },
   {
    "duration": 38,
    "start_time": "2022-11-15T13:28:00.391Z"
   },
   {
    "duration": 23,
    "start_time": "2022-11-15T13:28:00.431Z"
   },
   {
    "duration": 23,
    "start_time": "2022-11-15T13:28:00.456Z"
   },
   {
    "duration": 21,
    "start_time": "2022-11-15T13:28:00.481Z"
   },
   {
    "duration": 35,
    "start_time": "2022-11-15T13:28:00.504Z"
   },
   {
    "duration": 52,
    "start_time": "2022-11-15T13:28:00.540Z"
   },
   {
    "duration": 30,
    "start_time": "2022-11-15T13:28:00.594Z"
   },
   {
    "duration": 44,
    "start_time": "2022-11-15T13:28:00.625Z"
   },
   {
    "duration": 37,
    "start_time": "2022-11-15T13:28:00.675Z"
   },
   {
    "duration": 511,
    "start_time": "2022-11-15T13:28:00.714Z"
   },
   {
    "duration": 3,
    "start_time": "2022-11-15T13:28:01.227Z"
   },
   {
    "duration": 36,
    "start_time": "2022-11-15T13:28:01.232Z"
   },
   {
    "duration": 44,
    "start_time": "2022-11-15T13:28:01.270Z"
   },
   {
    "duration": 49,
    "start_time": "2022-11-15T13:28:01.316Z"
   },
   {
    "duration": 24,
    "start_time": "2022-11-15T13:28:01.367Z"
   },
   {
    "duration": 34,
    "start_time": "2022-11-15T13:28:01.392Z"
   },
   {
    "duration": 38,
    "start_time": "2022-11-15T13:28:01.428Z"
   },
   {
    "duration": 32,
    "start_time": "2022-11-15T13:28:01.468Z"
   },
   {
    "duration": 21,
    "start_time": "2022-11-15T13:28:01.503Z"
   },
   {
    "duration": 36,
    "start_time": "2022-11-15T13:28:01.526Z"
   },
   {
    "duration": 19,
    "start_time": "2022-11-15T13:28:01.564Z"
   },
   {
    "duration": 175,
    "start_time": "2022-11-15T13:28:01.585Z"
   },
   {
    "duration": 572,
    "start_time": "2022-11-15T13:28:01.762Z"
   },
   {
    "duration": 162,
    "start_time": "2022-11-15T13:28:02.337Z"
   },
   {
    "duration": 34,
    "start_time": "2022-11-15T13:28:02.501Z"
   },
   {
    "duration": 293,
    "start_time": "2022-11-15T13:28:02.537Z"
   },
   {
    "duration": 34,
    "start_time": "2022-11-15T13:28:02.832Z"
   },
   {
    "duration": 282,
    "start_time": "2022-11-15T13:28:02.868Z"
   },
   {
    "duration": 9,
    "start_time": "2022-11-15T13:28:03.152Z"
   },
   {
    "duration": 36,
    "start_time": "2022-11-15T13:28:03.163Z"
   },
   {
    "duration": 23,
    "start_time": "2022-11-15T13:28:03.201Z"
   },
   {
    "duration": 160,
    "start_time": "2022-11-15T13:28:03.225Z"
   },
   {
    "duration": 6,
    "start_time": "2022-11-15T13:28:03.388Z"
   },
   {
    "duration": 48,
    "start_time": "2022-11-15T13:28:03.396Z"
   },
   {
    "duration": 43,
    "start_time": "2022-11-15T13:28:03.446Z"
   },
   {
    "duration": 36,
    "start_time": "2022-11-15T13:28:03.494Z"
   },
   {
    "duration": 59,
    "start_time": "2022-11-15T13:28:03.532Z"
   },
   {
    "duration": 171,
    "start_time": "2022-11-15T13:28:03.594Z"
   },
   {
    "duration": 176,
    "start_time": "2022-11-15T13:28:03.768Z"
   },
   {
    "duration": 22,
    "start_time": "2022-11-15T13:28:03.945Z"
   },
   {
    "duration": 50,
    "start_time": "2022-11-15T13:28:03.969Z"
   },
   {
    "duration": 25,
    "start_time": "2022-11-15T13:28:04.022Z"
   },
   {
    "duration": 160,
    "start_time": "2022-11-15T13:28:04.049Z"
   },
   {
    "duration": 156,
    "start_time": "2022-11-15T13:28:04.211Z"
   },
   {
    "duration": 15,
    "start_time": "2022-11-15T13:28:04.368Z"
   },
   {
    "duration": 20,
    "start_time": "2022-11-15T13:28:04.385Z"
   },
   {
    "duration": 43,
    "start_time": "2022-11-15T13:28:04.409Z"
   },
   {
    "duration": 206,
    "start_time": "2022-11-15T13:28:04.454Z"
   },
   {
    "duration": 201,
    "start_time": "2022-11-15T13:28:04.662Z"
   },
   {
    "duration": 11,
    "start_time": "2022-11-15T13:28:04.864Z"
   },
   {
    "duration": 31,
    "start_time": "2022-11-15T13:28:04.877Z"
   },
   {
    "duration": 133,
    "start_time": "2022-11-15T13:28:04.910Z"
   },
   {
    "duration": 6,
    "start_time": "2022-11-15T13:28:05.045Z"
   },
   {
    "duration": 12,
    "start_time": "2022-11-15T13:28:05.054Z"
   },
   {
    "duration": 33,
    "start_time": "2022-11-15T13:28:05.068Z"
   },
   {
    "duration": 32,
    "start_time": "2022-11-15T13:28:05.103Z"
   },
   {
    "duration": 30,
    "start_time": "2022-11-15T13:28:05.137Z"
   },
   {
    "duration": 190,
    "start_time": "2022-11-15T13:28:05.169Z"
   },
   {
    "duration": 8,
    "start_time": "2022-11-15T13:28:05.360Z"
   },
   {
    "duration": 183,
    "start_time": "2022-11-15T13:28:05.369Z"
   },
   {
    "duration": 6,
    "start_time": "2022-11-15T13:28:05.553Z"
   },
   {
    "duration": 39,
    "start_time": "2022-11-15T13:28:05.561Z"
   },
   {
    "duration": 17,
    "start_time": "2022-11-15T13:28:05.602Z"
   },
   {
    "duration": 24,
    "start_time": "2022-11-15T13:28:05.621Z"
   },
   {
    "duration": 32,
    "start_time": "2022-11-15T13:28:05.647Z"
   },
   {
    "duration": 129,
    "start_time": "2022-11-15T13:28:05.681Z"
   },
   {
    "duration": 8,
    "start_time": "2022-11-15T13:28:05.811Z"
   },
   {
    "duration": 134,
    "start_time": "2022-11-15T13:28:05.821Z"
   },
   {
    "duration": 6,
    "start_time": "2022-11-15T13:28:05.957Z"
   },
   {
    "duration": 20,
    "start_time": "2022-11-15T13:28:05.965Z"
   },
   {
    "duration": 50,
    "start_time": "2022-11-15T13:28:05.986Z"
   },
   {
    "duration": 14,
    "start_time": "2022-11-15T13:28:06.037Z"
   },
   {
    "duration": 13,
    "start_time": "2022-11-15T13:28:06.052Z"
   },
   {
    "duration": 116,
    "start_time": "2022-11-15T13:28:06.066Z"
   },
   {
    "duration": 6,
    "start_time": "2022-11-15T13:28:06.184Z"
   },
   {
    "duration": 14,
    "start_time": "2022-11-15T13:28:06.192Z"
   },
   {
    "duration": 461,
    "start_time": "2022-11-15T13:28:06.208Z"
   },
   {
    "duration": 7,
    "start_time": "2022-11-15T13:28:06.670Z"
   },
   {
    "duration": 7,
    "start_time": "2022-11-15T13:28:06.678Z"
   },
   {
    "duration": 7,
    "start_time": "2022-11-15T13:28:06.687Z"
   },
   {
    "duration": 8,
    "start_time": "2022-11-15T13:28:06.696Z"
   },
   {
    "duration": 417,
    "start_time": "2022-11-15T18:28:01.716Z"
   },
   {
    "duration": 46,
    "start_time": "2022-11-15T18:28:02.135Z"
   },
   {
    "duration": 14,
    "start_time": "2022-11-15T18:28:02.182Z"
   },
   {
    "duration": 10,
    "start_time": "2022-11-15T18:28:02.198Z"
   },
   {
    "duration": 31,
    "start_time": "2022-11-15T18:28:02.210Z"
   },
   {
    "duration": 17,
    "start_time": "2022-11-15T18:28:02.242Z"
   },
   {
    "duration": 10,
    "start_time": "2022-11-15T18:28:02.260Z"
   },
   {
    "duration": 12,
    "start_time": "2022-11-15T18:28:02.271Z"
   },
   {
    "duration": 16,
    "start_time": "2022-11-15T18:28:02.284Z"
   },
   {
    "duration": 10,
    "start_time": "2022-11-15T18:28:02.302Z"
   },
   {
    "duration": 10,
    "start_time": "2022-11-15T18:28:02.313Z"
   },
   {
    "duration": 10,
    "start_time": "2022-11-15T18:28:02.326Z"
   },
   {
    "duration": 10,
    "start_time": "2022-11-15T18:28:02.337Z"
   },
   {
    "duration": 14,
    "start_time": "2022-11-15T18:28:02.348Z"
   },
   {
    "duration": 407,
    "start_time": "2022-11-15T18:28:02.363Z"
   },
   {
    "duration": 3,
    "start_time": "2022-11-15T18:28:02.772Z"
   },
   {
    "duration": 13,
    "start_time": "2022-11-15T18:28:02.777Z"
   },
   {
    "duration": 9,
    "start_time": "2022-11-15T18:28:02.792Z"
   },
   {
    "duration": 31,
    "start_time": "2022-11-15T18:28:02.803Z"
   },
   {
    "duration": 18,
    "start_time": "2022-11-15T18:28:02.836Z"
   },
   {
    "duration": 8,
    "start_time": "2022-11-15T18:28:02.855Z"
   },
   {
    "duration": 8,
    "start_time": "2022-11-15T18:28:02.865Z"
   },
   {
    "duration": 11,
    "start_time": "2022-11-15T18:28:02.874Z"
   },
   {
    "duration": 23,
    "start_time": "2022-11-15T18:28:02.887Z"
   },
   {
    "duration": 2,
    "start_time": "2022-11-15T18:28:02.926Z"
   },
   {
    "duration": 9,
    "start_time": "2022-11-15T18:28:02.930Z"
   },
   {
    "duration": 166,
    "start_time": "2022-11-15T18:28:02.941Z"
   },
   {
    "duration": 528,
    "start_time": "2022-11-15T18:28:03.111Z"
   },
   {
    "duration": 150,
    "start_time": "2022-11-15T18:28:03.641Z"
   },
   {
    "duration": 23,
    "start_time": "2022-11-15T18:28:03.793Z"
   },
   {
    "duration": 259,
    "start_time": "2022-11-15T18:28:03.817Z"
   },
   {
    "duration": 31,
    "start_time": "2022-11-15T18:28:04.077Z"
   },
   {
    "duration": 254,
    "start_time": "2022-11-15T18:28:04.110Z"
   },
   {
    "duration": 7,
    "start_time": "2022-11-15T18:28:04.366Z"
   },
   {
    "duration": 41,
    "start_time": "2022-11-15T18:28:04.375Z"
   },
   {
    "duration": 25,
    "start_time": "2022-11-15T18:28:04.418Z"
   },
   {
    "duration": 159,
    "start_time": "2022-11-15T18:28:04.445Z"
   },
   {
    "duration": 5,
    "start_time": "2022-11-15T18:28:04.605Z"
   },
   {
    "duration": 25,
    "start_time": "2022-11-15T18:28:04.611Z"
   },
   {
    "duration": 32,
    "start_time": "2022-11-15T18:28:04.637Z"
   },
   {
    "duration": 19,
    "start_time": "2022-11-15T18:28:04.671Z"
   },
   {
    "duration": 21,
    "start_time": "2022-11-15T18:28:04.691Z"
   },
   {
    "duration": 134,
    "start_time": "2022-11-15T18:28:04.713Z"
   },
   {
    "duration": 129,
    "start_time": "2022-11-15T18:28:04.849Z"
   },
   {
    "duration": 14,
    "start_time": "2022-11-15T18:28:04.979Z"
   },
   {
    "duration": 10,
    "start_time": "2022-11-15T18:28:04.994Z"
   },
   {
    "duration": 43,
    "start_time": "2022-11-15T18:28:05.005Z"
   },
   {
    "duration": 167,
    "start_time": "2022-11-15T18:28:05.050Z"
   },
   {
    "duration": 135,
    "start_time": "2022-11-15T18:28:05.219Z"
   },
   {
    "duration": 17,
    "start_time": "2022-11-15T18:28:05.356Z"
   },
   {
    "duration": 15,
    "start_time": "2022-11-15T18:28:05.375Z"
   },
   {
    "duration": 31,
    "start_time": "2022-11-15T18:28:05.392Z"
   },
   {
    "duration": 162,
    "start_time": "2022-11-15T18:28:05.425Z"
   },
   {
    "duration": 152,
    "start_time": "2022-11-15T18:28:05.591Z"
   },
   {
    "duration": 20,
    "start_time": "2022-11-15T18:28:05.744Z"
   },
   {
    "duration": 28,
    "start_time": "2022-11-15T18:28:05.766Z"
   },
   {
    "duration": 133,
    "start_time": "2022-11-15T18:28:05.795Z"
   },
   {
    "duration": 5,
    "start_time": "2022-11-15T18:28:05.929Z"
   },
   {
    "duration": 35,
    "start_time": "2022-11-15T18:28:05.935Z"
   },
   {
    "duration": 27,
    "start_time": "2022-11-15T18:28:05.972Z"
   },
   {
    "duration": 32,
    "start_time": "2022-11-15T18:28:06.000Z"
   },
   {
    "duration": 33,
    "start_time": "2022-11-15T18:28:06.033Z"
   },
   {
    "duration": 196,
    "start_time": "2022-11-15T18:28:06.067Z"
   },
   {
    "duration": 7,
    "start_time": "2022-11-15T18:28:06.265Z"
   },
   {
    "duration": 128,
    "start_time": "2022-11-15T18:28:06.274Z"
   },
   {
    "duration": 5,
    "start_time": "2022-11-15T18:28:06.404Z"
   },
   {
    "duration": 21,
    "start_time": "2022-11-15T18:28:06.410Z"
   },
   {
    "duration": 23,
    "start_time": "2022-11-15T18:28:06.432Z"
   },
   {
    "duration": 9,
    "start_time": "2022-11-15T18:28:06.456Z"
   },
   {
    "duration": 21,
    "start_time": "2022-11-15T18:28:06.467Z"
   },
   {
    "duration": 111,
    "start_time": "2022-11-15T18:28:06.490Z"
   },
   {
    "duration": 7,
    "start_time": "2022-11-15T18:28:06.603Z"
   },
   {
    "duration": 95,
    "start_time": "2022-11-15T18:28:06.611Z"
   },
   {
    "duration": 5,
    "start_time": "2022-11-15T18:28:06.707Z"
   },
   {
    "duration": 14,
    "start_time": "2022-11-15T18:28:06.713Z"
   },
   {
    "duration": 15,
    "start_time": "2022-11-15T18:28:06.729Z"
   },
   {
    "duration": 9,
    "start_time": "2022-11-15T18:28:06.746Z"
   },
   {
    "duration": 13,
    "start_time": "2022-11-15T18:28:06.757Z"
   },
   {
    "duration": 121,
    "start_time": "2022-11-15T18:28:06.772Z"
   },
   {
    "duration": 4,
    "start_time": "2022-11-15T18:28:06.895Z"
   },
   {
    "duration": 17,
    "start_time": "2022-11-15T18:28:06.901Z"
   },
   {
    "duration": 392,
    "start_time": "2022-11-15T18:28:06.923Z"
   },
   {
    "duration": 5,
    "start_time": "2022-11-15T18:28:07.316Z"
   },
   {
    "duration": 12,
    "start_time": "2022-11-15T18:28:07.326Z"
   },
   {
    "duration": 23,
    "start_time": "2022-11-15T18:28:07.340Z"
   },
   {
    "duration": 9,
    "start_time": "2022-11-15T18:28:07.365Z"
   },
   {
    "duration": 438,
    "start_time": "2022-11-16T10:11:53.975Z"
   },
   {
    "duration": 87,
    "start_time": "2022-11-16T10:11:54.415Z"
   },
   {
    "duration": 15,
    "start_time": "2022-11-16T10:11:54.945Z"
   },
   {
    "duration": 4,
    "start_time": "2022-11-16T10:11:57.587Z"
   },
   {
    "duration": 19,
    "start_time": "2022-11-16T10:11:58.056Z"
   },
   {
    "duration": 10,
    "start_time": "2022-11-16T10:12:05.614Z"
   },
   {
    "duration": 454,
    "start_time": "2022-11-16T10:12:08.375Z"
   },
   {
    "duration": 5,
    "start_time": "2022-11-16T10:12:26.462Z"
   },
   {
    "duration": 7,
    "start_time": "2022-11-16T10:12:27.208Z"
   },
   {
    "duration": 4,
    "start_time": "2022-11-16T10:12:27.934Z"
   },
   {
    "duration": 4,
    "start_time": "2022-11-16T10:12:28.640Z"
   },
   {
    "duration": 5,
    "start_time": "2022-11-16T10:12:30.175Z"
   },
   {
    "duration": 5,
    "start_time": "2022-11-16T10:12:32.598Z"
   },
   {
    "duration": 5,
    "start_time": "2022-11-16T10:12:46.613Z"
   },
   {
    "duration": 7,
    "start_time": "2022-11-16T10:12:47.603Z"
   },
   {
    "duration": 213,
    "start_time": "2022-11-16T10:12:48.185Z"
   },
   {
    "duration": 3,
    "start_time": "2022-11-16T10:12:49.433Z"
   },
   {
    "duration": 6,
    "start_time": "2022-11-16T10:12:49.943Z"
   },
   {
    "duration": 6,
    "start_time": "2022-11-16T10:12:50.423Z"
   },
   {
    "duration": 14,
    "start_time": "2022-11-16T10:13:31.067Z"
   },
   {
    "duration": 11,
    "start_time": "2022-11-16T10:13:34.096Z"
   },
   {
    "duration": 7,
    "start_time": "2022-11-16T10:13:35.968Z"
   },
   {
    "duration": 9,
    "start_time": "2022-11-16T10:13:36.606Z"
   },
   {
    "duration": 5,
    "start_time": "2022-11-16T10:13:46.784Z"
   },
   {
    "duration": 16,
    "start_time": "2022-11-16T10:13:47.742Z"
   },
   {
    "duration": 2,
    "start_time": "2022-11-16T10:14:08.126Z"
   },
   {
    "duration": 7,
    "start_time": "2022-11-16T10:14:25.156Z"
   },
   {
    "duration": 135,
    "start_time": "2022-11-16T10:14:29.597Z"
   },
   {
    "duration": 612,
    "start_time": "2022-11-16T10:14:34.322Z"
   },
   {
    "duration": 110,
    "start_time": "2022-11-16T10:14:35.798Z"
   },
   {
    "duration": 35,
    "start_time": "2022-11-16T10:14:37.738Z"
   },
   {
    "duration": 268,
    "start_time": "2022-11-16T10:15:18.943Z"
   },
   {
    "duration": 22,
    "start_time": "2022-11-16T10:15:23.146Z"
   },
   {
    "duration": 255,
    "start_time": "2022-11-16T10:15:23.812Z"
   },
   {
    "duration": 7,
    "start_time": "2022-11-16T10:15:31.905Z"
   },
   {
    "duration": 7,
    "start_time": "2022-11-16T10:15:56.495Z"
   },
   {
    "duration": 6,
    "start_time": "2022-11-16T10:15:57.585Z"
   },
   {
    "duration": 140,
    "start_time": "2022-11-16T10:15:58.562Z"
   },
   {
    "duration": 125,
    "start_time": "2022-11-16T10:17:55.806Z"
   },
   {
    "duration": 132,
    "start_time": "2022-11-16T10:18:11.875Z"
   },
   {
    "duration": 159,
    "start_time": "2022-11-16T10:18:25.075Z"
   },
   {
    "duration": 37,
    "start_time": "2022-11-16T10:18:57.405Z"
   },
   {
    "duration": 5,
    "start_time": "2022-11-16T10:20:15.226Z"
   },
   {
    "duration": 5,
    "start_time": "2022-11-16T10:20:15.697Z"
   },
   {
    "duration": 14,
    "start_time": "2022-11-16T10:20:21.159Z"
   },
   {
    "duration": 6,
    "start_time": "2022-11-16T10:20:21.835Z"
   },
   {
    "duration": 4,
    "start_time": "2022-11-16T10:20:22.536Z"
   },
   {
    "duration": 143,
    "start_time": "2022-11-16T10:20:23.155Z"
   },
   {
    "duration": 146,
    "start_time": "2022-11-16T10:20:25.625Z"
   },
   {
    "duration": 3,
    "start_time": "2022-11-16T10:21:14.104Z"
   },
   {
    "duration": 46,
    "start_time": "2022-11-16T10:21:14.755Z"
   },
   {
    "duration": 13,
    "start_time": "2022-11-16T10:21:16.005Z"
   },
   {
    "duration": 3,
    "start_time": "2022-11-16T10:21:18.076Z"
   },
   {
    "duration": 14,
    "start_time": "2022-11-16T10:21:18.554Z"
   },
   {
    "duration": 9,
    "start_time": "2022-11-16T10:21:20.565Z"
   },
   {
    "duration": 15,
    "start_time": "2022-11-16T10:21:21.390Z"
   },
   {
    "duration": 6,
    "start_time": "2022-11-16T10:21:22.636Z"
   },
   {
    "duration": 6,
    "start_time": "2022-11-16T10:21:23.666Z"
   },
   {
    "duration": 5,
    "start_time": "2022-11-16T10:21:24.673Z"
   },
   {
    "duration": 5,
    "start_time": "2022-11-16T10:21:25.202Z"
   },
   {
    "duration": 5,
    "start_time": "2022-11-16T10:29:23.598Z"
   },
   {
    "duration": 6,
    "start_time": "2022-11-16T10:29:25.496Z"
   },
   {
    "duration": 7,
    "start_time": "2022-11-16T10:29:26.419Z"
   },
   {
    "duration": 186,
    "start_time": "2022-11-16T10:29:26.814Z"
   },
   {
    "duration": 3,
    "start_time": "2022-11-16T10:29:28.417Z"
   },
   {
    "duration": 5,
    "start_time": "2022-11-16T10:29:28.718Z"
   },
   {
    "duration": 6,
    "start_time": "2022-11-16T10:29:28.957Z"
   },
   {
    "duration": 12,
    "start_time": "2022-11-16T10:29:29.829Z"
   },
   {
    "duration": 11,
    "start_time": "2022-11-16T10:29:30.545Z"
   },
   {
    "duration": 11,
    "start_time": "2022-11-16T10:29:31.273Z"
   },
   {
    "duration": 16,
    "start_time": "2022-11-16T10:29:31.458Z"
   },
   {
    "duration": 7,
    "start_time": "2022-11-16T10:29:32.738Z"
   },
   {
    "duration": 20,
    "start_time": "2022-11-16T10:29:33.017Z"
   },
   {
    "duration": 8,
    "start_time": "2022-11-16T10:29:34.875Z"
   },
   {
    "duration": 210,
    "start_time": "2022-11-16T10:29:35.175Z"
   },
   {
    "duration": 623,
    "start_time": "2022-11-16T10:29:37.513Z"
   },
   {
    "duration": 105,
    "start_time": "2022-11-16T10:29:38.732Z"
   },
   {
    "duration": 27,
    "start_time": "2022-11-16T10:29:39.501Z"
   },
   {
    "duration": 263,
    "start_time": "2022-11-16T10:29:40.330Z"
   },
   {
    "duration": 24,
    "start_time": "2022-11-16T10:29:41.759Z"
   },
   {
    "duration": 247,
    "start_time": "2022-11-16T10:29:42.215Z"
   },
   {
    "duration": 10,
    "start_time": "2022-11-16T10:29:50.776Z"
   },
   {
    "duration": 10,
    "start_time": "2022-11-16T10:29:51.195Z"
   },
   {
    "duration": 7,
    "start_time": "2022-11-16T10:29:51.854Z"
   },
   {
    "duration": 150,
    "start_time": "2022-11-16T10:29:52.698Z"
   },
   {
    "duration": 145,
    "start_time": "2022-11-16T10:29:53.675Z"
   },
   {
    "duration": 30,
    "start_time": "2022-11-16T10:29:53.906Z"
   },
   {
    "duration": 3,
    "start_time": "2022-11-16T10:30:49.636Z"
   },
   {
    "duration": 67,
    "start_time": "2022-11-16T10:30:49.851Z"
   },
   {
    "duration": 14,
    "start_time": "2022-11-16T10:30:50.083Z"
   },
   {
    "duration": 4,
    "start_time": "2022-11-16T10:30:50.795Z"
   },
   {
    "duration": 14,
    "start_time": "2022-11-16T10:30:51.008Z"
   },
   {
    "duration": 10,
    "start_time": "2022-11-16T10:30:51.777Z"
   },
   {
    "duration": 16,
    "start_time": "2022-11-16T10:30:52.254Z"
   },
   {
    "duration": 5,
    "start_time": "2022-11-16T10:30:52.845Z"
   },
   {
    "duration": 7,
    "start_time": "2022-11-16T10:30:53.102Z"
   },
   {
    "duration": 4,
    "start_time": "2022-11-16T10:30:53.481Z"
   },
   {
    "duration": 4,
    "start_time": "2022-11-16T10:30:53.777Z"
   },
   {
    "duration": 5,
    "start_time": "2022-11-16T10:30:56.622Z"
   },
   {
    "duration": 70,
    "start_time": "2022-11-16T10:34:42.372Z"
   },
   {
    "duration": 9,
    "start_time": "2022-11-16T10:35:17.296Z"
   },
   {
    "duration": 3,
    "start_time": "2022-11-16T10:35:23.957Z"
   },
   {
    "duration": 46,
    "start_time": "2022-11-16T10:35:24.636Z"
   },
   {
    "duration": 14,
    "start_time": "2022-11-16T10:35:26.667Z"
   },
   {
    "duration": 4,
    "start_time": "2022-11-16T10:35:28.148Z"
   },
   {
    "duration": 15,
    "start_time": "2022-11-16T10:35:28.378Z"
   },
   {
    "duration": 10,
    "start_time": "2022-11-16T10:35:29.528Z"
   },
   {
    "duration": 15,
    "start_time": "2022-11-16T10:35:29.966Z"
   },
   {
    "duration": 5,
    "start_time": "2022-11-16T10:35:32.184Z"
   },
   {
    "duration": 6,
    "start_time": "2022-11-16T10:35:32.549Z"
   },
   {
    "duration": 5,
    "start_time": "2022-11-16T10:35:33.087Z"
   },
   {
    "duration": 5,
    "start_time": "2022-11-16T10:35:33.517Z"
   },
   {
    "duration": 6,
    "start_time": "2022-11-16T10:35:37.184Z"
   },
   {
    "duration": 4,
    "start_time": "2022-11-16T10:35:42.954Z"
   },
   {
    "duration": 4,
    "start_time": "2022-11-16T10:35:44.715Z"
   },
   {
    "duration": 2,
    "start_time": "2022-11-16T10:37:05.000Z"
   },
   {
    "duration": 48,
    "start_time": "2022-11-16T10:37:05.677Z"
   },
   {
    "duration": 14,
    "start_time": "2022-11-16T10:37:06.326Z"
   },
   {
    "duration": 3,
    "start_time": "2022-11-16T10:37:08.856Z"
   },
   {
    "duration": 17,
    "start_time": "2022-11-16T10:37:09.701Z"
   },
   {
    "duration": 9,
    "start_time": "2022-11-16T10:37:23.238Z"
   },
   {
    "duration": 15,
    "start_time": "2022-11-16T10:37:25.923Z"
   },
   {
    "duration": 5,
    "start_time": "2022-11-16T10:37:27.267Z"
   },
   {
    "duration": 6,
    "start_time": "2022-11-16T10:37:30.876Z"
   },
   {
    "duration": 4,
    "start_time": "2022-11-16T10:37:31.432Z"
   },
   {
    "duration": 4,
    "start_time": "2022-11-16T10:37:32.338Z"
   },
   {
    "duration": 5,
    "start_time": "2022-11-16T10:37:36.805Z"
   },
   {
    "duration": 3,
    "start_time": "2022-11-16T10:39:16.750Z"
   },
   {
    "duration": 3,
    "start_time": "2022-11-16T10:39:20.215Z"
   },
   {
    "duration": 6,
    "start_time": "2022-11-16T10:39:23.015Z"
   },
   {
    "duration": 5,
    "start_time": "2022-11-16T10:39:38.866Z"
   },
   {
    "duration": 5,
    "start_time": "2022-11-16T10:39:52.105Z"
   },
   {
    "duration": 11,
    "start_time": "2022-11-16T10:40:08.746Z"
   },
   {
    "duration": 6,
    "start_time": "2022-11-16T10:40:31.229Z"
   },
   {
    "duration": 13,
    "start_time": "2022-11-16T10:40:51.225Z"
   },
   {
    "duration": 4,
    "start_time": "2022-11-16T10:41:44.008Z"
   },
   {
    "duration": 3,
    "start_time": "2022-11-16T10:42:05.694Z"
   },
   {
    "duration": 46,
    "start_time": "2022-11-16T10:42:06.178Z"
   },
   {
    "duration": 13,
    "start_time": "2022-11-16T10:42:07.035Z"
   },
   {
    "duration": 3,
    "start_time": "2022-11-16T10:42:09.045Z"
   },
   {
    "duration": 13,
    "start_time": "2022-11-16T10:42:09.565Z"
   },
   {
    "duration": 10,
    "start_time": "2022-11-16T10:42:11.425Z"
   },
   {
    "duration": 16,
    "start_time": "2022-11-16T10:42:12.490Z"
   },
   {
    "duration": 5,
    "start_time": "2022-11-16T10:42:13.714Z"
   },
   {
    "duration": 6,
    "start_time": "2022-11-16T10:42:14.408Z"
   },
   {
    "duration": 4,
    "start_time": "2022-11-16T10:42:15.005Z"
   },
   {
    "duration": 5,
    "start_time": "2022-11-16T10:42:16.000Z"
   },
   {
    "duration": 5,
    "start_time": "2022-11-16T10:42:19.249Z"
   },
   {
    "duration": 4,
    "start_time": "2022-11-16T10:42:52.885Z"
   },
   {
    "duration": 2,
    "start_time": "2022-11-16T10:42:54.865Z"
   },
   {
    "duration": 4,
    "start_time": "2022-11-16T10:42:55.415Z"
   },
   {
    "duration": 13,
    "start_time": "2022-11-16T10:43:06.465Z"
   },
   {
    "duration": 5,
    "start_time": "2022-11-16T10:46:11.645Z"
   },
   {
    "duration": 7,
    "start_time": "2022-11-16T10:46:13.445Z"
   },
   {
    "duration": 184,
    "start_time": "2022-11-16T10:46:14.599Z"
   },
   {
    "duration": 3,
    "start_time": "2022-11-16T10:46:16.660Z"
   },
   {
    "duration": 9,
    "start_time": "2022-11-16T10:46:17.362Z"
   },
   {
    "duration": 6,
    "start_time": "2022-11-16T10:46:19.911Z"
   },
   {
    "duration": 8,
    "start_time": "2022-11-16T10:46:21.734Z"
   },
   {
    "duration": 19,
    "start_time": "2022-11-16T10:46:47.799Z"
   },
   {
    "duration": 9,
    "start_time": "2022-11-16T10:47:35.198Z"
   },
   {
    "duration": 7,
    "start_time": "2022-11-16T10:47:40.056Z"
   },
   {
    "duration": 10,
    "start_time": "2022-11-16T10:47:41.077Z"
   },
   {
    "duration": 5,
    "start_time": "2022-11-16T10:47:44.874Z"
   },
   {
    "duration": 12,
    "start_time": "2022-11-16T10:47:45.362Z"
   },
   {
    "duration": 8,
    "start_time": "2022-11-16T10:48:12.145Z"
   },
   {
    "duration": 134,
    "start_time": "2022-11-16T10:48:12.914Z"
   },
   {
    "duration": 594,
    "start_time": "2022-11-16T10:48:14.692Z"
   },
   {
    "duration": 113,
    "start_time": "2022-11-16T10:48:16.166Z"
   },
   {
    "duration": 24,
    "start_time": "2022-11-16T10:48:43.063Z"
   },
   {
    "duration": 247,
    "start_time": "2022-11-16T10:48:46.458Z"
   },
   {
    "duration": 23,
    "start_time": "2022-11-16T10:48:55.933Z"
   },
   {
    "duration": 246,
    "start_time": "2022-11-16T10:48:56.945Z"
   },
   {
    "duration": 7,
    "start_time": "2022-11-16T10:49:23.965Z"
   },
   {
    "duration": 9,
    "start_time": "2022-11-16T10:49:25.127Z"
   },
   {
    "duration": 7,
    "start_time": "2022-11-16T10:49:26.347Z"
   },
   {
    "duration": 141,
    "start_time": "2022-11-16T10:49:26.898Z"
   },
   {
    "duration": 158,
    "start_time": "2022-11-16T10:49:28.355Z"
   },
   {
    "duration": 31,
    "start_time": "2022-11-16T10:49:29.465Z"
   },
   {
    "duration": 79,
    "start_time": "2022-11-16T10:50:34.355Z"
   },
   {
    "duration": 6,
    "start_time": "2022-11-16T10:50:52.815Z"
   },
   {
    "duration": 7,
    "start_time": "2022-11-16T10:50:55.583Z"
   },
   {
    "duration": 13,
    "start_time": "2022-11-16T10:54:40.903Z"
   },
   {
    "duration": 6,
    "start_time": "2022-11-16T10:54:43.345Z"
   },
   {
    "duration": 5,
    "start_time": "2022-11-16T10:54:44.453Z"
   },
   {
    "duration": 146,
    "start_time": "2022-11-16T10:54:48.005Z"
   },
   {
    "duration": 128,
    "start_time": "2022-11-16T10:54:53.539Z"
   },
   {
    "duration": 3,
    "start_time": "2022-11-16T10:55:48.502Z"
   },
   {
    "duration": 47,
    "start_time": "2022-11-16T10:55:48.937Z"
   },
   {
    "duration": 14,
    "start_time": "2022-11-16T10:55:49.236Z"
   },
   {
    "duration": 3,
    "start_time": "2022-11-16T10:55:50.618Z"
   },
   {
    "duration": 15,
    "start_time": "2022-11-16T10:55:51.067Z"
   },
   {
    "duration": 11,
    "start_time": "2022-11-16T10:55:52.408Z"
   },
   {
    "duration": 15,
    "start_time": "2022-11-16T10:55:52.946Z"
   },
   {
    "duration": 5,
    "start_time": "2022-11-16T10:55:54.209Z"
   },
   {
    "duration": 6,
    "start_time": "2022-11-16T10:55:55.100Z"
   },
   {
    "duration": 4,
    "start_time": "2022-11-16T10:55:56.916Z"
   },
   {
    "duration": 4,
    "start_time": "2022-11-16T10:55:57.366Z"
   },
   {
    "duration": 5,
    "start_time": "2022-11-16T10:55:59.078Z"
   },
   {
    "duration": 13,
    "start_time": "2022-11-16T10:56:03.738Z"
   },
   {
    "duration": 4,
    "start_time": "2022-11-16T10:56:16.538Z"
   },
   {
    "duration": 6,
    "start_time": "2022-11-16T10:56:28.761Z"
   },
   {
    "duration": 8,
    "start_time": "2022-11-16T10:56:33.915Z"
   },
   {
    "duration": 188,
    "start_time": "2022-11-16T10:56:34.153Z"
   },
   {
    "duration": 3,
    "start_time": "2022-11-16T10:56:36.276Z"
   },
   {
    "duration": 7,
    "start_time": "2022-11-16T10:56:40.026Z"
   },
   {
    "duration": 6,
    "start_time": "2022-11-16T10:56:41.852Z"
   },
   {
    "duration": 5,
    "start_time": "2022-11-16T10:56:43.044Z"
   },
   {
    "duration": 4,
    "start_time": "2022-11-16T10:57:20.403Z"
   },
   {
    "duration": 5,
    "start_time": "2022-11-16T10:57:22.156Z"
   },
   {
    "duration": 3,
    "start_time": "2022-11-16T10:57:35.530Z"
   },
   {
    "duration": 50,
    "start_time": "2022-11-16T10:57:35.956Z"
   },
   {
    "duration": 14,
    "start_time": "2022-11-16T10:57:36.276Z"
   },
   {
    "duration": 3,
    "start_time": "2022-11-16T10:57:37.511Z"
   },
   {
    "duration": 19,
    "start_time": "2022-11-16T10:57:37.702Z"
   },
   {
    "duration": 10,
    "start_time": "2022-11-16T10:57:38.956Z"
   },
   {
    "duration": 16,
    "start_time": "2022-11-16T10:57:41.348Z"
   },
   {
    "duration": 6,
    "start_time": "2022-11-16T10:57:43.510Z"
   },
   {
    "duration": 6,
    "start_time": "2022-11-16T10:57:45.054Z"
   },
   {
    "duration": 4,
    "start_time": "2022-11-16T10:57:45.515Z"
   },
   {
    "duration": 6,
    "start_time": "2022-11-16T10:57:56.266Z"
   },
   {
    "duration": 6,
    "start_time": "2022-11-16T10:57:58.622Z"
   },
   {
    "duration": 3,
    "start_time": "2022-11-16T10:58:01.544Z"
   },
   {
    "duration": 5,
    "start_time": "2022-11-16T10:58:02.206Z"
   },
   {
    "duration": 6,
    "start_time": "2022-11-16T10:58:25.905Z"
   },
   {
    "duration": 7,
    "start_time": "2022-11-16T10:58:26.955Z"
   },
   {
    "duration": 188,
    "start_time": "2022-11-16T10:58:27.268Z"
   },
   {
    "duration": 3,
    "start_time": "2022-11-16T10:58:28.062Z"
   },
   {
    "duration": 7,
    "start_time": "2022-11-16T10:58:28.502Z"
   },
   {
    "duration": 5,
    "start_time": "2022-11-16T10:58:28.802Z"
   },
   {
    "duration": 5,
    "start_time": "2022-11-16T10:58:29.538Z"
   },
   {
    "duration": 14,
    "start_time": "2022-11-16T10:58:31.207Z"
   },
   {
    "duration": 10,
    "start_time": "2022-11-16T10:58:33.027Z"
   },
   {
    "duration": 7,
    "start_time": "2022-11-16T10:58:35.227Z"
   },
   {
    "duration": 10,
    "start_time": "2022-11-16T10:58:36.276Z"
   },
   {
    "duration": 5,
    "start_time": "2022-11-16T10:58:41.766Z"
   },
   {
    "duration": 15,
    "start_time": "2022-11-16T10:58:42.151Z"
   },
   {
    "duration": 9,
    "start_time": "2022-11-16T10:58:46.145Z"
   },
   {
    "duration": 151,
    "start_time": "2022-11-16T10:58:47.016Z"
   },
   {
    "duration": 647,
    "start_time": "2022-11-16T10:58:48.714Z"
   },
   {
    "duration": 109,
    "start_time": "2022-11-16T10:58:49.864Z"
   },
   {
    "duration": 26,
    "start_time": "2022-11-16T10:58:51.172Z"
   },
   {
    "duration": 246,
    "start_time": "2022-11-16T10:58:53.472Z"
   },
   {
    "duration": 24,
    "start_time": "2022-11-16T10:58:55.532Z"
   },
   {
    "duration": 256,
    "start_time": "2022-11-16T10:58:56.159Z"
   },
   {
    "duration": 7,
    "start_time": "2022-11-16T10:58:59.246Z"
   },
   {
    "duration": 7,
    "start_time": "2022-11-16T10:59:00.113Z"
   },
   {
    "duration": 6,
    "start_time": "2022-11-16T10:59:00.926Z"
   },
   {
    "duration": 146,
    "start_time": "2022-11-16T10:59:01.413Z"
   },
   {
    "duration": 143,
    "start_time": "2022-11-16T10:59:02.757Z"
   },
   {
    "duration": 30,
    "start_time": "2022-11-16T10:59:03.219Z"
   },
   {
    "duration": 5,
    "start_time": "2022-11-16T10:59:06.926Z"
   },
   {
    "duration": 5,
    "start_time": "2022-11-16T10:59:07.312Z"
   },
   {
    "duration": 6,
    "start_time": "2022-11-16T11:00:10.511Z"
   },
   {
    "duration": 15,
    "start_time": "2022-11-16T11:00:30.631Z"
   },
   {
    "duration": 5,
    "start_time": "2022-11-16T11:02:07.109Z"
   },
   {
    "duration": 5,
    "start_time": "2022-11-16T11:02:11.024Z"
   },
   {
    "duration": 148,
    "start_time": "2022-11-16T11:02:14.628Z"
   },
   {
    "duration": 187,
    "start_time": "2022-11-16T11:02:17.617Z"
   },
   {
    "duration": 22,
    "start_time": "2022-11-16T11:03:49.862Z"
   },
   {
    "duration": 7,
    "start_time": "2022-11-16T11:03:51.182Z"
   },
   {
    "duration": 6,
    "start_time": "2022-11-16T11:03:53.849Z"
   },
   {
    "duration": 132,
    "start_time": "2022-11-16T11:03:58.549Z"
   },
   {
    "duration": 140,
    "start_time": "2022-11-16T11:04:00.373Z"
   },
   {
    "duration": 15,
    "start_time": "2022-11-16T11:04:53.355Z"
   },
   {
    "duration": 6,
    "start_time": "2022-11-16T11:04:54.774Z"
   },
   {
    "duration": 5,
    "start_time": "2022-11-16T11:04:57.994Z"
   },
   {
    "duration": 216,
    "start_time": "2022-11-16T11:05:03.420Z"
   },
   {
    "duration": 145,
    "start_time": "2022-11-16T11:05:07.688Z"
   },
   {
    "duration": 8,
    "start_time": "2022-11-16T11:09:17.071Z"
   },
   {
    "duration": 7,
    "start_time": "2022-11-16T11:10:38.909Z"
   },
   {
    "duration": 80,
    "start_time": "2022-11-16T11:10:58.736Z"
   },
   {
    "duration": 8,
    "start_time": "2022-11-16T11:11:33.196Z"
   },
   {
    "duration": 99,
    "start_time": "2022-11-16T11:11:35.854Z"
   },
   {
    "duration": 5,
    "start_time": "2022-11-16T11:11:37.358Z"
   },
   {
    "duration": 4,
    "start_time": "2022-11-16T11:11:41.471Z"
   },
   {
    "duration": 4,
    "start_time": "2022-11-16T11:11:41.880Z"
   },
   {
    "duration": 6,
    "start_time": "2022-11-16T11:11:42.673Z"
   },
   {
    "duration": 7,
    "start_time": "2022-11-16T11:11:51.621Z"
   },
   {
    "duration": 9,
    "start_time": "2022-11-16T11:12:06.432Z"
   },
   {
    "duration": 7,
    "start_time": "2022-11-16T11:12:19.965Z"
   },
   {
    "duration": 8,
    "start_time": "2022-11-16T11:12:55.224Z"
   },
   {
    "duration": 122,
    "start_time": "2022-11-16T11:13:10.197Z"
   },
   {
    "duration": 7,
    "start_time": "2022-11-16T11:13:16.037Z"
   },
   {
    "duration": 103,
    "start_time": "2022-11-16T11:13:16.648Z"
   },
   {
    "duration": 5,
    "start_time": "2022-11-16T11:13:17.735Z"
   },
   {
    "duration": 5,
    "start_time": "2022-11-16T11:13:18.645Z"
   },
   {
    "duration": 5,
    "start_time": "2022-11-16T11:13:19.066Z"
   },
   {
    "duration": 4,
    "start_time": "2022-11-16T11:13:20.845Z"
   },
   {
    "duration": 8,
    "start_time": "2022-11-16T11:13:46.436Z"
   },
   {
    "duration": 9,
    "start_time": "2022-11-16T11:13:55.326Z"
   },
   {
    "duration": 117,
    "start_time": "2022-11-16T11:14:21.330Z"
   },
   {
    "duration": 7,
    "start_time": "2022-11-16T11:14:27.725Z"
   },
   {
    "duration": 115,
    "start_time": "2022-11-16T11:14:28.252Z"
   },
   {
    "duration": 6,
    "start_time": "2022-11-16T11:14:29.315Z"
   },
   {
    "duration": 6,
    "start_time": "2022-11-16T11:14:30.995Z"
   },
   {
    "duration": 5,
    "start_time": "2022-11-16T11:14:31.477Z"
   },
   {
    "duration": 5,
    "start_time": "2022-11-16T11:14:31.996Z"
   },
   {
    "duration": 9,
    "start_time": "2022-11-16T11:15:08.530Z"
   },
   {
    "duration": 109,
    "start_time": "2022-11-16T11:15:28.712Z"
   },
   {
    "duration": 4,
    "start_time": "2022-11-16T11:18:47.277Z"
   },
   {
    "duration": 4,
    "start_time": "2022-11-16T11:19:02.370Z"
   },
   {
    "duration": 4,
    "start_time": "2022-11-16T11:19:05.074Z"
   },
   {
    "duration": 469,
    "start_time": "2022-11-16T11:19:26.607Z"
   },
   {
    "duration": 4,
    "start_time": "2022-11-16T11:19:37.726Z"
   },
   {
    "duration": 5,
    "start_time": "2022-11-16T11:20:00.107Z"
   },
   {
    "duration": 4,
    "start_time": "2022-11-16T11:20:04.597Z"
   },
   {
    "duration": 1356,
    "start_time": "2022-11-16T12:48:09.481Z"
   },
   {
    "duration": 98,
    "start_time": "2022-11-16T12:48:11.891Z"
   },
   {
    "duration": 18,
    "start_time": "2022-11-16T12:48:12.602Z"
   },
   {
    "duration": 4,
    "start_time": "2022-11-16T12:48:14.133Z"
   },
   {
    "duration": 20,
    "start_time": "2022-11-16T12:48:14.518Z"
   },
   {
    "duration": 11,
    "start_time": "2022-11-16T12:48:15.521Z"
   },
   {
    "duration": 65,
    "start_time": "2022-11-16T12:48:15.778Z"
   },
   {
    "duration": 7,
    "start_time": "2022-11-16T12:48:16.520Z"
   },
   {
    "duration": 8,
    "start_time": "2022-11-16T12:48:16.632Z"
   },
   {
    "duration": 4,
    "start_time": "2022-11-16T12:48:16.941Z"
   },
   {
    "duration": 5,
    "start_time": "2022-11-16T12:48:17.328Z"
   },
   {
    "duration": 6,
    "start_time": "2022-11-16T12:48:20.460Z"
   },
   {
    "duration": 4,
    "start_time": "2022-11-16T12:48:20.910Z"
   },
   {
    "duration": 117,
    "start_time": "2022-11-16T12:48:22.030Z"
   },
   {
    "duration": 6,
    "start_time": "2022-11-16T12:48:35.669Z"
   },
   {
    "duration": 8,
    "start_time": "2022-11-16T12:48:40.421Z"
   },
   {
    "duration": 6,
    "start_time": "2022-11-16T12:48:43.657Z"
   },
   {
    "duration": 224,
    "start_time": "2022-11-16T12:48:45.461Z"
   },
   {
    "duration": 4,
    "start_time": "2022-11-16T12:48:47.850Z"
   },
   {
    "duration": 9,
    "start_time": "2022-11-16T12:48:48.321Z"
   },
   {
    "duration": 5,
    "start_time": "2022-11-16T12:48:50.830Z"
   },
   {
    "duration": 5,
    "start_time": "2022-11-16T12:48:51.658Z"
   },
   {
    "duration": 15,
    "start_time": "2022-11-16T12:48:55.620Z"
   },
   {
    "duration": 10,
    "start_time": "2022-11-16T12:49:02.730Z"
   },
   {
    "duration": 8,
    "start_time": "2022-11-16T12:49:05.090Z"
   },
   {
    "duration": 14,
    "start_time": "2022-11-16T12:49:05.816Z"
   },
   {
    "duration": 7,
    "start_time": "2022-11-16T12:49:09.830Z"
   },
   {
    "duration": 17,
    "start_time": "2022-11-16T12:49:11.140Z"
   },
   {
    "duration": 10,
    "start_time": "2022-11-16T12:49:22.295Z"
   },
   {
    "duration": 152,
    "start_time": "2022-11-16T12:49:23.341Z"
   },
   {
    "duration": 626,
    "start_time": "2022-11-16T12:49:27.160Z"
   },
   {
    "duration": 124,
    "start_time": "2022-11-16T12:49:28.499Z"
   },
   {
    "duration": 39,
    "start_time": "2022-11-16T12:49:29.762Z"
   },
   {
    "duration": 313,
    "start_time": "2022-11-16T12:49:32.410Z"
   },
   {
    "duration": 38,
    "start_time": "2022-11-16T12:49:33.971Z"
   },
   {
    "duration": 282,
    "start_time": "2022-11-16T12:49:34.491Z"
   },
   {
    "duration": 9,
    "start_time": "2022-11-16T12:49:38.910Z"
   },
   {
    "duration": 8,
    "start_time": "2022-11-16T12:49:39.430Z"
   },
   {
    "duration": 5,
    "start_time": "2022-11-16T12:49:39.903Z"
   },
   {
    "duration": 156,
    "start_time": "2022-11-16T12:49:40.632Z"
   },
   {
    "duration": 241,
    "start_time": "2022-11-16T12:49:41.790Z"
   },
   {
    "duration": 35,
    "start_time": "2022-11-16T12:49:42.218Z"
   },
   {
    "duration": 6,
    "start_time": "2022-11-16T12:49:46.730Z"
   },
   {
    "duration": 6,
    "start_time": "2022-11-16T12:49:47.042Z"
   },
   {
    "duration": 15,
    "start_time": "2022-11-16T12:49:48.420Z"
   },
   {
    "duration": 5,
    "start_time": "2022-11-16T12:49:48.650Z"
   },
   {
    "duration": 6,
    "start_time": "2022-11-16T12:49:49.311Z"
   },
   {
    "duration": 149,
    "start_time": "2022-11-16T12:49:49.690Z"
   },
   {
    "duration": 162,
    "start_time": "2022-11-16T12:49:49.983Z"
   },
   {
    "duration": 15,
    "start_time": "2022-11-16T12:49:53.274Z"
   },
   {
    "duration": 5,
    "start_time": "2022-11-16T12:49:54.016Z"
   },
   {
    "duration": 7,
    "start_time": "2022-11-16T12:49:54.370Z"
   },
   {
    "duration": 144,
    "start_time": "2022-11-16T12:49:54.831Z"
   },
   {
    "duration": 148,
    "start_time": "2022-11-16T12:49:56.754Z"
   },
   {
    "duration": 16,
    "start_time": "2022-11-16T12:50:04.830Z"
   },
   {
    "duration": 6,
    "start_time": "2022-11-16T12:50:08.571Z"
   },
   {
    "duration": 10,
    "start_time": "2022-11-16T12:50:09.060Z"
   },
   {
    "duration": 164,
    "start_time": "2022-11-16T12:50:09.552Z"
   },
   {
    "duration": 249,
    "start_time": "2022-11-16T12:50:10.471Z"
   },
   {
    "duration": 8,
    "start_time": "2022-11-16T12:50:14.597Z"
   },
   {
    "duration": 7,
    "start_time": "2022-11-16T12:50:15.460Z"
   },
   {
    "duration": 8,
    "start_time": "2022-11-16T12:50:20.936Z"
   },
   {
    "duration": 110,
    "start_time": "2022-11-16T12:50:21.399Z"
   },
   {
    "duration": 5,
    "start_time": "2022-11-16T12:50:22.373Z"
   },
   {
    "duration": 5,
    "start_time": "2022-11-16T12:50:25.422Z"
   },
   {
    "duration": 6,
    "start_time": "2022-11-16T12:50:25.851Z"
   },
   {
    "duration": 6,
    "start_time": "2022-11-16T12:50:26.200Z"
   },
   {
    "duration": 8,
    "start_time": "2022-11-16T12:50:29.860Z"
   },
   {
    "duration": 140,
    "start_time": "2022-11-16T12:50:36.593Z"
   },
   {
    "duration": 8,
    "start_time": "2022-11-16T12:50:39.239Z"
   },
   {
    "duration": 111,
    "start_time": "2022-11-16T12:50:40.850Z"
   },
   {
    "duration": 6,
    "start_time": "2022-11-16T12:50:42.141Z"
   },
   {
    "duration": 5,
    "start_time": "2022-11-16T12:50:46.781Z"
   },
   {
    "duration": 6,
    "start_time": "2022-11-16T12:50:47.404Z"
   },
   {
    "duration": 5,
    "start_time": "2022-11-16T12:50:49.173Z"
   },
   {
    "duration": 7,
    "start_time": "2022-11-16T12:50:51.131Z"
   },
   {
    "duration": 123,
    "start_time": "2022-11-16T12:50:52.671Z"
   },
   {
    "duration": 9,
    "start_time": "2022-11-16T12:50:55.740Z"
   },
   {
    "duration": 181,
    "start_time": "2022-11-16T12:50:55.980Z"
   },
   {
    "duration": 5,
    "start_time": "2022-11-16T12:50:56.744Z"
   },
   {
    "duration": 7,
    "start_time": "2022-11-16T12:50:57.182Z"
   },
   {
    "duration": 7,
    "start_time": "2022-11-16T12:50:57.431Z"
   },
   {
    "duration": 7,
    "start_time": "2022-11-16T12:50:57.726Z"
   },
   {
    "duration": 9,
    "start_time": "2022-11-16T12:50:59.360Z"
   },
   {
    "duration": 133,
    "start_time": "2022-11-16T12:51:00.438Z"
   },
   {
    "duration": 11,
    "start_time": "2022-11-16T12:54:29.654Z"
   },
   {
    "duration": 5,
    "start_time": "2022-11-16T12:55:49.641Z"
   },
   {
    "duration": 6,
    "start_time": "2022-11-16T12:55:54.600Z"
   },
   {
    "duration": 5,
    "start_time": "2022-11-16T12:55:55.312Z"
   },
   {
    "duration": 5,
    "start_time": "2022-11-16T12:55:56.448Z"
   },
   {
    "duration": 4,
    "start_time": "2022-11-16T12:56:27.787Z"
   },
   {
    "duration": 5,
    "start_time": "2022-11-16T12:56:28.421Z"
   },
   {
    "duration": 4,
    "start_time": "2022-11-16T12:56:29.515Z"
   },
   {
    "duration": 6,
    "start_time": "2022-11-16T12:56:30.140Z"
   },
   {
    "duration": 6,
    "start_time": "2022-11-16T12:57:16.938Z"
   },
   {
    "duration": 5,
    "start_time": "2022-11-16T12:57:23.271Z"
   },
   {
    "duration": 14,
    "start_time": "2022-11-16T12:57:31.940Z"
   },
   {
    "duration": 4,
    "start_time": "2022-11-16T13:00:11.950Z"
   },
   {
    "duration": 6,
    "start_time": "2022-11-16T13:00:12.951Z"
   },
   {
    "duration": 4,
    "start_time": "2022-11-16T13:00:13.471Z"
   },
   {
    "duration": 5,
    "start_time": "2022-11-16T13:00:14.944Z"
   },
   {
    "duration": 1232,
    "start_time": "2022-11-16T13:40:39.464Z"
   },
   {
    "duration": 217,
    "start_time": "2022-11-16T13:40:40.698Z"
   },
   {
    "duration": 16,
    "start_time": "2022-11-16T13:40:40.917Z"
   },
   {
    "duration": 3,
    "start_time": "2022-11-16T13:40:40.936Z"
   },
   {
    "duration": 20,
    "start_time": "2022-11-16T13:40:40.940Z"
   },
   {
    "duration": 10,
    "start_time": "2022-11-16T13:40:40.962Z"
   },
   {
    "duration": 97,
    "start_time": "2022-11-16T13:40:40.973Z"
   },
   {
    "duration": 5,
    "start_time": "2022-11-16T13:40:41.072Z"
   },
   {
    "duration": 9,
    "start_time": "2022-11-16T13:40:41.078Z"
   },
   {
    "duration": 4,
    "start_time": "2022-11-16T13:40:41.090Z"
   },
   {
    "duration": 24,
    "start_time": "2022-11-16T13:40:41.095Z"
   },
   {
    "duration": 9,
    "start_time": "2022-11-16T13:40:41.120Z"
   },
   {
    "duration": 6,
    "start_time": "2022-11-16T13:40:41.130Z"
   },
   {
    "duration": 15,
    "start_time": "2022-11-16T13:40:41.137Z"
   },
   {
    "duration": 10,
    "start_time": "2022-11-16T13:40:41.154Z"
   },
   {
    "duration": 8,
    "start_time": "2022-11-16T13:40:41.166Z"
   },
   {
    "duration": 223,
    "start_time": "2022-11-16T13:40:41.175Z"
   },
   {
    "duration": 3,
    "start_time": "2022-11-16T13:40:41.399Z"
   },
   {
    "duration": 6,
    "start_time": "2022-11-16T13:40:41.415Z"
   },
   {
    "duration": 9,
    "start_time": "2022-11-16T13:40:41.423Z"
   },
   {
    "duration": 7,
    "start_time": "2022-11-16T13:40:41.434Z"
   },
   {
    "duration": 16,
    "start_time": "2022-11-16T13:40:41.443Z"
   },
   {
    "duration": 9,
    "start_time": "2022-11-16T13:40:41.460Z"
   },
   {
    "duration": 9,
    "start_time": "2022-11-16T13:40:41.471Z"
   },
   {
    "duration": 39,
    "start_time": "2022-11-16T13:40:41.482Z"
   },
   {
    "duration": 6,
    "start_time": "2022-11-16T13:40:41.523Z"
   },
   {
    "duration": 15,
    "start_time": "2022-11-16T13:40:41.531Z"
   },
   {
    "duration": 9,
    "start_time": "2022-11-16T13:40:41.551Z"
   },
   {
    "duration": 169,
    "start_time": "2022-11-16T13:40:41.561Z"
   },
   {
    "duration": 601,
    "start_time": "2022-11-16T13:40:41.731Z"
   },
   {
    "duration": 121,
    "start_time": "2022-11-16T13:40:42.334Z"
   },
   {
    "duration": 27,
    "start_time": "2022-11-16T13:40:42.457Z"
   },
   {
    "duration": 278,
    "start_time": "2022-11-16T13:40:42.486Z"
   },
   {
    "duration": 23,
    "start_time": "2022-11-16T13:40:42.765Z"
   },
   {
    "duration": 268,
    "start_time": "2022-11-16T13:40:42.789Z"
   },
   {
    "duration": 9,
    "start_time": "2022-11-16T13:40:43.059Z"
   },
   {
    "duration": 12,
    "start_time": "2022-11-16T13:40:43.070Z"
   },
   {
    "duration": 8,
    "start_time": "2022-11-16T13:40:43.083Z"
   },
   {
    "duration": 158,
    "start_time": "2022-11-16T13:40:43.092Z"
   },
   {
    "duration": 224,
    "start_time": "2022-11-16T13:40:43.252Z"
   },
   {
    "duration": 41,
    "start_time": "2022-11-16T13:40:43.478Z"
   },
   {
    "duration": 5,
    "start_time": "2022-11-16T13:40:43.520Z"
   },
   {
    "duration": 8,
    "start_time": "2022-11-16T13:40:43.527Z"
   },
   {
    "duration": 14,
    "start_time": "2022-11-16T13:40:43.537Z"
   },
   {
    "duration": 10,
    "start_time": "2022-11-16T13:40:43.552Z"
   },
   {
    "duration": 7,
    "start_time": "2022-11-16T13:40:43.564Z"
   },
   {
    "duration": 156,
    "start_time": "2022-11-16T13:40:43.573Z"
   },
   {
    "duration": 158,
    "start_time": "2022-11-16T13:40:43.731Z"
   },
   {
    "duration": 15,
    "start_time": "2022-11-16T13:40:43.890Z"
   },
   {
    "duration": 20,
    "start_time": "2022-11-16T13:40:43.906Z"
   },
   {
    "duration": 11,
    "start_time": "2022-11-16T13:40:43.927Z"
   },
   {
    "duration": 144,
    "start_time": "2022-11-16T13:40:43.940Z"
   },
   {
    "duration": 148,
    "start_time": "2022-11-16T13:40:44.086Z"
   },
   {
    "duration": 13,
    "start_time": "2022-11-16T13:40:44.236Z"
   },
   {
    "duration": 7,
    "start_time": "2022-11-16T13:40:44.251Z"
   },
   {
    "duration": 15,
    "start_time": "2022-11-16T13:40:44.260Z"
   },
   {
    "duration": 161,
    "start_time": "2022-11-16T13:40:44.277Z"
   },
   {
    "duration": 191,
    "start_time": "2022-11-16T13:40:44.440Z"
   },
   {
    "duration": 10,
    "start_time": "2022-11-16T13:40:44.633Z"
   },
   {
    "duration": 15,
    "start_time": "2022-11-16T13:40:44.644Z"
   },
   {
    "duration": 15,
    "start_time": "2022-11-16T13:40:44.661Z"
   },
   {
    "duration": 113,
    "start_time": "2022-11-16T13:40:44.678Z"
   },
   {
    "duration": 6,
    "start_time": "2022-11-16T13:40:44.793Z"
   },
   {
    "duration": 17,
    "start_time": "2022-11-16T13:40:44.801Z"
   },
   {
    "duration": 12,
    "start_time": "2022-11-16T13:40:44.820Z"
   },
   {
    "duration": 6,
    "start_time": "2022-11-16T13:40:44.834Z"
   },
   {
    "duration": 8,
    "start_time": "2022-11-16T13:40:44.843Z"
   },
   {
    "duration": 134,
    "start_time": "2022-11-16T13:40:44.853Z"
   },
   {
    "duration": 8,
    "start_time": "2022-11-16T13:40:44.989Z"
   },
   {
    "duration": 119,
    "start_time": "2022-11-16T13:40:44.999Z"
   },
   {
    "duration": 5,
    "start_time": "2022-11-16T13:40:45.120Z"
   },
   {
    "duration": 7,
    "start_time": "2022-11-16T13:40:45.126Z"
   },
   {
    "duration": 11,
    "start_time": "2022-11-16T13:40:45.135Z"
   },
   {
    "duration": 11,
    "start_time": "2022-11-16T13:40:45.148Z"
   },
   {
    "duration": 14,
    "start_time": "2022-11-16T13:40:45.160Z"
   },
   {
    "duration": 132,
    "start_time": "2022-11-16T13:40:45.175Z"
   },
   {
    "duration": 12,
    "start_time": "2022-11-16T13:40:45.309Z"
   },
   {
    "duration": 183,
    "start_time": "2022-11-16T13:40:45.324Z"
   },
   {
    "duration": 5,
    "start_time": "2022-11-16T13:40:45.515Z"
   },
   {
    "duration": 10,
    "start_time": "2022-11-16T13:40:45.522Z"
   },
   {
    "duration": 9,
    "start_time": "2022-11-16T13:40:45.534Z"
   },
   {
    "duration": 17,
    "start_time": "2022-11-16T13:40:45.548Z"
   },
   {
    "duration": 9,
    "start_time": "2022-11-16T13:40:45.566Z"
   },
   {
    "duration": 122,
    "start_time": "2022-11-16T13:40:45.577Z"
   },
   {
    "duration": 4,
    "start_time": "2022-11-16T13:40:45.701Z"
   },
   {
    "duration": 17,
    "start_time": "2022-11-16T13:40:45.706Z"
   },
   {
    "duration": 8,
    "start_time": "2022-11-16T13:40:45.724Z"
   },
   {
    "duration": 10,
    "start_time": "2022-11-16T13:40:45.734Z"
   },
   {
    "duration": 9,
    "start_time": "2022-11-16T13:40:45.745Z"
   },
   {
    "duration": 6,
    "start_time": "2022-11-16T13:40:45.756Z"
   },
   {
    "duration": 10,
    "start_time": "2022-11-16T13:40:45.764Z"
   },
   {
    "duration": 12,
    "start_time": "2022-11-16T13:40:45.776Z"
   },
   {
    "duration": 64,
    "start_time": "2023-04-03T09:12:25.870Z"
   },
   {
    "duration": 1270,
    "start_time": "2023-04-03T09:12:32.529Z"
   },
   {
    "duration": 1240,
    "start_time": "2023-04-03T09:18:56.772Z"
   },
   {
    "duration": 105,
    "start_time": "2023-04-03T09:18:58.014Z"
   },
   {
    "duration": 23,
    "start_time": "2023-04-03T09:18:58.121Z"
   },
   {
    "duration": 11,
    "start_time": "2023-04-03T09:18:58.146Z"
   },
   {
    "duration": 26,
    "start_time": "2023-04-03T09:18:58.159Z"
   },
   {
    "duration": 14,
    "start_time": "2023-04-03T09:18:58.187Z"
   },
   {
    "duration": 89,
    "start_time": "2023-04-03T09:18:58.203Z"
   },
   {
    "duration": 5,
    "start_time": "2023-04-03T09:18:58.295Z"
   },
   {
    "duration": 13,
    "start_time": "2023-04-03T09:18:58.302Z"
   },
   {
    "duration": 23,
    "start_time": "2023-04-03T09:18:58.318Z"
   },
   {
    "duration": 6,
    "start_time": "2023-04-03T09:18:58.343Z"
   },
   {
    "duration": 23,
    "start_time": "2023-04-03T09:18:58.351Z"
   },
   {
    "duration": 4,
    "start_time": "2023-04-03T09:18:58.377Z"
   },
   {
    "duration": 11,
    "start_time": "2023-04-03T09:18:58.382Z"
   },
   {
    "duration": 7,
    "start_time": "2023-04-03T09:18:58.395Z"
   },
   {
    "duration": 18,
    "start_time": "2023-04-03T09:18:58.403Z"
   },
   {
    "duration": 258,
    "start_time": "2023-04-03T09:18:58.423Z"
   },
   {
    "duration": 3,
    "start_time": "2023-04-03T09:18:58.683Z"
   },
   {
    "duration": 11,
    "start_time": "2023-04-03T09:18:58.688Z"
   },
   {
    "duration": 8,
    "start_time": "2023-04-03T09:18:58.701Z"
   },
   {
    "duration": 25,
    "start_time": "2023-04-03T09:18:58.710Z"
   },
   {
    "duration": 22,
    "start_time": "2023-04-03T09:18:58.741Z"
   },
   {
    "duration": 11,
    "start_time": "2023-04-03T09:18:58.765Z"
   },
   {
    "duration": 21,
    "start_time": "2023-04-03T09:18:58.778Z"
   },
   {
    "duration": 11,
    "start_time": "2023-04-03T09:18:58.802Z"
   },
   {
    "duration": 11,
    "start_time": "2023-04-03T09:18:58.814Z"
   },
   {
    "duration": 38,
    "start_time": "2023-04-03T09:18:58.840Z"
   },
   {
    "duration": 21,
    "start_time": "2023-04-03T09:18:58.884Z"
   },
   {
    "duration": 213,
    "start_time": "2023-04-03T09:18:58.907Z"
   },
   {
    "duration": 619,
    "start_time": "2023-04-03T09:18:59.122Z"
   },
   {
    "duration": 170,
    "start_time": "2023-04-03T09:18:59.743Z"
   },
   {
    "duration": 36,
    "start_time": "2023-04-03T09:18:59.915Z"
   },
   {
    "duration": 331,
    "start_time": "2023-04-03T09:18:59.953Z"
   },
   {
    "duration": 28,
    "start_time": "2023-04-03T09:19:00.286Z"
   },
   {
    "duration": 303,
    "start_time": "2023-04-03T09:19:00.316Z"
   },
   {
    "duration": 22,
    "start_time": "2023-04-03T09:19:00.620Z"
   },
   {
    "duration": 36,
    "start_time": "2023-04-03T09:19:00.645Z"
   },
   {
    "duration": 50,
    "start_time": "2023-04-03T09:19:00.683Z"
   },
   {
    "duration": 185,
    "start_time": "2023-04-03T09:19:00.736Z"
   },
   {
    "duration": 241,
    "start_time": "2023-04-03T09:19:00.923Z"
   },
   {
    "duration": 40,
    "start_time": "2023-04-03T09:19:01.166Z"
   },
   {
    "duration": 20,
    "start_time": "2023-04-03T09:19:01.208Z"
   },
   {
    "duration": 37,
    "start_time": "2023-04-03T09:19:01.242Z"
   },
   {
    "duration": 118,
    "start_time": "2023-04-03T09:19:01.281Z"
   },
   {
    "duration": 49,
    "start_time": "2023-04-03T09:19:01.401Z"
   },
   {
    "duration": 40,
    "start_time": "2023-04-03T09:19:01.452Z"
   },
   {
    "duration": 184,
    "start_time": "2023-04-03T09:19:01.494Z"
   },
   {
    "duration": 193,
    "start_time": "2023-04-03T09:19:01.680Z"
   },
   {
    "duration": 15,
    "start_time": "2023-04-03T09:19:01.874Z"
   },
   {
    "duration": 28,
    "start_time": "2023-04-03T09:19:01.891Z"
   },
   {
    "duration": 29,
    "start_time": "2023-04-03T09:19:01.922Z"
   },
   {
    "duration": 242,
    "start_time": "2023-04-03T09:19:01.953Z"
   },
   {
    "duration": 162,
    "start_time": "2023-04-03T09:19:02.197Z"
   },
   {
    "duration": 15,
    "start_time": "2023-04-03T09:19:02.361Z"
   },
   {
    "duration": 51,
    "start_time": "2023-04-03T09:19:02.378Z"
   },
   {
    "duration": 83,
    "start_time": "2023-04-03T09:19:02.431Z"
   },
   {
    "duration": 224,
    "start_time": "2023-04-03T09:19:02.516Z"
   },
   {
    "duration": 236,
    "start_time": "2023-04-03T09:19:02.743Z"
   },
   {
    "duration": 10,
    "start_time": "2023-04-03T09:19:02.981Z"
   },
   {
    "duration": 126,
    "start_time": "2023-04-03T09:19:02.994Z"
   },
   {
    "duration": 59,
    "start_time": "2023-04-03T09:19:03.122Z"
   },
   {
    "duration": 150,
    "start_time": "2023-04-03T09:19:03.182Z"
   },
   {
    "duration": 9,
    "start_time": "2023-04-03T09:19:03.334Z"
   },
   {
    "duration": 45,
    "start_time": "2023-04-03T09:19:03.344Z"
   },
   {
    "duration": 195,
    "start_time": "2023-04-03T09:19:03.391Z"
   },
   {
    "duration": 19,
    "start_time": "2023-04-03T09:19:03.588Z"
   },
   {
    "duration": 43,
    "start_time": "2023-04-03T09:19:03.609Z"
   },
   {
    "duration": 130,
    "start_time": "2023-04-03T09:19:03.653Z"
   },
   {
    "duration": 11,
    "start_time": "2023-04-03T09:19:03.785Z"
   },
   {
    "duration": 128,
    "start_time": "2023-04-03T09:19:03.798Z"
   },
   {
    "duration": 15,
    "start_time": "2023-04-03T09:19:03.928Z"
   },
   {
    "duration": 10,
    "start_time": "2023-04-03T09:19:03.945Z"
   },
   {
    "duration": 28,
    "start_time": "2023-04-03T09:19:03.957Z"
   },
   {
    "duration": 10,
    "start_time": "2023-04-03T09:19:03.987Z"
   },
   {
    "duration": 11,
    "start_time": "2023-04-03T09:19:03.999Z"
   },
   {
    "duration": 172,
    "start_time": "2023-04-03T09:19:04.012Z"
   },
   {
    "duration": 11,
    "start_time": "2023-04-03T09:19:04.186Z"
   },
   {
    "duration": 243,
    "start_time": "2023-04-03T09:19:04.199Z"
   },
   {
    "duration": 6,
    "start_time": "2023-04-03T09:19:04.443Z"
   },
   {
    "duration": 10,
    "start_time": "2023-04-03T09:19:04.450Z"
   },
   {
    "duration": 5,
    "start_time": "2023-04-03T09:19:04.463Z"
   },
   {
    "duration": 5,
    "start_time": "2023-04-03T09:19:04.473Z"
   },
   {
    "duration": 10,
    "start_time": "2023-04-03T09:19:04.480Z"
   },
   {
    "duration": 189,
    "start_time": "2023-04-03T09:19:04.492Z"
   },
   {
    "duration": 5,
    "start_time": "2023-04-03T09:19:04.683Z"
   },
   {
    "duration": 126,
    "start_time": "2023-04-03T09:19:04.689Z"
   },
   {
    "duration": 10,
    "start_time": "2023-04-03T09:19:04.817Z"
   },
   {
    "duration": 25,
    "start_time": "2023-04-03T09:19:04.830Z"
   },
   {
    "duration": 10,
    "start_time": "2023-04-03T09:19:04.857Z"
   },
   {
    "duration": 39,
    "start_time": "2023-04-03T09:19:04.869Z"
   },
   {
    "duration": 19,
    "start_time": "2023-04-03T09:19:04.909Z"
   },
   {
    "duration": 23,
    "start_time": "2023-04-03T09:19:04.930Z"
   },
   {
    "duration": 9,
    "start_time": "2023-04-03T09:21:37.649Z"
   },
   {
    "duration": 667,
    "start_time": "2023-04-03T09:30:45.610Z"
   },
   {
    "duration": 596,
    "start_time": "2023-04-03T09:30:51.681Z"
   },
   {
    "duration": 126,
    "start_time": "2023-04-03T09:31:37.609Z"
   },
   {
    "duration": 29,
    "start_time": "2023-04-03T09:32:50.794Z"
   },
   {
    "duration": 250,
    "start_time": "2023-04-03T09:33:23.043Z"
   },
   {
    "duration": 146,
    "start_time": "2023-04-03T09:38:22.800Z"
   },
   {
    "duration": 170,
    "start_time": "2023-04-03T09:39:37.338Z"
   },
   {
    "duration": 280,
    "start_time": "2023-04-03T09:39:53.178Z"
   },
   {
    "duration": 1210,
    "start_time": "2023-04-03T09:43:36.222Z"
   },
   {
    "duration": 55,
    "start_time": "2023-04-03T09:43:37.434Z"
   },
   {
    "duration": 19,
    "start_time": "2023-04-03T09:43:37.490Z"
   },
   {
    "duration": 4,
    "start_time": "2023-04-03T09:43:37.512Z"
   },
   {
    "duration": 22,
    "start_time": "2023-04-03T09:43:37.518Z"
   },
   {
    "duration": 12,
    "start_time": "2023-04-03T09:43:37.542Z"
   },
   {
    "duration": 58,
    "start_time": "2023-04-03T09:43:37.555Z"
   },
   {
    "duration": 29,
    "start_time": "2023-04-03T09:43:37.615Z"
   },
   {
    "duration": 8,
    "start_time": "2023-04-03T09:43:37.646Z"
   },
   {
    "duration": 27,
    "start_time": "2023-04-03T09:43:37.657Z"
   },
   {
    "duration": 20,
    "start_time": "2023-04-03T09:43:37.686Z"
   },
   {
    "duration": 13,
    "start_time": "2023-04-03T09:43:37.708Z"
   },
   {
    "duration": 5,
    "start_time": "2023-04-03T09:43:37.723Z"
   },
   {
    "duration": 16,
    "start_time": "2023-04-03T09:43:37.730Z"
   },
   {
    "duration": 10,
    "start_time": "2023-04-03T09:43:37.748Z"
   },
   {
    "duration": 9,
    "start_time": "2023-04-03T09:43:37.760Z"
   },
   {
    "duration": 237,
    "start_time": "2023-04-03T09:43:37.771Z"
   },
   {
    "duration": 3,
    "start_time": "2023-04-03T09:43:38.009Z"
   },
   {
    "duration": 34,
    "start_time": "2023-04-03T09:43:38.014Z"
   },
   {
    "duration": 9,
    "start_time": "2023-04-03T09:43:38.049Z"
   },
   {
    "duration": 11,
    "start_time": "2023-04-03T09:43:38.060Z"
   },
   {
    "duration": 21,
    "start_time": "2023-04-03T09:43:38.073Z"
   },
   {
    "duration": 10,
    "start_time": "2023-04-03T09:43:38.096Z"
   },
   {
    "duration": 35,
    "start_time": "2023-04-03T09:43:38.108Z"
   },
   {
    "duration": 14,
    "start_time": "2023-04-03T09:43:38.145Z"
   },
   {
    "duration": 13,
    "start_time": "2023-04-03T09:43:38.161Z"
   },
   {
    "duration": 41,
    "start_time": "2023-04-03T09:43:38.176Z"
   },
   {
    "duration": 27,
    "start_time": "2023-04-03T09:43:38.222Z"
   },
   {
    "duration": 178,
    "start_time": "2023-04-03T09:43:38.251Z"
   },
   {
    "duration": 715,
    "start_time": "2023-04-03T09:43:38.431Z"
   },
   {
    "duration": 134,
    "start_time": "2023-04-03T09:43:39.147Z"
   },
   {
    "duration": 27,
    "start_time": "2023-04-03T09:43:39.283Z"
   },
   {
    "duration": 327,
    "start_time": "2023-04-03T09:43:39.312Z"
   },
   {
    "duration": 28,
    "start_time": "2023-04-03T09:43:39.641Z"
   },
   {
    "duration": 295,
    "start_time": "2023-04-03T09:43:39.671Z"
   },
   {
    "duration": 8,
    "start_time": "2023-04-03T09:43:39.968Z"
   },
   {
    "duration": 28,
    "start_time": "2023-04-03T09:43:39.977Z"
   },
   {
    "duration": 22,
    "start_time": "2023-04-03T09:43:40.006Z"
   },
   {
    "duration": 159,
    "start_time": "2023-04-03T09:43:40.030Z"
   },
   {
    "duration": 239,
    "start_time": "2023-04-03T09:43:40.190Z"
   },
   {
    "duration": 39,
    "start_time": "2023-04-03T09:43:40.431Z"
   },
   {
    "duration": 6,
    "start_time": "2023-04-03T09:43:40.472Z"
   },
   {
    "duration": 15,
    "start_time": "2023-04-03T09:43:40.479Z"
   },
   {
    "duration": 17,
    "start_time": "2023-04-03T09:43:40.495Z"
   },
   {
    "duration": 30,
    "start_time": "2023-04-03T09:43:40.514Z"
   },
   {
    "duration": 6,
    "start_time": "2023-04-03T09:43:40.545Z"
   },
   {
    "duration": 172,
    "start_time": "2023-04-03T09:43:40.552Z"
   },
   {
    "duration": 170,
    "start_time": "2023-04-03T09:43:40.726Z"
   },
   {
    "duration": 16,
    "start_time": "2023-04-03T09:43:40.898Z"
   },
   {
    "duration": 18,
    "start_time": "2023-04-03T09:43:40.916Z"
   },
   {
    "duration": 7,
    "start_time": "2023-04-03T09:43:40.940Z"
   },
   {
    "duration": 155,
    "start_time": "2023-04-03T09:43:40.948Z"
   },
   {
    "duration": 168,
    "start_time": "2023-04-03T09:43:41.105Z"
   },
   {
    "duration": 15,
    "start_time": "2023-04-03T09:43:41.275Z"
   },
   {
    "duration": 6,
    "start_time": "2023-04-03T09:43:41.292Z"
   },
   {
    "duration": 6,
    "start_time": "2023-04-03T09:43:41.300Z"
   },
   {
    "duration": 188,
    "start_time": "2023-04-03T09:43:41.307Z"
   },
   {
    "duration": 182,
    "start_time": "2023-04-03T09:43:41.497Z"
   },
   {
    "duration": 7,
    "start_time": "2023-04-03T09:43:41.681Z"
   },
   {
    "duration": 14,
    "start_time": "2023-04-03T09:43:41.689Z"
   },
   {
    "duration": 8,
    "start_time": "2023-04-03T09:43:41.705Z"
   },
   {
    "duration": 155,
    "start_time": "2023-04-03T09:43:41.715Z"
   },
   {
    "duration": 5,
    "start_time": "2023-04-03T09:43:41.872Z"
   },
   {
    "duration": 27,
    "start_time": "2023-04-03T09:43:41.879Z"
   },
   {
    "duration": 13,
    "start_time": "2023-04-03T09:43:41.908Z"
   },
   {
    "duration": 8,
    "start_time": "2023-04-03T09:43:41.923Z"
   },
   {
    "duration": 15,
    "start_time": "2023-04-03T09:43:41.933Z"
   },
   {
    "duration": 166,
    "start_time": "2023-04-03T09:43:41.950Z"
   },
   {
    "duration": 8,
    "start_time": "2023-04-03T09:43:42.119Z"
   },
   {
    "duration": 154,
    "start_time": "2023-04-03T09:43:42.140Z"
   },
   {
    "duration": 5,
    "start_time": "2023-04-03T09:43:42.295Z"
   },
   {
    "duration": 10,
    "start_time": "2023-04-03T09:43:42.301Z"
   },
   {
    "duration": 6,
    "start_time": "2023-04-03T09:43:42.313Z"
   },
   {
    "duration": 21,
    "start_time": "2023-04-03T09:43:42.321Z"
   },
   {
    "duration": 39,
    "start_time": "2023-04-03T09:43:42.344Z"
   },
   {
    "duration": 145,
    "start_time": "2023-04-03T09:43:42.385Z"
   },
   {
    "duration": 10,
    "start_time": "2023-04-03T09:43:42.532Z"
   },
   {
    "duration": 216,
    "start_time": "2023-04-03T09:43:42.544Z"
   },
   {
    "duration": 5,
    "start_time": "2023-04-03T09:43:42.762Z"
   },
   {
    "duration": 7,
    "start_time": "2023-04-03T09:43:42.769Z"
   },
   {
    "duration": 15,
    "start_time": "2023-04-03T09:43:42.777Z"
   },
   {
    "duration": 5,
    "start_time": "2023-04-03T09:43:42.797Z"
   },
   {
    "duration": 21,
    "start_time": "2023-04-03T09:43:42.804Z"
   },
   {
    "duration": 133,
    "start_time": "2023-04-03T09:43:42.841Z"
   },
   {
    "duration": 5,
    "start_time": "2023-04-03T09:43:42.975Z"
   },
   {
    "duration": 16,
    "start_time": "2023-04-03T09:43:42.981Z"
   },
   {
    "duration": 18,
    "start_time": "2023-04-03T09:43:42.999Z"
   },
   {
    "duration": 19,
    "start_time": "2023-04-03T09:43:43.018Z"
   },
   {
    "duration": 17,
    "start_time": "2023-04-03T09:43:43.038Z"
   },
   {
    "duration": 17,
    "start_time": "2023-04-03T09:43:43.056Z"
   },
   {
    "duration": 19,
    "start_time": "2023-04-03T09:43:43.075Z"
   },
   {
    "duration": 9,
    "start_time": "2023-04-03T09:43:43.096Z"
   },
   {
    "duration": 49,
    "start_time": "2023-04-05T13:53:45.867Z"
   },
   {
    "duration": 1174,
    "start_time": "2023-04-05T13:54:05.983Z"
   },
   {
    "duration": 91,
    "start_time": "2023-04-05T13:54:07.159Z"
   },
   {
    "duration": 16,
    "start_time": "2023-04-05T13:54:07.252Z"
   },
   {
    "duration": 3,
    "start_time": "2023-04-05T13:54:07.270Z"
   },
   {
    "duration": 19,
    "start_time": "2023-04-05T13:54:07.275Z"
   },
   {
    "duration": 11,
    "start_time": "2023-04-05T13:54:07.296Z"
   },
   {
    "duration": 51,
    "start_time": "2023-04-05T13:54:07.309Z"
   },
   {
    "duration": 4,
    "start_time": "2023-04-05T13:54:07.362Z"
   },
   {
    "duration": 23,
    "start_time": "2023-04-05T13:54:07.367Z"
   },
   {
    "duration": 8,
    "start_time": "2023-04-05T13:54:07.394Z"
   },
   {
    "duration": 13,
    "start_time": "2023-04-05T13:54:07.403Z"
   },
   {
    "duration": 7,
    "start_time": "2023-04-05T13:54:07.417Z"
   },
   {
    "duration": 5,
    "start_time": "2023-04-05T13:54:07.426Z"
   },
   {
    "duration": 6,
    "start_time": "2023-04-05T13:54:07.433Z"
   },
   {
    "duration": 4,
    "start_time": "2023-04-05T13:54:07.441Z"
   },
   {
    "duration": 6,
    "start_time": "2023-04-05T13:54:07.447Z"
   },
   {
    "duration": 248,
    "start_time": "2023-04-05T13:54:07.454Z"
   },
   {
    "duration": 2,
    "start_time": "2023-04-05T13:54:07.704Z"
   },
   {
    "duration": 8,
    "start_time": "2023-04-05T13:54:07.708Z"
   },
   {
    "duration": 10,
    "start_time": "2023-04-05T13:54:07.717Z"
   },
   {
    "duration": 7,
    "start_time": "2023-04-05T13:54:07.728Z"
   },
   {
    "duration": 35,
    "start_time": "2023-04-05T13:54:07.737Z"
   },
   {
    "duration": 16,
    "start_time": "2023-04-05T13:54:07.774Z"
   },
   {
    "duration": 15,
    "start_time": "2023-04-05T13:54:07.791Z"
   },
   {
    "duration": 8,
    "start_time": "2023-04-05T13:54:07.808Z"
   },
   {
    "duration": 25,
    "start_time": "2023-04-05T13:54:07.818Z"
   },
   {
    "duration": 13,
    "start_time": "2023-04-05T13:54:07.845Z"
   },
   {
    "duration": 13,
    "start_time": "2023-04-05T13:54:07.862Z"
   },
   {
    "duration": 171,
    "start_time": "2023-04-05T13:54:07.877Z"
   },
   {
    "duration": 575,
    "start_time": "2023-04-05T13:54:08.050Z"
   },
   {
    "duration": 142,
    "start_time": "2023-04-05T13:54:08.627Z"
   },
   {
    "duration": 28,
    "start_time": "2023-04-05T13:54:08.771Z"
   },
   {
    "duration": 291,
    "start_time": "2023-04-05T13:54:08.801Z"
   },
   {
    "duration": 26,
    "start_time": "2023-04-05T13:54:09.094Z"
   },
   {
    "duration": 285,
    "start_time": "2023-04-05T13:54:09.122Z"
   },
   {
    "duration": 9,
    "start_time": "2023-04-05T13:54:09.410Z"
   },
   {
    "duration": 7,
    "start_time": "2023-04-05T13:54:09.421Z"
   },
   {
    "duration": 6,
    "start_time": "2023-04-05T13:54:09.429Z"
   },
   {
    "duration": 168,
    "start_time": "2023-04-05T13:54:09.436Z"
   },
   {
    "duration": 232,
    "start_time": "2023-04-05T13:54:09.606Z"
   },
   {
    "duration": 32,
    "start_time": "2023-04-05T13:54:09.839Z"
   },
   {
    "duration": 18,
    "start_time": "2023-04-05T13:54:09.873Z"
   },
   {
    "duration": 6,
    "start_time": "2023-04-05T13:54:09.893Z"
   },
   {
    "duration": 17,
    "start_time": "2023-04-05T13:54:09.901Z"
   },
   {
    "duration": 6,
    "start_time": "2023-04-05T13:54:09.921Z"
   },
   {
    "duration": 8,
    "start_time": "2023-04-05T13:54:09.929Z"
   },
   {
    "duration": 183,
    "start_time": "2023-04-05T13:54:09.938Z"
   },
   {
    "duration": 176,
    "start_time": "2023-04-05T13:54:10.123Z"
   },
   {
    "duration": 14,
    "start_time": "2023-04-05T13:54:10.301Z"
   },
   {
    "duration": 7,
    "start_time": "2023-04-05T13:54:10.317Z"
   },
   {
    "duration": 5,
    "start_time": "2023-04-05T13:54:10.325Z"
   },
   {
    "duration": 170,
    "start_time": "2023-04-05T13:54:10.331Z"
   },
   {
    "duration": 168,
    "start_time": "2023-04-05T13:54:10.502Z"
   },
   {
    "duration": 22,
    "start_time": "2023-04-05T13:54:10.673Z"
   },
   {
    "duration": 18,
    "start_time": "2023-04-05T13:54:10.697Z"
   },
   {
    "duration": 15,
    "start_time": "2023-04-05T13:54:10.717Z"
   },
   {
    "duration": 160,
    "start_time": "2023-04-05T13:54:10.733Z"
   },
   {
    "duration": 164,
    "start_time": "2023-04-05T13:54:10.895Z"
   },
   {
    "duration": 8,
    "start_time": "2023-04-05T13:54:11.061Z"
   },
   {
    "duration": 20,
    "start_time": "2023-04-05T13:54:11.070Z"
   },
   {
    "duration": 7,
    "start_time": "2023-04-05T13:54:11.092Z"
   },
   {
    "duration": 137,
    "start_time": "2023-04-05T13:54:11.100Z"
   },
   {
    "duration": 5,
    "start_time": "2023-04-05T13:54:11.239Z"
   },
   {
    "duration": 7,
    "start_time": "2023-04-05T13:54:11.245Z"
   },
   {
    "duration": 13,
    "start_time": "2023-04-05T13:54:11.254Z"
   },
   {
    "duration": 22,
    "start_time": "2023-04-05T13:54:11.269Z"
   },
   {
    "duration": 8,
    "start_time": "2023-04-05T13:54:11.292Z"
   },
   {
    "duration": 151,
    "start_time": "2023-04-05T13:54:11.301Z"
   },
   {
    "duration": 9,
    "start_time": "2023-04-05T13:54:11.454Z"
   },
   {
    "duration": 142,
    "start_time": "2023-04-05T13:54:11.465Z"
   },
   {
    "duration": 5,
    "start_time": "2023-04-05T13:54:11.609Z"
   },
   {
    "duration": 7,
    "start_time": "2023-04-05T13:54:11.616Z"
   },
   {
    "duration": 6,
    "start_time": "2023-04-05T13:54:11.624Z"
   },
   {
    "duration": 8,
    "start_time": "2023-04-05T13:54:11.632Z"
   },
   {
    "duration": 7,
    "start_time": "2023-04-05T13:54:11.642Z"
   },
   {
    "duration": 165,
    "start_time": "2023-04-05T13:54:11.651Z"
   },
   {
    "duration": 8,
    "start_time": "2023-04-05T13:54:11.818Z"
   },
   {
    "duration": 221,
    "start_time": "2023-04-05T13:54:11.827Z"
   },
   {
    "duration": 6,
    "start_time": "2023-04-05T13:54:12.050Z"
   },
   {
    "duration": 6,
    "start_time": "2023-04-05T13:54:12.057Z"
   },
   {
    "duration": 7,
    "start_time": "2023-04-05T13:54:12.065Z"
   },
   {
    "duration": 6,
    "start_time": "2023-04-05T13:54:12.093Z"
   },
   {
    "duration": 20,
    "start_time": "2023-04-05T13:54:12.100Z"
   },
   {
    "duration": 147,
    "start_time": "2023-04-05T13:54:12.122Z"
   },
   {
    "duration": 4,
    "start_time": "2023-04-05T13:54:12.270Z"
   },
   {
    "duration": 22,
    "start_time": "2023-04-05T13:54:12.276Z"
   },
   {
    "duration": 6,
    "start_time": "2023-04-05T13:54:12.300Z"
   },
   {
    "duration": 6,
    "start_time": "2023-04-05T13:54:12.308Z"
   },
   {
    "duration": 4,
    "start_time": "2023-04-05T13:54:12.315Z"
   },
   {
    "duration": 5,
    "start_time": "2023-04-05T13:54:12.321Z"
   },
   {
    "duration": 4,
    "start_time": "2023-04-05T13:54:12.328Z"
   },
   {
    "duration": 10,
    "start_time": "2023-04-05T13:54:12.334Z"
   }
  ],
  "kernelspec": {
   "display_name": "Python 3 (ipykernel)",
   "language": "python",
   "name": "python3"
  },
  "language_info": {
   "codemirror_mode": {
    "name": "ipython",
    "version": 3
   },
   "file_extension": ".py",
   "mimetype": "text/x-python",
   "name": "python",
   "nbconvert_exporter": "python",
   "pygments_lexer": "ipython3",
   "version": "3.9.5"
  },
  "toc": {
   "base_numbering": 1,
   "nav_menu": {},
   "number_sections": true,
   "sideBar": true,
   "skip_h1_title": true,
   "title_cell": "Table of Contents",
   "title_sidebar": "Contents",
   "toc_cell": false,
   "toc_position": {},
   "toc_section_display": true,
   "toc_window_display": false
  }
 },
 "nbformat": 4,
 "nbformat_minor": 2
}
